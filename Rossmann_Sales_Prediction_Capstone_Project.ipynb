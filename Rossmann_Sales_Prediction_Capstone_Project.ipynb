{
  "nbformat": 4,
  "nbformat_minor": 0,
  "metadata": {
    "kernelspec": {
      "display_name": "Python 3",
      "language": "python",
      "name": "python3"
    },
    "language_info": {
      "codemirror_mode": {
        "name": "ipython",
        "version": 3
      },
      "file_extension": ".py",
      "mimetype": "text/x-python",
      "name": "python",
      "nbconvert_exporter": "python",
      "pygments_lexer": "ipython3",
      "version": "3.6.6"
    },
    "colab": {
      "name": "Rossmann Sales Prediction - Capstone Project.ipynb",
      "provenance": [],
      "collapsed_sections": []
    }
  },
  "cells": [
    {
      "cell_type": "markdown",
      "metadata": {
        "id": "tOGC-qoyhJeX"
      },
      "source": [
        "# <b><u> Project Title : Sales Prediction : Predicting sales of a major store chain Rossmann</u></b>"
      ]
    },
    {
      "cell_type": "markdown",
      "metadata": {
        "id": "Y06xIdG26kRF"
      },
      "source": [
        "## <b> Problem Description </b>\n",
        "\n",
        "### Rossmann operates over 3,000 drug stores in 7 European countries. Currently, Rossmann store managers are tasked with predicting their daily sales for up to six weeks in advance. Store sales are influenced by many factors, including promotions, competition, school and state holidays, seasonality, and locality. With thousands of individual managers predicting sales based on their unique circumstances, the accuracy of results can be quite varied.\n",
        "\n",
        "### You are provided with historical sales data for 1,115 Rossmann stores. The task is to forecast the \"Sales\" column for the test set. Note that some stores in the dataset were temporarily closed for refurbishment."
      ]
    },
    {
      "cell_type": "markdown",
      "metadata": {
        "id": "WWeU1f9bwqQq"
      },
      "source": [
        "## <b> Data Description </b>\n",
        "\n",
        "### <b>Rossmann Stores Data.csv </b> - historical data including Sales\n",
        "### <b>store.csv </b> - supplemental information about the stores\n",
        "\n",
        "\n",
        "### <b><u>Data fields</u></b>\n",
        "### Most of the fields are self-explanatory. The following are descriptions for those that aren't.\n",
        "\n",
        "* #### Id - an Id that represents a (Store, Date) duple within the test set\n",
        "* #### Store - a unique Id for each store\n",
        "* #### Sales - the turnover for any given day (this is what you are predicting)\n",
        "* #### Customers - the number of customers on a given day\n",
        "* #### Open - an indicator for whether the store was open: 0 = closed, 1 = open\n",
        "* #### StateHoliday - indicates a state holiday. Normally all stores, with few exceptions, are closed on state holidays. Note that all schools are closed on public holidays and weekends. a = public holiday, b = Easter holiday, c = Christmas, 0 = None\n",
        "* #### SchoolHoliday - indicates if the (Store, Date) was affected by the closure of public schools\n",
        "* #### StoreType - differentiates between 4 different store models: a, b, c, d\n",
        "* #### Assortment - describes an assortment level: a = basic, b = extra, c = extended\n",
        "* #### CompetitionDistance - distance in meters to the nearest competitor store\n",
        "* #### CompetitionOpenSince[Month/Year] - gives the approximate year and month of the time the nearest competitor was opened\n",
        "* #### Promo - indicates whether a store is running a promo on that day\n",
        "* #### Promo2 - Promo2 is a continuing and consecutive promotion for some stores: 0 = store is not participating, 1 = store is participating\n",
        "* #### Promo2Since[Year/Week] - describes the year and calendar week when the store started participating in Promo2\n",
        "* #### PromoInterval - describes the consecutive intervals Promo2 is started, naming the months the promotion is started anew. E.g. \"Feb,May,Aug,Nov\" means each round starts in February, May, August, November of any given year for that store"
      ]
    },
    {
      "cell_type": "code",
      "metadata": {
        "id": "dByMsuzT8Tnw"
      },
      "source": [
        "## For store type create dummy variables, but for assortment level do numerical encoding (1,2,3)"
      ],
      "execution_count": 1,
      "outputs": []
    },
    {
      "cell_type": "code",
      "metadata": {
        "id": "6pqVQ3xCY9mD"
      },
      "source": [
        "# Importing the libraries\n",
        "import numpy as np\n",
        "import pandas as pd\n",
        "from numpy import math\n",
        "\n",
        "from sklearn.preprocessing import StandardScaler\n",
        "from sklearn.model_selection import train_test_split\n",
        "from sklearn.linear_model import LinearRegression\n",
        "from sklearn.metrics import r2_score\n",
        "from sklearn.metrics import mean_squared_error\n",
        "\n",
        "import matplotlib.pyplot as plt\n",
        "import seaborn as sns\n",
        "import calendar\n",
        "import datetime"
      ],
      "execution_count": 2,
      "outputs": []
    },
    {
      "cell_type": "code",
      "metadata": {
        "id": "lsGTUFzPBJ9M"
      },
      "source": [
        "import warnings\n",
        "warnings.filterwarnings('ignore')"
      ],
      "execution_count": 3,
      "outputs": []
    },
    {
      "cell_type": "code",
      "metadata": {
        "colab": {
          "base_uri": "https://localhost:8080/"
        },
        "id": "Ibdsklv3Y9Uh",
        "outputId": "46df0333-0629-4318-ba12-1fb9e66314c1"
      },
      "source": [
        "from google.colab import drive\n",
        "drive.mount('/content/drive')"
      ],
      "execution_count": 4,
      "outputs": [
        {
          "output_type": "stream",
          "name": "stdout",
          "text": [
            "Mounted at /content/drive\n"
          ]
        }
      ]
    },
    {
      "cell_type": "code",
      "metadata": {
        "id": "Tdpq8h9AY9RI"
      },
      "source": [
        "store_data = pd.read_csv('/content/drive/MyDrive/Almabetter learning/Retail Sales Prediction/Rossmann Stores Data.csv')\n",
        "stores = pd.read_csv('/content/drive/MyDrive/Almabetter learning/Retail Sales Prediction/store.csv')"
      ],
      "execution_count": 5,
      "outputs": []
    },
    {
      "cell_type": "code",
      "metadata": {
        "colab": {
          "base_uri": "https://localhost:8080/",
          "height": 206
        },
        "id": "mIQHKzRpexbH",
        "outputId": "a1a1de16-e876-446c-858f-99a06deb7d83"
      },
      "source": [
        "store_data.head()"
      ],
      "execution_count": 6,
      "outputs": [
        {
          "output_type": "execute_result",
          "data": {
            "text/html": [
              "<div>\n",
              "<style scoped>\n",
              "    .dataframe tbody tr th:only-of-type {\n",
              "        vertical-align: middle;\n",
              "    }\n",
              "\n",
              "    .dataframe tbody tr th {\n",
              "        vertical-align: top;\n",
              "    }\n",
              "\n",
              "    .dataframe thead th {\n",
              "        text-align: right;\n",
              "    }\n",
              "</style>\n",
              "<table border=\"1\" class=\"dataframe\">\n",
              "  <thead>\n",
              "    <tr style=\"text-align: right;\">\n",
              "      <th></th>\n",
              "      <th>Store</th>\n",
              "      <th>DayOfWeek</th>\n",
              "      <th>Date</th>\n",
              "      <th>Sales</th>\n",
              "      <th>Customers</th>\n",
              "      <th>Open</th>\n",
              "      <th>Promo</th>\n",
              "      <th>StateHoliday</th>\n",
              "      <th>SchoolHoliday</th>\n",
              "    </tr>\n",
              "  </thead>\n",
              "  <tbody>\n",
              "    <tr>\n",
              "      <th>0</th>\n",
              "      <td>1</td>\n",
              "      <td>5</td>\n",
              "      <td>2015-07-31</td>\n",
              "      <td>5263</td>\n",
              "      <td>555</td>\n",
              "      <td>1</td>\n",
              "      <td>1</td>\n",
              "      <td>0</td>\n",
              "      <td>1</td>\n",
              "    </tr>\n",
              "    <tr>\n",
              "      <th>1</th>\n",
              "      <td>2</td>\n",
              "      <td>5</td>\n",
              "      <td>2015-07-31</td>\n",
              "      <td>6064</td>\n",
              "      <td>625</td>\n",
              "      <td>1</td>\n",
              "      <td>1</td>\n",
              "      <td>0</td>\n",
              "      <td>1</td>\n",
              "    </tr>\n",
              "    <tr>\n",
              "      <th>2</th>\n",
              "      <td>3</td>\n",
              "      <td>5</td>\n",
              "      <td>2015-07-31</td>\n",
              "      <td>8314</td>\n",
              "      <td>821</td>\n",
              "      <td>1</td>\n",
              "      <td>1</td>\n",
              "      <td>0</td>\n",
              "      <td>1</td>\n",
              "    </tr>\n",
              "    <tr>\n",
              "      <th>3</th>\n",
              "      <td>4</td>\n",
              "      <td>5</td>\n",
              "      <td>2015-07-31</td>\n",
              "      <td>13995</td>\n",
              "      <td>1498</td>\n",
              "      <td>1</td>\n",
              "      <td>1</td>\n",
              "      <td>0</td>\n",
              "      <td>1</td>\n",
              "    </tr>\n",
              "    <tr>\n",
              "      <th>4</th>\n",
              "      <td>5</td>\n",
              "      <td>5</td>\n",
              "      <td>2015-07-31</td>\n",
              "      <td>4822</td>\n",
              "      <td>559</td>\n",
              "      <td>1</td>\n",
              "      <td>1</td>\n",
              "      <td>0</td>\n",
              "      <td>1</td>\n",
              "    </tr>\n",
              "  </tbody>\n",
              "</table>\n",
              "</div>"
            ],
            "text/plain": [
              "   Store  DayOfWeek        Date  Sales  ...  Open  Promo  StateHoliday SchoolHoliday\n",
              "0      1          5  2015-07-31   5263  ...     1      1             0             1\n",
              "1      2          5  2015-07-31   6064  ...     1      1             0             1\n",
              "2      3          5  2015-07-31   8314  ...     1      1             0             1\n",
              "3      4          5  2015-07-31  13995  ...     1      1             0             1\n",
              "4      5          5  2015-07-31   4822  ...     1      1             0             1\n",
              "\n",
              "[5 rows x 9 columns]"
            ]
          },
          "metadata": {},
          "execution_count": 6
        }
      ]
    },
    {
      "cell_type": "code",
      "metadata": {
        "id": "mt1TujaKUCKA"
      },
      "source": [
        "#store_data['StateHoliday'].unique()\n",
        "#store_data['StateHoliday'] = store_data['StateHoliday'].map({0:'0', 'a':'a', 'b':'b', 'c':'c', '0':'0'})\n",
        "## Convert date column from object to date\n"
      ],
      "execution_count": 7,
      "outputs": []
    },
    {
      "cell_type": "code",
      "metadata": {
        "id": "VLp0PCTQPvxQ"
      },
      "source": [
        "## Convert the Date column to Datetime\n",
        "store_data['Date']= pd.to_datetime(store_data['Date'])\n",
        "\n",
        "## Extract Year and month from Date column\n",
        "store_data['Year'] = pd.DatetimeIndex(store_data['Date']).year\n",
        "store_data['Month'] = pd.DatetimeIndex(store_data['Date']).month"
      ],
      "execution_count": 8,
      "outputs": []
    },
    {
      "cell_type": "code",
      "metadata": {
        "colab": {
          "base_uri": "https://localhost:8080/",
          "height": 206
        },
        "id": "TZ3voz33moDX",
        "outputId": "4e007286-945f-4426-8ab0-bf26bcbc86c6"
      },
      "source": [
        "## Displaying the data\n",
        "store_data.head()"
      ],
      "execution_count": 9,
      "outputs": [
        {
          "output_type": "execute_result",
          "data": {
            "text/html": [
              "<div>\n",
              "<style scoped>\n",
              "    .dataframe tbody tr th:only-of-type {\n",
              "        vertical-align: middle;\n",
              "    }\n",
              "\n",
              "    .dataframe tbody tr th {\n",
              "        vertical-align: top;\n",
              "    }\n",
              "\n",
              "    .dataframe thead th {\n",
              "        text-align: right;\n",
              "    }\n",
              "</style>\n",
              "<table border=\"1\" class=\"dataframe\">\n",
              "  <thead>\n",
              "    <tr style=\"text-align: right;\">\n",
              "      <th></th>\n",
              "      <th>Store</th>\n",
              "      <th>DayOfWeek</th>\n",
              "      <th>Date</th>\n",
              "      <th>Sales</th>\n",
              "      <th>Customers</th>\n",
              "      <th>Open</th>\n",
              "      <th>Promo</th>\n",
              "      <th>StateHoliday</th>\n",
              "      <th>SchoolHoliday</th>\n",
              "      <th>Year</th>\n",
              "      <th>Month</th>\n",
              "    </tr>\n",
              "  </thead>\n",
              "  <tbody>\n",
              "    <tr>\n",
              "      <th>0</th>\n",
              "      <td>1</td>\n",
              "      <td>5</td>\n",
              "      <td>2015-07-31</td>\n",
              "      <td>5263</td>\n",
              "      <td>555</td>\n",
              "      <td>1</td>\n",
              "      <td>1</td>\n",
              "      <td>0</td>\n",
              "      <td>1</td>\n",
              "      <td>2015</td>\n",
              "      <td>7</td>\n",
              "    </tr>\n",
              "    <tr>\n",
              "      <th>1</th>\n",
              "      <td>2</td>\n",
              "      <td>5</td>\n",
              "      <td>2015-07-31</td>\n",
              "      <td>6064</td>\n",
              "      <td>625</td>\n",
              "      <td>1</td>\n",
              "      <td>1</td>\n",
              "      <td>0</td>\n",
              "      <td>1</td>\n",
              "      <td>2015</td>\n",
              "      <td>7</td>\n",
              "    </tr>\n",
              "    <tr>\n",
              "      <th>2</th>\n",
              "      <td>3</td>\n",
              "      <td>5</td>\n",
              "      <td>2015-07-31</td>\n",
              "      <td>8314</td>\n",
              "      <td>821</td>\n",
              "      <td>1</td>\n",
              "      <td>1</td>\n",
              "      <td>0</td>\n",
              "      <td>1</td>\n",
              "      <td>2015</td>\n",
              "      <td>7</td>\n",
              "    </tr>\n",
              "    <tr>\n",
              "      <th>3</th>\n",
              "      <td>4</td>\n",
              "      <td>5</td>\n",
              "      <td>2015-07-31</td>\n",
              "      <td>13995</td>\n",
              "      <td>1498</td>\n",
              "      <td>1</td>\n",
              "      <td>1</td>\n",
              "      <td>0</td>\n",
              "      <td>1</td>\n",
              "      <td>2015</td>\n",
              "      <td>7</td>\n",
              "    </tr>\n",
              "    <tr>\n",
              "      <th>4</th>\n",
              "      <td>5</td>\n",
              "      <td>5</td>\n",
              "      <td>2015-07-31</td>\n",
              "      <td>4822</td>\n",
              "      <td>559</td>\n",
              "      <td>1</td>\n",
              "      <td>1</td>\n",
              "      <td>0</td>\n",
              "      <td>1</td>\n",
              "      <td>2015</td>\n",
              "      <td>7</td>\n",
              "    </tr>\n",
              "  </tbody>\n",
              "</table>\n",
              "</div>"
            ],
            "text/plain": [
              "   Store  DayOfWeek       Date  Sales  ...  StateHoliday  SchoolHoliday  Year Month\n",
              "0      1          5 2015-07-31   5263  ...             0              1  2015     7\n",
              "1      2          5 2015-07-31   6064  ...             0              1  2015     7\n",
              "2      3          5 2015-07-31   8314  ...             0              1  2015     7\n",
              "3      4          5 2015-07-31  13995  ...             0              1  2015     7\n",
              "4      5          5 2015-07-31   4822  ...             0              1  2015     7\n",
              "\n",
              "[5 rows x 11 columns]"
            ]
          },
          "metadata": {},
          "execution_count": 9
        }
      ]
    },
    {
      "cell_type": "code",
      "metadata": {
        "colab": {
          "base_uri": "https://localhost:8080/",
          "height": 279
        },
        "id": "M9KDlPVAAiGU",
        "outputId": "752475d1-af8e-44d9-c830-5a6d191e67f9"
      },
      "source": [
        "sns.distplot(store_data[store_data['Sales']!=0]['Sales']);"
      ],
      "execution_count": 10,
      "outputs": [
        {
          "output_type": "display_data",
          "data": {
            "image/png": "[encoded data removed]",
            "text/plain": [
              "<Figure size 432x288 with 1 Axes>"
            ]
          },
          "metadata": {
            "needs_background": "light"
          }
        }
      ]
    },
    {
      "cell_type": "code",
      "metadata": {
        "colab": {
          "base_uri": "https://localhost:8080/",
          "height": 279
        },
        "id": "l8YRH89eBS0X",
        "outputId": "9a7e2696-720a-4ba1-cd9b-76c019f1593c"
      },
      "source": [
        "sns.boxplot(store_data[store_data['Sales']!=0]['Sales']);"
      ],
      "execution_count": 11,
      "outputs": [
        {
          "output_type": "display_data",
          "data": {
            "image/png": "[encoded data removed]",
            "text/plain": [
              "<Figure size 432x288 with 1 Axes>"
            ]
          },
          "metadata": {
            "needs_background": "light"
          }
        }
      ]
    },
    {
      "cell_type": "code",
      "metadata": {
        "id": "TkJnQ-mfDsl-"
      },
      "source": [
        "store_data_high_sales=store_data[store_data['Sales']>=20000][['Year','Month','Sales']]"
      ],
      "execution_count": 12,
      "outputs": []
    },
    {
      "cell_type": "code",
      "metadata": {
        "colab": {
          "base_uri": "https://localhost:8080/",
          "height": 488
        },
        "id": "bSwIMnvTBibD",
        "outputId": "db8a66aa-0e87-4376-c43f-756fec17ec83"
      },
      "source": [
        "## See count of high sales/day in certain months to estimate high sales period\n",
        "pd.pivot_table(data=store_data_high_sales[['Year','Month','Sales']],index='Month',columns='Year',aggfunc='count',fill_value=0)"
      ],
      "execution_count": 13,
      "outputs": [
        {
          "output_type": "execute_result",
          "data": {
            "text/html": [
              "<div>\n",
              "<style scoped>\n",
              "    .dataframe tbody tr th:only-of-type {\n",
              "        vertical-align: middle;\n",
              "    }\n",
              "\n",
              "    .dataframe tbody tr th {\n",
              "        vertical-align: top;\n",
              "    }\n",
              "\n",
              "    .dataframe thead tr th {\n",
              "        text-align: left;\n",
              "    }\n",
              "\n",
              "    .dataframe thead tr:last-of-type th {\n",
              "        text-align: right;\n",
              "    }\n",
              "</style>\n",
              "<table border=\"1\" class=\"dataframe\">\n",
              "  <thead>\n",
              "    <tr>\n",
              "      <th></th>\n",
              "      <th colspan=\"3\" halign=\"left\">Sales</th>\n",
              "    </tr>\n",
              "    <tr>\n",
              "      <th>Year</th>\n",
              "      <th>2013</th>\n",
              "      <th>2014</th>\n",
              "      <th>2015</th>\n",
              "    </tr>\n",
              "    <tr>\n",
              "      <th>Month</th>\n",
              "      <th></th>\n",
              "      <th></th>\n",
              "      <th></th>\n",
              "    </tr>\n",
              "  </thead>\n",
              "  <tbody>\n",
              "    <tr>\n",
              "      <th>1</th>\n",
              "      <td>79</td>\n",
              "      <td>78</td>\n",
              "      <td>75</td>\n",
              "    </tr>\n",
              "    <tr>\n",
              "      <th>2</th>\n",
              "      <td>86</td>\n",
              "      <td>96</td>\n",
              "      <td>75</td>\n",
              "    </tr>\n",
              "    <tr>\n",
              "      <th>3</th>\n",
              "      <td>169</td>\n",
              "      <td>104</td>\n",
              "      <td>124</td>\n",
              "    </tr>\n",
              "    <tr>\n",
              "      <th>4</th>\n",
              "      <td>108</td>\n",
              "      <td>148</td>\n",
              "      <td>151</td>\n",
              "    </tr>\n",
              "    <tr>\n",
              "      <th>5</th>\n",
              "      <td>130</td>\n",
              "      <td>123</td>\n",
              "      <td>132</td>\n",
              "    </tr>\n",
              "    <tr>\n",
              "      <th>6</th>\n",
              "      <td>88</td>\n",
              "      <td>173</td>\n",
              "      <td>186</td>\n",
              "    </tr>\n",
              "    <tr>\n",
              "      <th>7</th>\n",
              "      <td>137</td>\n",
              "      <td>83</td>\n",
              "      <td>123</td>\n",
              "    </tr>\n",
              "    <tr>\n",
              "      <th>8</th>\n",
              "      <td>97</td>\n",
              "      <td>76</td>\n",
              "      <td>0</td>\n",
              "    </tr>\n",
              "    <tr>\n",
              "      <th>9</th>\n",
              "      <td>74</td>\n",
              "      <td>89</td>\n",
              "      <td>0</td>\n",
              "    </tr>\n",
              "    <tr>\n",
              "      <th>10</th>\n",
              "      <td>93</td>\n",
              "      <td>73</td>\n",
              "      <td>0</td>\n",
              "    </tr>\n",
              "    <tr>\n",
              "      <th>11</th>\n",
              "      <td>111</td>\n",
              "      <td>120</td>\n",
              "      <td>0</td>\n",
              "    </tr>\n",
              "    <tr>\n",
              "      <th>12</th>\n",
              "      <td>532</td>\n",
              "      <td>367</td>\n",
              "      <td>0</td>\n",
              "    </tr>\n",
              "  </tbody>\n",
              "</table>\n",
              "</div>"
            ],
            "text/plain": [
              "      Sales          \n",
              "Year   2013 2014 2015\n",
              "Month                \n",
              "1        79   78   75\n",
              "2        86   96   75\n",
              "3       169  104  124\n",
              "4       108  148  151\n",
              "5       130  123  132\n",
              "6        88  173  186\n",
              "7       137   83  123\n",
              "8        97   76    0\n",
              "9        74   89    0\n",
              "10       93   73    0\n",
              "11      111  120    0\n",
              "12      532  367    0"
            ]
          },
          "metadata": {},
          "execution_count": 13
        }
      ]
    },
    {
      "cell_type": "code",
      "metadata": {
        "id": "sBT6OLtMIV0v"
      },
      "source": [
        "## Check total sales monthwise\n",
        "Sales_across_years_monthwise=pd.pivot_table(data=store_data[['Year','Month','Sales']],index='Month',columns='Year',aggfunc='sum',fill_value=0)\n"
      ],
      "execution_count": 14,
      "outputs": []
    },
    {
      "cell_type": "code",
      "metadata": {
        "id": "2i6Ry3PyIwQO"
      },
      "source": [
        "Sales_across_years_monthwise['diff21']=Sales_across_years_monthwise[('Sales', 2014)]-Sales_across_years_monthwise[('Sales', 2013)]\n",
        "Sales_across_years_monthwise['diff32']=Sales_across_years_monthwise[('Sales', 2015)]-Sales_across_years_monthwise[('Sales', 2014)]\n",
        "Sales_across_years_monthwise['diff31']=Sales_across_years_monthwise[('Sales', 2015)]-Sales_across_years_monthwise[('Sales', 2013)]"
      ],
      "execution_count": 15,
      "outputs": []
    },
    {
      "cell_type": "code",
      "metadata": {
        "colab": {
          "base_uri": "https://localhost:8080/",
          "height": 488
        },
        "id": "YqEIGJHXJhRR",
        "outputId": "4fc02480-604f-4b05-f9a2-c09d626a5247"
      },
      "source": [
        "Sales_across_years_monthwise"
      ],
      "execution_count": 16,
      "outputs": [
        {
          "output_type": "execute_result",
          "data": {
            "text/html": [
              "<div>\n",
              "<style scoped>\n",
              "    .dataframe tbody tr th:only-of-type {\n",
              "        vertical-align: middle;\n",
              "    }\n",
              "\n",
              "    .dataframe tbody tr th {\n",
              "        vertical-align: top;\n",
              "    }\n",
              "\n",
              "    .dataframe thead tr th {\n",
              "        text-align: left;\n",
              "    }\n",
              "\n",
              "    .dataframe thead tr:last-of-type th {\n",
              "        text-align: right;\n",
              "    }\n",
              "</style>\n",
              "<table border=\"1\" class=\"dataframe\">\n",
              "  <thead>\n",
              "    <tr>\n",
              "      <th></th>\n",
              "      <th colspan=\"3\" halign=\"left\">Sales</th>\n",
              "      <th>diff21</th>\n",
              "      <th>diff32</th>\n",
              "      <th>diff31</th>\n",
              "    </tr>\n",
              "    <tr>\n",
              "      <th>Year</th>\n",
              "      <th>2013</th>\n",
              "      <th>2014</th>\n",
              "      <th>2015</th>\n",
              "      <th></th>\n",
              "      <th></th>\n",
              "      <th></th>\n",
              "    </tr>\n",
              "    <tr>\n",
              "      <th>Month</th>\n",
              "      <th></th>\n",
              "      <th></th>\n",
              "      <th></th>\n",
              "      <th></th>\n",
              "      <th></th>\n",
              "      <th></th>\n",
              "    </tr>\n",
              "  </thead>\n",
              "  <tbody>\n",
              "    <tr>\n",
              "      <th>1</th>\n",
              "      <td>180132207</td>\n",
              "      <td>187752787</td>\n",
              "      <td>198843730</td>\n",
              "      <td>7620580</td>\n",
              "      <td>11090943</td>\n",
              "      <td>18711523</td>\n",
              "    </tr>\n",
              "    <tr>\n",
              "      <th>2</th>\n",
              "      <td>171534275</td>\n",
              "      <td>178924677</td>\n",
              "      <td>178275458</td>\n",
              "      <td>7390402</td>\n",
              "      <td>-649219</td>\n",
              "      <td>6741183</td>\n",
              "    </tr>\n",
              "    <tr>\n",
              "      <th>3</th>\n",
              "      <td>201180369</td>\n",
              "      <td>193019854</td>\n",
              "      <td>205631683</td>\n",
              "      <td>-8160515</td>\n",
              "      <td>12611829</td>\n",
              "      <td>4451314</td>\n",
              "    </tr>\n",
              "    <tr>\n",
              "      <th>4</th>\n",
              "      <td>183431432</td>\n",
              "      <td>194544977</td>\n",
              "      <td>197918886</td>\n",
              "      <td>11113545</td>\n",
              "      <td>3373909</td>\n",
              "      <td>14487454</td>\n",
              "    </tr>\n",
              "    <tr>\n",
              "      <th>5</th>\n",
              "      <td>185411063</td>\n",
              "      <td>194693257</td>\n",
              "      <td>189143897</td>\n",
              "      <td>9282194</td>\n",
              "      <td>-5549360</td>\n",
              "      <td>3732834</td>\n",
              "    </tr>\n",
              "    <tr>\n",
              "      <th>6</th>\n",
              "      <td>180702351</td>\n",
              "      <td>190047051</td>\n",
              "      <td>207363373</td>\n",
              "      <td>9344700</td>\n",
              "      <td>17316322</td>\n",
              "      <td>26661022</td>\n",
              "    </tr>\n",
              "    <tr>\n",
              "      <th>7</th>\n",
              "      <td>208843882</td>\n",
              "      <td>173892707</td>\n",
              "      <td>212322616</td>\n",
              "      <td>-34951175</td>\n",
              "      <td>38429909</td>\n",
              "      <td>3478734</td>\n",
              "    </tr>\n",
              "    <tr>\n",
              "      <th>8</th>\n",
              "      <td>198042727</td>\n",
              "      <td>163748475</td>\n",
              "      <td>0</td>\n",
              "      <td>-34294252</td>\n",
              "      <td>-163748475</td>\n",
              "      <td>-198042727</td>\n",
              "    </tr>\n",
              "    <tr>\n",
              "      <th>9</th>\n",
              "      <td>178053963</td>\n",
              "      <td>164516168</td>\n",
              "      <td>0</td>\n",
              "      <td>-13537795</td>\n",
              "      <td>-164516168</td>\n",
              "      <td>-178053963</td>\n",
              "    </tr>\n",
              "    <tr>\n",
              "      <th>10</th>\n",
              "      <td>187662330</td>\n",
              "      <td>164216398</td>\n",
              "      <td>0</td>\n",
              "      <td>-23445932</td>\n",
              "      <td>-164216398</td>\n",
              "      <td>-187662330</td>\n",
              "    </tr>\n",
              "    <tr>\n",
              "      <th>11</th>\n",
              "      <td>196170924</td>\n",
              "      <td>173327953</td>\n",
              "      <td>0</td>\n",
              "      <td>-22842971</td>\n",
              "      <td>-173327953</td>\n",
              "      <td>-196170924</td>\n",
              "    </tr>\n",
              "    <tr>\n",
              "      <th>12</th>\n",
              "      <td>231710561</td>\n",
              "      <td>202120592</td>\n",
              "      <td>0</td>\n",
              "      <td>-29589969</td>\n",
              "      <td>-202120592</td>\n",
              "      <td>-231710561</td>\n",
              "    </tr>\n",
              "  </tbody>\n",
              "</table>\n",
              "</div>"
            ],
            "text/plain": [
              "           Sales                          diff21     diff32     diff31\n",
              "Year        2013       2014       2015                                \n",
              "Month                                                                 \n",
              "1      180132207  187752787  198843730   7620580   11090943   18711523\n",
              "2      171534275  178924677  178275458   7390402    -649219    6741183\n",
              "3      201180369  193019854  205631683  -8160515   12611829    4451314\n",
              "4      183431432  194544977  197918886  11113545    3373909   14487454\n",
              "5      185411063  194693257  189143897   9282194   -5549360    3732834\n",
              "6      180702351  190047051  207363373   9344700   17316322   26661022\n",
              "7      208843882  173892707  212322616 -34951175   38429909    3478734\n",
              "8      198042727  163748475          0 -34294252 -163748475 -198042727\n",
              "9      178053963  164516168          0 -13537795 -164516168 -178053963\n",
              "10     187662330  164216398          0 -23445932 -164216398 -187662330\n",
              "11     196170924  173327953          0 -22842971 -173327953 -196170924\n",
              "12     231710561  202120592          0 -29589969 -202120592 -231710561"
            ]
          },
          "metadata": {},
          "execution_count": 16
        }
      ]
    },
    {
      "cell_type": "code",
      "metadata": {
        "id": "QtqSYSCy7u29",
        "colab": {
          "base_uri": "https://localhost:8080/"
        },
        "outputId": "a184c8eb-45d9-4a11-bf44-26a0e6f4a9c1"
      },
      "source": [
        "#df_date_sorted_agg=\n",
        "df_date_sorted_agg=store_data.copy().sort_values(['Date']).groupby('Date')['Sales'].sum()\n",
        "df_date_sorted_agg"
      ],
      "execution_count": 17,
      "outputs": [
        {
          "output_type": "execute_result",
          "data": {
            "text/plain": [
              "Date\n",
              "2013-01-01       97235\n",
              "2013-01-02     6949829\n",
              "2013-01-03     6347820\n",
              "2013-01-04     6638954\n",
              "2013-01-05     5951593\n",
              "                ...   \n",
              "2015-07-27    10707292\n",
              "2015-07-28     9115073\n",
              "2015-07-29     8499962\n",
              "2015-07-30     8798854\n",
              "2015-07-31    10109742\n",
              "Name: Sales, Length: 942, dtype: int64"
            ]
          },
          "metadata": {},
          "execution_count": 17
        }
      ]
    },
    {
      "cell_type": "code",
      "metadata": {
        "id": "8EsrSkXF9e9_"
      },
      "source": [
        "# ## Trying to get a series for plotting agg sales day wise, check any pattern to add varibale like seasonality\n",
        "# df=df_date_sorted_agg.reset_index()\n",
        "# df['Sales']=(df['Sales']-df['Sales'].min())/(df['Sales'].max()-df['Sales'].min())\n",
        "# df.head()"
      ],
      "execution_count": 18,
      "outputs": []
    },
    {
      "cell_type": "code",
      "metadata": {
        "id": "2PzaaEVBASfF"
      },
      "source": [
        ""
      ],
      "execution_count": 18,
      "outputs": []
    },
    {
      "cell_type": "code",
      "metadata": {
        "id": "ZLL1XJjI6l5t"
      },
      "source": [
        "#Sales_year_month['Year'].unique()"
      ],
      "execution_count": 19,
      "outputs": []
    },
    {
      "cell_type": "code",
      "metadata": {
        "id": "XWgnNM-j66dE"
      },
      "source": [
        "#### Do we observe any pattern in sales across years, ## No"
      ],
      "execution_count": 20,
      "outputs": []
    },
    {
      "cell_type": "code",
      "metadata": {
        "id": "aayZNBjd3xEj"
      },
      "source": [
        "#sns.barplot(data=Sales_year_month[Sales_year_month['Year']==2013],x='Month',y='Sales_x')"
      ],
      "execution_count": 21,
      "outputs": []
    },
    {
      "cell_type": "code",
      "metadata": {
        "id": "nLJJkl3C7GUg"
      },
      "source": [
        "#sns.barplot(data=Sales_year_month[Sales_year_month['Year']==2014],x='Month',y='Sales_x')"
      ],
      "execution_count": 22,
      "outputs": []
    },
    {
      "cell_type": "code",
      "metadata": {
        "id": "_YK-Tdrg7IKa"
      },
      "source": [
        "#sns.barplot(data=Sales_year_month[Sales_year_month['Year']==2015],x='Month',y='Sales_x')"
      ],
      "execution_count": 23,
      "outputs": []
    },
    {
      "cell_type": "code",
      "metadata": {
        "id": "kwthVgLD-Ioj"
      },
      "source": [
        "#sns.barplot(data=df_test.groupby(['DayOfWeek'])['Sales_x'].sum().reset_index(),x='DayOfWeek',y='Sales_x')  ## Starts with Monday"
      ],
      "execution_count": 24,
      "outputs": []
    },
    {
      "cell_type": "code",
      "metadata": {
        "id": "Tn3CrWgn-Y7z"
      },
      "source": [
        ""
      ],
      "execution_count": 24,
      "outputs": []
    },
    {
      "cell_type": "code",
      "metadata": {
        "id": "XFBDR_M0-Y4Y"
      },
      "source": [
        ""
      ],
      "execution_count": 24,
      "outputs": []
    },
    {
      "cell_type": "code",
      "metadata": {
        "id": "emXaZIFa-Y13"
      },
      "source": [
        ""
      ],
      "execution_count": 24,
      "outputs": []
    },
    {
      "cell_type": "code",
      "metadata": {
        "id": "tIyGoVJdg7hO"
      },
      "source": [
        "## Just to check promo interval values and corresponding Promo2SinceWeek\n",
        "#stores[stores['PromoInterval']!=0].head()"
      ],
      "execution_count": 25,
      "outputs": []
    },
    {
      "cell_type": "code",
      "metadata": {
        "colab": {
          "base_uri": "https://localhost:8080/"
        },
        "id": "bf99NqkU1uB9",
        "outputId": "764230cf-8f13-477b-943b-30845fc3646a"
      },
      "source": [
        "stores.shape"
      ],
      "execution_count": 26,
      "outputs": [
        {
          "output_type": "execute_result",
          "data": {
            "text/plain": [
              "(1115, 10)"
            ]
          },
          "metadata": {},
          "execution_count": 26
        }
      ]
    },
    {
      "cell_type": "code",
      "metadata": {
        "colab": {
          "base_uri": "https://localhost:8080/"
        },
        "id": "rqHZrvtK1hzb",
        "outputId": "26b6a1a0-2c09-48e0-e5f9-c6e75a09a5b5"
      },
      "source": [
        "stores.isna().sum()"
      ],
      "execution_count": 27,
      "outputs": [
        {
          "output_type": "execute_result",
          "data": {
            "text/plain": [
              "Store                          0\n",
              "StoreType                      0\n",
              "Assortment                     0\n",
              "CompetitionDistance            3\n",
              "CompetitionOpenSinceMonth    354\n",
              "CompetitionOpenSinceYear     354\n",
              "Promo2                         0\n",
              "Promo2SinceWeek              544\n",
              "Promo2SinceYear              544\n",
              "PromoInterval                544\n",
              "dtype: int64"
            ]
          },
          "metadata": {},
          "execution_count": 27
        }
      ]
    },
    {
      "cell_type": "code",
      "metadata": {
        "colab": {
          "base_uri": "https://localhost:8080/"
        },
        "id": "EPmPdxKyLdmz",
        "outputId": "87823406-92cb-4d86-a5b0-2b226e589ec0"
      },
      "source": [
        "stores[(stores['Promo2']==0) & (stores['Promo2SinceWeek'].isna())].shape"
      ],
      "execution_count": 28,
      "outputs": [
        {
          "output_type": "execute_result",
          "data": {
            "text/plain": [
              "(544, 10)"
            ]
          },
          "metadata": {},
          "execution_count": 28
        }
      ]
    },
    {
      "cell_type": "code",
      "metadata": {
        "colab": {
          "base_uri": "https://localhost:8080/"
        },
        "id": "sLzNBeCFMSe4",
        "outputId": "d72eeee5-1071-47be-8aa2-33d03b685c34"
      },
      "source": [
        "stores[stores['CompetitionOpenSinceMonth'].isna()]['Store'].nunique()"
      ],
      "execution_count": 29,
      "outputs": [
        {
          "output_type": "execute_result",
          "data": {
            "text/plain": [
              "354"
            ]
          },
          "metadata": {},
          "execution_count": 29
        }
      ]
    },
    {
      "cell_type": "code",
      "metadata": {
        "id": "UuazJsYzEYLt"
      },
      "source": [
        "## Wherever Promo2 ie continuing and consecutive promotion is zero, implies store didn't participate,\n",
        "# hence Promo2SinceWeek and Promo2SinceYear should be zero, also there won't be PromoInterval\n",
        "stores.loc[(stores['Promo2']==0) & (stores['Promo2SinceWeek'].isna()),['Promo2SinceWeek']]=0\n",
        "stores.loc[(stores['Promo2']==0) & (stores['Promo2SinceYear'].isna()),['Promo2SinceYear','PromoInterval']]=0"
      ],
      "execution_count": 30,
      "outputs": []
    },
    {
      "cell_type": "code",
      "metadata": {
        "id": "YnyJx_pPAA5O"
      },
      "source": [
        "#Impute CompetitionDistance with max distance\n",
        "\n",
        "stores.loc[stores['CompetitionDistance'].isna()]=stores['CompetitionDistance'].max()"
      ],
      "execution_count": 31,
      "outputs": []
    },
    {
      "cell_type": "code",
      "metadata": {
        "colab": {
          "base_uri": "https://localhost:8080/"
        },
        "id": "9wyUxGq36Nmu",
        "outputId": "b1c195e8-710f-47dc-8bdf-c50d7f077102"
      },
      "source": [
        "stores.isna().sum()"
      ],
      "execution_count": 32,
      "outputs": [
        {
          "output_type": "execute_result",
          "data": {
            "text/plain": [
              "Store                          0\n",
              "StoreType                      0\n",
              "Assortment                     0\n",
              "CompetitionDistance            0\n",
              "CompetitionOpenSinceMonth    351\n",
              "CompetitionOpenSinceYear     351\n",
              "Promo2                         0\n",
              "Promo2SinceWeek                0\n",
              "Promo2SinceYear                0\n",
              "PromoInterval                  0\n",
              "dtype: int64"
            ]
          },
          "metadata": {},
          "execution_count": 32
        }
      ]
    },
    {
      "cell_type": "code",
      "metadata": {
        "id": "jtBqXR3O6ybV"
      },
      "source": [
        "#stores[stores['Promo2SinceYear']!=0]['Promo2SinceYear'].describe()"
      ],
      "execution_count": 33,
      "outputs": []
    },
    {
      "cell_type": "code",
      "metadata": {
        "colab": {
          "base_uri": "https://localhost:8080/"
        },
        "id": "0ZqwukEo7ecO",
        "outputId": "07a26b97-6298-48fb-8722-5406b2a8a465"
      },
      "source": [
        "## Check the CompetitionOpenSinceYear year range\n",
        "stores['CompetitionOpenSinceYear'].describe()"
      ],
      "execution_count": 34,
      "outputs": [
        {
          "output_type": "execute_result",
          "data": {
            "text/plain": [
              "count      764.000000\n",
              "mean      2298.660995\n",
              "std       4621.710349\n",
              "min       1900.000000\n",
              "25%       2006.000000\n",
              "50%       2010.000000\n",
              "75%       2013.000000\n",
              "max      75860.000000\n",
              "Name: CompetitionOpenSinceYear, dtype: float64"
            ]
          },
          "metadata": {},
          "execution_count": 34
        }
      ]
    },
    {
      "cell_type": "code",
      "metadata": {
        "id": "fLOgOrIm30fi"
      },
      "source": [
        "#stores[~stores['CompetitionOpenSinceYear'].isin([1900,1961])]['CompetitionOpenSinceYear'].min()"
      ],
      "execution_count": 35,
      "outputs": []
    },
    {
      "cell_type": "code",
      "metadata": {
        "colab": {
          "base_uri": "https://localhost:8080/"
        },
        "id": "y8n-QPqj2wba",
        "outputId": "4fea22ed-3c0e-46a2-da77-2d4b9526dda9"
      },
      "source": [
        "## This is the day since when we have the sales data\n",
        "store_data['Date'].min()"
      ],
      "execution_count": 36,
      "outputs": [
        {
          "output_type": "execute_result",
          "data": {
            "text/plain": [
              "Timestamp('2013-01-01 00:00:00')"
            ]
          },
          "metadata": {},
          "execution_count": 36
        }
      ]
    },
    {
      "cell_type": "code",
      "metadata": {
        "id": "rJjHmouO3pxk",
        "colab": {
          "base_uri": "https://localhost:8080/"
        },
        "outputId": "2533bf4d-c7eb-46d5-80f3-d5f56b04310f"
      },
      "source": [
        "stores[stores['Promo2SinceYear']!=0]['Promo2SinceYear'].min()"
      ],
      "execution_count": 37,
      "outputs": [
        {
          "output_type": "execute_result",
          "data": {
            "text/plain": [
              "2009.0"
            ]
          },
          "metadata": {},
          "execution_count": 37
        }
      ]
    },
    {
      "cell_type": "code",
      "metadata": {
        "id": "ynVyT73yLgkt"
      },
      "source": [
        "### Not req now, \n",
        "## Equivalent code has been written in below cell\n",
        "### Ref https://www.kaggle.com/shivam017arora/rossmann-sales-prediction-top-1-solution\n",
        "\n",
        "# competition_open = []\n",
        "# for index, value in stores[['CompetitionOpenSinceMonth', 'CompetitionOpenSinceYear']].iterrows():\n",
        "#     try:\n",
        "#         year, month = int(value['CompetitionOpenSinceYear']), int(value['CompetitionOpenSinceMonth'])\n",
        "#         date = pd.to_datetime(\"{}-{}-01\".format(year, month), format='%Y-%m')\n",
        "#         competition_open.append(date)\n",
        "#     except:\n",
        "#         competition_open.append('1813-01-01') # Added a dummy date, 200 yrs less than min sales date\n",
        "# stores['CompetitionOpen'] = pd.Series(competition_open)\n",
        "# stores['CompetitionOpen'] = stores['CompetitionOpen'].dt.strftime('%Y-%m-%d')\n",
        "# stores['CompetitionOpen']= pd.to_datetime(stores['CompetitionOpen'])\n",
        "# #stores['CompetitionOpen']=stores['CompetitionOpen'].map(int)\n",
        "# #stores['CompetitionOpen']=stores['CompetitionOpen'].apply(lambda x:x if x!='2021-10-30' else 0)\n",
        "\n",
        "\n",
        "\n",
        "\n",
        "# promo = []\n",
        "# for index, value in stores[['Promo2SinceWeek', 'Promo2SinceYear']].iterrows():\n",
        "#     try:\n",
        "#         year, week = int(value['Promo2SinceYear']), int(value['Promo2SinceWeek'])\n",
        "#         date = pd.to_datetime(\"{}{}0\".format(year, week), format='%Y%W%w')\n",
        "#         promo.append(date)\n",
        "#     except:\n",
        "#         promo.append('1909-01-01')   ## dummy date\n",
        "# stores['promoYearWeek'] = pd.to_datetime(pd.Series(promo))\n",
        "# stores['promoYearWeek'] = stores['promoYearWeek'].dt.strftime('%Y%m%d')\n",
        "# stores['promoYearWeek']= pd.to_datetime(stores['promoYearWeek'])\n",
        "#stores.loc[stores['promoYearWeek'].isna(),'promoYearWeek'] =0# stores['promoYearWeek'].dt.strftime('%Y%m%d')\n",
        "#stores['promoYearWeek']=stores['promoYearWeek'].map(int)"
      ],
      "execution_count": 38,
      "outputs": []
    },
    {
      "cell_type": "code",
      "metadata": {
        "id": "Up5hxd21aahF"
      },
      "source": [
        "#### calculate difference in number of days for competion and promo\n",
        "## Function to change data format\n",
        "def competition_open_yr_mnth(cols):\n",
        "  try:\n",
        "    year, month = int(cols[0]), int(cols[1])\n",
        "    date = pd.to_datetime(\"{}-{}-01\".format(year, month), format='%Y-%m')\n",
        "    return date\n",
        "  except:\n",
        "    return '1813-01-01'  ## Dummy date to identify this data and do transformation afterwards\n",
        "\n",
        "stores['CompetitionOpen']=stores[['CompetitionOpenSinceYear','CompetitionOpenSinceMonth']].apply(competition_open_yr_mnth,axis=1)\n",
        "stores['CompetitionOpen']= stores['CompetitionOpen'].dt.strftime('%Y-%m-%d')\n",
        "stores['CompetitionOpen']= pd.to_datetime(stores['CompetitionOpen'])\n",
        "\n",
        "\n",
        "\n",
        "\n",
        "def promo_yr_wk(cols):\n",
        "  try:\n",
        "    year, week = int(cols[1]), int(cols[0])\n",
        "    date = pd.to_datetime(\"{}{}0\".format(year, week), format='%Y%W%w')\n",
        "    return date\n",
        "  except:\n",
        "    return '1909-01-01' ## dummy date\n",
        "\n",
        "\n",
        "stores['promoYearWeek'] =stores[['Promo2SinceWeek', 'Promo2SinceYear']].apply(promo_yr_wk,axis=1)\n",
        "stores['promoYearWeek'] = stores['promoYearWeek'].dt.strftime('%Y%m%d')\n",
        "stores['promoYearWeek']= pd.to_datetime(stores['promoYearWeek'])"
      ],
      "execution_count": 39,
      "outputs": []
    },
    {
      "cell_type": "code",
      "metadata": {
        "colab": {
          "base_uri": "https://localhost:8080/",
          "height": 226
        },
        "id": "_Y_I3sxHjPXS",
        "outputId": "57407676-9fbc-4289-88ca-23e04b679d8a"
      },
      "source": [
        "stores.head()"
      ],
      "execution_count": 40,
      "outputs": [
        {
          "output_type": "execute_result",
          "data": {
            "text/html": [
              "<div>\n",
              "<style scoped>\n",
              "    .dataframe tbody tr th:only-of-type {\n",
              "        vertical-align: middle;\n",
              "    }\n",
              "\n",
              "    .dataframe tbody tr th {\n",
              "        vertical-align: top;\n",
              "    }\n",
              "\n",
              "    .dataframe thead th {\n",
              "        text-align: right;\n",
              "    }\n",
              "</style>\n",
              "<table border=\"1\" class=\"dataframe\">\n",
              "  <thead>\n",
              "    <tr style=\"text-align: right;\">\n",
              "      <th></th>\n",
              "      <th>Store</th>\n",
              "      <th>StoreType</th>\n",
              "      <th>Assortment</th>\n",
              "      <th>CompetitionDistance</th>\n",
              "      <th>CompetitionOpenSinceMonth</th>\n",
              "      <th>CompetitionOpenSinceYear</th>\n",
              "      <th>Promo2</th>\n",
              "      <th>Promo2SinceWeek</th>\n",
              "      <th>Promo2SinceYear</th>\n",
              "      <th>PromoInterval</th>\n",
              "      <th>CompetitionOpen</th>\n",
              "      <th>promoYearWeek</th>\n",
              "    </tr>\n",
              "  </thead>\n",
              "  <tbody>\n",
              "    <tr>\n",
              "      <th>0</th>\n",
              "      <td>1</td>\n",
              "      <td>c</td>\n",
              "      <td>a</td>\n",
              "      <td>1270.0</td>\n",
              "      <td>9.0</td>\n",
              "      <td>2008.0</td>\n",
              "      <td>0</td>\n",
              "      <td>0.0</td>\n",
              "      <td>0.0</td>\n",
              "      <td>0</td>\n",
              "      <td>2008-09-01</td>\n",
              "      <td>1909-01-01</td>\n",
              "    </tr>\n",
              "    <tr>\n",
              "      <th>1</th>\n",
              "      <td>2</td>\n",
              "      <td>a</td>\n",
              "      <td>a</td>\n",
              "      <td>570.0</td>\n",
              "      <td>11.0</td>\n",
              "      <td>2007.0</td>\n",
              "      <td>1</td>\n",
              "      <td>13.0</td>\n",
              "      <td>2010.0</td>\n",
              "      <td>Jan,Apr,Jul,Oct</td>\n",
              "      <td>2007-11-01</td>\n",
              "      <td>2010-04-04</td>\n",
              "    </tr>\n",
              "    <tr>\n",
              "      <th>2</th>\n",
              "      <td>3</td>\n",
              "      <td>a</td>\n",
              "      <td>a</td>\n",
              "      <td>14130.0</td>\n",
              "      <td>12.0</td>\n",
              "      <td>2006.0</td>\n",
              "      <td>1</td>\n",
              "      <td>14.0</td>\n",
              "      <td>2011.0</td>\n",
              "      <td>Jan,Apr,Jul,Oct</td>\n",
              "      <td>2006-12-01</td>\n",
              "      <td>2011-04-10</td>\n",
              "    </tr>\n",
              "    <tr>\n",
              "      <th>3</th>\n",
              "      <td>4</td>\n",
              "      <td>c</td>\n",
              "      <td>c</td>\n",
              "      <td>620.0</td>\n",
              "      <td>9.0</td>\n",
              "      <td>2009.0</td>\n",
              "      <td>0</td>\n",
              "      <td>0.0</td>\n",
              "      <td>0.0</td>\n",
              "      <td>0</td>\n",
              "      <td>2009-09-01</td>\n",
              "      <td>1909-01-01</td>\n",
              "    </tr>\n",
              "    <tr>\n",
              "      <th>4</th>\n",
              "      <td>5</td>\n",
              "      <td>a</td>\n",
              "      <td>a</td>\n",
              "      <td>29910.0</td>\n",
              "      <td>4.0</td>\n",
              "      <td>2015.0</td>\n",
              "      <td>0</td>\n",
              "      <td>0.0</td>\n",
              "      <td>0.0</td>\n",
              "      <td>0</td>\n",
              "      <td>2015-04-01</td>\n",
              "      <td>1909-01-01</td>\n",
              "    </tr>\n",
              "  </tbody>\n",
              "</table>\n",
              "</div>"
            ],
            "text/plain": [
              "   Store StoreType Assortment  ...    PromoInterval  CompetitionOpen  promoYearWeek\n",
              "0      1         c          a  ...                0       2008-09-01     1909-01-01\n",
              "1      2         a          a  ...  Jan,Apr,Jul,Oct       2007-11-01     2010-04-04\n",
              "2      3         a          a  ...  Jan,Apr,Jul,Oct       2006-12-01     2011-04-10\n",
              "3      4         c          c  ...                0       2009-09-01     1909-01-01\n",
              "4      5         a          a  ...                0       2015-04-01     1909-01-01\n",
              "\n",
              "[5 rows x 12 columns]"
            ]
          },
          "metadata": {},
          "execution_count": 40
        }
      ]
    },
    {
      "cell_type": "code",
      "metadata": {
        "id": "Hxh77HDms34e"
      },
      "source": [
        "# ## Not req\n",
        "\n",
        "# ## Merge part\n",
        "# date_test=pd.merge(store_data,stores,on='Store')\n",
        "# date_test['day_diff_comp']=(date_test['Date']-date_test['CompetitionOpen']).dt.days\n",
        "# date_test['day_diff_promo']=(date_test['Date']-date_test['promoYearWeek']).dt.days\n",
        "# date_test.loc[date_test['day_diff_comp']>=73000,'day_diff_comp']=0\n",
        "# date_test.loc[date_test['day_diff_promo']>=36500,'day_diff_promo']=0"
      ],
      "execution_count": 41,
      "outputs": []
    },
    {
      "cell_type": "code",
      "metadata": {
        "id": "HJSYwHRU9v82"
      },
      "source": [
        "# ## Not req\n",
        "\n",
        "# date_test[date_test['promoYearWeek']=='1909-01-01'].shape"
      ],
      "execution_count": 42,
      "outputs": []
    },
    {
      "cell_type": "code",
      "metadata": {
        "id": "12edpayWvEeh"
      },
      "source": [
        "# ## Not req\n",
        "\n",
        "# date_test[date_test['CompetitionOpen']=='1813-01-01'].shape   #(323348, 22)\n",
        "# #date_test['day_diff']\n",
        "# date_test[date_test['day_diff']>=73000].shape"
      ],
      "execution_count": 43,
      "outputs": []
    },
    {
      "cell_type": "code",
      "metadata": {
        "id": "r2j6t8vXu9yc"
      },
      "source": [
        "# ### Not req\n",
        "\n",
        "# date_test[(date_test['Promo2SinceWeek']==0) & (date_test['Promo2SinceYear']==0)].shape"
      ],
      "execution_count": 44,
      "outputs": []
    },
    {
      "cell_type": "code",
      "metadata": {
        "id": "9Dj2WtMlcMi9",
        "colab": {
          "base_uri": "https://localhost:8080/"
        },
        "outputId": "7e96a2d1-82e9-464c-d9e4-b8c6b569d629"
      },
      "source": [
        "stores.info()"
      ],
      "execution_count": 45,
      "outputs": [
        {
          "output_type": "stream",
          "name": "stdout",
          "text": [
            "<class 'pandas.core.frame.DataFrame'>\n",
            "RangeIndex: 1115 entries, 0 to 1114\n",
            "Data columns (total 12 columns):\n",
            " #   Column                     Non-Null Count  Dtype         \n",
            "---  ------                     --------------  -----         \n",
            " 0   Store                      1115 non-null   int64         \n",
            " 1   StoreType                  1115 non-null   object        \n",
            " 2   Assortment                 1115 non-null   object        \n",
            " 3   CompetitionDistance        1115 non-null   float64       \n",
            " 4   CompetitionOpenSinceMonth  764 non-null    float64       \n",
            " 5   CompetitionOpenSinceYear   764 non-null    float64       \n",
            " 6   Promo2                     1115 non-null   int64         \n",
            " 7   Promo2SinceWeek            1115 non-null   float64       \n",
            " 8   Promo2SinceYear            1115 non-null   float64       \n",
            " 9   PromoInterval              1115 non-null   object        \n",
            " 10  CompetitionOpen            1115 non-null   datetime64[ns]\n",
            " 11  promoYearWeek              1115 non-null   datetime64[ns]\n",
            "dtypes: datetime64[ns](2), float64(5), int64(2), object(3)\n",
            "memory usage: 104.7+ KB\n"
          ]
        }
      ]
    },
    {
      "cell_type": "code",
      "metadata": {
        "id": "8c46KtSCWhuW"
      },
      "source": [
        "#stores['CompetitionOpen'].astype(int).describe()"
      ],
      "execution_count": 46,
      "outputs": []
    },
    {
      "cell_type": "code",
      "metadata": {
        "colab": {
          "base_uri": "https://localhost:8080/",
          "height": 226
        },
        "id": "PST_x7vjLgTK",
        "outputId": "61b271ee-7ddd-48b0-ffce-32da410841b3"
      },
      "source": [
        "stores.head()"
      ],
      "execution_count": 47,
      "outputs": [
        {
          "output_type": "execute_result",
          "data": {
            "text/html": [
              "<div>\n",
              "<style scoped>\n",
              "    .dataframe tbody tr th:only-of-type {\n",
              "        vertical-align: middle;\n",
              "    }\n",
              "\n",
              "    .dataframe tbody tr th {\n",
              "        vertical-align: top;\n",
              "    }\n",
              "\n",
              "    .dataframe thead th {\n",
              "        text-align: right;\n",
              "    }\n",
              "</style>\n",
              "<table border=\"1\" class=\"dataframe\">\n",
              "  <thead>\n",
              "    <tr style=\"text-align: right;\">\n",
              "      <th></th>\n",
              "      <th>Store</th>\n",
              "      <th>StoreType</th>\n",
              "      <th>Assortment</th>\n",
              "      <th>CompetitionDistance</th>\n",
              "      <th>CompetitionOpenSinceMonth</th>\n",
              "      <th>CompetitionOpenSinceYear</th>\n",
              "      <th>Promo2</th>\n",
              "      <th>Promo2SinceWeek</th>\n",
              "      <th>Promo2SinceYear</th>\n",
              "      <th>PromoInterval</th>\n",
              "      <th>CompetitionOpen</th>\n",
              "      <th>promoYearWeek</th>\n",
              "    </tr>\n",
              "  </thead>\n",
              "  <tbody>\n",
              "    <tr>\n",
              "      <th>0</th>\n",
              "      <td>1</td>\n",
              "      <td>c</td>\n",
              "      <td>a</td>\n",
              "      <td>1270.0</td>\n",
              "      <td>9.0</td>\n",
              "      <td>2008.0</td>\n",
              "      <td>0</td>\n",
              "      <td>0.0</td>\n",
              "      <td>0.0</td>\n",
              "      <td>0</td>\n",
              "      <td>2008-09-01</td>\n",
              "      <td>1909-01-01</td>\n",
              "    </tr>\n",
              "    <tr>\n",
              "      <th>1</th>\n",
              "      <td>2</td>\n",
              "      <td>a</td>\n",
              "      <td>a</td>\n",
              "      <td>570.0</td>\n",
              "      <td>11.0</td>\n",
              "      <td>2007.0</td>\n",
              "      <td>1</td>\n",
              "      <td>13.0</td>\n",
              "      <td>2010.0</td>\n",
              "      <td>Jan,Apr,Jul,Oct</td>\n",
              "      <td>2007-11-01</td>\n",
              "      <td>2010-04-04</td>\n",
              "    </tr>\n",
              "    <tr>\n",
              "      <th>2</th>\n",
              "      <td>3</td>\n",
              "      <td>a</td>\n",
              "      <td>a</td>\n",
              "      <td>14130.0</td>\n",
              "      <td>12.0</td>\n",
              "      <td>2006.0</td>\n",
              "      <td>1</td>\n",
              "      <td>14.0</td>\n",
              "      <td>2011.0</td>\n",
              "      <td>Jan,Apr,Jul,Oct</td>\n",
              "      <td>2006-12-01</td>\n",
              "      <td>2011-04-10</td>\n",
              "    </tr>\n",
              "    <tr>\n",
              "      <th>3</th>\n",
              "      <td>4</td>\n",
              "      <td>c</td>\n",
              "      <td>c</td>\n",
              "      <td>620.0</td>\n",
              "      <td>9.0</td>\n",
              "      <td>2009.0</td>\n",
              "      <td>0</td>\n",
              "      <td>0.0</td>\n",
              "      <td>0.0</td>\n",
              "      <td>0</td>\n",
              "      <td>2009-09-01</td>\n",
              "      <td>1909-01-01</td>\n",
              "    </tr>\n",
              "    <tr>\n",
              "      <th>4</th>\n",
              "      <td>5</td>\n",
              "      <td>a</td>\n",
              "      <td>a</td>\n",
              "      <td>29910.0</td>\n",
              "      <td>4.0</td>\n",
              "      <td>2015.0</td>\n",
              "      <td>0</td>\n",
              "      <td>0.0</td>\n",
              "      <td>0.0</td>\n",
              "      <td>0</td>\n",
              "      <td>2015-04-01</td>\n",
              "      <td>1909-01-01</td>\n",
              "    </tr>\n",
              "  </tbody>\n",
              "</table>\n",
              "</div>"
            ],
            "text/plain": [
              "   Store StoreType Assortment  ...    PromoInterval  CompetitionOpen  promoYearWeek\n",
              "0      1         c          a  ...                0       2008-09-01     1909-01-01\n",
              "1      2         a          a  ...  Jan,Apr,Jul,Oct       2007-11-01     2010-04-04\n",
              "2      3         a          a  ...  Jan,Apr,Jul,Oct       2006-12-01     2011-04-10\n",
              "3      4         c          c  ...                0       2009-09-01     1909-01-01\n",
              "4      5         a          a  ...                0       2015-04-01     1909-01-01\n",
              "\n",
              "[5 rows x 12 columns]"
            ]
          },
          "metadata": {},
          "execution_count": 47
        }
      ]
    },
    {
      "cell_type": "code",
      "metadata": {
        "id": "gwAfBVW5IHmD"
      },
      "source": [
        "## Check the CompetitionOpenSinceMonth values\n",
        "#stores['CompetitionOpenSinceMonth'].describe() ## 1 to 12\n",
        "#stores[stores['CompetitionOpenSinceMonth']<=3]"
      ],
      "execution_count": 48,
      "outputs": []
    },
    {
      "cell_type": "code",
      "metadata": {
        "id": "OtrewREeH5s2"
      },
      "source": [
        "#stores[stores['CompetitionOpenSinceYear']==1900]"
      ],
      "execution_count": 49,
      "outputs": []
    },
    {
      "cell_type": "code",
      "metadata": {
        "id": "FcmGPx-z6q3O"
      },
      "source": [
        "## For interval, will think afterwards\n",
        "#join_with = stores['PromoInterval'].str.split(',').apply(pd.Series)\n",
        "#join_with.columns = join_with.columns.map(lambda x: str(x) + '_PromoInterval')"
      ],
      "execution_count": 50,
      "outputs": []
    },
    {
      "cell_type": "code",
      "metadata": {
        "id": "OFdfOpMm8Ev-"
      },
      "source": [
        ""
      ],
      "execution_count": 50,
      "outputs": []
    },
    {
      "cell_type": "code",
      "metadata": {
        "colab": {
          "base_uri": "https://localhost:8080/"
        },
        "id": "7BvdzCTgpsDp",
        "outputId": "4e20dfda-630b-4a20-be2c-1eedeb861642"
      },
      "source": [
        "store_data.info()"
      ],
      "execution_count": 51,
      "outputs": [
        {
          "output_type": "stream",
          "name": "stdout",
          "text": [
            "<class 'pandas.core.frame.DataFrame'>\n",
            "RangeIndex: 1017209 entries, 0 to 1017208\n",
            "Data columns (total 11 columns):\n",
            " #   Column         Non-Null Count    Dtype         \n",
            "---  ------         --------------    -----         \n",
            " 0   Store          1017209 non-null  int64         \n",
            " 1   DayOfWeek      1017209 non-null  int64         \n",
            " 2   Date           1017209 non-null  datetime64[ns]\n",
            " 3   Sales          1017209 non-null  int64         \n",
            " 4   Customers      1017209 non-null  int64         \n",
            " 5   Open           1017209 non-null  int64         \n",
            " 6   Promo          1017209 non-null  int64         \n",
            " 7   StateHoliday   1017209 non-null  object        \n",
            " 8   SchoolHoliday  1017209 non-null  int64         \n",
            " 9   Year           1017209 non-null  int64         \n",
            " 10  Month          1017209 non-null  int64         \n",
            "dtypes: datetime64[ns](1), int64(9), object(1)\n",
            "memory usage: 85.4+ MB\n"
          ]
        }
      ]
    },
    {
      "cell_type": "code",
      "metadata": {
        "id": "_y0s7hFI3Z68"
      },
      "source": [
        "store_data_merged=pd.merge(store_data,stores,on='Store')"
      ],
      "execution_count": 52,
      "outputs": []
    },
    {
      "cell_type": "code",
      "metadata": {
        "id": "kqbhjKGg_U2l"
      },
      "source": [
        "## Calculate the number of days since when the promo started\n",
        "store_data_merged['day_diff_comp']=(store_data_merged['Date']-store_data_merged['CompetitionOpen']).dt.days\n",
        "store_data_merged['day_diff_promo']=(store_data_merged['Date']-store_data_merged['promoYearWeek']).dt.days\n",
        "\n",
        "## Identifying the data based on teh dummy dates and changing them to zero\n",
        "store_data_merged.loc[store_data_merged['day_diff_comp']>=73000,'day_diff_comp']=0\n",
        "store_data_merged.loc[store_data_merged['day_diff_promo']>=36500,'day_diff_promo']=0"
      ],
      "execution_count": 53,
      "outputs": []
    },
    {
      "cell_type": "code",
      "metadata": {
        "id": "Pr_XrKm3NcaD"
      },
      "source": [
        "## Sort data in ascending order of date\n",
        "store_data_merged=store_data_merged.sort_values(['Date']).reset_index()"
      ],
      "execution_count": 54,
      "outputs": []
    },
    {
      "cell_type": "code",
      "metadata": {
        "colab": {
          "base_uri": "https://localhost:8080/",
          "height": 313
        },
        "id": "1RFr28N8NcWp",
        "outputId": "316eca1d-59f2-42cb-b27d-009869f2fb0a"
      },
      "source": [
        "store_data_merged.head()"
      ],
      "execution_count": 55,
      "outputs": [
        {
          "output_type": "execute_result",
          "data": {
            "text/html": [
              "<div>\n",
              "<style scoped>\n",
              "    .dataframe tbody tr th:only-of-type {\n",
              "        vertical-align: middle;\n",
              "    }\n",
              "\n",
              "    .dataframe tbody tr th {\n",
              "        vertical-align: top;\n",
              "    }\n",
              "\n",
              "    .dataframe thead th {\n",
              "        text-align: right;\n",
              "    }\n",
              "</style>\n",
              "<table border=\"1\" class=\"dataframe\">\n",
              "  <thead>\n",
              "    <tr style=\"text-align: right;\">\n",
              "      <th></th>\n",
              "      <th>index</th>\n",
              "      <th>Store</th>\n",
              "      <th>DayOfWeek</th>\n",
              "      <th>Date</th>\n",
              "      <th>Sales</th>\n",
              "      <th>Customers</th>\n",
              "      <th>Open</th>\n",
              "      <th>Promo</th>\n",
              "      <th>StateHoliday</th>\n",
              "      <th>SchoolHoliday</th>\n",
              "      <th>Year</th>\n",
              "      <th>Month</th>\n",
              "      <th>StoreType</th>\n",
              "      <th>Assortment</th>\n",
              "      <th>CompetitionDistance</th>\n",
              "      <th>CompetitionOpenSinceMonth</th>\n",
              "      <th>CompetitionOpenSinceYear</th>\n",
              "      <th>Promo2</th>\n",
              "      <th>Promo2SinceWeek</th>\n",
              "      <th>Promo2SinceYear</th>\n",
              "      <th>PromoInterval</th>\n",
              "      <th>CompetitionOpen</th>\n",
              "      <th>promoYearWeek</th>\n",
              "      <th>day_diff_comp</th>\n",
              "      <th>day_diff_promo</th>\n",
              "    </tr>\n",
              "  </thead>\n",
              "  <tbody>\n",
              "    <tr>\n",
              "      <th>0</th>\n",
              "      <td>1014566</td>\n",
              "      <td>1115</td>\n",
              "      <td>2</td>\n",
              "      <td>2013-01-01</td>\n",
              "      <td>0</td>\n",
              "      <td>0</td>\n",
              "      <td>0</td>\n",
              "      <td>0</td>\n",
              "      <td>a</td>\n",
              "      <td>1</td>\n",
              "      <td>2013</td>\n",
              "      <td>1</td>\n",
              "      <td>d</td>\n",
              "      <td>c</td>\n",
              "      <td>5350.0</td>\n",
              "      <td>NaN</td>\n",
              "      <td>NaN</td>\n",
              "      <td>1</td>\n",
              "      <td>22.0</td>\n",
              "      <td>2012.0</td>\n",
              "      <td>Mar,Jun,Sept,Dec</td>\n",
              "      <td>1813-01-01</td>\n",
              "      <td>2012-06-03</td>\n",
              "      <td>0</td>\n",
              "      <td>212</td>\n",
              "    </tr>\n",
              "    <tr>\n",
              "      <th>1</th>\n",
              "      <td>458921</td>\n",
              "      <td>504</td>\n",
              "      <td>2</td>\n",
              "      <td>2013-01-01</td>\n",
              "      <td>0</td>\n",
              "      <td>0</td>\n",
              "      <td>0</td>\n",
              "      <td>0</td>\n",
              "      <td>a</td>\n",
              "      <td>1</td>\n",
              "      <td>2013</td>\n",
              "      <td>1</td>\n",
              "      <td>c</td>\n",
              "      <td>c</td>\n",
              "      <td>820.0</td>\n",
              "      <td>NaN</td>\n",
              "      <td>NaN</td>\n",
              "      <td>0</td>\n",
              "      <td>0.0</td>\n",
              "      <td>0.0</td>\n",
              "      <td>0</td>\n",
              "      <td>1813-01-01</td>\n",
              "      <td>1909-01-01</td>\n",
              "      <td>0</td>\n",
              "      <td>0</td>\n",
              "    </tr>\n",
              "    <tr>\n",
              "      <th>2</th>\n",
              "      <td>924068</td>\n",
              "      <td>1016</td>\n",
              "      <td>2</td>\n",
              "      <td>2013-01-01</td>\n",
              "      <td>0</td>\n",
              "      <td>0</td>\n",
              "      <td>0</td>\n",
              "      <td>0</td>\n",
              "      <td>a</td>\n",
              "      <td>1</td>\n",
              "      <td>2013</td>\n",
              "      <td>1</td>\n",
              "      <td>c</td>\n",
              "      <td>c</td>\n",
              "      <td>550.0</td>\n",
              "      <td>NaN</td>\n",
              "      <td>NaN</td>\n",
              "      <td>1</td>\n",
              "      <td>35.0</td>\n",
              "      <td>2010.0</td>\n",
              "      <td>Mar,Jun,Sept,Dec</td>\n",
              "      <td>1813-01-01</td>\n",
              "      <td>2010-09-05</td>\n",
              "      <td>0</td>\n",
              "      <td>849</td>\n",
              "    </tr>\n",
              "    <tr>\n",
              "      <th>3</th>\n",
              "      <td>220625</td>\n",
              "      <td>243</td>\n",
              "      <td>2</td>\n",
              "      <td>2013-01-01</td>\n",
              "      <td>0</td>\n",
              "      <td>0</td>\n",
              "      <td>0</td>\n",
              "      <td>0</td>\n",
              "      <td>a</td>\n",
              "      <td>1</td>\n",
              "      <td>2013</td>\n",
              "      <td>1</td>\n",
              "      <td>a</td>\n",
              "      <td>a</td>\n",
              "      <td>310.0</td>\n",
              "      <td>NaN</td>\n",
              "      <td>NaN</td>\n",
              "      <td>1</td>\n",
              "      <td>5.0</td>\n",
              "      <td>2013.0</td>\n",
              "      <td>Feb,May,Aug,Nov</td>\n",
              "      <td>1813-01-01</td>\n",
              "      <td>2013-02-10</td>\n",
              "      <td>0</td>\n",
              "      <td>-40</td>\n",
              "    </tr>\n",
              "    <tr>\n",
              "      <th>4</th>\n",
              "      <td>2825</td>\n",
              "      <td>3</td>\n",
              "      <td>2</td>\n",
              "      <td>2013-01-01</td>\n",
              "      <td>0</td>\n",
              "      <td>0</td>\n",
              "      <td>0</td>\n",
              "      <td>0</td>\n",
              "      <td>a</td>\n",
              "      <td>1</td>\n",
              "      <td>2013</td>\n",
              "      <td>1</td>\n",
              "      <td>a</td>\n",
              "      <td>a</td>\n",
              "      <td>14130.0</td>\n",
              "      <td>12.0</td>\n",
              "      <td>2006.0</td>\n",
              "      <td>1</td>\n",
              "      <td>14.0</td>\n",
              "      <td>2011.0</td>\n",
              "      <td>Jan,Apr,Jul,Oct</td>\n",
              "      <td>2006-12-01</td>\n",
              "      <td>2011-04-10</td>\n",
              "      <td>2223</td>\n",
              "      <td>632</td>\n",
              "    </tr>\n",
              "  </tbody>\n",
              "</table>\n",
              "</div>"
            ],
            "text/plain": [
              "     index  Store  DayOfWeek  ... promoYearWeek  day_diff_comp  day_diff_promo\n",
              "0  1014566   1115          2  ...    2012-06-03              0             212\n",
              "1   458921    504          2  ...    1909-01-01              0               0\n",
              "2   924068   1016          2  ...    2010-09-05              0             849\n",
              "3   220625    243          2  ...    2013-02-10              0             -40\n",
              "4     2825      3          2  ...    2011-04-10           2223             632\n",
              "\n",
              "[5 rows x 25 columns]"
            ]
          },
          "metadata": {},
          "execution_count": 55
        }
      ]
    },
    {
      "cell_type": "code",
      "metadata": {
        "colab": {
          "base_uri": "https://localhost:8080/",
          "height": 167
        },
        "id": "hURjt2fVOi4Y",
        "outputId": "89e695cc-9011-46cb-c4ac-2d4f9841c424"
      },
      "source": [
        "## Get index of data for last year from March to test\n",
        "store_data_merged[(store_data_merged['Year']==2015) & (store_data_merged['Month']>=3)].head(2) ## 844431"
      ],
      "execution_count": 56,
      "outputs": [
        {
          "output_type": "execute_result",
          "data": {
            "text/html": [
              "<div>\n",
              "<style scoped>\n",
              "    .dataframe tbody tr th:only-of-type {\n",
              "        vertical-align: middle;\n",
              "    }\n",
              "\n",
              "    .dataframe tbody tr th {\n",
              "        vertical-align: top;\n",
              "    }\n",
              "\n",
              "    .dataframe thead th {\n",
              "        text-align: right;\n",
              "    }\n",
              "</style>\n",
              "<table border=\"1\" class=\"dataframe\">\n",
              "  <thead>\n",
              "    <tr style=\"text-align: right;\">\n",
              "      <th></th>\n",
              "      <th>index</th>\n",
              "      <th>Store</th>\n",
              "      <th>DayOfWeek</th>\n",
              "      <th>Date</th>\n",
              "      <th>Sales</th>\n",
              "      <th>Customers</th>\n",
              "      <th>Open</th>\n",
              "      <th>Promo</th>\n",
              "      <th>StateHoliday</th>\n",
              "      <th>SchoolHoliday</th>\n",
              "      <th>Year</th>\n",
              "      <th>Month</th>\n",
              "      <th>StoreType</th>\n",
              "      <th>Assortment</th>\n",
              "      <th>CompetitionDistance</th>\n",
              "      <th>CompetitionOpenSinceMonth</th>\n",
              "      <th>CompetitionOpenSinceYear</th>\n",
              "      <th>Promo2</th>\n",
              "      <th>Promo2SinceWeek</th>\n",
              "      <th>Promo2SinceYear</th>\n",
              "      <th>PromoInterval</th>\n",
              "      <th>CompetitionOpen</th>\n",
              "      <th>promoYearWeek</th>\n",
              "      <th>day_diff_comp</th>\n",
              "      <th>day_diff_promo</th>\n",
              "    </tr>\n",
              "  </thead>\n",
              "  <tbody>\n",
              "    <tr>\n",
              "      <th>844431</th>\n",
              "      <td>1094</td>\n",
              "      <td>2</td>\n",
              "      <td>7</td>\n",
              "      <td>2015-03-01</td>\n",
              "      <td>0</td>\n",
              "      <td>0</td>\n",
              "      <td>0</td>\n",
              "      <td>0</td>\n",
              "      <td>0</td>\n",
              "      <td>0</td>\n",
              "      <td>2015</td>\n",
              "      <td>3</td>\n",
              "      <td>a</td>\n",
              "      <td>a</td>\n",
              "      <td>570.0</td>\n",
              "      <td>11.0</td>\n",
              "      <td>2007.0</td>\n",
              "      <td>1</td>\n",
              "      <td>13.0</td>\n",
              "      <td>2010.0</td>\n",
              "      <td>Jan,Apr,Jul,Oct</td>\n",
              "      <td>2007-11-01</td>\n",
              "      <td>2010-04-04</td>\n",
              "      <td>2677</td>\n",
              "      <td>1792</td>\n",
              "    </tr>\n",
              "    <tr>\n",
              "      <th>844432</th>\n",
              "      <td>507160</td>\n",
              "      <td>558</td>\n",
              "      <td>7</td>\n",
              "      <td>2015-03-01</td>\n",
              "      <td>0</td>\n",
              "      <td>0</td>\n",
              "      <td>0</td>\n",
              "      <td>0</td>\n",
              "      <td>0</td>\n",
              "      <td>0</td>\n",
              "      <td>2015</td>\n",
              "      <td>3</td>\n",
              "      <td>a</td>\n",
              "      <td>a</td>\n",
              "      <td>3000.0</td>\n",
              "      <td>2.0</td>\n",
              "      <td>2010.0</td>\n",
              "      <td>0</td>\n",
              "      <td>0.0</td>\n",
              "      <td>0.0</td>\n",
              "      <td>0</td>\n",
              "      <td>2010-02-01</td>\n",
              "      <td>1909-01-01</td>\n",
              "      <td>1854</td>\n",
              "      <td>0</td>\n",
              "    </tr>\n",
              "  </tbody>\n",
              "</table>\n",
              "</div>"
            ],
            "text/plain": [
              "         index  Store  DayOfWeek  ... promoYearWeek  day_diff_comp  day_diff_promo\n",
              "844431    1094      2          7  ...    2010-04-04           2677            1792\n",
              "844432  507160    558          7  ...    1909-01-01           1854               0\n",
              "\n",
              "[2 rows x 25 columns]"
            ]
          },
          "metadata": {},
          "execution_count": 56
        }
      ]
    },
    {
      "cell_type": "code",
      "metadata": {
        "colab": {
          "base_uri": "https://localhost:8080/"
        },
        "id": "Bo8gs2tjPFlX",
        "outputId": "569307b8-54d6-4d0f-e0cc-10b1157ca261"
      },
      "source": [
        "170136/len(store_data_merged) ## 16 % of data to test"
      ],
      "execution_count": 57,
      "outputs": [
        {
          "output_type": "execute_result",
          "data": {
            "text/plain": [
              "0.16769321296671388"
            ]
          },
          "metadata": {},
          "execution_count": 57
        }
      ]
    },
    {
      "cell_type": "code",
      "metadata": {
        "colab": {
          "base_uri": "https://localhost:8080/"
        },
        "id": "a_NVlAFaQHmA",
        "outputId": "5eaa9841-d84c-49fb-ee5d-fe760c0c8a17"
      },
      "source": [
        "store_data_merged.columns"
      ],
      "execution_count": 58,
      "outputs": [
        {
          "output_type": "execute_result",
          "data": {
            "text/plain": [
              "Index(['index', 'Store', 'DayOfWeek', 'Date', 'Sales', 'Customers', 'Open',\n",
              "       'Promo', 'StateHoliday', 'SchoolHoliday', 'Year', 'Month', 'StoreType',\n",
              "       'Assortment', 'CompetitionDistance', 'CompetitionOpenSinceMonth',\n",
              "       'CompetitionOpenSinceYear', 'Promo2', 'Promo2SinceWeek',\n",
              "       'Promo2SinceYear', 'PromoInterval', 'CompetitionOpen', 'promoYearWeek',\n",
              "       'day_diff_comp', 'day_diff_promo'],\n",
              "      dtype='object')"
            ]
          },
          "metadata": {},
          "execution_count": 58
        }
      ]
    },
    {
      "cell_type": "code",
      "metadata": {
        "id": "5hDdDMnX_aZV"
      },
      "source": [
        "store_data_merged.drop(columns=['index','Date','CompetitionOpenSinceYear','CompetitionOpenSinceMonth','Promo2SinceWeek','Promo2SinceYear','PromoInterval','CompetitionOpen','promoYearWeek'],inplace=True)"
      ],
      "execution_count": 59,
      "outputs": []
    },
    {
      "cell_type": "code",
      "metadata": {
        "colab": {
          "base_uri": "https://localhost:8080/",
          "height": 226
        },
        "id": "6YRZJ8gz_aWE",
        "outputId": "af952601-ffe7-46e7-a0cd-9e20a51d30fe"
      },
      "source": [
        "#store_data.drop(columns='Date',inplace=True)\n",
        "store_data_merged.head()"
      ],
      "execution_count": 60,
      "outputs": [
        {
          "output_type": "execute_result",
          "data": {
            "text/html": [
              "<div>\n",
              "<style scoped>\n",
              "    .dataframe tbody tr th:only-of-type {\n",
              "        vertical-align: middle;\n",
              "    }\n",
              "\n",
              "    .dataframe tbody tr th {\n",
              "        vertical-align: top;\n",
              "    }\n",
              "\n",
              "    .dataframe thead th {\n",
              "        text-align: right;\n",
              "    }\n",
              "</style>\n",
              "<table border=\"1\" class=\"dataframe\">\n",
              "  <thead>\n",
              "    <tr style=\"text-align: right;\">\n",
              "      <th></th>\n",
              "      <th>Store</th>\n",
              "      <th>DayOfWeek</th>\n",
              "      <th>Sales</th>\n",
              "      <th>Customers</th>\n",
              "      <th>Open</th>\n",
              "      <th>Promo</th>\n",
              "      <th>StateHoliday</th>\n",
              "      <th>SchoolHoliday</th>\n",
              "      <th>Year</th>\n",
              "      <th>Month</th>\n",
              "      <th>StoreType</th>\n",
              "      <th>Assortment</th>\n",
              "      <th>CompetitionDistance</th>\n",
              "      <th>Promo2</th>\n",
              "      <th>day_diff_comp</th>\n",
              "      <th>day_diff_promo</th>\n",
              "    </tr>\n",
              "  </thead>\n",
              "  <tbody>\n",
              "    <tr>\n",
              "      <th>0</th>\n",
              "      <td>1115</td>\n",
              "      <td>2</td>\n",
              "      <td>0</td>\n",
              "      <td>0</td>\n",
              "      <td>0</td>\n",
              "      <td>0</td>\n",
              "      <td>a</td>\n",
              "      <td>1</td>\n",
              "      <td>2013</td>\n",
              "      <td>1</td>\n",
              "      <td>d</td>\n",
              "      <td>c</td>\n",
              "      <td>5350.0</td>\n",
              "      <td>1</td>\n",
              "      <td>0</td>\n",
              "      <td>212</td>\n",
              "    </tr>\n",
              "    <tr>\n",
              "      <th>1</th>\n",
              "      <td>504</td>\n",
              "      <td>2</td>\n",
              "      <td>0</td>\n",
              "      <td>0</td>\n",
              "      <td>0</td>\n",
              "      <td>0</td>\n",
              "      <td>a</td>\n",
              "      <td>1</td>\n",
              "      <td>2013</td>\n",
              "      <td>1</td>\n",
              "      <td>c</td>\n",
              "      <td>c</td>\n",
              "      <td>820.0</td>\n",
              "      <td>0</td>\n",
              "      <td>0</td>\n",
              "      <td>0</td>\n",
              "    </tr>\n",
              "    <tr>\n",
              "      <th>2</th>\n",
              "      <td>1016</td>\n",
              "      <td>2</td>\n",
              "      <td>0</td>\n",
              "      <td>0</td>\n",
              "      <td>0</td>\n",
              "      <td>0</td>\n",
              "      <td>a</td>\n",
              "      <td>1</td>\n",
              "      <td>2013</td>\n",
              "      <td>1</td>\n",
              "      <td>c</td>\n",
              "      <td>c</td>\n",
              "      <td>550.0</td>\n",
              "      <td>1</td>\n",
              "      <td>0</td>\n",
              "      <td>849</td>\n",
              "    </tr>\n",
              "    <tr>\n",
              "      <th>3</th>\n",
              "      <td>243</td>\n",
              "      <td>2</td>\n",
              "      <td>0</td>\n",
              "      <td>0</td>\n",
              "      <td>0</td>\n",
              "      <td>0</td>\n",
              "      <td>a</td>\n",
              "      <td>1</td>\n",
              "      <td>2013</td>\n",
              "      <td>1</td>\n",
              "      <td>a</td>\n",
              "      <td>a</td>\n",
              "      <td>310.0</td>\n",
              "      <td>1</td>\n",
              "      <td>0</td>\n",
              "      <td>-40</td>\n",
              "    </tr>\n",
              "    <tr>\n",
              "      <th>4</th>\n",
              "      <td>3</td>\n",
              "      <td>2</td>\n",
              "      <td>0</td>\n",
              "      <td>0</td>\n",
              "      <td>0</td>\n",
              "      <td>0</td>\n",
              "      <td>a</td>\n",
              "      <td>1</td>\n",
              "      <td>2013</td>\n",
              "      <td>1</td>\n",
              "      <td>a</td>\n",
              "      <td>a</td>\n",
              "      <td>14130.0</td>\n",
              "      <td>1</td>\n",
              "      <td>2223</td>\n",
              "      <td>632</td>\n",
              "    </tr>\n",
              "  </tbody>\n",
              "</table>\n",
              "</div>"
            ],
            "text/plain": [
              "   Store  DayOfWeek  Sales  ...  Promo2  day_diff_comp  day_diff_promo\n",
              "0   1115          2      0  ...       1              0             212\n",
              "1    504          2      0  ...       0              0               0\n",
              "2   1016          2      0  ...       1              0             849\n",
              "3    243          2      0  ...       1              0             -40\n",
              "4      3          2      0  ...       1           2223             632\n",
              "\n",
              "[5 rows x 16 columns]"
            ]
          },
          "metadata": {},
          "execution_count": 60
        }
      ]
    },
    {
      "cell_type": "code",
      "metadata": {
        "id": "2EutY3SO_aTN",
        "colab": {
          "base_uri": "https://localhost:8080/"
        },
        "outputId": "74ead938-e8f1-4667-fa5b-6eba09a003ed"
      },
      "source": [
        "store_data_merged.info()"
      ],
      "execution_count": 61,
      "outputs": [
        {
          "output_type": "stream",
          "name": "stdout",
          "text": [
            "<class 'pandas.core.frame.DataFrame'>\n",
            "RangeIndex: 1014567 entries, 0 to 1014566\n",
            "Data columns (total 16 columns):\n",
            " #   Column               Non-Null Count    Dtype  \n",
            "---  ------               --------------    -----  \n",
            " 0   Store                1014567 non-null  int64  \n",
            " 1   DayOfWeek            1014567 non-null  int64  \n",
            " 2   Sales                1014567 non-null  int64  \n",
            " 3   Customers            1014567 non-null  int64  \n",
            " 4   Open                 1014567 non-null  int64  \n",
            " 5   Promo                1014567 non-null  int64  \n",
            " 6   StateHoliday         1014567 non-null  object \n",
            " 7   SchoolHoliday        1014567 non-null  int64  \n",
            " 8   Year                 1014567 non-null  int64  \n",
            " 9   Month                1014567 non-null  int64  \n",
            " 10  StoreType            1014567 non-null  object \n",
            " 11  Assortment           1014567 non-null  object \n",
            " 12  CompetitionDistance  1014567 non-null  float64\n",
            " 13  Promo2               1014567 non-null  int64  \n",
            " 14  day_diff_comp        1014567 non-null  int64  \n",
            " 15  day_diff_promo       1014567 non-null  int64  \n",
            "dtypes: float64(1), int64(12), object(3)\n",
            "memory usage: 123.8+ MB\n"
          ]
        }
      ]
    },
    {
      "cell_type": "code",
      "metadata": {
        "id": "DjZr7By-CddJ"
      },
      "source": [
        "## Convert datatype of CompetitionDistance from \n",
        "store_data_merged['CompetitionDistance']=store_data_merged['CompetitionDistance'].astype(int)"
      ],
      "execution_count": 62,
      "outputs": []
    },
    {
      "cell_type": "code",
      "metadata": {
        "id": "dXN7o86qp5Yx"
      },
      "source": [
        "## Encoding Assortment with numerical values\n",
        "store_data_merged['Assortment']=store_data_merged['Assortment'].apply(lambda x: 1 if x=='a' else (2 if x=='b' else 3))"
      ],
      "execution_count": 63,
      "outputs": []
    },
    {
      "cell_type": "code",
      "metadata": {
        "id": "27ks5IG-p5VV"
      },
      "source": [
        "## Create Dummy variables for object type data\n",
        "store_data_final=pd.get_dummies(store_data_merged,drop_first=True)"
      ],
      "execution_count": 64,
      "outputs": []
    },
    {
      "cell_type": "code",
      "metadata": {
        "colab": {
          "base_uri": "https://localhost:8080/"
        },
        "id": "-_BLHL5Xp5S2",
        "outputId": "d432cae9-d1f0-4d4b-bde1-76f5bb51468b"
      },
      "source": [
        "## Check presence of null in data\n",
        "store_data_final.isna().sum().sum()\n"
      ],
      "execution_count": 65,
      "outputs": [
        {
          "output_type": "execute_result",
          "data": {
            "text/plain": [
              "0"
            ]
          },
          "metadata": {},
          "execution_count": 65
        }
      ]
    },
    {
      "cell_type": "code",
      "metadata": {
        "id": "Y5YSrPvsrf6j"
      },
      "source": [
        "############ Final Data store_data_final"
      ],
      "execution_count": 66,
      "outputs": []
    },
    {
      "cell_type": "code",
      "metadata": {
        "id": "RUUFBWAjlMtC"
      },
      "source": [
        "## Import libraries for Lin Reg\n",
        "#from sklearn.model_selection import train_test_split\n",
        "from sklearn.linear_model import LinearRegression\n",
        "from sklearn.metrics import r2_score\n",
        "from sklearn.metrics import mean_squared_error\n",
        "from sklearn.preprocessing import StandardScaler"
      ],
      "execution_count": 67,
      "outputs": []
    },
    {
      "cell_type": "code",
      "metadata": {
        "id": "dBOclgl-CI2f"
      },
      "source": [
        "## Divide data into train and test\n",
        "## Index based split to test sales for last few months instead of selecting randomly from dataset\n",
        "store_data_train=store_data_final.iloc[0:844431]\n",
        "store_data_test=store_data_final.iloc[844431:]"
      ],
      "execution_count": 68,
      "outputs": []
    },
    {
      "cell_type": "code",
      "metadata": {
        "id": "5hSA1wC3rfwm"
      },
      "source": [
        ""
      ],
      "execution_count": 68,
      "outputs": []
    },
    {
      "cell_type": "code",
      "metadata": {
        "colab": {
          "base_uri": "https://localhost:8080/"
        },
        "id": "i4ag46gkTQSQ",
        "outputId": "fe546f96-21ca-48be-a468-bb3aeabeb427"
      },
      "source": [
        "store_data_train.info()"
      ],
      "execution_count": 69,
      "outputs": [
        {
          "output_type": "stream",
          "name": "stdout",
          "text": [
            "<class 'pandas.core.frame.DataFrame'>\n",
            "RangeIndex: 844431 entries, 0 to 844430\n",
            "Data columns (total 21 columns):\n",
            " #   Column               Non-Null Count   Dtype\n",
            "---  ------               --------------   -----\n",
            " 0   Store                844431 non-null  int64\n",
            " 1   DayOfWeek            844431 non-null  int64\n",
            " 2   Sales                844431 non-null  int64\n",
            " 3   Customers            844431 non-null  int64\n",
            " 4   Open                 844431 non-null  int64\n",
            " 5   Promo                844431 non-null  int64\n",
            " 6   SchoolHoliday        844431 non-null  int64\n",
            " 7   Year                 844431 non-null  int64\n",
            " 8   Month                844431 non-null  int64\n",
            " 9   Assortment           844431 non-null  int64\n",
            " 10  CompetitionDistance  844431 non-null  int64\n",
            " 11  Promo2               844431 non-null  int64\n",
            " 12  day_diff_comp        844431 non-null  int64\n",
            " 13  day_diff_promo       844431 non-null  int64\n",
            " 14  StateHoliday_0       844431 non-null  uint8\n",
            " 15  StateHoliday_a       844431 non-null  uint8\n",
            " 16  StateHoliday_b       844431 non-null  uint8\n",
            " 17  StateHoliday_c       844431 non-null  uint8\n",
            " 18  StoreType_b          844431 non-null  uint8\n",
            " 19  StoreType_c          844431 non-null  uint8\n",
            " 20  StoreType_d          844431 non-null  uint8\n",
            "dtypes: int64(14), uint8(7)\n",
            "memory usage: 95.8 MB\n"
          ]
        }
      ]
    },
    {
      "cell_type": "code",
      "metadata": {
        "id": "I8hxctNKrftf"
      },
      "source": [
        "## Separating the target variable from both train and test dataset and converting the dataframe into numpy array.\n",
        "X_train=store_data_train.drop('Sales',axis=1).to_numpy()\n",
        "y_train=store_data_train['Sales'].to_numpy()\n",
        "\n",
        "X_test=store_data_test.drop('Sales',axis=1).to_numpy()\n",
        "y_test=store_data_test['Sales'].to_numpy()"
      ],
      "execution_count": 70,
      "outputs": []
    },
    {
      "cell_type": "code",
      "metadata": {
        "id": "K6MqfJLyTsHx"
      },
      "source": [
        "## Standardisation of data so that it can be used for regression model\n",
        "scaler = StandardScaler()\n",
        "X_train = scaler.fit_transform(X_train)\n",
        "## Using the paarmeters from Standard scaler to transform test dataset\n",
        "X_test = scaler.transform(X_test)"
      ],
      "execution_count": 71,
      "outputs": []
    },
    {
      "cell_type": "code",
      "metadata": {
        "colab": {
          "base_uri": "https://localhost:8080/"
        },
        "id": "yVwwCCyLSLeP",
        "outputId": "af0d3f65-5d10-4e0e-a382-fbbf1b762a8c"
      },
      "source": [
        "## Test using a simple regression model\n",
        "regressor = LinearRegression()\n",
        "regressor.fit(X_train, y_train)\n",
        "\n",
        "## fit_intercept=False increases the mse value, so fitting the intercept"
      ],
      "execution_count": 72,
      "outputs": [
        {
          "output_type": "execute_result",
          "data": {
            "text/plain": [
              "LinearRegression(copy_X=True, fit_intercept=True, n_jobs=None, normalize=False)"
            ]
          },
          "metadata": {},
          "execution_count": 72
        }
      ]
    },
    {
      "cell_type": "code",
      "metadata": {
        "colab": {
          "base_uri": "https://localhost:8080/"
        },
        "id": "5zlG6Rp1SLaz",
        "outputId": "880827b7-f86b-4e8b-f49b-20249999c122"
      },
      "source": [
        "print(regressor.intercept_)\n",
        "reg_coeff=list(regressor.coef_)\n",
        "print(reg_coeff)"
      ],
      "execution_count": 107,
      "outputs": [
        {
          "output_type": "stream",
          "name": "stdout",
          "text": [
            "5744.562405927788\n",
            "[-31.113566322243198, -91.81665542652036, 3363.7189288720515, 313.75099821730777, 532.6478225882972, 8.37836543748814, 58.43175774102239, 93.87375663651095, 114.94225966407173, 156.66289090306645, 51.23958457044431, 24.37114657613878, 87.51967273555034, 52.08548683910408, -56.555296144907665, -40.19459922829313, -10.518521584931504, -648.3731216611625, -42.87492306651234, 420.7394050485927]\n"
          ]
        }
      ]
    },
    {
      "cell_type": "code",
      "metadata": {
        "id": "3cNzB6hccJlb"
      },
      "source": [
        "# Predict the Train data using model parameters\n",
        "y_pred_train = regressor.predict(X_train)"
      ],
      "execution_count": 74,
      "outputs": []
    },
    {
      "cell_type": "code",
      "metadata": {
        "id": "q8QvumEISLYA"
      },
      "source": [
        "# Predict the Test data\n",
        "y_pred = regressor.predict(X_test)"
      ],
      "execution_count": 75,
      "outputs": []
    },
    {
      "cell_type": "code",
      "metadata": {
        "colab": {
          "base_uri": "https://localhost:8080/"
        },
        "id": "pQGERuH2ZwaB",
        "outputId": "65ab6881-11af-415c-b0ae-2462bd7f4ccc"
      },
      "source": [
        "mean_squared_error(y_test, y_pred) ##1690521.112153421"
      ],
      "execution_count": 76,
      "outputs": [
        {
          "output_type": "execute_result",
          "data": {
            "text/plain": [
              "1690521.112153421"
            ]
          },
          "metadata": {},
          "execution_count": 76
        }
      ]
    },
    {
      "cell_type": "code",
      "metadata": {
        "colab": {
          "base_uri": "https://localhost:8080/"
        },
        "id": "mXGO28ZEcXk7",
        "outputId": "c6daee45-5389-4422-8529-58c47b0775ef"
      },
      "source": [
        "# Train data performance\n",
        "print(\"Mean Square error for training dataset: {:.2f}\".format(math.sqrt(mean_squared_error(y_train, y_pred_train))))\n",
        "# Test data performance\n",
        "print(\"Mean Square error for test dataset: {:.2f}\".format(math.sqrt(mean_squared_error(y_test, y_pred))))"
      ],
      "execution_count": 77,
      "outputs": [
        {
          "output_type": "stream",
          "name": "stdout",
          "text": [
            "Mean Square error for training dataset: 1231.21\n",
            "Mean Square error for test dataset: 1300.20\n"
          ]
        }
      ]
    },
    {
      "cell_type": "code",
      "metadata": {
        "colab": {
          "base_uri": "https://localhost:8080/"
        },
        "id": "CSOfZ6PWcmFa",
        "outputId": "e086ccb2-6de0-4e41-fc47-dd4ad3ed6f68"
      },
      "source": [
        "## calculate R-square Score for train dataset\n",
        "print(\"R2 Score for train dataset: {:.4f}\".format(r2_score(y_train, y_pred_train)))"
      ],
      "execution_count": 78,
      "outputs": [
        {
          "output_type": "stream",
          "name": "stdout",
          "text": [
            "R2 Score for train dataset: 0.8968\n"
          ]
        }
      ]
    },
    {
      "cell_type": "code",
      "metadata": {
        "colab": {
          "base_uri": "https://localhost:8080/"
        },
        "id": "cSF2g3uQcmCD",
        "outputId": "6383532d-488c-4e8b-ecf9-1141c31d3af1"
      },
      "source": [
        "## calculate R-square Score for test dataset\n",
        "r2=r2_score(y_test, y_pred)\n",
        "print(\"R2 Score for test dataset: {:.4f}\".format(r2))\n",
        "## Adjusted R square\n",
        "print(\"Adjusted R-square value for test dataset : {:.4f}\".format(1-(1-r2)*((X_test.shape[0]-1)/(X_test.shape[0]-X_test.shape[1]-1))))"
      ],
      "execution_count": 79,
      "outputs": [
        {
          "output_type": "stream",
          "name": "stdout",
          "text": [
            "R2 Score for test dataset: 0.8910\n",
            "Adjusted R-square value for test dataset : 0.8910\n"
          ]
        }
      ]
    },
    {
      "cell_type": "code",
      "metadata": {
        "colab": {
          "base_uri": "https://localhost:8080/",
          "height": 423
        },
        "id": "BM5G5VuoZwWo",
        "outputId": "8df6f439-1549-4624-f5af-2d2673086565"
      },
      "source": [
        "# Looking at the Test and predicted data side by side\n",
        "#pd.DataFrame({'Test': y_test, 'Pred': y_pred})\n"
      ],
      "execution_count": 80,
      "outputs": [
        {
          "output_type": "execute_result",
          "data": {
            "text/html": [
              "<div>\n",
              "<style scoped>\n",
              "    .dataframe tbody tr th:only-of-type {\n",
              "        vertical-align: middle;\n",
              "    }\n",
              "\n",
              "    .dataframe tbody tr th {\n",
              "        vertical-align: top;\n",
              "    }\n",
              "\n",
              "    .dataframe thead th {\n",
              "        text-align: right;\n",
              "    }\n",
              "</style>\n",
              "<table border=\"1\" class=\"dataframe\">\n",
              "  <thead>\n",
              "    <tr style=\"text-align: right;\">\n",
              "      <th></th>\n",
              "      <th>Test</th>\n",
              "      <th>Pred</th>\n",
              "    </tr>\n",
              "  </thead>\n",
              "  <tbody>\n",
              "    <tr>\n",
              "      <th>0</th>\n",
              "      <td>0</td>\n",
              "      <td>-49.687963</td>\n",
              "    </tr>\n",
              "    <tr>\n",
              "      <th>1</th>\n",
              "      <td>0</td>\n",
              "      <td>-446.808594</td>\n",
              "    </tr>\n",
              "    <tr>\n",
              "      <th>2</th>\n",
              "      <td>0</td>\n",
              "      <td>686.564711</td>\n",
              "    </tr>\n",
              "    <tr>\n",
              "      <th>3</th>\n",
              "      <td>0</td>\n",
              "      <td>-660.734873</td>\n",
              "    </tr>\n",
              "    <tr>\n",
              "      <th>4</th>\n",
              "      <td>0</td>\n",
              "      <td>64.253116</td>\n",
              "    </tr>\n",
              "    <tr>\n",
              "      <th>...</th>\n",
              "      <td>...</td>\n",
              "      <td>...</td>\n",
              "    </tr>\n",
              "    <tr>\n",
              "      <th>170131</th>\n",
              "      <td>6990</td>\n",
              "      <td>8271.943690</td>\n",
              "    </tr>\n",
              "    <tr>\n",
              "      <th>170132</th>\n",
              "      <td>8603</td>\n",
              "      <td>6721.062657</td>\n",
              "    </tr>\n",
              "    <tr>\n",
              "      <th>170133</th>\n",
              "      <td>8363</td>\n",
              "      <td>7802.382785</td>\n",
              "    </tr>\n",
              "    <tr>\n",
              "      <th>170134</th>\n",
              "      <td>6117</td>\n",
              "      <td>6012.769233</td>\n",
              "    </tr>\n",
              "    <tr>\n",
              "      <th>170135</th>\n",
              "      <td>5263</td>\n",
              "      <td>5622.108014</td>\n",
              "    </tr>\n",
              "  </tbody>\n",
              "</table>\n",
              "<p>170136 rows × 2 columns</p>\n",
              "</div>"
            ],
            "text/plain": [
              "        Test         Pred\n",
              "0          0   -49.687963\n",
              "1          0  -446.808594\n",
              "2          0   686.564711\n",
              "3          0  -660.734873\n",
              "4          0    64.253116\n",
              "...      ...          ...\n",
              "170131  6990  8271.943690\n",
              "170132  8603  6721.062657\n",
              "170133  8363  7802.382785\n",
              "170134  6117  6012.769233\n",
              "170135  5263  5622.108014\n",
              "\n",
              "[170136 rows x 2 columns]"
            ]
          },
          "metadata": {},
          "execution_count": 80
        }
      ]
    },
    {
      "cell_type": "code",
      "metadata": {
        "id": "YwMa8nRiQ51k"
      },
      "source": [
        ""
      ],
      "execution_count": 80,
      "outputs": []
    },
    {
      "cell_type": "code",
      "metadata": {
        "id": "LuES1ZlxJqdb"
      },
      "source": [
        "from sklearn.feature_selection import RFE\n",
        "from sklearn.model_selection import cross_val_score\n",
        "from sklearn.model_selection import KFold\n",
        "\n",
        "from sklearn.model_selection import GridSearchCV"
      ],
      "execution_count": 81,
      "outputs": []
    },
    {
      "cell_type": "code",
      "metadata": {
        "colab": {
          "base_uri": "https://localhost:8080/"
        },
        "id": "sJombw0xJqaI",
        "outputId": "bdcc8166-ab11-4289-9dd6-2e402d2b844f"
      },
      "source": [
        "lm = LinearRegression()\n",
        "# create a KFold object with 5 splits \n",
        "folds = KFold(n_splits = 7, shuffle = True, random_state = 100)\n",
        "scores = cross_val_score(lm, X_train, y_train, scoring='r2', cv=folds)\n",
        "for i,j in enumerate(scores):\n",
        "  print(\"R-square value after {} iteration: {:.4f}\".format(i+1,j))\n"
      ],
      "execution_count": 82,
      "outputs": [
        {
          "output_type": "stream",
          "name": "stdout",
          "text": [
            "R-square value after 1 iteration: 0.8952\n",
            "R-square value after 2 iteration: 0.8969\n",
            "R-square value after 3 iteration: 0.8979\n",
            "R-square value after 4 iteration: 0.8988\n",
            "R-square value after 5 iteration: 0.8976\n",
            "R-square value after 6 iteration: 0.8954\n",
            "R-square value after 7 iteration: 0.8958\n"
          ]
        }
      ]
    },
    {
      "cell_type": "code",
      "metadata": {
        "colab": {
          "base_uri": "https://localhost:8080/"
        },
        "id": "MgxCjILzFAnu",
        "outputId": "509506f3-ebe4-4077-af4e-8e08cc905128"
      },
      "source": [
        "## We put the KFold with RFE, with number of features as hyper parameter to find optimal no of features and corresponding R-square \n",
        "# Define a cross-validation parameters\n",
        "folds = KFold(n_splits = 5, shuffle = True, random_state = 150)\n",
        "\n",
        "# Specify range of number of parameters to tune\n",
        "hyper_params = [{'n_features_to_select': list(range(10, 20))}]\n",
        "\n",
        "\n",
        "# Perform grid search using Linear regressor\n",
        "regressor = LinearRegression()\n",
        "regressor.fit(X_train, y_train)\n",
        "rfe = RFE(regressor)             \n",
        "\n",
        "model = GridSearchCV(estimator = rfe, \n",
        "                        param_grid = hyper_params, \n",
        "                        scoring= 'r2', \n",
        "                        cv = folds, \n",
        "                        verbose = 1,\n",
        "                        return_train_score=True)      \n",
        "\n",
        "# fit the model\n",
        "model.fit(X_train, y_train) "
      ],
      "execution_count": 83,
      "outputs": [
        {
          "output_type": "stream",
          "name": "stdout",
          "text": [
            "Fitting 5 folds for each of 10 candidates, totalling 50 fits\n"
          ]
        },
        {
          "output_type": "stream",
          "name": "stderr",
          "text": [
            "[Parallel(n_jobs=1)]: Using backend SequentialBackend with 1 concurrent workers.\n",
            "[Parallel(n_jobs=1)]: Done  50 out of  50 | elapsed:  3.1min finished\n"
          ]
        },
        {
          "output_type": "execute_result",
          "data": {
            "text/plain": [
              "GridSearchCV(cv=KFold(n_splits=5, random_state=150, shuffle=True),\n",
              "             error_score=nan,\n",
              "             estimator=RFE(estimator=LinearRegression(copy_X=True,\n",
              "                                                      fit_intercept=True,\n",
              "                                                      n_jobs=None,\n",
              "                                                      normalize=False),\n",
              "                           n_features_to_select=None, step=1, verbose=0),\n",
              "             iid='deprecated', n_jobs=None,\n",
              "             param_grid=[{'n_features_to_select': [10, 11, 12, 13, 14, 15, 16,\n",
              "                                                   17, 18, 19]}],\n",
              "             pre_dispatch='2*n_jobs', refit=True, return_train_score=True,\n",
              "             scoring='r2', verbose=1)"
            ]
          },
          "metadata": {},
          "execution_count": 83
        }
      ]
    },
    {
      "cell_type": "code",
      "metadata": {
        "colab": {
          "base_uri": "https://localhost:8080/",
          "height": 556
        },
        "id": "hRddDwj7FAkR",
        "outputId": "c045ca8c-b49c-45a5-9674-cc2661e2a2c0"
      },
      "source": [
        "# Crossvalidation results\n",
        "cv_results = pd.DataFrame(model.cv_results_)\n",
        "cv_results"
      ],
      "execution_count": 84,
      "outputs": [
        {
          "output_type": "execute_result",
          "data": {
            "text/html": [
              "<div>\n",
              "<style scoped>\n",
              "    .dataframe tbody tr th:only-of-type {\n",
              "        vertical-align: middle;\n",
              "    }\n",
              "\n",
              "    .dataframe tbody tr th {\n",
              "        vertical-align: top;\n",
              "    }\n",
              "\n",
              "    .dataframe thead th {\n",
              "        text-align: right;\n",
              "    }\n",
              "</style>\n",
              "<table border=\"1\" class=\"dataframe\">\n",
              "  <thead>\n",
              "    <tr style=\"text-align: right;\">\n",
              "      <th></th>\n",
              "      <th>mean_fit_time</th>\n",
              "      <th>std_fit_time</th>\n",
              "      <th>mean_score_time</th>\n",
              "      <th>std_score_time</th>\n",
              "      <th>param_n_features_to_select</th>\n",
              "      <th>params</th>\n",
              "      <th>split0_test_score</th>\n",
              "      <th>split1_test_score</th>\n",
              "      <th>split2_test_score</th>\n",
              "      <th>split3_test_score</th>\n",
              "      <th>split4_test_score</th>\n",
              "      <th>mean_test_score</th>\n",
              "      <th>std_test_score</th>\n",
              "      <th>rank_test_score</th>\n",
              "      <th>split0_train_score</th>\n",
              "      <th>split1_train_score</th>\n",
              "      <th>split2_train_score</th>\n",
              "      <th>split3_train_score</th>\n",
              "      <th>split4_train_score</th>\n",
              "      <th>mean_train_score</th>\n",
              "      <th>std_train_score</th>\n",
              "    </tr>\n",
              "  </thead>\n",
              "  <tbody>\n",
              "    <tr>\n",
              "      <th>0</th>\n",
              "      <td>5.403494</td>\n",
              "      <td>0.213605</td>\n",
              "      <td>0.033931</td>\n",
              "      <td>0.003958</td>\n",
              "      <td>10</td>\n",
              "      <td>{'n_features_to_select': 10}</td>\n",
              "      <td>0.896521</td>\n",
              "      <td>0.895942</td>\n",
              "      <td>0.894302</td>\n",
              "      <td>0.895546</td>\n",
              "      <td>0.896715</td>\n",
              "      <td>0.895805</td>\n",
              "      <td>0.000858</td>\n",
              "      <td>10</td>\n",
              "      <td>0.895630</td>\n",
              "      <td>0.895776</td>\n",
              "      <td>0.896186</td>\n",
              "      <td>0.895875</td>\n",
              "      <td>0.895583</td>\n",
              "      <td>0.895810</td>\n",
              "      <td>0.000215</td>\n",
              "    </tr>\n",
              "    <tr>\n",
              "      <th>1</th>\n",
              "      <td>4.933439</td>\n",
              "      <td>0.021001</td>\n",
              "      <td>0.034122</td>\n",
              "      <td>0.001272</td>\n",
              "      <td>11</td>\n",
              "      <td>{'n_features_to_select': 11}</td>\n",
              "      <td>0.896755</td>\n",
              "      <td>0.896171</td>\n",
              "      <td>0.894513</td>\n",
              "      <td>0.895780</td>\n",
              "      <td>0.896918</td>\n",
              "      <td>0.896028</td>\n",
              "      <td>0.000860</td>\n",
              "      <td>9</td>\n",
              "      <td>0.895850</td>\n",
              "      <td>0.895997</td>\n",
              "      <td>0.896412</td>\n",
              "      <td>0.896095</td>\n",
              "      <td>0.895810</td>\n",
              "      <td>0.896033</td>\n",
              "      <td>0.000215</td>\n",
              "    </tr>\n",
              "    <tr>\n",
              "      <th>2</th>\n",
              "      <td>4.569105</td>\n",
              "      <td>0.032078</td>\n",
              "      <td>0.038862</td>\n",
              "      <td>0.002374</td>\n",
              "      <td>12</td>\n",
              "      <td>{'n_features_to_select': 12}</td>\n",
              "      <td>0.896962</td>\n",
              "      <td>0.896387</td>\n",
              "      <td>0.894689</td>\n",
              "      <td>0.895937</td>\n",
              "      <td>0.897156</td>\n",
              "      <td>0.896226</td>\n",
              "      <td>0.000881</td>\n",
              "      <td>8</td>\n",
              "      <td>0.896047</td>\n",
              "      <td>0.896192</td>\n",
              "      <td>0.896617</td>\n",
              "      <td>0.896304</td>\n",
              "      <td>0.896000</td>\n",
              "      <td>0.896232</td>\n",
              "      <td>0.000220</td>\n",
              "    </tr>\n",
              "    <tr>\n",
              "      <th>3</th>\n",
              "      <td>4.191706</td>\n",
              "      <td>0.022462</td>\n",
              "      <td>0.041711</td>\n",
              "      <td>0.004661</td>\n",
              "      <td>13</td>\n",
              "      <td>{'n_features_to_select': 13}</td>\n",
              "      <td>0.897072</td>\n",
              "      <td>0.896486</td>\n",
              "      <td>0.894802</td>\n",
              "      <td>0.896045</td>\n",
              "      <td>0.897271</td>\n",
              "      <td>0.896335</td>\n",
              "      <td>0.000880</td>\n",
              "      <td>7</td>\n",
              "      <td>0.896156</td>\n",
              "      <td>0.896304</td>\n",
              "      <td>0.896725</td>\n",
              "      <td>0.896414</td>\n",
              "      <td>0.896107</td>\n",
              "      <td>0.896341</td>\n",
              "      <td>0.000220</td>\n",
              "    </tr>\n",
              "    <tr>\n",
              "      <th>4</th>\n",
              "      <td>3.803572</td>\n",
              "      <td>0.013449</td>\n",
              "      <td>0.037894</td>\n",
              "      <td>0.002058</td>\n",
              "      <td>14</td>\n",
              "      <td>{'n_features_to_select': 14}</td>\n",
              "      <td>0.897173</td>\n",
              "      <td>0.896624</td>\n",
              "      <td>0.894957</td>\n",
              "      <td>0.896181</td>\n",
              "      <td>0.897393</td>\n",
              "      <td>0.896466</td>\n",
              "      <td>0.000865</td>\n",
              "      <td>6</td>\n",
              "      <td>0.896294</td>\n",
              "      <td>0.896433</td>\n",
              "      <td>0.896849</td>\n",
              "      <td>0.896543</td>\n",
              "      <td>0.896240</td>\n",
              "      <td>0.896472</td>\n",
              "      <td>0.000216</td>\n",
              "    </tr>\n",
              "    <tr>\n",
              "      <th>5</th>\n",
              "      <td>3.377979</td>\n",
              "      <td>0.028700</td>\n",
              "      <td>0.045573</td>\n",
              "      <td>0.007882</td>\n",
              "      <td>15</td>\n",
              "      <td>{'n_features_to_select': 15}</td>\n",
              "      <td>0.897297</td>\n",
              "      <td>0.896756</td>\n",
              "      <td>0.895063</td>\n",
              "      <td>0.896300</td>\n",
              "      <td>0.897510</td>\n",
              "      <td>0.896585</td>\n",
              "      <td>0.000871</td>\n",
              "      <td>5</td>\n",
              "      <td>0.896413</td>\n",
              "      <td>0.896549</td>\n",
              "      <td>0.896972</td>\n",
              "      <td>0.896663</td>\n",
              "      <td>0.896361</td>\n",
              "      <td>0.896591</td>\n",
              "      <td>0.000218</td>\n",
              "    </tr>\n",
              "    <tr>\n",
              "      <th>6</th>\n",
              "      <td>2.902165</td>\n",
              "      <td>0.017715</td>\n",
              "      <td>0.045320</td>\n",
              "      <td>0.002858</td>\n",
              "      <td>16</td>\n",
              "      <td>{'n_features_to_select': 16}</td>\n",
              "      <td>0.897384</td>\n",
              "      <td>0.896851</td>\n",
              "      <td>0.895161</td>\n",
              "      <td>0.896390</td>\n",
              "      <td>0.897599</td>\n",
              "      <td>0.896677</td>\n",
              "      <td>0.000867</td>\n",
              "      <td>4</td>\n",
              "      <td>0.896506</td>\n",
              "      <td>0.896640</td>\n",
              "      <td>0.897063</td>\n",
              "      <td>0.896755</td>\n",
              "      <td>0.896453</td>\n",
              "      <td>0.896684</td>\n",
              "      <td>0.000217</td>\n",
              "    </tr>\n",
              "    <tr>\n",
              "      <th>7</th>\n",
              "      <td>2.426398</td>\n",
              "      <td>0.025871</td>\n",
              "      <td>0.051047</td>\n",
              "      <td>0.004950</td>\n",
              "      <td>17</td>\n",
              "      <td>{'n_features_to_select': 17}</td>\n",
              "      <td>0.897465</td>\n",
              "      <td>0.896906</td>\n",
              "      <td>0.895220</td>\n",
              "      <td>0.896464</td>\n",
              "      <td>0.897657</td>\n",
              "      <td>0.896743</td>\n",
              "      <td>0.000870</td>\n",
              "      <td>3</td>\n",
              "      <td>0.896568</td>\n",
              "      <td>0.896709</td>\n",
              "      <td>0.897130</td>\n",
              "      <td>0.896819</td>\n",
              "      <td>0.896521</td>\n",
              "      <td>0.896749</td>\n",
              "      <td>0.000218</td>\n",
              "    </tr>\n",
              "    <tr>\n",
              "      <th>8</th>\n",
              "      <td>1.881391</td>\n",
              "      <td>0.017584</td>\n",
              "      <td>0.045163</td>\n",
              "      <td>0.001968</td>\n",
              "      <td>18</td>\n",
              "      <td>{'n_features_to_select': 18}</td>\n",
              "      <td>0.897510</td>\n",
              "      <td>0.896953</td>\n",
              "      <td>0.895264</td>\n",
              "      <td>0.896501</td>\n",
              "      <td>0.897682</td>\n",
              "      <td>0.896782</td>\n",
              "      <td>0.000866</td>\n",
              "      <td>2</td>\n",
              "      <td>0.896606</td>\n",
              "      <td>0.896746</td>\n",
              "      <td>0.897169</td>\n",
              "      <td>0.896859</td>\n",
              "      <td>0.896564</td>\n",
              "      <td>0.896789</td>\n",
              "      <td>0.000217</td>\n",
              "    </tr>\n",
              "    <tr>\n",
              "      <th>9</th>\n",
              "      <td>1.318620</td>\n",
              "      <td>0.007277</td>\n",
              "      <td>0.053263</td>\n",
              "      <td>0.004677</td>\n",
              "      <td>19</td>\n",
              "      <td>{'n_features_to_select': 19}</td>\n",
              "      <td>0.897515</td>\n",
              "      <td>0.896956</td>\n",
              "      <td>0.895272</td>\n",
              "      <td>0.896507</td>\n",
              "      <td>0.897687</td>\n",
              "      <td>0.896787</td>\n",
              "      <td>0.000865</td>\n",
              "      <td>1</td>\n",
              "      <td>0.896612</td>\n",
              "      <td>0.896753</td>\n",
              "      <td>0.897174</td>\n",
              "      <td>0.896865</td>\n",
              "      <td>0.896570</td>\n",
              "      <td>0.896794</td>\n",
              "      <td>0.000217</td>\n",
              "    </tr>\n",
              "  </tbody>\n",
              "</table>\n",
              "</div>"
            ],
            "text/plain": [
              "   mean_fit_time  std_fit_time  ...  mean_train_score  std_train_score\n",
              "0       5.403494      0.213605  ...          0.895810         0.000215\n",
              "1       4.933439      0.021001  ...          0.896033         0.000215\n",
              "2       4.569105      0.032078  ...          0.896232         0.000220\n",
              "3       4.191706      0.022462  ...          0.896341         0.000220\n",
              "4       3.803572      0.013449  ...          0.896472         0.000216\n",
              "5       3.377979      0.028700  ...          0.896591         0.000218\n",
              "6       2.902165      0.017715  ...          0.896684         0.000217\n",
              "7       2.426398      0.025871  ...          0.896749         0.000218\n",
              "8       1.881391      0.017584  ...          0.896789         0.000217\n",
              "9       1.318620      0.007277  ...          0.896794         0.000217\n",
              "\n",
              "[10 rows x 21 columns]"
            ]
          },
          "metadata": {},
          "execution_count": 84
        }
      ]
    },
    {
      "cell_type": "markdown",
      "metadata": {
        "id": "9ngiXYvwuBFW"
      },
      "source": [
        "*It can be observed that not only the mean fit time is least for all the features but also the R-square value is highest.*"
      ]
    },
    {
      "cell_type": "code",
      "metadata": {
        "colab": {
          "base_uri": "https://localhost:8080/",
          "height": 421
        },
        "id": "kooYcP5QFsQZ",
        "outputId": "47c4dcac-9ba6-4ed3-e353-7f739e8e6efe"
      },
      "source": [
        "# Plotting results obtained from cross validation\n",
        "plt.figure(figsize=(16,6))\n",
        "\n",
        "plt.plot(cv_results[\"param_n_features_to_select\"], cv_results[\"mean_test_score\"])\n",
        "plt.plot(cv_results[\"param_n_features_to_select\"], cv_results[\"mean_train_score\"])\n",
        "plt.xlabel('Number of features')\n",
        "plt.ylabel('R-squared')\n",
        "plt.title(\"Optimal Number of Features\")\n",
        "plt.legend(['Test score', 'Train score'], loc='upper left')"
      ],
      "execution_count": 85,
      "outputs": [
        {
          "output_type": "execute_result",
          "data": {
            "text/plain": [
              "<matplotlib.legend.Legend at 0x7fa1bf7adfd0>"
            ]
          },
          "metadata": {},
          "execution_count": 85
        },
        {
          "output_type": "display_data",
          "data": {
            "image/png": "[encoded data removed]",
            "text/plain": [
              "<Figure size 1152x432 with 1 Axes>"
            ]
          },
          "metadata": {
            "needs_background": "light"
          }
        }
      ]
    },
    {
      "cell_type": "markdown",
      "metadata": {
        "id": "0ANkQcT4uvPY"
      },
      "source": [
        "R-square seems to doesn't change much with almost half number of features, but we will proceed with all features as the fit time is least and also we can analyze with a different model."
      ]
    },
    {
      "cell_type": "code",
      "metadata": {
        "colab": {
          "base_uri": "https://localhost:8080/"
        },
        "id": "fKRxlbjdFr1V",
        "outputId": "6f857c6a-34b3-4142-bcb3-5c0afa8777d6"
      },
      "source": [
        "# Final model based on all features\n",
        "n_features_optimal = 19\n",
        "\n",
        "lm = LinearRegression()\n",
        "lm.fit(X_train, y_train)\n",
        "\n",
        "rfe = RFE(lm, n_features_to_select=n_features_optimal)             \n",
        "rfe = rfe.fit(X_train, y_train)\n",
        "\n",
        "# Predict sales of test data\n",
        "y_pred = lm.predict(X_test)\n",
        "r2 = r2_score(y_test, y_pred)\n",
        "\n",
        "\n",
        "## calculate R-square Score for Test dataset\n",
        "print(\"R2 Score for test dataset with optimal features: {:.4f}\".format(r2))"
      ],
      "execution_count": 86,
      "outputs": [
        {
          "output_type": "stream",
          "name": "stdout",
          "text": [
            "R2 Score for test dataset with optimal features: 0.8910\n"
          ]
        }
      ]
    },
    {
      "cell_type": "markdown",
      "metadata": {
        "id": "kl7KRQFsE-Tu"
      },
      "source": [
        "Now we test our data using regularized regression models"
      ]
    },
    {
      "cell_type": "code",
      "metadata": {
        "id": "CtDRKtkpPxwu"
      },
      "source": [
        "### Using regularized regression methods"
      ],
      "execution_count": 87,
      "outputs": []
    },
    {
      "cell_type": "code",
      "metadata": {
        "id": "poiZkQT6LJRi"
      },
      "source": [
        "## Import libraries\n",
        "from sklearn.linear_model import Ridge, RidgeCV\n",
        "from sklearn.linear_model import Lasso, LassoCV"
      ],
      "execution_count": 88,
      "outputs": []
    },
    {
      "cell_type": "code",
      "metadata": {
        "colab": {
          "base_uri": "https://localhost:8080/"
        },
        "id": "wWeD_xafKzpB",
        "outputId": "ec79d2c9-1dff-458a-9de7-daa927ad2d37"
      },
      "source": [
        "lasso = Lasso()\n",
        "parameters = {'alpha': [1e-4,1e-3,1e-2,0.05,0.1,1,5,10,20,30,40,50,100,150]}\n",
        "lasso_regressor = GridSearchCV(lasso, parameters, scoring='r2', cv=3)\n",
        "lasso_regressor.fit(X_train, y_train)"
      ],
      "execution_count": 89,
      "outputs": [
        {
          "output_type": "execute_result",
          "data": {
            "text/plain": [
              "GridSearchCV(cv=3, error_score=nan,\n",
              "             estimator=Lasso(alpha=1.0, copy_X=True, fit_intercept=True,\n",
              "                             max_iter=1000, normalize=False, positive=False,\n",
              "                             precompute=False, random_state=None,\n",
              "                             selection='cyclic', tol=0.0001, warm_start=False),\n",
              "             iid='deprecated', n_jobs=None,\n",
              "             param_grid={'alpha': [0.0001, 0.001, 0.01, 0.05, 0.1, 1, 5, 10, 20,\n",
              "                                   30, 40, 50, 100, 150]},\n",
              "             pre_dispatch='2*n_jobs', refit=True, return_train_score=False,\n",
              "             scoring='r2', verbose=0)"
            ]
          },
          "metadata": {},
          "execution_count": 89
        }
      ]
    },
    {
      "cell_type": "code",
      "metadata": {
        "colab": {
          "base_uri": "https://localhost:8080/"
        },
        "id": "7hMX6aMeKzfk",
        "outputId": "58e69b44-2377-47aa-96f0-599f86983007"
      },
      "source": [
        "print(\"The best fit alpha value is found out to be :\" ,lasso_regressor.best_params_)\n",
        "print(\"Using \",lasso_regressor.best_params_, \" the R-square value is: \", lasso_regressor.best_score_)"
      ],
      "execution_count": 90,
      "outputs": [
        {
          "output_type": "stream",
          "name": "stdout",
          "text": [
            "The best fit alpha value is found out to be : {'alpha': 1}\n",
            "\n",
            "Using  {'alpha': 1}  the negative mean squared error is:  0.8957295125196826\n"
          ]
        }
      ]
    },
    {
      "cell_type": "markdown",
      "metadata": {
        "id": "ZR4fdSgdJgbb"
      },
      "source": [
        "Here, we are iterating over a set of alphas to find the optimal parameter that gives the best R-square value. Since we get alpha as 1 we are not fitting the data again alpha=1 as it implies Linear regression only. There is no "
      ]
    },
    {
      "cell_type": "code",
      "metadata": {
        "colab": {
          "base_uri": "https://localhost:8080/"
        },
        "id": "nwA6GL-gKgj_",
        "outputId": "c38fd671-4fa8-4252-f8f1-e13ca2f520d0"
      },
      "source": [
        "lasso = Lasso(alpha = 1)\n",
        "lasso.fit(X_train,y_train)\n",
        "y_pred_lasso = lasso.predict(X_test)\n",
        "print(\"R-square value for test data using Lasso regression is {:.3f}\".format(r2_score(y_test, y_pred_lasso)))"
      ],
      "execution_count": 101,
      "outputs": [
        {
          "output_type": "stream",
          "name": "stdout",
          "text": [
            "R-square value for test data using Lasso regression is 0.891\n"
          ]
        }
      ]
    },
    {
      "cell_type": "code",
      "metadata": {
        "colab": {
          "base_uri": "https://localhost:8080/"
        },
        "id": "IO-yGhd4LxR7",
        "outputId": "3e081f67-ee35-44d0-da99-ef06fe7408a8"
      },
      "source": [
        "lasso_coeff=list(lasso.coef_)\n",
        "print(lasso_coeff)"
      ],
      "execution_count": 105,
      "outputs": [
        {
          "output_type": "stream",
          "name": "stdout",
          "text": [
            "[-30.164854634547986, -91.025736504562, 3361.8593172570427, 315.2258192815111, 532.2629704510347, 7.135552434451139, 56.95775841911718, 92.67936364070287, 114.19153106455892, 155.66645040652057, 49.981310373303046, 23.341214267457374, 87.41660994870944, 51.27404552727264, -55.58922633487068, -39.10542627491771, -9.28717704413616, -646.9502449860485, -41.98829512596169, 420.14252214262564]\n"
          ]
        }
      ]
    },
    {
      "cell_type": "code",
      "metadata": {
        "colab": {
          "base_uri": "https://localhost:8080/"
        },
        "id": "uIdAQXAgQxUS",
        "outputId": "b753aeb8-4585-4007-d4b8-bd629a9cf891"
      },
      "source": [
        "# Hyperprarameter tuning\n",
        "ridge = Ridge()\n",
        "parameters = {'alpha': [1e-5,1e-4,1e-3,1e-2,1,5,10,20,30,40,70,100]}\n",
        "#ridge_regressor = GridSearchCV(ridge, parameters, scoring='neg_mean_squared_error', cv=3)\n",
        "ridge_regressor = GridSearchCV(ridge, parameters, scoring='r2', cv=3)\n",
        "ridge_regressor.fit(X_train,y_train)"
      ],
      "execution_count": 91,
      "outputs": [
        {
          "output_type": "execute_result",
          "data": {
            "text/plain": [
              "GridSearchCV(cv=3, error_score=nan,\n",
              "             estimator=Ridge(alpha=1.0, copy_X=True, fit_intercept=True,\n",
              "                             max_iter=None, normalize=False, random_state=None,\n",
              "                             solver='auto', tol=0.001),\n",
              "             iid='deprecated', n_jobs=None,\n",
              "             param_grid={'alpha': [1e-05, 0.0001, 0.001, 0.01, 1, 5, 10, 20, 30,\n",
              "                                   40, 70, 100]},\n",
              "             pre_dispatch='2*n_jobs', refit=True, return_train_score=False,\n",
              "             scoring='r2', verbose=0)"
            ]
          },
          "metadata": {},
          "execution_count": 91
        }
      ]
    },
    {
      "cell_type": "code",
      "metadata": {
        "colab": {
          "base_uri": "https://localhost:8080/"
        },
        "id": "-hPZlSuLQxDe",
        "outputId": "cf31711c-a86f-4b01-e782-fb9b68aba7e7"
      },
      "source": [
        "print(\"The best fit alpha value is found out to be :\" ,ridge_regressor.best_params_)\n",
        "print(\"Using \",ridge_regressor.best_params_, \" the R-square value is: \", ridge_regressor.best_score_)"
      ],
      "execution_count": 92,
      "outputs": [
        {
          "output_type": "stream",
          "name": "stdout",
          "text": [
            "The best fit alpha value is found out to be : {'alpha': 100}\n",
            "\n",
            "Using  {'alpha': 100}  the negative mean squared error is:  0.8957217181207241\n"
          ]
        }
      ]
    },
    {
      "cell_type": "code",
      "metadata": {
        "colab": {
          "base_uri": "https://localhost:8080/"
        },
        "id": "yuFGpnucT9nf",
        "outputId": "1ac17985-2ebc-440c-8cbd-bc529069afdd"
      },
      "source": [
        "ridge = Ridge(alpha = 100)\n",
        "ridge.fit(X_train,y_train)\n",
        "y_pred_ridge = ridge.predict(X_test)\n",
        "print(\"R-square value for test data using ridge regression is {:.3f}\".format(r2_score(y_test, y_pred_ridge)))"
      ],
      "execution_count": 110,
      "outputs": [
        {
          "output_type": "stream",
          "name": "stdout",
          "text": [
            "R-square value for test data using ridge regression is 0.891\n"
          ]
        }
      ]
    },
    {
      "cell_type": "code",
      "metadata": {
        "id": "H6YJqDTJOnfg"
      },
      "source": [
        "ridge_coeff=list(ridge.coef_)"
      ],
      "execution_count": 113,
      "outputs": []
    },
    {
      "cell_type": "code",
      "metadata": {
        "id": "guKFxbSAQw_6"
      },
      "source": [
        "#Model Prediction\n",
        "y_pred_ridge = ridge_regressor.predict(X_test)"
      ],
      "execution_count": 94,
      "outputs": []
    },
    {
      "cell_type": "code",
      "metadata": {
        "colab": {
          "base_uri": "https://localhost:8080/"
        },
        "id": "0vDr0eWdQw9H",
        "outputId": "6ec37858-951e-424a-90c3-85cef33f9455"
      },
      "source": [
        "r2 = r2_score(y_test, y_pred_ridge)\n",
        "print(\"R2 :\" ,r2)\n",
        "print(\"Adjusted R2 : \",1-(1-r2)*((X_test.shape[0]-1)/(X_test.shape[0]-X_test.shape[1]-1)))"
      ],
      "execution_count": 95,
      "outputs": [
        {
          "output_type": "stream",
          "name": "stdout",
          "text": [
            "R2 : 0.8909608540879882\n",
            "Adjusted R2 :  0.8909480346251646\n"
          ]
        }
      ]
    },
    {
      "cell_type": "code",
      "metadata": {
        "id": "QC66Qp--O4Hb"
      },
      "source": [
        "df_coeff=pd.DataFrame({'Lin Reg Coeff':reg_coeff,'Lasso Reg Coeff':lasso_coeff,'Ridge Reg Coeff':ridge_coeff},index=store_data_train.drop('Sales',axis=1).columns)\n"
      ],
      "execution_count": 120,
      "outputs": []
    },
    {
      "cell_type": "code",
      "metadata": {
        "colab": {
          "base_uri": "https://localhost:8080/",
          "height": 676
        },
        "id": "ZqOT1qFUPpp7",
        "outputId": "b7d0633a-84a6-42a8-e716-cd77a7c54ad9"
      },
      "source": [
        "df_coeff"
      ],
      "execution_count": 122,
      "outputs": [
        {
          "output_type": "execute_result",
          "data": {
            "text/html": [
              "<div>\n",
              "<style scoped>\n",
              "    .dataframe tbody tr th:only-of-type {\n",
              "        vertical-align: middle;\n",
              "    }\n",
              "\n",
              "    .dataframe tbody tr th {\n",
              "        vertical-align: top;\n",
              "    }\n",
              "\n",
              "    .dataframe thead th {\n",
              "        text-align: right;\n",
              "    }\n",
              "</style>\n",
              "<table border=\"1\" class=\"dataframe\">\n",
              "  <thead>\n",
              "    <tr style=\"text-align: right;\">\n",
              "      <th></th>\n",
              "      <th>Lin Reg Coeff</th>\n",
              "      <th>Lasso Reg Coeff</th>\n",
              "      <th>Ridge Reg Coeff</th>\n",
              "    </tr>\n",
              "  </thead>\n",
              "  <tbody>\n",
              "    <tr>\n",
              "      <th>Store</th>\n",
              "      <td>-31.113566</td>\n",
              "      <td>-30.164855</td>\n",
              "      <td>-31.097813</td>\n",
              "    </tr>\n",
              "    <tr>\n",
              "      <th>DayOfWeek</th>\n",
              "      <td>-91.816655</td>\n",
              "      <td>-91.025737</td>\n",
              "      <td>-91.911631</td>\n",
              "    </tr>\n",
              "    <tr>\n",
              "      <th>Customers</th>\n",
              "      <td>3363.718929</td>\n",
              "      <td>3361.859317</td>\n",
              "      <td>3362.802111</td>\n",
              "    </tr>\n",
              "    <tr>\n",
              "      <th>Open</th>\n",
              "      <td>313.750998</td>\n",
              "      <td>315.225819</td>\n",
              "      <td>314.172406</td>\n",
              "    </tr>\n",
              "    <tr>\n",
              "      <th>Promo</th>\n",
              "      <td>532.647823</td>\n",
              "      <td>532.262970</td>\n",
              "      <td>532.711963</td>\n",
              "    </tr>\n",
              "    <tr>\n",
              "      <th>SchoolHoliday</th>\n",
              "      <td>8.378365</td>\n",
              "      <td>7.135552</td>\n",
              "      <td>8.384552</td>\n",
              "    </tr>\n",
              "    <tr>\n",
              "      <th>Year</th>\n",
              "      <td>58.431758</td>\n",
              "      <td>56.957758</td>\n",
              "      <td>58.428228</td>\n",
              "    </tr>\n",
              "    <tr>\n",
              "      <th>Month</th>\n",
              "      <td>93.873757</td>\n",
              "      <td>92.679364</td>\n",
              "      <td>93.894261</td>\n",
              "    </tr>\n",
              "    <tr>\n",
              "      <th>Assortment</th>\n",
              "      <td>114.942260</td>\n",
              "      <td>114.191531</td>\n",
              "      <td>115.000640</td>\n",
              "    </tr>\n",
              "    <tr>\n",
              "      <th>CompetitionDistance</th>\n",
              "      <td>156.662891</td>\n",
              "      <td>155.666450</td>\n",
              "      <td>156.570530</td>\n",
              "    </tr>\n",
              "    <tr>\n",
              "      <th>Promo2</th>\n",
              "      <td>51.239585</td>\n",
              "      <td>49.981310</td>\n",
              "      <td>51.123404</td>\n",
              "    </tr>\n",
              "    <tr>\n",
              "      <th>day_diff_comp</th>\n",
              "      <td>24.371147</td>\n",
              "      <td>23.341214</td>\n",
              "      <td>24.362367</td>\n",
              "    </tr>\n",
              "    <tr>\n",
              "      <th>day_diff_promo</th>\n",
              "      <td>87.519673</td>\n",
              "      <td>87.416610</td>\n",
              "      <td>87.520520</td>\n",
              "    </tr>\n",
              "    <tr>\n",
              "      <th>StateHoliday_0</th>\n",
              "      <td>52.085487</td>\n",
              "      <td>51.274046</td>\n",
              "      <td>52.092921</td>\n",
              "    </tr>\n",
              "    <tr>\n",
              "      <th>StateHoliday_a</th>\n",
              "      <td>-56.555296</td>\n",
              "      <td>-55.589226</td>\n",
              "      <td>-56.584564</td>\n",
              "    </tr>\n",
              "    <tr>\n",
              "      <th>StateHoliday_b</th>\n",
              "      <td>-40.194599</td>\n",
              "      <td>-39.105426</td>\n",
              "      <td>-40.212786</td>\n",
              "    </tr>\n",
              "    <tr>\n",
              "      <th>StateHoliday_c</th>\n",
              "      <td>-10.518522</td>\n",
              "      <td>-9.287177</td>\n",
              "      <td>-10.536728</td>\n",
              "    </tr>\n",
              "    <tr>\n",
              "      <th>StoreType_b</th>\n",
              "      <td>-648.373122</td>\n",
              "      <td>-646.950245</td>\n",
              "      <td>-648.013597</td>\n",
              "    </tr>\n",
              "    <tr>\n",
              "      <th>StoreType_c</th>\n",
              "      <td>-42.874923</td>\n",
              "      <td>-41.988295</td>\n",
              "      <td>-42.876613</td>\n",
              "    </tr>\n",
              "    <tr>\n",
              "      <th>StoreType_d</th>\n",
              "      <td>420.739405</td>\n",
              "      <td>420.142522</td>\n",
              "      <td>420.556057</td>\n",
              "    </tr>\n",
              "  </tbody>\n",
              "</table>\n",
              "</div>"
            ],
            "text/plain": [
              "                     Lin Reg Coeff  Lasso Reg Coeff  Ridge Reg Coeff\n",
              "Store                   -31.113566       -30.164855       -31.097813\n",
              "DayOfWeek               -91.816655       -91.025737       -91.911631\n",
              "Customers              3363.718929      3361.859317      3362.802111\n",
              "Open                    313.750998       315.225819       314.172406\n",
              "Promo                   532.647823       532.262970       532.711963\n",
              "SchoolHoliday             8.378365         7.135552         8.384552\n",
              "Year                     58.431758        56.957758        58.428228\n",
              "Month                    93.873757        92.679364        93.894261\n",
              "Assortment              114.942260       114.191531       115.000640\n",
              "CompetitionDistance     156.662891       155.666450       156.570530\n",
              "Promo2                   51.239585        49.981310        51.123404\n",
              "day_diff_comp            24.371147        23.341214        24.362367\n",
              "day_diff_promo           87.519673        87.416610        87.520520\n",
              "StateHoliday_0           52.085487        51.274046        52.092921\n",
              "StateHoliday_a          -56.555296       -55.589226       -56.584564\n",
              "StateHoliday_b          -40.194599       -39.105426       -40.212786\n",
              "StateHoliday_c          -10.518522        -9.287177       -10.536728\n",
              "StoreType_b            -648.373122      -646.950245      -648.013597\n",
              "StoreType_c             -42.874923       -41.988295       -42.876613\n",
              "StoreType_d             420.739405       420.142522       420.556057"
            ]
          },
          "metadata": {},
          "execution_count": 122
        }
      ]
    },
    {
      "cell_type": "markdown",
      "metadata": {
        "id": "PUQRxwbiQfyP"
      },
      "source": [
        "Final comparison of coefficients obtained from different models"
      ]
    },
    {
      "cell_type": "code",
      "metadata": {
        "id": "xYwTyxoZZwUN"
      },
      "source": [
        "################################"
      ],
      "execution_count": 96,
      "outputs": []
    },
    {
      "cell_type": "code",
      "metadata": {
        "id": "AAOXNtzLZwRe"
      },
      "source": [
        ""
      ],
      "execution_count": 96,
      "outputs": []
    },
    {
      "cell_type": "code",
      "metadata": {
        "id": "DMvvp469ZwPF"
      },
      "source": [
        ""
      ],
      "execution_count": 96,
      "outputs": []
    },
    {
      "cell_type": "code",
      "metadata": {
        "colab": {
          "base_uri": "https://localhost:8080/",
          "height": 599
        },
        "id": "zNXXLbi4ZwMO",
        "outputId": "9ef83177-71c9-4f54-83cb-a5d013d3b86b"
      },
      "source": [
        "plt.figure(figsize=(15,8))\n",
        "sns.heatmap(store_data_train.corr(),cmap=\"Blues\")"
      ],
      "execution_count": 97,
      "outputs": [
        {
          "output_type": "execute_result",
          "data": {
            "text/plain": [
              "<matplotlib.axes._subplots.AxesSubplot at 0x7fa1bf79a410>"
            ]
          },
          "metadata": {},
          "execution_count": 97
        },
        {
          "output_type": "display_data",
          "data": {
            "image/png": "[encoded data removed]",
            "text/plain": [
              "<Figure size 1080x576 with 2 Axes>"
            ]
          },
          "metadata": {
            "needs_background": "light"
          }
        }
      ]
    },
    {
      "cell_type": "code",
      "metadata": {
        "id": "Gr9TpdLJua90"
      },
      "source": [
        ""
      ],
      "execution_count": 97,
      "outputs": []
    },
    {
      "cell_type": "code",
      "metadata": {
        "id": "yF3Y3fybjgH2"
      },
      "source": [
        ""
      ],
      "execution_count": 97,
      "outputs": []
    },
    {
      "cell_type": "code",
      "metadata": {
        "id": "LYF5OS-5ie9K"
      },
      "source": [
        "import sklearn"
      ],
      "execution_count": 98,
      "outputs": []
    },
    {
      "cell_type": "code",
      "metadata": {
        "colab": {
          "base_uri": "https://localhost:8080/"
        },
        "id": "LDrrL_iZhrs4",
        "outputId": "4bdc51d9-9582-4fc7-fd21-bee8d3a4c07e"
      },
      "source": [
        "sorted(sklearn.metrics.SCORERS.keys())"
      ],
      "execution_count": 99,
      "outputs": [
        {
          "output_type": "execute_result",
          "data": {
            "text/plain": [
              "['accuracy',\n",
              " 'adjusted_mutual_info_score',\n",
              " 'adjusted_rand_score',\n",
              " 'average_precision',\n",
              " 'balanced_accuracy',\n",
              " 'completeness_score',\n",
              " 'explained_variance',\n",
              " 'f1',\n",
              " 'f1_macro',\n",
              " 'f1_micro',\n",
              " 'f1_samples',\n",
              " 'f1_weighted',\n",
              " 'fowlkes_mallows_score',\n",
              " 'homogeneity_score',\n",
              " 'jaccard',\n",
              " 'jaccard_macro',\n",
              " 'jaccard_micro',\n",
              " 'jaccard_samples',\n",
              " 'jaccard_weighted',\n",
              " 'max_error',\n",
              " 'mutual_info_score',\n",
              " 'neg_brier_score',\n",
              " 'neg_log_loss',\n",
              " 'neg_mean_absolute_error',\n",
              " 'neg_mean_gamma_deviance',\n",
              " 'neg_mean_poisson_deviance',\n",
              " 'neg_mean_squared_error',\n",
              " 'neg_mean_squared_log_error',\n",
              " 'neg_median_absolute_error',\n",
              " 'neg_root_mean_squared_error',\n",
              " 'normalized_mutual_info_score',\n",
              " 'precision',\n",
              " 'precision_macro',\n",
              " 'precision_micro',\n",
              " 'precision_samples',\n",
              " 'precision_weighted',\n",
              " 'r2',\n",
              " 'recall',\n",
              " 'recall_macro',\n",
              " 'recall_micro',\n",
              " 'recall_samples',\n",
              " 'recall_weighted',\n",
              " 'roc_auc',\n",
              " 'roc_auc_ovo',\n",
              " 'roc_auc_ovo_weighted',\n",
              " 'roc_auc_ovr',\n",
              " 'roc_auc_ovr_weighted',\n",
              " 'v_measure_score']"
            ]
          },
          "metadata": {},
          "execution_count": 99
        }
      ]
    },
    {
      "cell_type": "code",
      "metadata": {
        "id": "YZOTG0NxhrqU"
      },
      "source": [
        ""
      ],
      "execution_count": 99,
      "outputs": []
    },
    {
      "cell_type": "code",
      "metadata": {
        "id": "fSFF-BiAhrns"
      },
      "source": [
        ""
      ],
      "execution_count": 99,
      "outputs": []
    },
    {
      "cell_type": "code",
      "metadata": {
        "id": "tKEXZ9ephrlj"
      },
      "source": [
        ""
      ],
      "execution_count": 99,
      "outputs": []
    }
  ]
}