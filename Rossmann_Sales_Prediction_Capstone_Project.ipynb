{
  "nbformat": 4,
  "nbformat_minor": 0,
  "metadata": {
    "kernelspec": {
      "display_name": "Python 3",
      "language": "python",
      "name": "python3"
    },
    "language_info": {
      "codemirror_mode": {
        "name": "ipython",
        "version": 3
      },
      "file_extension": ".py",
      "mimetype": "text/x-python",
      "name": "python",
      "nbconvert_exporter": "python",
      "pygments_lexer": "ipython3",
      "version": "3.6.6"
    },
    "colab": {
      "name": "Rossmann Sales Prediction - Capstone Project.ipynb",
      "provenance": [],
      "collapsed_sections": []
    }
  },
  "cells": [
    {
      "cell_type": "markdown",
      "metadata": {
        "id": "tOGC-qoyhJeX"
      },
      "source": [
        "# <b><u> Project Title : Sales Prediction : Predicting sales of a major store chain Rossmann</u></b>"
      ]
    },
    {
      "cell_type": "markdown",
      "metadata": {
        "id": "Y06xIdG26kRF"
      },
      "source": [
        "## <b> Problem Description </b>\n",
        "\n",
        "### Rossmann operates over 3,000 drug stores in 7 European countries. Currently, Rossmann store managers are tasked with predicting their daily sales for up to six weeks in advance. Store sales are influenced by many factors, including promotions, competition, school and state holidays, seasonality, and locality. With thousands of individual managers predicting sales based on their unique circumstances, the accuracy of results can be quite varied.\n",
        "\n",
        "### You are provided with historical sales data for 1,115 Rossmann stores. The task is to forecast the \"Sales\" column for the test set. Note that some stores in the dataset were temporarily closed for refurbishment."
      ]
    },
    {
      "cell_type": "markdown",
      "metadata": {
        "id": "WWeU1f9bwqQq"
      },
      "source": [
        "## <b> Data Description </b>\n",
        "\n",
        "### <b>Rossmann Stores Data.csv </b> - historical data including Sales\n",
        "### <b>store.csv </b> - supplemental information about the stores\n",
        "\n",
        "\n",
        "### <b><u>Data fields</u></b>\n",
        "### Most of the fields are self-explanatory. The following are descriptions for those that aren't.\n",
        "\n",
        "* #### Id - an Id that represents a (Store, Date) duple within the test set\n",
        "* #### Store - a unique Id for each store\n",
        "* #### Sales - the turnover for any given day (this is what you are predicting)\n",
        "* #### Customers - the number of customers on a given day\n",
        "* #### Open - an indicator for whether the store was open: 0 = closed, 1 = open\n",
        "* #### StateHoliday - indicates a state holiday. Normally all stores, with few exceptions, are closed on state holidays. Note that all schools are closed on public holidays and weekends. a = public holiday, b = Easter holiday, c = Christmas, 0 = None\n",
        "* #### SchoolHoliday - indicates if the (Store, Date) was affected by the closure of public schools\n",
        "* #### StoreType - differentiates between 4 different store models: a, b, c, d\n",
        "* #### Assortment - describes an assortment level: a = basic, b = extra, c = extended\n",
        "* #### CompetitionDistance - distance in meters to the nearest competitor store\n",
        "* #### CompetitionOpenSince[Month/Year] - gives the approximate year and month of the time the nearest competitor was opened\n",
        "* #### Promo - indicates whether a store is running a promo on that day\n",
        "* #### Promo2 - Promo2 is a continuing and consecutive promotion for some stores: 0 = store is not participating, 1 = store is participating\n",
        "* #### Promo2Since[Year/Week] - describes the year and calendar week when the store started participating in Promo2\n",
        "* #### PromoInterval - describes the consecutive intervals Promo2 is started, naming the months the promotion is started anew. E.g. \"Feb,May,Aug,Nov\" means each round starts in February, May, August, November of any given year for that store"
      ]
    },
    {
      "cell_type": "code",
      "metadata": {
        "id": "6pqVQ3xCY9mD"
      },
      "source": [
        "# Importing the libraries\n",
        "import numpy as np\n",
        "import pandas as pd\n",
        "from numpy import math\n",
        "\n",
        "from sklearn.preprocessing import StandardScaler\n",
        "from sklearn.model_selection import train_test_split\n",
        "from sklearn.linear_model import LinearRegression\n",
        "from sklearn.metrics import r2_score\n",
        "from sklearn.metrics import mean_squared_error\n",
        "\n",
        "import matplotlib.pyplot as plt\n",
        "import seaborn as sns\n",
        "import calendar\n",
        "import datetime"
      ],
      "execution_count": null,
      "outputs": []
    },
    {
      "cell_type": "code",
      "metadata": {
        "id": "lsGTUFzPBJ9M"
      },
      "source": [
        "import warnings\n",
        "warnings.filterwarnings('ignore')"
      ],
      "execution_count": null,
      "outputs": []
    },
    {
      "cell_type": "code",
      "metadata": {
        "id": "Ibdsklv3Y9Uh"
      },
      "source": [
        "#from google.colab import drive\n",
        "#drive.mount('/content/drive')"
      ],
      "execution_count": null,
      "outputs": []
    },
    {
      "cell_type": "code",
      "metadata": {
        "id": "Tdpq8h9AY9RI"
      },
      "source": [
        "#store_data = pd.read_csv('/content/drive/MyDrive/Almabetter learning/Retail Sales Prediction/Rossmann Stores Data.csv')\n",
        "#stores = pd.read_csv('/content/drive/MyDrive/Almabetter learning/Retail Sales Prediction/store.csv')\n",
        "\n",
        "store_data = pd.read_csv('Rossmann Stores Data.csv', low_memory = False)\n",
        "stores = pd.read_csv('store.csv')"
      ],
      "execution_count": null,
      "outputs": []
    },
    {
      "cell_type": "code",
      "metadata": {
        "id": "mIQHKzRpexbH",
        "colab": {
          "base_uri": "https://localhost:8080/",
          "height": 206
        },
        "outputId": "db9c9319-1559-4c7e-dd6b-a15145de19d6"
      },
      "source": [
        "store_data.head()"
      ],
      "execution_count": null,
      "outputs": [
        {
          "output_type": "execute_result",
          "data": {
            "text/html": [
              "<div>\n",
              "<style scoped>\n",
              "    .dataframe tbody tr th:only-of-type {\n",
              "        vertical-align: middle;\n",
              "    }\n",
              "\n",
              "    .dataframe tbody tr th {\n",
              "        vertical-align: top;\n",
              "    }\n",
              "\n",
              "    .dataframe thead th {\n",
              "        text-align: right;\n",
              "    }\n",
              "</style>\n",
              "<table border=\"1\" class=\"dataframe\">\n",
              "  <thead>\n",
              "    <tr style=\"text-align: right;\">\n",
              "      <th></th>\n",
              "      <th>Store</th>\n",
              "      <th>DayOfWeek</th>\n",
              "      <th>Date</th>\n",
              "      <th>Sales</th>\n",
              "      <th>Customers</th>\n",
              "      <th>Open</th>\n",
              "      <th>Promo</th>\n",
              "      <th>StateHoliday</th>\n",
              "      <th>SchoolHoliday</th>\n",
              "    </tr>\n",
              "  </thead>\n",
              "  <tbody>\n",
              "    <tr>\n",
              "      <th>0</th>\n",
              "      <td>1</td>\n",
              "      <td>5</td>\n",
              "      <td>2015-07-31</td>\n",
              "      <td>5263</td>\n",
              "      <td>555</td>\n",
              "      <td>1</td>\n",
              "      <td>1</td>\n",
              "      <td>0</td>\n",
              "      <td>1</td>\n",
              "    </tr>\n",
              "    <tr>\n",
              "      <th>1</th>\n",
              "      <td>2</td>\n",
              "      <td>5</td>\n",
              "      <td>2015-07-31</td>\n",
              "      <td>6064</td>\n",
              "      <td>625</td>\n",
              "      <td>1</td>\n",
              "      <td>1</td>\n",
              "      <td>0</td>\n",
              "      <td>1</td>\n",
              "    </tr>\n",
              "    <tr>\n",
              "      <th>2</th>\n",
              "      <td>3</td>\n",
              "      <td>5</td>\n",
              "      <td>2015-07-31</td>\n",
              "      <td>8314</td>\n",
              "      <td>821</td>\n",
              "      <td>1</td>\n",
              "      <td>1</td>\n",
              "      <td>0</td>\n",
              "      <td>1</td>\n",
              "    </tr>\n",
              "    <tr>\n",
              "      <th>3</th>\n",
              "      <td>4</td>\n",
              "      <td>5</td>\n",
              "      <td>2015-07-31</td>\n",
              "      <td>13995</td>\n",
              "      <td>1498</td>\n",
              "      <td>1</td>\n",
              "      <td>1</td>\n",
              "      <td>0</td>\n",
              "      <td>1</td>\n",
              "    </tr>\n",
              "    <tr>\n",
              "      <th>4</th>\n",
              "      <td>5</td>\n",
              "      <td>5</td>\n",
              "      <td>2015-07-31</td>\n",
              "      <td>4822</td>\n",
              "      <td>559</td>\n",
              "      <td>1</td>\n",
              "      <td>1</td>\n",
              "      <td>0</td>\n",
              "      <td>1</td>\n",
              "    </tr>\n",
              "  </tbody>\n",
              "</table>\n",
              "</div>"
            ],
            "text/plain": [
              "   Store  DayOfWeek        Date  Sales  ...  Open  Promo  StateHoliday SchoolHoliday\n",
              "0      1          5  2015-07-31   5263  ...     1      1             0             1\n",
              "1      2          5  2015-07-31   6064  ...     1      1             0             1\n",
              "2      3          5  2015-07-31   8314  ...     1      1             0             1\n",
              "3      4          5  2015-07-31  13995  ...     1      1             0             1\n",
              "4      5          5  2015-07-31   4822  ...     1      1             0             1\n",
              "\n",
              "[5 rows x 9 columns]"
            ]
          },
          "metadata": {},
          "execution_count": 5
        }
      ]
    },
    {
      "cell_type": "code",
      "metadata": {
        "id": "mt1TujaKUCKA"
      },
      "source": [
        "#store_data['StateHoliday'].unique()\n",
        "#store_data['StateHoliday'] = store_data['StateHoliday'].map({0:'0', 'a':'a', 'b':'b', 'c':'c', '0':'0'})\n",
        "## Convert date column from object to date\n"
      ],
      "execution_count": null,
      "outputs": []
    },
    {
      "cell_type": "code",
      "metadata": {
        "id": "VLp0PCTQPvxQ"
      },
      "source": [
        "## Convert the Date column to Datetime\n",
        "store_data['Date']= pd.to_datetime(store_data['Date'])\n",
        "\n",
        "## Extract Year and month from Date column\n",
        "store_data['Year'] = pd.DatetimeIndex(store_data['Date']).year\n",
        "store_data['Month'] = pd.DatetimeIndex(store_data['Date']).month"
      ],
      "execution_count": null,
      "outputs": []
    },
    {
      "cell_type": "code",
      "metadata": {
        "id": "TZ3voz33moDX",
        "colab": {
          "base_uri": "https://localhost:8080/",
          "height": 206
        },
        "outputId": "1015b9b0-f576-4e04-b4d9-f6ab18737cec"
      },
      "source": [
        "## Displaying the data\n",
        "store_data.head()"
      ],
      "execution_count": null,
      "outputs": [
        {
          "output_type": "execute_result",
          "data": {
            "text/html": [
              "<div>\n",
              "<style scoped>\n",
              "    .dataframe tbody tr th:only-of-type {\n",
              "        vertical-align: middle;\n",
              "    }\n",
              "\n",
              "    .dataframe tbody tr th {\n",
              "        vertical-align: top;\n",
              "    }\n",
              "\n",
              "    .dataframe thead th {\n",
              "        text-align: right;\n",
              "    }\n",
              "</style>\n",
              "<table border=\"1\" class=\"dataframe\">\n",
              "  <thead>\n",
              "    <tr style=\"text-align: right;\">\n",
              "      <th></th>\n",
              "      <th>Store</th>\n",
              "      <th>DayOfWeek</th>\n",
              "      <th>Date</th>\n",
              "      <th>Sales</th>\n",
              "      <th>Customers</th>\n",
              "      <th>Open</th>\n",
              "      <th>Promo</th>\n",
              "      <th>StateHoliday</th>\n",
              "      <th>SchoolHoliday</th>\n",
              "      <th>Year</th>\n",
              "      <th>Month</th>\n",
              "    </tr>\n",
              "  </thead>\n",
              "  <tbody>\n",
              "    <tr>\n",
              "      <th>0</th>\n",
              "      <td>1</td>\n",
              "      <td>5</td>\n",
              "      <td>2015-07-31</td>\n",
              "      <td>5263</td>\n",
              "      <td>555</td>\n",
              "      <td>1</td>\n",
              "      <td>1</td>\n",
              "      <td>0</td>\n",
              "      <td>1</td>\n",
              "      <td>2015</td>\n",
              "      <td>7</td>\n",
              "    </tr>\n",
              "    <tr>\n",
              "      <th>1</th>\n",
              "      <td>2</td>\n",
              "      <td>5</td>\n",
              "      <td>2015-07-31</td>\n",
              "      <td>6064</td>\n",
              "      <td>625</td>\n",
              "      <td>1</td>\n",
              "      <td>1</td>\n",
              "      <td>0</td>\n",
              "      <td>1</td>\n",
              "      <td>2015</td>\n",
              "      <td>7</td>\n",
              "    </tr>\n",
              "    <tr>\n",
              "      <th>2</th>\n",
              "      <td>3</td>\n",
              "      <td>5</td>\n",
              "      <td>2015-07-31</td>\n",
              "      <td>8314</td>\n",
              "      <td>821</td>\n",
              "      <td>1</td>\n",
              "      <td>1</td>\n",
              "      <td>0</td>\n",
              "      <td>1</td>\n",
              "      <td>2015</td>\n",
              "      <td>7</td>\n",
              "    </tr>\n",
              "    <tr>\n",
              "      <th>3</th>\n",
              "      <td>4</td>\n",
              "      <td>5</td>\n",
              "      <td>2015-07-31</td>\n",
              "      <td>13995</td>\n",
              "      <td>1498</td>\n",
              "      <td>1</td>\n",
              "      <td>1</td>\n",
              "      <td>0</td>\n",
              "      <td>1</td>\n",
              "      <td>2015</td>\n",
              "      <td>7</td>\n",
              "    </tr>\n",
              "    <tr>\n",
              "      <th>4</th>\n",
              "      <td>5</td>\n",
              "      <td>5</td>\n",
              "      <td>2015-07-31</td>\n",
              "      <td>4822</td>\n",
              "      <td>559</td>\n",
              "      <td>1</td>\n",
              "      <td>1</td>\n",
              "      <td>0</td>\n",
              "      <td>1</td>\n",
              "      <td>2015</td>\n",
              "      <td>7</td>\n",
              "    </tr>\n",
              "  </tbody>\n",
              "</table>\n",
              "</div>"
            ],
            "text/plain": [
              "   Store  DayOfWeek       Date  Sales  ...  StateHoliday  SchoolHoliday  Year Month\n",
              "0      1          5 2015-07-31   5263  ...             0              1  2015     7\n",
              "1      2          5 2015-07-31   6064  ...             0              1  2015     7\n",
              "2      3          5 2015-07-31   8314  ...             0              1  2015     7\n",
              "3      4          5 2015-07-31  13995  ...             0              1  2015     7\n",
              "4      5          5 2015-07-31   4822  ...             0              1  2015     7\n",
              "\n",
              "[5 rows x 11 columns]"
            ]
          },
          "metadata": {},
          "execution_count": 8
        }
      ]
    },
    {
      "cell_type": "code",
      "metadata": {
        "id": "M9KDlPVAAiGU",
        "colab": {
          "base_uri": "https://localhost:8080/",
          "height": 279
        },
        "outputId": "5188413d-2674-40ac-cc2b-d8a86eaf5bb3"
      },
      "source": [
        "sns.distplot(store_data[store_data['Sales']!=0]['Sales']);"
      ],
      "execution_count": null,
      "outputs": [
        {
          "output_type": "display_data",
          "data": {
            "image/png": "[encoded data removed]",
            "text/plain": [
              "<Figure size 432x288 with 1 Axes>"
            ]
          },
          "metadata": {
            "needs_background": "light"
          }
        }
      ]
    },
    {
      "cell_type": "code",
      "metadata": {
        "id": "l8YRH89eBS0X",
        "colab": {
          "base_uri": "https://localhost:8080/",
          "height": 279
        },
        "outputId": "00156176-d05e-4c28-cc32-e7fa0f41ef1d"
      },
      "source": [
        "sns.boxplot(store_data[store_data['Sales']!=0]['Sales']);"
      ],
      "execution_count": null,
      "outputs": [
        {
          "output_type": "display_data",
          "data": {
            "image/png": "[encoded data removed]",
            "text/plain": [
              "<Figure size 432x288 with 1 Axes>"
            ]
          },
          "metadata": {
            "needs_background": "light"
          }
        }
      ]
    },
    {
      "cell_type": "code",
      "metadata": {
        "id": "TkJnQ-mfDsl-"
      },
      "source": [
        "store_data_high_sales=store_data[store_data['Sales']>=20000][['Year','Month','Sales']]"
      ],
      "execution_count": null,
      "outputs": []
    },
    {
      "cell_type": "code",
      "metadata": {
        "id": "bSwIMnvTBibD",
        "colab": {
          "base_uri": "https://localhost:8080/",
          "height": 488
        },
        "outputId": "36d1b924-54f2-4409-8e75-4047fcdd894e"
      },
      "source": [
        "## See count of high sales/day in certain months to estimate high sales period\n",
        "pd.pivot_table(data=store_data_high_sales[['Year','Month','Sales']],index='Month',columns='Year',aggfunc='count',fill_value=0)"
      ],
      "execution_count": null,
      "outputs": [
        {
          "output_type": "execute_result",
          "data": {
            "text/html": [
              "<div>\n",
              "<style scoped>\n",
              "    .dataframe tbody tr th:only-of-type {\n",
              "        vertical-align: middle;\n",
              "    }\n",
              "\n",
              "    .dataframe tbody tr th {\n",
              "        vertical-align: top;\n",
              "    }\n",
              "\n",
              "    .dataframe thead tr th {\n",
              "        text-align: left;\n",
              "    }\n",
              "\n",
              "    .dataframe thead tr:last-of-type th {\n",
              "        text-align: right;\n",
              "    }\n",
              "</style>\n",
              "<table border=\"1\" class=\"dataframe\">\n",
              "  <thead>\n",
              "    <tr>\n",
              "      <th></th>\n",
              "      <th colspan=\"3\" halign=\"left\">Sales</th>\n",
              "    </tr>\n",
              "    <tr>\n",
              "      <th>Year</th>\n",
              "      <th>2013</th>\n",
              "      <th>2014</th>\n",
              "      <th>2015</th>\n",
              "    </tr>\n",
              "    <tr>\n",
              "      <th>Month</th>\n",
              "      <th></th>\n",
              "      <th></th>\n",
              "      <th></th>\n",
              "    </tr>\n",
              "  </thead>\n",
              "  <tbody>\n",
              "    <tr>\n",
              "      <th>1</th>\n",
              "      <td>79</td>\n",
              "      <td>78</td>\n",
              "      <td>75</td>\n",
              "    </tr>\n",
              "    <tr>\n",
              "      <th>2</th>\n",
              "      <td>86</td>\n",
              "      <td>96</td>\n",
              "      <td>75</td>\n",
              "    </tr>\n",
              "    <tr>\n",
              "      <th>3</th>\n",
              "      <td>169</td>\n",
              "      <td>104</td>\n",
              "      <td>124</td>\n",
              "    </tr>\n",
              "    <tr>\n",
              "      <th>4</th>\n",
              "      <td>108</td>\n",
              "      <td>148</td>\n",
              "      <td>151</td>\n",
              "    </tr>\n",
              "    <tr>\n",
              "      <th>5</th>\n",
              "      <td>130</td>\n",
              "      <td>123</td>\n",
              "      <td>132</td>\n",
              "    </tr>\n",
              "    <tr>\n",
              "      <th>6</th>\n",
              "      <td>88</td>\n",
              "      <td>173</td>\n",
              "      <td>186</td>\n",
              "    </tr>\n",
              "    <tr>\n",
              "      <th>7</th>\n",
              "      <td>137</td>\n",
              "      <td>83</td>\n",
              "      <td>123</td>\n",
              "    </tr>\n",
              "    <tr>\n",
              "      <th>8</th>\n",
              "      <td>97</td>\n",
              "      <td>76</td>\n",
              "      <td>0</td>\n",
              "    </tr>\n",
              "    <tr>\n",
              "      <th>9</th>\n",
              "      <td>74</td>\n",
              "      <td>89</td>\n",
              "      <td>0</td>\n",
              "    </tr>\n",
              "    <tr>\n",
              "      <th>10</th>\n",
              "      <td>93</td>\n",
              "      <td>73</td>\n",
              "      <td>0</td>\n",
              "    </tr>\n",
              "    <tr>\n",
              "      <th>11</th>\n",
              "      <td>111</td>\n",
              "      <td>120</td>\n",
              "      <td>0</td>\n",
              "    </tr>\n",
              "    <tr>\n",
              "      <th>12</th>\n",
              "      <td>532</td>\n",
              "      <td>367</td>\n",
              "      <td>0</td>\n",
              "    </tr>\n",
              "  </tbody>\n",
              "</table>\n",
              "</div>"
            ],
            "text/plain": [
              "      Sales          \n",
              "Year   2013 2014 2015\n",
              "Month                \n",
              "1        79   78   75\n",
              "2        86   96   75\n",
              "3       169  104  124\n",
              "4       108  148  151\n",
              "5       130  123  132\n",
              "6        88  173  186\n",
              "7       137   83  123\n",
              "8        97   76    0\n",
              "9        74   89    0\n",
              "10       93   73    0\n",
              "11      111  120    0\n",
              "12      532  367    0"
            ]
          },
          "metadata": {},
          "execution_count": 12
        }
      ]
    },
    {
      "cell_type": "code",
      "metadata": {
        "id": "sBT6OLtMIV0v"
      },
      "source": [
        "## Check total sales monthwise\n",
        "#Sales_across_years_monthwise=pd.pivot_table(data=store_data[['Year','Month','Sales']],index='Month',columns='Year',aggfunc='sum',fill_value=0)\n",
        "Sales_across_years_monthwise=pd.pivot_table(data=store_data[['Year','Month','Sales']],index=['Month','Year'],aggfunc='sum',fill_value=0).reset_index()\n"
      ],
      "execution_count": null,
      "outputs": []
    },
    {
      "cell_type": "code",
      "metadata": {
        "colab": {
          "base_uri": "https://localhost:8080/",
          "height": 206
        },
        "id": "OsWO9tbhJEep",
        "outputId": "a6f21f20-b73a-4910-e84e-4302d7a0f6c3"
      },
      "source": [
        "Sales_across_years_monthwise.head()"
      ],
      "execution_count": null,
      "outputs": [
        {
          "output_type": "execute_result",
          "data": {
            "text/html": [
              "<div>\n",
              "<style scoped>\n",
              "    .dataframe tbody tr th:only-of-type {\n",
              "        vertical-align: middle;\n",
              "    }\n",
              "\n",
              "    .dataframe tbody tr th {\n",
              "        vertical-align: top;\n",
              "    }\n",
              "\n",
              "    .dataframe thead th {\n",
              "        text-align: right;\n",
              "    }\n",
              "</style>\n",
              "<table border=\"1\" class=\"dataframe\">\n",
              "  <thead>\n",
              "    <tr style=\"text-align: right;\">\n",
              "      <th></th>\n",
              "      <th>Month</th>\n",
              "      <th>Year</th>\n",
              "      <th>Sales</th>\n",
              "    </tr>\n",
              "  </thead>\n",
              "  <tbody>\n",
              "    <tr>\n",
              "      <th>0</th>\n",
              "      <td>1</td>\n",
              "      <td>2013</td>\n",
              "      <td>180132207</td>\n",
              "    </tr>\n",
              "    <tr>\n",
              "      <th>1</th>\n",
              "      <td>1</td>\n",
              "      <td>2014</td>\n",
              "      <td>187752787</td>\n",
              "    </tr>\n",
              "    <tr>\n",
              "      <th>2</th>\n",
              "      <td>1</td>\n",
              "      <td>2015</td>\n",
              "      <td>198843730</td>\n",
              "    </tr>\n",
              "    <tr>\n",
              "      <th>3</th>\n",
              "      <td>2</td>\n",
              "      <td>2013</td>\n",
              "      <td>171534275</td>\n",
              "    </tr>\n",
              "    <tr>\n",
              "      <th>4</th>\n",
              "      <td>2</td>\n",
              "      <td>2014</td>\n",
              "      <td>178924677</td>\n",
              "    </tr>\n",
              "  </tbody>\n",
              "</table>\n",
              "</div>"
            ],
            "text/plain": [
              "   Month  Year      Sales\n",
              "0      1  2013  180132207\n",
              "1      1  2014  187752787\n",
              "2      1  2015  198843730\n",
              "3      2  2013  171534275\n",
              "4      2  2014  178924677"
            ]
          },
          "metadata": {},
          "execution_count": 132
        }
      ]
    },
    {
      "cell_type": "code",
      "metadata": {
        "colab": {
          "base_uri": "https://localhost:8080/",
          "height": 290
        },
        "id": "nAFbaUr0KDxz",
        "outputId": "8fc303ad-d248-46c9-dfb6-929fa7db4342"
      },
      "source": [
        "sns.lineplot(data=Sales_across_years_monthwise,x='Month',y='Sales',hue='Year');"
      ],
      "execution_count": null,
      "outputs": [
        {
          "output_type": "display_data",
          "data": {
            "image/png": "[encoded data removed]",
            "text/plain": [
              "<Figure size 432x288 with 1 Axes>"
            ]
          },
          "metadata": {
            "needs_background": "light"
          }
        }
      ]
    },
    {
      "cell_type": "code",
      "metadata": {
        "id": "2i6Ry3PyIwQO"
      },
      "source": [
        "#Sales_across_years_monthwise['diff21']=Sales_across_years_monthwise[('Sales', 2014)]-Sales_across_years_monthwise[('Sales', 2013)]\n",
        "#Sales_across_years_monthwise['diff32']=Sales_across_years_monthwise[('Sales', 2015)]-Sales_across_years_monthwise[('Sales', 2014)]\n",
        "#Sales_across_years_monthwise['diff31']=Sales_across_years_monthwise[('Sales', 2015)]-Sales_across_years_monthwise[('Sales', 2013)]"
      ],
      "execution_count": null,
      "outputs": []
    },
    {
      "cell_type": "code",
      "metadata": {
        "id": "YqEIGJHXJhRR",
        "colab": {
          "base_uri": "https://localhost:8080/",
          "height": 290
        },
        "outputId": "3f23f841-8543-4100-c612-75f2a4739dab"
      },
      "source": [
        "#store_data['Promo']\n",
        "sns.barplot(data=pd.pivot_table(data=store_data[['Promo','Sales']],index='Promo',aggfunc='sum',fill_value=0).reset_index(),y='Sales',x='Promo');"
      ],
      "execution_count": null,
      "outputs": [
        {
          "output_type": "display_data",
          "data": {
            "image/png": "[encoded data removed]",
            "text/plain": [
              "<Figure size 432x288 with 1 Axes>"
            ]
          },
          "metadata": {
            "needs_background": "light"
          }
        }
      ]
    },
    {
      "cell_type": "code",
      "metadata": {
        "id": "QtqSYSCy7u29",
        "colab": {
          "base_uri": "https://localhost:8080/"
        },
        "outputId": "e299cbcf-10c3-4d76-95d9-912f60c2d0b3"
      },
      "source": [
        "#df_date_sorted_agg=\n",
        "df_date_sorted_agg=store_data.copy().sort_values(['Date']).groupby('Date')['Sales'].sum()\n",
        "df_date_sorted_agg"
      ],
      "execution_count": null,
      "outputs": [
        {
          "output_type": "execute_result",
          "data": {
            "text/plain": [
              "Date\n",
              "2013-01-01       97235\n",
              "2013-01-02     6949829\n",
              "2013-01-03     6347820\n",
              "2013-01-04     6638954\n",
              "2013-01-05     5951593\n",
              "                ...   \n",
              "2015-07-27    10707292\n",
              "2015-07-28     9115073\n",
              "2015-07-29     8499962\n",
              "2015-07-30     8798854\n",
              "2015-07-31    10109742\n",
              "Name: Sales, Length: 942, dtype: int64"
            ]
          },
          "metadata": {},
          "execution_count": 16
        }
      ]
    },
    {
      "cell_type": "code",
      "metadata": {
        "id": "8EsrSkXF9e9_"
      },
      "source": [
        "# ## Trying to get a series for plotting agg sales day wise, check any pattern to add varibale like seasonality\n",
        "# df=df_date_sorted_agg.reset_index()\n",
        "# df['Sales']=(df['Sales']-df['Sales'].min())/(df['Sales'].max()-df['Sales'].min())\n",
        "# df.head()"
      ],
      "execution_count": null,
      "outputs": []
    },
    {
      "cell_type": "code",
      "metadata": {
        "id": "2PzaaEVBASfF"
      },
      "source": [
        ""
      ],
      "execution_count": null,
      "outputs": []
    },
    {
      "cell_type": "code",
      "metadata": {
        "id": "ZLL1XJjI6l5t"
      },
      "source": [
        "#Sales_year_month['Year'].unique()"
      ],
      "execution_count": null,
      "outputs": []
    },
    {
      "cell_type": "code",
      "metadata": {
        "id": "XWgnNM-j66dE"
      },
      "source": [
        "#### Do we observe any pattern in sales across years, ## No"
      ],
      "execution_count": null,
      "outputs": []
    },
    {
      "cell_type": "code",
      "metadata": {
        "id": "kwthVgLD-Ioj"
      },
      "source": [
        "#sns.barplot(data=df_test.groupby(['DayOfWeek'])['Sales_x'].sum().reset_index(),x='DayOfWeek',y='Sales_x')  ## Starts with Monday"
      ],
      "execution_count": null,
      "outputs": []
    },
    {
      "cell_type": "code",
      "metadata": {
        "id": "Tn3CrWgn-Y7z"
      },
      "source": [
        ""
      ],
      "execution_count": null,
      "outputs": []
    },
    {
      "cell_type": "code",
      "metadata": {
        "id": "XFBDR_M0-Y4Y"
      },
      "source": [
        ""
      ],
      "execution_count": null,
      "outputs": []
    },
    {
      "cell_type": "code",
      "metadata": {
        "id": "emXaZIFa-Y13"
      },
      "source": [
        ""
      ],
      "execution_count": null,
      "outputs": []
    },
    {
      "cell_type": "code",
      "metadata": {
        "id": "tIyGoVJdg7hO"
      },
      "source": [
        "## Just to check promo interval values and corresponding Promo2SinceWeek\n",
        "#stores[stores['PromoInterval']!=0].head()"
      ],
      "execution_count": null,
      "outputs": []
    },
    {
      "cell_type": "code",
      "metadata": {
        "id": "bf99NqkU1uB9",
        "colab": {
          "base_uri": "https://localhost:8080/"
        },
        "outputId": "dd66b946-e057-4f76-cd9d-9dace9835662"
      },
      "source": [
        "stores.shape"
      ],
      "execution_count": null,
      "outputs": [
        {
          "output_type": "execute_result",
          "data": {
            "text/plain": [
              "(1115, 10)"
            ]
          },
          "metadata": {},
          "execution_count": 25
        }
      ]
    },
    {
      "cell_type": "code",
      "metadata": {
        "id": "rqHZrvtK1hzb",
        "colab": {
          "base_uri": "https://localhost:8080/"
        },
        "outputId": "0b4801ab-053b-4402-a06c-ffb486a1a423"
      },
      "source": [
        "stores.isna().sum()"
      ],
      "execution_count": null,
      "outputs": [
        {
          "output_type": "execute_result",
          "data": {
            "text/plain": [
              "Store                          0\n",
              "StoreType                      0\n",
              "Assortment                     0\n",
              "CompetitionDistance            3\n",
              "CompetitionOpenSinceMonth    354\n",
              "CompetitionOpenSinceYear     354\n",
              "Promo2                         0\n",
              "Promo2SinceWeek              544\n",
              "Promo2SinceYear              544\n",
              "PromoInterval                544\n",
              "dtype: int64"
            ]
          },
          "metadata": {},
          "execution_count": 26
        }
      ]
    },
    {
      "cell_type": "code",
      "metadata": {
        "id": "EPmPdxKyLdmz",
        "colab": {
          "base_uri": "https://localhost:8080/"
        },
        "outputId": "f6922c05-485f-429a-cb38-1acb961a0cab"
      },
      "source": [
        "stores[(stores['Promo2']==0) & (stores['Promo2SinceWeek'].isna())].shape"
      ],
      "execution_count": null,
      "outputs": [
        {
          "output_type": "execute_result",
          "data": {
            "text/plain": [
              "(544, 10)"
            ]
          },
          "metadata": {},
          "execution_count": 27
        }
      ]
    },
    {
      "cell_type": "code",
      "metadata": {
        "id": "sLzNBeCFMSe4",
        "colab": {
          "base_uri": "https://localhost:8080/"
        },
        "outputId": "b417bbb0-7fe4-4fd3-80a0-8e2a4d2f8bfe"
      },
      "source": [
        "stores[stores['CompetitionOpenSinceMonth'].isna()]['Store'].nunique()"
      ],
      "execution_count": null,
      "outputs": [
        {
          "output_type": "execute_result",
          "data": {
            "text/plain": [
              "354"
            ]
          },
          "metadata": {},
          "execution_count": 28
        }
      ]
    },
    {
      "cell_type": "code",
      "metadata": {
        "id": "UuazJsYzEYLt"
      },
      "source": [
        "## Wherever Promo2 ie continuing and consecutive promotion is zero, implies store didn't participate,\n",
        "# hence Promo2SinceWeek and Promo2SinceYear should be zero, also there won't be PromoInterval\n",
        "stores.loc[(stores['Promo2']==0) & (stores['Promo2SinceWeek'].isna()),['Promo2SinceWeek']]=0\n",
        "stores.loc[(stores['Promo2']==0) & (stores['Promo2SinceYear'].isna()),['Promo2SinceYear','PromoInterval']]=0"
      ],
      "execution_count": null,
      "outputs": []
    },
    {
      "cell_type": "code",
      "metadata": {
        "id": "YnyJx_pPAA5O"
      },
      "source": [
        "#Impute CompetitionDistance with max distance\n",
        "\n",
        "stores.loc[stores['CompetitionDistance'].isna()]=stores['CompetitionDistance'].max()"
      ],
      "execution_count": null,
      "outputs": []
    },
    {
      "cell_type": "code",
      "metadata": {
        "id": "9wyUxGq36Nmu",
        "colab": {
          "base_uri": "https://localhost:8080/"
        },
        "outputId": "001bf8fe-e6f7-478c-a127-0c5f5bc25e10"
      },
      "source": [
        "stores.isna().sum()"
      ],
      "execution_count": null,
      "outputs": [
        {
          "output_type": "execute_result",
          "data": {
            "text/plain": [
              "Store                          0\n",
              "StoreType                      0\n",
              "Assortment                     0\n",
              "CompetitionDistance            0\n",
              "CompetitionOpenSinceMonth    351\n",
              "CompetitionOpenSinceYear     351\n",
              "Promo2                         0\n",
              "Promo2SinceWeek                0\n",
              "Promo2SinceYear                0\n",
              "PromoInterval                  0\n",
              "dtype: int64"
            ]
          },
          "metadata": {},
          "execution_count": 31
        }
      ]
    },
    {
      "cell_type": "code",
      "metadata": {
        "id": "jtBqXR3O6ybV"
      },
      "source": [
        "#stores[stores['Promo2SinceYear']!=0]['Promo2SinceYear'].describe()"
      ],
      "execution_count": null,
      "outputs": []
    },
    {
      "cell_type": "code",
      "metadata": {
        "id": "0ZqwukEo7ecO",
        "colab": {
          "base_uri": "https://localhost:8080/"
        },
        "outputId": "20b7c925-a21a-4a59-ff39-6d407c64095b"
      },
      "source": [
        "## Check the CompetitionOpenSinceYear year range\n",
        "stores['CompetitionOpenSinceYear'].describe()"
      ],
      "execution_count": null,
      "outputs": [
        {
          "output_type": "execute_result",
          "data": {
            "text/plain": [
              "count      764.000000\n",
              "mean      2298.660995\n",
              "std       4621.710349\n",
              "min       1900.000000\n",
              "25%       2006.000000\n",
              "50%       2010.000000\n",
              "75%       2013.000000\n",
              "max      75860.000000\n",
              "Name: CompetitionOpenSinceYear, dtype: float64"
            ]
          },
          "metadata": {},
          "execution_count": 33
        }
      ]
    },
    {
      "cell_type": "code",
      "metadata": {
        "id": "fLOgOrIm30fi"
      },
      "source": [
        "#stores[~stores['CompetitionOpenSinceYear'].isin([1900,1961])]['CompetitionOpenSinceYear'].min()"
      ],
      "execution_count": null,
      "outputs": []
    },
    {
      "cell_type": "code",
      "metadata": {
        "id": "y8n-QPqj2wba",
        "colab": {
          "base_uri": "https://localhost:8080/"
        },
        "outputId": "0a8b0642-a4f0-4fda-d152-827fec58e7a7"
      },
      "source": [
        "## This is the day since when we have the sales data\n",
        "store_data['Date'].min()"
      ],
      "execution_count": null,
      "outputs": [
        {
          "output_type": "execute_result",
          "data": {
            "text/plain": [
              "Timestamp('2013-01-01 00:00:00')"
            ]
          },
          "metadata": {},
          "execution_count": 35
        }
      ]
    },
    {
      "cell_type": "code",
      "metadata": {
        "id": "rJjHmouO3pxk",
        "colab": {
          "base_uri": "https://localhost:8080/"
        },
        "outputId": "6295f407-e2f6-4ff8-cbaa-f28536118122"
      },
      "source": [
        "stores[stores['Promo2SinceYear']!=0]['Promo2SinceYear'].min()"
      ],
      "execution_count": null,
      "outputs": [
        {
          "output_type": "execute_result",
          "data": {
            "text/plain": [
              "2009.0"
            ]
          },
          "metadata": {},
          "execution_count": 36
        }
      ]
    },
    {
      "cell_type": "code",
      "metadata": {
        "id": "ynVyT73yLgkt"
      },
      "source": [
        "### Not req now, \n",
        "## Equivalent code has been written in below cell\n",
        "### Ref https://www.kaggle.com/shivam017arora/rossmann-sales-prediction-top-1-solution\n",
        "\n",
        "# competition_open = []\n",
        "# for index, value in stores[['CompetitionOpenSinceMonth', 'CompetitionOpenSinceYear']].iterrows():\n",
        "#     try:\n",
        "#         year, month = int(value['CompetitionOpenSinceYear']), int(value['CompetitionOpenSinceMonth'])\n",
        "#         date = pd.to_datetime(\"{}-{}-01\".format(year, month), format='%Y-%m')\n",
        "#         competition_open.append(date)\n",
        "#     except:\n",
        "#         competition_open.append('1813-01-01') # Added a dummy date, 200 yrs less than min sales date\n",
        "# stores['CompetitionOpen'] = pd.Series(competition_open)\n",
        "# stores['CompetitionOpen'] = stores['CompetitionOpen'].dt.strftime('%Y-%m-%d')\n",
        "# stores['CompetitionOpen']= pd.to_datetime(stores['CompetitionOpen'])\n",
        "# #stores['CompetitionOpen']=stores['CompetitionOpen'].map(int)\n",
        "# #stores['CompetitionOpen']=stores['CompetitionOpen'].apply(lambda x:x if x!='2021-10-30' else 0)\n",
        "\n",
        "\n",
        "\n",
        "\n",
        "# promo = []\n",
        "# for index, value in stores[['Promo2SinceWeek', 'Promo2SinceYear']].iterrows():\n",
        "#     try:\n",
        "#         year, week = int(value['Promo2SinceYear']), int(value['Promo2SinceWeek'])\n",
        "#         date = pd.to_datetime(\"{}{}0\".format(year, week), format='%Y%W%w')\n",
        "#         promo.append(date)\n",
        "#     except:\n",
        "#         promo.append('1909-01-01')   ## dummy date\n",
        "# stores['promoYearWeek'] = pd.to_datetime(pd.Series(promo))\n",
        "# stores['promoYearWeek'] = stores['promoYearWeek'].dt.strftime('%Y%m%d')\n",
        "# stores['promoYearWeek']= pd.to_datetime(stores['promoYearWeek'])\n",
        "#stores.loc[stores['promoYearWeek'].isna(),'promoYearWeek'] =0# stores['promoYearWeek'].dt.strftime('%Y%m%d')\n",
        "#stores['promoYearWeek']=stores['promoYearWeek'].map(int)"
      ],
      "execution_count": null,
      "outputs": []
    },
    {
      "cell_type": "code",
      "metadata": {
        "id": "Up5hxd21aahF"
      },
      "source": [
        "#### calculate difference in number of days for competion and promo\n",
        "## Function to change data format\n",
        "def competition_open_yr_mnth(cols):\n",
        "  try:\n",
        "    year, month = int(cols[0]), int(cols[1])\n",
        "    date = pd.to_datetime(\"{}-{}-01\".format(year, month), format='%Y-%m')\n",
        "    return date\n",
        "  except:\n",
        "    return '1813-01-01'  ## Dummy date to identify this data and do transformation afterwards\n",
        "\n",
        "stores['CompetitionOpen']=stores[['CompetitionOpenSinceYear','CompetitionOpenSinceMonth']].apply(competition_open_yr_mnth,axis=1)\n",
        "stores['CompetitionOpen']= stores['CompetitionOpen'].dt.strftime('%Y-%m-%d')\n",
        "stores['CompetitionOpen']= pd.to_datetime(stores['CompetitionOpen'])\n",
        "\n",
        "\n",
        "\n",
        "\n",
        "def promo_yr_wk(cols):\n",
        "  try:\n",
        "    year, week = int(cols[1]), int(cols[0])\n",
        "    date = pd.to_datetime(\"{}{}0\".format(year, week), format='%Y%W%w')\n",
        "    return date\n",
        "  except:\n",
        "    return '1909-01-01' ## dummy date\n",
        "\n",
        "\n",
        "stores['promoYearWeek'] =stores[['Promo2SinceWeek', 'Promo2SinceYear']].apply(promo_yr_wk,axis=1)\n",
        "stores['promoYearWeek'] = stores['promoYearWeek'].dt.strftime('%Y%m%d')\n",
        "stores['promoYearWeek']= pd.to_datetime(stores['promoYearWeek'])"
      ],
      "execution_count": null,
      "outputs": []
    },
    {
      "cell_type": "code",
      "metadata": {
        "id": "_Y_I3sxHjPXS",
        "colab": {
          "base_uri": "https://localhost:8080/",
          "height": 226
        },
        "outputId": "dd35e4c1-0a99-4ce2-bfb1-2d1a27c7f7c8"
      },
      "source": [
        "stores.head()"
      ],
      "execution_count": null,
      "outputs": [
        {
          "output_type": "execute_result",
          "data": {
            "text/html": [
              "<div>\n",
              "<style scoped>\n",
              "    .dataframe tbody tr th:only-of-type {\n",
              "        vertical-align: middle;\n",
              "    }\n",
              "\n",
              "    .dataframe tbody tr th {\n",
              "        vertical-align: top;\n",
              "    }\n",
              "\n",
              "    .dataframe thead th {\n",
              "        text-align: right;\n",
              "    }\n",
              "</style>\n",
              "<table border=\"1\" class=\"dataframe\">\n",
              "  <thead>\n",
              "    <tr style=\"text-align: right;\">\n",
              "      <th></th>\n",
              "      <th>Store</th>\n",
              "      <th>StoreType</th>\n",
              "      <th>Assortment</th>\n",
              "      <th>CompetitionDistance</th>\n",
              "      <th>CompetitionOpenSinceMonth</th>\n",
              "      <th>CompetitionOpenSinceYear</th>\n",
              "      <th>Promo2</th>\n",
              "      <th>Promo2SinceWeek</th>\n",
              "      <th>Promo2SinceYear</th>\n",
              "      <th>PromoInterval</th>\n",
              "      <th>CompetitionOpen</th>\n",
              "      <th>promoYearWeek</th>\n",
              "    </tr>\n",
              "  </thead>\n",
              "  <tbody>\n",
              "    <tr>\n",
              "      <th>0</th>\n",
              "      <td>1</td>\n",
              "      <td>c</td>\n",
              "      <td>a</td>\n",
              "      <td>1270.0</td>\n",
              "      <td>9.0</td>\n",
              "      <td>2008.0</td>\n",
              "      <td>0</td>\n",
              "      <td>0.0</td>\n",
              "      <td>0.0</td>\n",
              "      <td>0</td>\n",
              "      <td>2008-09-01</td>\n",
              "      <td>1909-01-01</td>\n",
              "    </tr>\n",
              "    <tr>\n",
              "      <th>1</th>\n",
              "      <td>2</td>\n",
              "      <td>a</td>\n",
              "      <td>a</td>\n",
              "      <td>570.0</td>\n",
              "      <td>11.0</td>\n",
              "      <td>2007.0</td>\n",
              "      <td>1</td>\n",
              "      <td>13.0</td>\n",
              "      <td>2010.0</td>\n",
              "      <td>Jan,Apr,Jul,Oct</td>\n",
              "      <td>2007-11-01</td>\n",
              "      <td>2010-04-04</td>\n",
              "    </tr>\n",
              "    <tr>\n",
              "      <th>2</th>\n",
              "      <td>3</td>\n",
              "      <td>a</td>\n",
              "      <td>a</td>\n",
              "      <td>14130.0</td>\n",
              "      <td>12.0</td>\n",
              "      <td>2006.0</td>\n",
              "      <td>1</td>\n",
              "      <td>14.0</td>\n",
              "      <td>2011.0</td>\n",
              "      <td>Jan,Apr,Jul,Oct</td>\n",
              "      <td>2006-12-01</td>\n",
              "      <td>2011-04-10</td>\n",
              "    </tr>\n",
              "    <tr>\n",
              "      <th>3</th>\n",
              "      <td>4</td>\n",
              "      <td>c</td>\n",
              "      <td>c</td>\n",
              "      <td>620.0</td>\n",
              "      <td>9.0</td>\n",
              "      <td>2009.0</td>\n",
              "      <td>0</td>\n",
              "      <td>0.0</td>\n",
              "      <td>0.0</td>\n",
              "      <td>0</td>\n",
              "      <td>2009-09-01</td>\n",
              "      <td>1909-01-01</td>\n",
              "    </tr>\n",
              "    <tr>\n",
              "      <th>4</th>\n",
              "      <td>5</td>\n",
              "      <td>a</td>\n",
              "      <td>a</td>\n",
              "      <td>29910.0</td>\n",
              "      <td>4.0</td>\n",
              "      <td>2015.0</td>\n",
              "      <td>0</td>\n",
              "      <td>0.0</td>\n",
              "      <td>0.0</td>\n",
              "      <td>0</td>\n",
              "      <td>2015-04-01</td>\n",
              "      <td>1909-01-01</td>\n",
              "    </tr>\n",
              "  </tbody>\n",
              "</table>\n",
              "</div>"
            ],
            "text/plain": [
              "   Store StoreType Assortment  ...    PromoInterval  CompetitionOpen  promoYearWeek\n",
              "0      1         c          a  ...                0       2008-09-01     1909-01-01\n",
              "1      2         a          a  ...  Jan,Apr,Jul,Oct       2007-11-01     2010-04-04\n",
              "2      3         a          a  ...  Jan,Apr,Jul,Oct       2006-12-01     2011-04-10\n",
              "3      4         c          c  ...                0       2009-09-01     1909-01-01\n",
              "4      5         a          a  ...                0       2015-04-01     1909-01-01\n",
              "\n",
              "[5 rows x 12 columns]"
            ]
          },
          "metadata": {},
          "execution_count": 39
        }
      ]
    },
    {
      "cell_type": "code",
      "metadata": {
        "id": "Hxh77HDms34e"
      },
      "source": [
        "# ## Not req\n",
        "\n",
        "# ## Merge part\n",
        "# date_test=pd.merge(store_data,stores,on='Store')\n",
        "# date_test['day_diff_comp']=(date_test['Date']-date_test['CompetitionOpen']).dt.days\n",
        "# date_test['day_diff_promo']=(date_test['Date']-date_test['promoYearWeek']).dt.days\n",
        "# date_test.loc[date_test['day_diff_comp']>=73000,'day_diff_comp']=0\n",
        "# date_test.loc[date_test['day_diff_promo']>=36500,'day_diff_promo']=0"
      ],
      "execution_count": null,
      "outputs": []
    },
    {
      "cell_type": "code",
      "metadata": {
        "id": "HJSYwHRU9v82"
      },
      "source": [
        "# ## Not req\n",
        "\n",
        "# date_test[date_test['promoYearWeek']=='1909-01-01'].shape"
      ],
      "execution_count": null,
      "outputs": []
    },
    {
      "cell_type": "code",
      "metadata": {
        "id": "12edpayWvEeh"
      },
      "source": [
        "# ## Not req\n",
        "\n",
        "# date_test[date_test['CompetitionOpen']=='1813-01-01'].shape   #(323348, 22)\n",
        "# #date_test['day_diff']\n",
        "# date_test[date_test['day_diff']>=73000].shape"
      ],
      "execution_count": null,
      "outputs": []
    },
    {
      "cell_type": "code",
      "metadata": {
        "id": "r2j6t8vXu9yc"
      },
      "source": [
        "# ### Not req\n",
        "\n",
        "# date_test[(date_test['Promo2SinceWeek']==0) & (date_test['Promo2SinceYear']==0)].shape"
      ],
      "execution_count": null,
      "outputs": []
    },
    {
      "cell_type": "code",
      "metadata": {
        "id": "9Dj2WtMlcMi9",
        "colab": {
          "base_uri": "https://localhost:8080/"
        },
        "outputId": "7c1a3007-7526-4534-f247-ac63169be269"
      },
      "source": [
        "stores.info()"
      ],
      "execution_count": null,
      "outputs": [
        {
          "output_type": "stream",
          "name": "stdout",
          "text": [
            "<class 'pandas.core.frame.DataFrame'>\n",
            "RangeIndex: 1115 entries, 0 to 1114\n",
            "Data columns (total 12 columns):\n",
            " #   Column                     Non-Null Count  Dtype         \n",
            "---  ------                     --------------  -----         \n",
            " 0   Store                      1115 non-null   int64         \n",
            " 1   StoreType                  1115 non-null   object        \n",
            " 2   Assortment                 1115 non-null   object        \n",
            " 3   CompetitionDistance        1115 non-null   float64       \n",
            " 4   CompetitionOpenSinceMonth  764 non-null    float64       \n",
            " 5   CompetitionOpenSinceYear   764 non-null    float64       \n",
            " 6   Promo2                     1115 non-null   int64         \n",
            " 7   Promo2SinceWeek            1115 non-null   float64       \n",
            " 8   Promo2SinceYear            1115 non-null   float64       \n",
            " 9   PromoInterval              1115 non-null   object        \n",
            " 10  CompetitionOpen            1115 non-null   datetime64[ns]\n",
            " 11  promoYearWeek              1115 non-null   datetime64[ns]\n",
            "dtypes: datetime64[ns](2), float64(5), int64(2), object(3)\n",
            "memory usage: 104.7+ KB\n"
          ]
        }
      ]
    },
    {
      "cell_type": "code",
      "metadata": {
        "id": "8c46KtSCWhuW"
      },
      "source": [
        "#stores['CompetitionOpen'].astype(int).describe()"
      ],
      "execution_count": null,
      "outputs": []
    },
    {
      "cell_type": "code",
      "metadata": {
        "id": "PST_x7vjLgTK",
        "colab": {
          "base_uri": "https://localhost:8080/",
          "height": 226
        },
        "outputId": "8161ea2a-e5c7-4051-c930-52f51e5ce894"
      },
      "source": [
        "stores.head()"
      ],
      "execution_count": null,
      "outputs": [
        {
          "output_type": "execute_result",
          "data": {
            "text/html": [
              "<div>\n",
              "<style scoped>\n",
              "    .dataframe tbody tr th:only-of-type {\n",
              "        vertical-align: middle;\n",
              "    }\n",
              "\n",
              "    .dataframe tbody tr th {\n",
              "        vertical-align: top;\n",
              "    }\n",
              "\n",
              "    .dataframe thead th {\n",
              "        text-align: right;\n",
              "    }\n",
              "</style>\n",
              "<table border=\"1\" class=\"dataframe\">\n",
              "  <thead>\n",
              "    <tr style=\"text-align: right;\">\n",
              "      <th></th>\n",
              "      <th>Store</th>\n",
              "      <th>StoreType</th>\n",
              "      <th>Assortment</th>\n",
              "      <th>CompetitionDistance</th>\n",
              "      <th>CompetitionOpenSinceMonth</th>\n",
              "      <th>CompetitionOpenSinceYear</th>\n",
              "      <th>Promo2</th>\n",
              "      <th>Promo2SinceWeek</th>\n",
              "      <th>Promo2SinceYear</th>\n",
              "      <th>PromoInterval</th>\n",
              "      <th>CompetitionOpen</th>\n",
              "      <th>promoYearWeek</th>\n",
              "    </tr>\n",
              "  </thead>\n",
              "  <tbody>\n",
              "    <tr>\n",
              "      <th>0</th>\n",
              "      <td>1</td>\n",
              "      <td>c</td>\n",
              "      <td>a</td>\n",
              "      <td>1270.0</td>\n",
              "      <td>9.0</td>\n",
              "      <td>2008.0</td>\n",
              "      <td>0</td>\n",
              "      <td>0.0</td>\n",
              "      <td>0.0</td>\n",
              "      <td>0</td>\n",
              "      <td>2008-09-01</td>\n",
              "      <td>1909-01-01</td>\n",
              "    </tr>\n",
              "    <tr>\n",
              "      <th>1</th>\n",
              "      <td>2</td>\n",
              "      <td>a</td>\n",
              "      <td>a</td>\n",
              "      <td>570.0</td>\n",
              "      <td>11.0</td>\n",
              "      <td>2007.0</td>\n",
              "      <td>1</td>\n",
              "      <td>13.0</td>\n",
              "      <td>2010.0</td>\n",
              "      <td>Jan,Apr,Jul,Oct</td>\n",
              "      <td>2007-11-01</td>\n",
              "      <td>2010-04-04</td>\n",
              "    </tr>\n",
              "    <tr>\n",
              "      <th>2</th>\n",
              "      <td>3</td>\n",
              "      <td>a</td>\n",
              "      <td>a</td>\n",
              "      <td>14130.0</td>\n",
              "      <td>12.0</td>\n",
              "      <td>2006.0</td>\n",
              "      <td>1</td>\n",
              "      <td>14.0</td>\n",
              "      <td>2011.0</td>\n",
              "      <td>Jan,Apr,Jul,Oct</td>\n",
              "      <td>2006-12-01</td>\n",
              "      <td>2011-04-10</td>\n",
              "    </tr>\n",
              "    <tr>\n",
              "      <th>3</th>\n",
              "      <td>4</td>\n",
              "      <td>c</td>\n",
              "      <td>c</td>\n",
              "      <td>620.0</td>\n",
              "      <td>9.0</td>\n",
              "      <td>2009.0</td>\n",
              "      <td>0</td>\n",
              "      <td>0.0</td>\n",
              "      <td>0.0</td>\n",
              "      <td>0</td>\n",
              "      <td>2009-09-01</td>\n",
              "      <td>1909-01-01</td>\n",
              "    </tr>\n",
              "    <tr>\n",
              "      <th>4</th>\n",
              "      <td>5</td>\n",
              "      <td>a</td>\n",
              "      <td>a</td>\n",
              "      <td>29910.0</td>\n",
              "      <td>4.0</td>\n",
              "      <td>2015.0</td>\n",
              "      <td>0</td>\n",
              "      <td>0.0</td>\n",
              "      <td>0.0</td>\n",
              "      <td>0</td>\n",
              "      <td>2015-04-01</td>\n",
              "      <td>1909-01-01</td>\n",
              "    </tr>\n",
              "  </tbody>\n",
              "</table>\n",
              "</div>"
            ],
            "text/plain": [
              "   Store StoreType Assortment  ...    PromoInterval  CompetitionOpen  promoYearWeek\n",
              "0      1         c          a  ...                0       2008-09-01     1909-01-01\n",
              "1      2         a          a  ...  Jan,Apr,Jul,Oct       2007-11-01     2010-04-04\n",
              "2      3         a          a  ...  Jan,Apr,Jul,Oct       2006-12-01     2011-04-10\n",
              "3      4         c          c  ...                0       2009-09-01     1909-01-01\n",
              "4      5         a          a  ...                0       2015-04-01     1909-01-01\n",
              "\n",
              "[5 rows x 12 columns]"
            ]
          },
          "metadata": {},
          "execution_count": 46
        }
      ]
    },
    {
      "cell_type": "code",
      "metadata": {
        "id": "gwAfBVW5IHmD"
      },
      "source": [
        "## Check the CompetitionOpenSinceMonth values\n",
        "#stores['CompetitionOpenSinceMonth'].describe() ## 1 to 12\n",
        "#stores[stores['CompetitionOpenSinceMonth']<=3]"
      ],
      "execution_count": null,
      "outputs": []
    },
    {
      "cell_type": "code",
      "metadata": {
        "id": "OtrewREeH5s2"
      },
      "source": [
        "#stores[stores['CompetitionOpenSinceYear']==1900]"
      ],
      "execution_count": null,
      "outputs": []
    },
    {
      "cell_type": "code",
      "metadata": {
        "id": "FcmGPx-z6q3O"
      },
      "source": [
        "## For interval, will think afterwards\n",
        "#join_with = stores['PromoInterval'].str.split(',').apply(pd.Series)\n",
        "#join_with.columns = join_with.columns.map(lambda x: str(x) + '_PromoInterval')"
      ],
      "execution_count": null,
      "outputs": []
    },
    {
      "cell_type": "code",
      "metadata": {
        "id": "OFdfOpMm8Ev-"
      },
      "source": [
        ""
      ],
      "execution_count": null,
      "outputs": []
    },
    {
      "cell_type": "code",
      "metadata": {
        "id": "7BvdzCTgpsDp",
        "colab": {
          "base_uri": "https://localhost:8080/"
        },
        "outputId": "2c2161e3-7b4c-48d6-c7c4-79233a32596d"
      },
      "source": [
        "store_data.info()"
      ],
      "execution_count": null,
      "outputs": [
        {
          "output_type": "stream",
          "name": "stdout",
          "text": [
            "<class 'pandas.core.frame.DataFrame'>\n",
            "RangeIndex: 1017209 entries, 0 to 1017208\n",
            "Data columns (total 11 columns):\n",
            " #   Column         Non-Null Count    Dtype         \n",
            "---  ------         --------------    -----         \n",
            " 0   Store          1017209 non-null  int64         \n",
            " 1   DayOfWeek      1017209 non-null  int64         \n",
            " 2   Date           1017209 non-null  datetime64[ns]\n",
            " 3   Sales          1017209 non-null  int64         \n",
            " 4   Customers      1017209 non-null  int64         \n",
            " 5   Open           1017209 non-null  int64         \n",
            " 6   Promo          1017209 non-null  int64         \n",
            " 7   StateHoliday   1017209 non-null  object        \n",
            " 8   SchoolHoliday  1017209 non-null  int64         \n",
            " 9   Year           1017209 non-null  int64         \n",
            " 10  Month          1017209 non-null  int64         \n",
            "dtypes: datetime64[ns](1), int64(9), object(1)\n",
            "memory usage: 85.4+ MB\n"
          ]
        }
      ]
    },
    {
      "cell_type": "code",
      "metadata": {
        "id": "_y0s7hFI3Z68"
      },
      "source": [
        "store_data_merged=pd.merge(store_data,stores,on='Store')"
      ],
      "execution_count": null,
      "outputs": []
    },
    {
      "cell_type": "code",
      "metadata": {
        "id": "kqbhjKGg_U2l"
      },
      "source": [
        "## Calculate the number of days since when the promo started\n",
        "store_data_merged['day_diff_comp']=(store_data_merged['Date']-store_data_merged['CompetitionOpen']).dt.days\n",
        "store_data_merged['day_diff_promo']=(store_data_merged['Date']-store_data_merged['promoYearWeek']).dt.days\n",
        "\n",
        "## Identifying the data based on teh dummy dates and changing them to zero\n",
        "store_data_merged.loc[store_data_merged['day_diff_comp']>=73000,'day_diff_comp']=0\n",
        "store_data_merged.loc[store_data_merged['day_diff_promo']>=36500,'day_diff_promo']=0"
      ],
      "execution_count": null,
      "outputs": []
    },
    {
      "cell_type": "code",
      "metadata": {
        "id": "Pr_XrKm3NcaD"
      },
      "source": [
        "## Sort data in ascending order of date\n",
        "store_data_merged=store_data_merged.sort_values(['Date']).reset_index()"
      ],
      "execution_count": null,
      "outputs": []
    },
    {
      "cell_type": "code",
      "metadata": {
        "id": "1RFr28N8NcWp",
        "colab": {
          "base_uri": "https://localhost:8080/",
          "height": 313
        },
        "outputId": "bc18469f-5e86-4131-bd2b-312c99318fab"
      },
      "source": [
        "store_data_merged.head()"
      ],
      "execution_count": null,
      "outputs": [
        {
          "output_type": "execute_result",
          "data": {
            "text/html": [
              "<div>\n",
              "<style scoped>\n",
              "    .dataframe tbody tr th:only-of-type {\n",
              "        vertical-align: middle;\n",
              "    }\n",
              "\n",
              "    .dataframe tbody tr th {\n",
              "        vertical-align: top;\n",
              "    }\n",
              "\n",
              "    .dataframe thead th {\n",
              "        text-align: right;\n",
              "    }\n",
              "</style>\n",
              "<table border=\"1\" class=\"dataframe\">\n",
              "  <thead>\n",
              "    <tr style=\"text-align: right;\">\n",
              "      <th></th>\n",
              "      <th>index</th>\n",
              "      <th>Store</th>\n",
              "      <th>DayOfWeek</th>\n",
              "      <th>Date</th>\n",
              "      <th>Sales</th>\n",
              "      <th>Customers</th>\n",
              "      <th>Open</th>\n",
              "      <th>Promo</th>\n",
              "      <th>StateHoliday</th>\n",
              "      <th>SchoolHoliday</th>\n",
              "      <th>Year</th>\n",
              "      <th>Month</th>\n",
              "      <th>StoreType</th>\n",
              "      <th>Assortment</th>\n",
              "      <th>CompetitionDistance</th>\n",
              "      <th>CompetitionOpenSinceMonth</th>\n",
              "      <th>CompetitionOpenSinceYear</th>\n",
              "      <th>Promo2</th>\n",
              "      <th>Promo2SinceWeek</th>\n",
              "      <th>Promo2SinceYear</th>\n",
              "      <th>PromoInterval</th>\n",
              "      <th>CompetitionOpen</th>\n",
              "      <th>promoYearWeek</th>\n",
              "      <th>day_diff_comp</th>\n",
              "      <th>day_diff_promo</th>\n",
              "    </tr>\n",
              "  </thead>\n",
              "  <tbody>\n",
              "    <tr>\n",
              "      <th>0</th>\n",
              "      <td>1014566</td>\n",
              "      <td>1115</td>\n",
              "      <td>2</td>\n",
              "      <td>2013-01-01</td>\n",
              "      <td>0</td>\n",
              "      <td>0</td>\n",
              "      <td>0</td>\n",
              "      <td>0</td>\n",
              "      <td>a</td>\n",
              "      <td>1</td>\n",
              "      <td>2013</td>\n",
              "      <td>1</td>\n",
              "      <td>d</td>\n",
              "      <td>c</td>\n",
              "      <td>5350.0</td>\n",
              "      <td>NaN</td>\n",
              "      <td>NaN</td>\n",
              "      <td>1</td>\n",
              "      <td>22.0</td>\n",
              "      <td>2012.0</td>\n",
              "      <td>Mar,Jun,Sept,Dec</td>\n",
              "      <td>1813-01-01</td>\n",
              "      <td>2012-06-03</td>\n",
              "      <td>0</td>\n",
              "      <td>212</td>\n",
              "    </tr>\n",
              "    <tr>\n",
              "      <th>1</th>\n",
              "      <td>458921</td>\n",
              "      <td>504</td>\n",
              "      <td>2</td>\n",
              "      <td>2013-01-01</td>\n",
              "      <td>0</td>\n",
              "      <td>0</td>\n",
              "      <td>0</td>\n",
              "      <td>0</td>\n",
              "      <td>a</td>\n",
              "      <td>1</td>\n",
              "      <td>2013</td>\n",
              "      <td>1</td>\n",
              "      <td>c</td>\n",
              "      <td>c</td>\n",
              "      <td>820.0</td>\n",
              "      <td>NaN</td>\n",
              "      <td>NaN</td>\n",
              "      <td>0</td>\n",
              "      <td>0.0</td>\n",
              "      <td>0.0</td>\n",
              "      <td>0</td>\n",
              "      <td>1813-01-01</td>\n",
              "      <td>1909-01-01</td>\n",
              "      <td>0</td>\n",
              "      <td>0</td>\n",
              "    </tr>\n",
              "    <tr>\n",
              "      <th>2</th>\n",
              "      <td>924068</td>\n",
              "      <td>1016</td>\n",
              "      <td>2</td>\n",
              "      <td>2013-01-01</td>\n",
              "      <td>0</td>\n",
              "      <td>0</td>\n",
              "      <td>0</td>\n",
              "      <td>0</td>\n",
              "      <td>a</td>\n",
              "      <td>1</td>\n",
              "      <td>2013</td>\n",
              "      <td>1</td>\n",
              "      <td>c</td>\n",
              "      <td>c</td>\n",
              "      <td>550.0</td>\n",
              "      <td>NaN</td>\n",
              "      <td>NaN</td>\n",
              "      <td>1</td>\n",
              "      <td>35.0</td>\n",
              "      <td>2010.0</td>\n",
              "      <td>Mar,Jun,Sept,Dec</td>\n",
              "      <td>1813-01-01</td>\n",
              "      <td>2010-09-05</td>\n",
              "      <td>0</td>\n",
              "      <td>849</td>\n",
              "    </tr>\n",
              "    <tr>\n",
              "      <th>3</th>\n",
              "      <td>220625</td>\n",
              "      <td>243</td>\n",
              "      <td>2</td>\n",
              "      <td>2013-01-01</td>\n",
              "      <td>0</td>\n",
              "      <td>0</td>\n",
              "      <td>0</td>\n",
              "      <td>0</td>\n",
              "      <td>a</td>\n",
              "      <td>1</td>\n",
              "      <td>2013</td>\n",
              "      <td>1</td>\n",
              "      <td>a</td>\n",
              "      <td>a</td>\n",
              "      <td>310.0</td>\n",
              "      <td>NaN</td>\n",
              "      <td>NaN</td>\n",
              "      <td>1</td>\n",
              "      <td>5.0</td>\n",
              "      <td>2013.0</td>\n",
              "      <td>Feb,May,Aug,Nov</td>\n",
              "      <td>1813-01-01</td>\n",
              "      <td>2013-02-10</td>\n",
              "      <td>0</td>\n",
              "      <td>-40</td>\n",
              "    </tr>\n",
              "    <tr>\n",
              "      <th>4</th>\n",
              "      <td>2825</td>\n",
              "      <td>3</td>\n",
              "      <td>2</td>\n",
              "      <td>2013-01-01</td>\n",
              "      <td>0</td>\n",
              "      <td>0</td>\n",
              "      <td>0</td>\n",
              "      <td>0</td>\n",
              "      <td>a</td>\n",
              "      <td>1</td>\n",
              "      <td>2013</td>\n",
              "      <td>1</td>\n",
              "      <td>a</td>\n",
              "      <td>a</td>\n",
              "      <td>14130.0</td>\n",
              "      <td>12.0</td>\n",
              "      <td>2006.0</td>\n",
              "      <td>1</td>\n",
              "      <td>14.0</td>\n",
              "      <td>2011.0</td>\n",
              "      <td>Jan,Apr,Jul,Oct</td>\n",
              "      <td>2006-12-01</td>\n",
              "      <td>2011-04-10</td>\n",
              "      <td>2223</td>\n",
              "      <td>632</td>\n",
              "    </tr>\n",
              "  </tbody>\n",
              "</table>\n",
              "</div>"
            ],
            "text/plain": [
              "     index  Store  DayOfWeek  ... promoYearWeek  day_diff_comp  day_diff_promo\n",
              "0  1014566   1115          2  ...    2012-06-03              0             212\n",
              "1   458921    504          2  ...    1909-01-01              0               0\n",
              "2   924068   1016          2  ...    2010-09-05              0             849\n",
              "3   220625    243          2  ...    2013-02-10              0             -40\n",
              "4     2825      3          2  ...    2011-04-10           2223             632\n",
              "\n",
              "[5 rows x 25 columns]"
            ]
          },
          "metadata": {},
          "execution_count": 54
        }
      ]
    },
    {
      "cell_type": "code",
      "metadata": {
        "id": "hURjt2fVOi4Y",
        "colab": {
          "base_uri": "https://localhost:8080/",
          "height": 167
        },
        "outputId": "490ab3af-0097-4d81-81c9-daca3e76abc5"
      },
      "source": [
        "## Get index of data for last year from March to test\n",
        "store_data_merged[(store_data_merged['Year']==2015) & (store_data_merged['Month']>=3)].head(2) ## 844431"
      ],
      "execution_count": null,
      "outputs": [
        {
          "output_type": "execute_result",
          "data": {
            "text/html": [
              "<div>\n",
              "<style scoped>\n",
              "    .dataframe tbody tr th:only-of-type {\n",
              "        vertical-align: middle;\n",
              "    }\n",
              "\n",
              "    .dataframe tbody tr th {\n",
              "        vertical-align: top;\n",
              "    }\n",
              "\n",
              "    .dataframe thead th {\n",
              "        text-align: right;\n",
              "    }\n",
              "</style>\n",
              "<table border=\"1\" class=\"dataframe\">\n",
              "  <thead>\n",
              "    <tr style=\"text-align: right;\">\n",
              "      <th></th>\n",
              "      <th>index</th>\n",
              "      <th>Store</th>\n",
              "      <th>DayOfWeek</th>\n",
              "      <th>Date</th>\n",
              "      <th>Sales</th>\n",
              "      <th>Customers</th>\n",
              "      <th>Open</th>\n",
              "      <th>Promo</th>\n",
              "      <th>StateHoliday</th>\n",
              "      <th>SchoolHoliday</th>\n",
              "      <th>Year</th>\n",
              "      <th>Month</th>\n",
              "      <th>StoreType</th>\n",
              "      <th>Assortment</th>\n",
              "      <th>CompetitionDistance</th>\n",
              "      <th>CompetitionOpenSinceMonth</th>\n",
              "      <th>CompetitionOpenSinceYear</th>\n",
              "      <th>Promo2</th>\n",
              "      <th>Promo2SinceWeek</th>\n",
              "      <th>Promo2SinceYear</th>\n",
              "      <th>PromoInterval</th>\n",
              "      <th>CompetitionOpen</th>\n",
              "      <th>promoYearWeek</th>\n",
              "      <th>day_diff_comp</th>\n",
              "      <th>day_diff_promo</th>\n",
              "    </tr>\n",
              "  </thead>\n",
              "  <tbody>\n",
              "    <tr>\n",
              "      <th>844431</th>\n",
              "      <td>1094</td>\n",
              "      <td>2</td>\n",
              "      <td>7</td>\n",
              "      <td>2015-03-01</td>\n",
              "      <td>0</td>\n",
              "      <td>0</td>\n",
              "      <td>0</td>\n",
              "      <td>0</td>\n",
              "      <td>0</td>\n",
              "      <td>0</td>\n",
              "      <td>2015</td>\n",
              "      <td>3</td>\n",
              "      <td>a</td>\n",
              "      <td>a</td>\n",
              "      <td>570.0</td>\n",
              "      <td>11.0</td>\n",
              "      <td>2007.0</td>\n",
              "      <td>1</td>\n",
              "      <td>13.0</td>\n",
              "      <td>2010.0</td>\n",
              "      <td>Jan,Apr,Jul,Oct</td>\n",
              "      <td>2007-11-01</td>\n",
              "      <td>2010-04-04</td>\n",
              "      <td>2677</td>\n",
              "      <td>1792</td>\n",
              "    </tr>\n",
              "    <tr>\n",
              "      <th>844432</th>\n",
              "      <td>507160</td>\n",
              "      <td>558</td>\n",
              "      <td>7</td>\n",
              "      <td>2015-03-01</td>\n",
              "      <td>0</td>\n",
              "      <td>0</td>\n",
              "      <td>0</td>\n",
              "      <td>0</td>\n",
              "      <td>0</td>\n",
              "      <td>0</td>\n",
              "      <td>2015</td>\n",
              "      <td>3</td>\n",
              "      <td>a</td>\n",
              "      <td>a</td>\n",
              "      <td>3000.0</td>\n",
              "      <td>2.0</td>\n",
              "      <td>2010.0</td>\n",
              "      <td>0</td>\n",
              "      <td>0.0</td>\n",
              "      <td>0.0</td>\n",
              "      <td>0</td>\n",
              "      <td>2010-02-01</td>\n",
              "      <td>1909-01-01</td>\n",
              "      <td>1854</td>\n",
              "      <td>0</td>\n",
              "    </tr>\n",
              "  </tbody>\n",
              "</table>\n",
              "</div>"
            ],
            "text/plain": [
              "         index  Store  DayOfWeek  ... promoYearWeek  day_diff_comp  day_diff_promo\n",
              "844431    1094      2          7  ...    2010-04-04           2677            1792\n",
              "844432  507160    558          7  ...    1909-01-01           1854               0\n",
              "\n",
              "[2 rows x 25 columns]"
            ]
          },
          "metadata": {},
          "execution_count": 55
        }
      ]
    },
    {
      "cell_type": "code",
      "metadata": {
        "id": "Bo8gs2tjPFlX",
        "colab": {
          "base_uri": "https://localhost:8080/"
        },
        "outputId": "707cb9c1-d463-43b1-cd86-b35a168b0b68"
      },
      "source": [
        "170136/len(store_data_merged) ## 16 % of data to test"
      ],
      "execution_count": null,
      "outputs": [
        {
          "output_type": "execute_result",
          "data": {
            "text/plain": [
              "0.16769321296671388"
            ]
          },
          "metadata": {},
          "execution_count": 56
        }
      ]
    },
    {
      "cell_type": "code",
      "metadata": {
        "id": "a_NVlAFaQHmA",
        "colab": {
          "base_uri": "https://localhost:8080/"
        },
        "outputId": "79358eac-17f3-4f74-fb77-f242af254ea1"
      },
      "source": [
        "store_data_merged.columns"
      ],
      "execution_count": null,
      "outputs": [
        {
          "output_type": "execute_result",
          "data": {
            "text/plain": [
              "Index(['index', 'Store', 'DayOfWeek', 'Date', 'Sales', 'Customers', 'Open',\n",
              "       'Promo', 'StateHoliday', 'SchoolHoliday', 'Year', 'Month', 'StoreType',\n",
              "       'Assortment', 'CompetitionDistance', 'CompetitionOpenSinceMonth',\n",
              "       'CompetitionOpenSinceYear', 'Promo2', 'Promo2SinceWeek',\n",
              "       'Promo2SinceYear', 'PromoInterval', 'CompetitionOpen', 'promoYearWeek',\n",
              "       'day_diff_comp', 'day_diff_promo'],\n",
              "      dtype='object')"
            ]
          },
          "metadata": {},
          "execution_count": 57
        }
      ]
    },
    {
      "cell_type": "code",
      "metadata": {
        "id": "5hDdDMnX_aZV"
      },
      "source": [
        "store_data_merged.drop(columns=['index','Date','CompetitionOpenSinceYear','CompetitionOpenSinceMonth','Promo2SinceWeek','Promo2SinceYear','PromoInterval','CompetitionOpen','promoYearWeek'],inplace=True)"
      ],
      "execution_count": null,
      "outputs": []
    },
    {
      "cell_type": "code",
      "metadata": {
        "id": "6YRZJ8gz_aWE",
        "colab": {
          "base_uri": "https://localhost:8080/",
          "height": 226
        },
        "outputId": "99497214-1c05-4c3f-cc4e-6e8a3176caa4"
      },
      "source": [
        "#store_data.drop(columns='Date',inplace=True)\n",
        "store_data_merged.head()"
      ],
      "execution_count": null,
      "outputs": [
        {
          "output_type": "execute_result",
          "data": {
            "text/html": [
              "<div>\n",
              "<style scoped>\n",
              "    .dataframe tbody tr th:only-of-type {\n",
              "        vertical-align: middle;\n",
              "    }\n",
              "\n",
              "    .dataframe tbody tr th {\n",
              "        vertical-align: top;\n",
              "    }\n",
              "\n",
              "    .dataframe thead th {\n",
              "        text-align: right;\n",
              "    }\n",
              "</style>\n",
              "<table border=\"1\" class=\"dataframe\">\n",
              "  <thead>\n",
              "    <tr style=\"text-align: right;\">\n",
              "      <th></th>\n",
              "      <th>Store</th>\n",
              "      <th>DayOfWeek</th>\n",
              "      <th>Sales</th>\n",
              "      <th>Customers</th>\n",
              "      <th>Open</th>\n",
              "      <th>Promo</th>\n",
              "      <th>StateHoliday</th>\n",
              "      <th>SchoolHoliday</th>\n",
              "      <th>Year</th>\n",
              "      <th>Month</th>\n",
              "      <th>StoreType</th>\n",
              "      <th>Assortment</th>\n",
              "      <th>CompetitionDistance</th>\n",
              "      <th>Promo2</th>\n",
              "      <th>day_diff_comp</th>\n",
              "      <th>day_diff_promo</th>\n",
              "    </tr>\n",
              "  </thead>\n",
              "  <tbody>\n",
              "    <tr>\n",
              "      <th>0</th>\n",
              "      <td>1115</td>\n",
              "      <td>2</td>\n",
              "      <td>0</td>\n",
              "      <td>0</td>\n",
              "      <td>0</td>\n",
              "      <td>0</td>\n",
              "      <td>a</td>\n",
              "      <td>1</td>\n",
              "      <td>2013</td>\n",
              "      <td>1</td>\n",
              "      <td>d</td>\n",
              "      <td>c</td>\n",
              "      <td>5350.0</td>\n",
              "      <td>1</td>\n",
              "      <td>0</td>\n",
              "      <td>212</td>\n",
              "    </tr>\n",
              "    <tr>\n",
              "      <th>1</th>\n",
              "      <td>504</td>\n",
              "      <td>2</td>\n",
              "      <td>0</td>\n",
              "      <td>0</td>\n",
              "      <td>0</td>\n",
              "      <td>0</td>\n",
              "      <td>a</td>\n",
              "      <td>1</td>\n",
              "      <td>2013</td>\n",
              "      <td>1</td>\n",
              "      <td>c</td>\n",
              "      <td>c</td>\n",
              "      <td>820.0</td>\n",
              "      <td>0</td>\n",
              "      <td>0</td>\n",
              "      <td>0</td>\n",
              "    </tr>\n",
              "    <tr>\n",
              "      <th>2</th>\n",
              "      <td>1016</td>\n",
              "      <td>2</td>\n",
              "      <td>0</td>\n",
              "      <td>0</td>\n",
              "      <td>0</td>\n",
              "      <td>0</td>\n",
              "      <td>a</td>\n",
              "      <td>1</td>\n",
              "      <td>2013</td>\n",
              "      <td>1</td>\n",
              "      <td>c</td>\n",
              "      <td>c</td>\n",
              "      <td>550.0</td>\n",
              "      <td>1</td>\n",
              "      <td>0</td>\n",
              "      <td>849</td>\n",
              "    </tr>\n",
              "    <tr>\n",
              "      <th>3</th>\n",
              "      <td>243</td>\n",
              "      <td>2</td>\n",
              "      <td>0</td>\n",
              "      <td>0</td>\n",
              "      <td>0</td>\n",
              "      <td>0</td>\n",
              "      <td>a</td>\n",
              "      <td>1</td>\n",
              "      <td>2013</td>\n",
              "      <td>1</td>\n",
              "      <td>a</td>\n",
              "      <td>a</td>\n",
              "      <td>310.0</td>\n",
              "      <td>1</td>\n",
              "      <td>0</td>\n",
              "      <td>-40</td>\n",
              "    </tr>\n",
              "    <tr>\n",
              "      <th>4</th>\n",
              "      <td>3</td>\n",
              "      <td>2</td>\n",
              "      <td>0</td>\n",
              "      <td>0</td>\n",
              "      <td>0</td>\n",
              "      <td>0</td>\n",
              "      <td>a</td>\n",
              "      <td>1</td>\n",
              "      <td>2013</td>\n",
              "      <td>1</td>\n",
              "      <td>a</td>\n",
              "      <td>a</td>\n",
              "      <td>14130.0</td>\n",
              "      <td>1</td>\n",
              "      <td>2223</td>\n",
              "      <td>632</td>\n",
              "    </tr>\n",
              "  </tbody>\n",
              "</table>\n",
              "</div>"
            ],
            "text/plain": [
              "   Store  DayOfWeek  Sales  ...  Promo2  day_diff_comp  day_diff_promo\n",
              "0   1115          2      0  ...       1              0             212\n",
              "1    504          2      0  ...       0              0               0\n",
              "2   1016          2      0  ...       1              0             849\n",
              "3    243          2      0  ...       1              0             -40\n",
              "4      3          2      0  ...       1           2223             632\n",
              "\n",
              "[5 rows x 16 columns]"
            ]
          },
          "metadata": {},
          "execution_count": 59
        }
      ]
    },
    {
      "cell_type": "code",
      "metadata": {
        "id": "2EutY3SO_aTN",
        "colab": {
          "base_uri": "https://localhost:8080/"
        },
        "outputId": "c3e262ec-597e-4798-841b-d84bde60e4b4"
      },
      "source": [
        "store_data_merged.info()"
      ],
      "execution_count": null,
      "outputs": [
        {
          "output_type": "stream",
          "name": "stdout",
          "text": [
            "<class 'pandas.core.frame.DataFrame'>\n",
            "RangeIndex: 1014567 entries, 0 to 1014566\n",
            "Data columns (total 16 columns):\n",
            " #   Column               Non-Null Count    Dtype  \n",
            "---  ------               --------------    -----  \n",
            " 0   Store                1014567 non-null  int64  \n",
            " 1   DayOfWeek            1014567 non-null  int64  \n",
            " 2   Sales                1014567 non-null  int64  \n",
            " 3   Customers            1014567 non-null  int64  \n",
            " 4   Open                 1014567 non-null  int64  \n",
            " 5   Promo                1014567 non-null  int64  \n",
            " 6   StateHoliday         1014567 non-null  object \n",
            " 7   SchoolHoliday        1014567 non-null  int64  \n",
            " 8   Year                 1014567 non-null  int64  \n",
            " 9   Month                1014567 non-null  int64  \n",
            " 10  StoreType            1014567 non-null  object \n",
            " 11  Assortment           1014567 non-null  object \n",
            " 12  CompetitionDistance  1014567 non-null  float64\n",
            " 13  Promo2               1014567 non-null  int64  \n",
            " 14  day_diff_comp        1014567 non-null  int64  \n",
            " 15  day_diff_promo       1014567 non-null  int64  \n",
            "dtypes: float64(1), int64(12), object(3)\n",
            "memory usage: 123.8+ MB\n"
          ]
        }
      ]
    },
    {
      "cell_type": "code",
      "metadata": {
        "id": "DjZr7By-CddJ"
      },
      "source": [
        "## Convert datatype of CompetitionDistance from \n",
        "store_data_merged['CompetitionDistance']=store_data_merged['CompetitionDistance'].astype(int)"
      ],
      "execution_count": null,
      "outputs": []
    },
    {
      "cell_type": "code",
      "metadata": {
        "id": "dXN7o86qp5Yx"
      },
      "source": [
        "## Encoding Assortment with numerical values\n",
        "store_data_merged['Assortment']=store_data_merged['Assortment'].apply(lambda x: 1 if x=='a' else (2 if x=='b' else 3))"
      ],
      "execution_count": null,
      "outputs": []
    },
    {
      "cell_type": "code",
      "metadata": {
        "id": "27ks5IG-p5VV"
      },
      "source": [
        "## Create Dummy variables for object type data\n",
        "store_data_final=pd.get_dummies(store_data_merged,drop_first=True)"
      ],
      "execution_count": null,
      "outputs": []
    },
    {
      "cell_type": "code",
      "metadata": {
        "id": "-_BLHL5Xp5S2",
        "colab": {
          "base_uri": "https://localhost:8080/"
        },
        "outputId": "f3e1545f-1e2f-49ab-fb75-69ab6ede4b10"
      },
      "source": [
        "## Check presence of null in data\n",
        "store_data_final.isna().sum().sum()\n"
      ],
      "execution_count": null,
      "outputs": [
        {
          "output_type": "execute_result",
          "data": {
            "text/plain": [
              "0"
            ]
          },
          "metadata": {},
          "execution_count": 64
        }
      ]
    },
    {
      "cell_type": "code",
      "metadata": {
        "id": "Y5YSrPvsrf6j"
      },
      "source": [
        "############ Final Data store_data_final"
      ],
      "execution_count": null,
      "outputs": []
    },
    {
      "cell_type": "code",
      "metadata": {
        "id": "RUUFBWAjlMtC"
      },
      "source": [
        "## Import libraries for Lin Reg\n",
        "#from sklearn.model_selection import train_test_split\n",
        "from sklearn.linear_model import LinearRegression\n",
        "from sklearn.metrics import r2_score\n",
        "from sklearn.metrics import mean_squared_error\n",
        "from sklearn.preprocessing import StandardScaler"
      ],
      "execution_count": null,
      "outputs": []
    },
    {
      "cell_type": "code",
      "metadata": {
        "id": "xYwTyxoZZwUN"
      },
      "source": [
        "################################"
      ],
      "execution_count": null,
      "outputs": []
    },
    {
      "cell_type": "code",
      "metadata": {
        "id": "THBAyGWxYrxN"
      },
      "source": [
        "## Converting Day of Week to object type\n",
        "store_data_merged['DayOfWeek']=store_data_merged['DayOfWeek'].astype(object)"
      ],
      "execution_count": null,
      "outputs": []
    },
    {
      "cell_type": "markdown",
      "metadata": {
        "id": "8eHq6tluPUha"
      },
      "source": [
        "Since the Day of Week is in number, a regression model will fit coefficients based on number. So instead of that it can be converted to object type so as to get categories out of it. Our model can then predict based on the categories."
      ]
    },
    {
      "cell_type": "code",
      "metadata": {
        "id": "jcECUtMAYrsA"
      },
      "source": [
        "store_data_final=pd.get_dummies(store_data_merged,drop_first=True)"
      ],
      "execution_count": null,
      "outputs": []
    },
    {
      "cell_type": "markdown",
      "metadata": {
        "id": "DhzDvF09QrZv"
      },
      "source": [
        "Here we get the final dataset with all the feature transformations. This data can be put into the machine learning models."
      ]
    },
    {
      "cell_type": "code",
      "metadata": {
        "id": "yg6ax_rXuDeS"
      },
      "source": [
        "## Divide data into train and test\n",
        "## Index based split to test sales for last few months instead of selecting randomly from dataset\n",
        "store_data_train=store_data_final.iloc[0:844431]\n",
        "store_data_test=store_data_final.iloc[844431:]"
      ],
      "execution_count": null,
      "outputs": []
    },
    {
      "cell_type": "markdown",
      "metadata": {
        "id": "aD4NYIVURUTb"
      },
      "source": [
        "The data had been sorted according to the sales date in ascending order. So the last record represents the latest sales data. Hence, the data has been split into train and test dataset in a way so that we can use the data from last few months to test the accuracy of our model."
      ]
    },
    {
      "cell_type": "code",
      "metadata": {
        "id": "OXChBKaOYsmH"
      },
      "source": [
        "## Separating the target variable from both train and test dataset and converting the dataframe into numpy array.\n",
        "X_train=store_data_train.drop(['Sales','Store'],axis=1).to_numpy()\n",
        "y_train=store_data_train['Sales'].to_numpy()\n",
        "\n",
        "X_test=store_data_test.drop(['Sales','Store'],axis=1).to_numpy()\n",
        "y_test=store_data_test['Sales'].to_numpy()"
      ],
      "execution_count": null,
      "outputs": []
    },
    {
      "cell_type": "markdown",
      "metadata": {
        "id": "pZsKsjwMR3li"
      },
      "source": [
        "In this step the target variable is separated from the independent features. Then it is further converted from DataFrame to numpy array as the regression algorithms accept arrays."
      ]
    },
    {
      "cell_type": "code",
      "metadata": {
        "id": "ZHSItRT_YsmI"
      },
      "source": [
        "## Standardisation of data so that it can be used for regression model\n",
        "scaler = StandardScaler()\n",
        "X_train = scaler.fit_transform(X_train)\n",
        "## Using the paarmeters from Standard scaler to transform test dataset\n",
        "X_test = scaler.transform(X_test)"
      ],
      "execution_count": null,
      "outputs": []
    },
    {
      "cell_type": "markdown",
      "metadata": {
        "id": "Kb1dsnX5Snlb"
      },
      "source": [
        "The training data is Standardised by invoking the StandardScaler libraray from sklearn and then the fit's parameters is used to transform the test dataset."
      ]
    },
    {
      "cell_type": "code",
      "metadata": {
        "id": "cHH64U3IYsmI",
        "colab": {
          "base_uri": "https://localhost:8080/"
        },
        "outputId": "edf0708c-d5a4-4a12-b75e-470fda1d917f"
      },
      "source": [
        "## Test using a simple regression model\n",
        "regressor = LinearRegression()\n",
        "regressor.fit(X_train, y_train)\n",
        "\n",
        "## fit_intercept=False increases the mse value, so fitting the intercept"
      ],
      "execution_count": null,
      "outputs": [
        {
          "output_type": "execute_result",
          "data": {
            "text/plain": [
              "LinearRegression(copy_X=True, fit_intercept=True, n_jobs=None, normalize=False)"
            ]
          },
          "metadata": {},
          "execution_count": 73
        }
      ]
    },
    {
      "cell_type": "markdown",
      "metadata": {
        "id": "t3IqGvWUZjJR"
      },
      "source": [
        "This is the first elementary model that is being implemented on our dataset."
      ]
    },
    {
      "cell_type": "code",
      "metadata": {
        "id": "xsVZNcXRYsmI",
        "colab": {
          "base_uri": "https://localhost:8080/"
        },
        "outputId": "0e8c6330-804a-4fa9-eea2-b0d0ffb8571e"
      },
      "source": [
        "print(regressor.intercept_)\n",
        "reg_coeff=list(regressor.coef_)\n",
        "print(reg_coeff)"
      ],
      "execution_count": null,
      "outputs": [
        {
          "output_type": "stream",
          "name": "stdout",
          "text": [
            "5744.562405927785\n",
            "[3344.5536676319643, 404.88603663974465, 595.8100791972267, 33.67936187579768, 43.16913881221428, 90.22206646563929, 115.52135520288599, 154.55393341783954, 48.28281608924983, 24.505527050949535, 88.69238470759365, -169.57143406162334, -218.37053004006927, -241.26803742638486, -190.70525458171645, -73.83523419513718, -103.65503517040774, -29.333735248538073, -46.78482693200795, 10.225630001989373, -646.5541482473793, -44.339226551496125, 419.2245703285424]\n"
          ]
        }
      ]
    },
    {
      "cell_type": "code",
      "metadata": {
        "id": "GAiif2WJYsmI"
      },
      "source": [
        "# Predict the Train data using model parameters\n",
        "y_pred_train = regressor.predict(X_train)\n",
        "# Predict the Test data\n",
        "y_pred = regressor.predict(X_test)"
      ],
      "execution_count": null,
      "outputs": []
    },
    {
      "cell_type": "markdown",
      "metadata": {
        "id": "APw1yxEvZ8Ip"
      },
      "source": [
        "After fitting the model we predict the target that is Sales for both train and test dataset."
      ]
    },
    {
      "cell_type": "code",
      "metadata": {
        "id": "PvuNjvQvYsmJ",
        "colab": {
          "base_uri": "https://localhost:8080/"
        },
        "outputId": "d01c8fd9-8277-4696-f6b1-1b0017fd3bc3"
      },
      "source": [
        "# Train data performance\n",
        "print(\"Mean Square error for training dataset: {:.2f}\".format(math.sqrt(mean_squared_error(y_train, y_pred_train))))\n",
        "# Test data performance\n",
        "print(\"Mean Square error for test dataset: {:.2f}\".format(math.sqrt(mean_squared_error(y_test, y_pred))))"
      ],
      "execution_count": null,
      "outputs": [
        {
          "output_type": "stream",
          "name": "stdout",
          "text": [
            "Mean Square error for training dataset: 1214.88\n",
            "Mean Square error for test dataset: 1284.44\n"
          ]
        }
      ]
    },
    {
      "cell_type": "markdown",
      "metadata": {
        "id": "7yV7pni8aK0R"
      },
      "source": [
        "Mean Square error for test dataset should be more than the tarin datset. "
      ]
    },
    {
      "cell_type": "code",
      "metadata": {
        "id": "hqli5MMyYsmJ",
        "colab": {
          "base_uri": "https://localhost:8080/"
        },
        "outputId": "024c58d2-84e7-4b04-e7be-86f723ec47b8"
      },
      "source": [
        "## calculate R-square Score for train dataset\n",
        "print(\"R2 Score for train dataset: {:.4f}\".format(r2_score(y_train, y_pred_train)))"
      ],
      "execution_count": null,
      "outputs": [
        {
          "output_type": "stream",
          "name": "stdout",
          "text": [
            "R2 Score for train dataset: 0.8995\n"
          ]
        }
      ]
    },
    {
      "cell_type": "markdown",
      "metadata": {
        "id": "BKi22ciCabEy"
      },
      "source": [
        "We also calculate the R-square value for train datset and find it to be close to 90%."
      ]
    },
    {
      "cell_type": "code",
      "metadata": {
        "id": "UxU79A6-YsmJ",
        "colab": {
          "base_uri": "https://localhost:8080/"
        },
        "outputId": "74c9e025-e4b0-4c61-aacc-02ae0a9bee76"
      },
      "source": [
        "## calculate R-square Score for test dataset\n",
        "r2=r2_score(y_test, y_pred)\n",
        "print(\"R2 Score for test dataset: {:.4f}\".format(r2))\n",
        "## Adjusted R square\n",
        "r2_adj=1-(1-r2)*((X_test.shape[0]-1)/(X_test.shape[0]-X_test.shape[1]-1))\n",
        "print(\"Adjusted R-square value for test dataset : {:.4f}\".format(r2_adj))"
      ],
      "execution_count": null,
      "outputs": [
        {
          "output_type": "stream",
          "name": "stdout",
          "text": [
            "R2 Score for test dataset: 0.8936\n",
            "Adjusted R-square value for test dataset : 0.8936\n"
          ]
        }
      ]
    },
    {
      "cell_type": "markdown",
      "metadata": {
        "id": "Is_yw_3iamN7"
      },
      "source": [
        "Using the predictions on test dataset we calculate the R-square and Adjusted R2-square value."
      ]
    },
    {
      "cell_type": "code",
      "metadata": {
        "id": "iBNAECyHYsmJ"
      },
      "source": [
        "# Storing the scors in a list so that it can be compared with scores from other models at the end.\n",
        "linreg_scores=list([r2,r2_adj])"
      ],
      "execution_count": null,
      "outputs": []
    },
    {
      "cell_type": "code",
      "metadata": {
        "id": "tlG0Y25WYsmJ"
      },
      "source": [
        "# Looking at the Test and predicted data side by side\n",
        "#pd.DataFrame({'Test': y_test, 'Pred': y_pred})\n"
      ],
      "execution_count": null,
      "outputs": []
    },
    {
      "cell_type": "code",
      "metadata": {
        "id": "tHPQ_L74YsmJ"
      },
      "source": [
        "from sklearn.feature_selection import RFE\n",
        "from sklearn.model_selection import cross_val_score\n",
        "from sklearn.model_selection import KFold\n",
        "\n",
        "from sklearn.model_selection import GridSearchCV"
      ],
      "execution_count": null,
      "outputs": []
    },
    {
      "cell_type": "code",
      "metadata": {
        "id": "CSd84ze1YsmJ",
        "colab": {
          "base_uri": "https://localhost:8080/"
        },
        "outputId": "2cd48c58-1778-46d0-babd-54e67dfb8856"
      },
      "source": [
        "# Fit a LinearRegression model using cross validation\n",
        "lm = LinearRegression()\n",
        "# create a KFold object with 5 splits \n",
        "folds = KFold(n_splits = 5, shuffle = True, random_state = 100)\n",
        "scores = cross_val_score(lm, X_train, y_train, scoring='r2', cv=folds)\n",
        "for i,j in enumerate(scores):\n",
        "  print(\"R-square value after {} iteration: {:.4f}\".format(i+1,j))\n"
      ],
      "execution_count": null,
      "outputs": [
        {
          "output_type": "stream",
          "name": "stdout",
          "text": [
            "R-square value after 1 iteration: 0.8983\n",
            "R-square value after 2 iteration: 0.9002\n",
            "R-square value after 3 iteration: 0.9010\n",
            "R-square value after 4 iteration: 0.8994\n",
            "R-square value after 5 iteration: 0.8987\n"
          ]
        }
      ]
    },
    {
      "cell_type": "markdown",
      "metadata": {
        "id": "ZJpCC92CbUNQ"
      },
      "source": [
        "To better fit our train dataset we use cross validation with five splits and analyze the R-square across each iteration. "
      ]
    },
    {
      "cell_type": "code",
      "metadata": {
        "id": "HShsFi5dYsmJ",
        "colab": {
          "base_uri": "https://localhost:8080/"
        },
        "outputId": "543af50f-e461-4f00-a8fe-d85c67068a80"
      },
      "source": [
        "## We put the KFold with RFE, with number of features as hyper parameter to find optimal no of features and corresponding R-square \n",
        "# Define a cross-validation parameters\n",
        "folds = KFold(n_splits = 5, shuffle = True, random_state = 150)\n",
        "\n",
        "# Specify range of number of parameters to tune\n",
        "hyper_params = [{'n_features_to_select': list(range(18, 25))}]\n",
        "\n",
        "\n",
        "# Perform grid search using Linear regressor\n",
        "regressor = LinearRegression()\n",
        "regressor.fit(X_train, y_train)\n",
        "rfe = RFE(regressor)             \n",
        "\n",
        "model = GridSearchCV(estimator = rfe, \n",
        "                        param_grid = hyper_params, \n",
        "                        scoring= 'r2', \n",
        "                        cv = folds, \n",
        "                        verbose = 1,\n",
        "                        return_train_score=True)      \n",
        "\n",
        "# fit the model\n",
        "model.fit(X_train, y_train) "
      ],
      "execution_count": null,
      "outputs": [
        {
          "output_type": "stream",
          "name": "stdout",
          "text": [
            "Fitting 5 folds for each of 7 candidates, totalling 35 fits\n"
          ]
        },
        {
          "output_type": "stream",
          "name": "stderr",
          "text": [
            "[Parallel(n_jobs=1)]: Using backend SequentialBackend with 1 concurrent workers.\n",
            "[Parallel(n_jobs=1)]: Done  35 out of  35 | elapsed:  1.4min finished\n"
          ]
        },
        {
          "output_type": "execute_result",
          "data": {
            "text/plain": [
              "GridSearchCV(cv=KFold(n_splits=5, random_state=150, shuffle=True),\n",
              "             error_score=nan,\n",
              "             estimator=RFE(estimator=LinearRegression(copy_X=True,\n",
              "                                                      fit_intercept=True,\n",
              "                                                      n_jobs=None,\n",
              "                                                      normalize=False),\n",
              "                           n_features_to_select=None, step=1, verbose=0),\n",
              "             iid='deprecated', n_jobs=None,\n",
              "             param_grid=[{'n_features_to_select': [18, 19, 20, 21, 22, 23,\n",
              "                                                   24]}],\n",
              "             pre_dispatch='2*n_jobs', refit=True, return_train_score=True,\n",
              "             scoring='r2', verbose=1)"
            ]
          },
          "metadata": {},
          "execution_count": 83
        }
      ]
    },
    {
      "cell_type": "markdown",
      "metadata": {
        "id": "K-SUlBHHbuii"
      },
      "source": [
        "Since this data has lot of features we try to use Recursive feature elimination technique along with Grid search to find optimal number of features that gives us the best R-square value. Here we again split the data into five splits and R-square as teh scoring method."
      ]
    },
    {
      "cell_type": "code",
      "metadata": {
        "id": "aB1o9iTOYsmK",
        "colab": {
          "base_uri": "https://localhost:8080/",
          "height": 410
        },
        "outputId": "156fc69c-a0c0-4371-8ece-467a8c027209"
      },
      "source": [
        "# Crossvalidation results\n",
        "cv_results = pd.DataFrame(model.cv_results_)\n",
        "cv_results"
      ],
      "execution_count": null,
      "outputs": [
        {
          "output_type": "execute_result",
          "data": {
            "text/html": [
              "<div>\n",
              "<style scoped>\n",
              "    .dataframe tbody tr th:only-of-type {\n",
              "        vertical-align: middle;\n",
              "    }\n",
              "\n",
              "    .dataframe tbody tr th {\n",
              "        vertical-align: top;\n",
              "    }\n",
              "\n",
              "    .dataframe thead th {\n",
              "        text-align: right;\n",
              "    }\n",
              "</style>\n",
              "<table border=\"1\" class=\"dataframe\">\n",
              "  <thead>\n",
              "    <tr style=\"text-align: right;\">\n",
              "      <th></th>\n",
              "      <th>mean_fit_time</th>\n",
              "      <th>std_fit_time</th>\n",
              "      <th>mean_score_time</th>\n",
              "      <th>std_score_time</th>\n",
              "      <th>param_n_features_to_select</th>\n",
              "      <th>params</th>\n",
              "      <th>split0_test_score</th>\n",
              "      <th>split1_test_score</th>\n",
              "      <th>split2_test_score</th>\n",
              "      <th>split3_test_score</th>\n",
              "      <th>split4_test_score</th>\n",
              "      <th>mean_test_score</th>\n",
              "      <th>std_test_score</th>\n",
              "      <th>rank_test_score</th>\n",
              "      <th>split0_train_score</th>\n",
              "      <th>split1_train_score</th>\n",
              "      <th>split2_train_score</th>\n",
              "      <th>split3_train_score</th>\n",
              "      <th>split4_train_score</th>\n",
              "      <th>mean_train_score</th>\n",
              "      <th>std_train_score</th>\n",
              "    </tr>\n",
              "  </thead>\n",
              "  <tbody>\n",
              "    <tr>\n",
              "      <th>0</th>\n",
              "      <td>3.770140</td>\n",
              "      <td>0.030090</td>\n",
              "      <td>0.038124</td>\n",
              "      <td>0.004312</td>\n",
              "      <td>18</td>\n",
              "      <td>{'n_features_to_select': 18}</td>\n",
              "      <td>0.899939</td>\n",
              "      <td>0.899322</td>\n",
              "      <td>0.897911</td>\n",
              "      <td>0.899119</td>\n",
              "      <td>0.900116</td>\n",
              "      <td>0.899282</td>\n",
              "      <td>0.000779</td>\n",
              "      <td>7</td>\n",
              "      <td>0.899125</td>\n",
              "      <td>0.899280</td>\n",
              "      <td>0.899633</td>\n",
              "      <td>0.899331</td>\n",
              "      <td>0.899081</td>\n",
              "      <td>0.899290</td>\n",
              "      <td>0.000195</td>\n",
              "    </tr>\n",
              "    <tr>\n",
              "      <th>1</th>\n",
              "      <td>3.281975</td>\n",
              "      <td>0.030199</td>\n",
              "      <td>0.039410</td>\n",
              "      <td>0.002665</td>\n",
              "      <td>19</td>\n",
              "      <td>{'n_features_to_select': 19}</td>\n",
              "      <td>0.900013</td>\n",
              "      <td>0.899397</td>\n",
              "      <td>0.897972</td>\n",
              "      <td>0.899193</td>\n",
              "      <td>0.900183</td>\n",
              "      <td>0.899352</td>\n",
              "      <td>0.000782</td>\n",
              "      <td>6</td>\n",
              "      <td>0.899194</td>\n",
              "      <td>0.899349</td>\n",
              "      <td>0.899705</td>\n",
              "      <td>0.899400</td>\n",
              "      <td>0.899153</td>\n",
              "      <td>0.899360</td>\n",
              "      <td>0.000196</td>\n",
              "    </tr>\n",
              "    <tr>\n",
              "      <th>2</th>\n",
              "      <td>2.707061</td>\n",
              "      <td>0.018269</td>\n",
              "      <td>0.041226</td>\n",
              "      <td>0.008089</td>\n",
              "      <td>20</td>\n",
              "      <td>{'n_features_to_select': 20}</td>\n",
              "      <td>0.900052</td>\n",
              "      <td>0.899454</td>\n",
              "      <td>0.898008</td>\n",
              "      <td>0.899245</td>\n",
              "      <td>0.900213</td>\n",
              "      <td>0.899395</td>\n",
              "      <td>0.000781</td>\n",
              "      <td>5</td>\n",
              "      <td>0.899238</td>\n",
              "      <td>0.899389</td>\n",
              "      <td>0.899750</td>\n",
              "      <td>0.899441</td>\n",
              "      <td>0.899199</td>\n",
              "      <td>0.899403</td>\n",
              "      <td>0.000195</td>\n",
              "    </tr>\n",
              "    <tr>\n",
              "      <th>3</th>\n",
              "      <td>2.089601</td>\n",
              "      <td>0.013852</td>\n",
              "      <td>0.045017</td>\n",
              "      <td>0.004548</td>\n",
              "      <td>21</td>\n",
              "      <td>{'n_features_to_select': 21}</td>\n",
              "      <td>0.900123</td>\n",
              "      <td>0.899533</td>\n",
              "      <td>0.898085</td>\n",
              "      <td>0.899304</td>\n",
              "      <td>0.900284</td>\n",
              "      <td>0.899466</td>\n",
              "      <td>0.000780</td>\n",
              "      <td>4</td>\n",
              "      <td>0.899310</td>\n",
              "      <td>0.899458</td>\n",
              "      <td>0.899820</td>\n",
              "      <td>0.899515</td>\n",
              "      <td>0.899270</td>\n",
              "      <td>0.899475</td>\n",
              "      <td>0.000195</td>\n",
              "    </tr>\n",
              "    <tr>\n",
              "      <th>4</th>\n",
              "      <td>1.455163</td>\n",
              "      <td>0.010399</td>\n",
              "      <td>0.038654</td>\n",
              "      <td>0.002449</td>\n",
              "      <td>22</td>\n",
              "      <td>{'n_features_to_select': 22}</td>\n",
              "      <td>0.900169</td>\n",
              "      <td>0.899580</td>\n",
              "      <td>0.898130</td>\n",
              "      <td>0.899338</td>\n",
              "      <td>0.900310</td>\n",
              "      <td>0.899506</td>\n",
              "      <td>0.000776</td>\n",
              "      <td>3</td>\n",
              "      <td>0.899348</td>\n",
              "      <td>0.899497</td>\n",
              "      <td>0.899859</td>\n",
              "      <td>0.899557</td>\n",
              "      <td>0.899314</td>\n",
              "      <td>0.899515</td>\n",
              "      <td>0.000194</td>\n",
              "    </tr>\n",
              "    <tr>\n",
              "      <th>5</th>\n",
              "      <td>0.787396</td>\n",
              "      <td>0.003479</td>\n",
              "      <td>0.045097</td>\n",
              "      <td>0.006887</td>\n",
              "      <td>23</td>\n",
              "      <td>{'n_features_to_select': 23}</td>\n",
              "      <td>0.900171</td>\n",
              "      <td>0.899581</td>\n",
              "      <td>0.898138</td>\n",
              "      <td>0.899339</td>\n",
              "      <td>0.900317</td>\n",
              "      <td>0.899509</td>\n",
              "      <td>0.000775</td>\n",
              "      <td>1</td>\n",
              "      <td>0.899353</td>\n",
              "      <td>0.899501</td>\n",
              "      <td>0.899862</td>\n",
              "      <td>0.899562</td>\n",
              "      <td>0.899317</td>\n",
              "      <td>0.899519</td>\n",
              "      <td>0.000194</td>\n",
              "    </tr>\n",
              "    <tr>\n",
              "      <th>6</th>\n",
              "      <td>0.786593</td>\n",
              "      <td>0.010964</td>\n",
              "      <td>0.040436</td>\n",
              "      <td>0.005971</td>\n",
              "      <td>24</td>\n",
              "      <td>{'n_features_to_select': 24}</td>\n",
              "      <td>0.900171</td>\n",
              "      <td>0.899581</td>\n",
              "      <td>0.898138</td>\n",
              "      <td>0.899339</td>\n",
              "      <td>0.900317</td>\n",
              "      <td>0.899509</td>\n",
              "      <td>0.000775</td>\n",
              "      <td>1</td>\n",
              "      <td>0.899353</td>\n",
              "      <td>0.899501</td>\n",
              "      <td>0.899862</td>\n",
              "      <td>0.899562</td>\n",
              "      <td>0.899317</td>\n",
              "      <td>0.899519</td>\n",
              "      <td>0.000194</td>\n",
              "    </tr>\n",
              "  </tbody>\n",
              "</table>\n",
              "</div>"
            ],
            "text/plain": [
              "   mean_fit_time  std_fit_time  ...  mean_train_score  std_train_score\n",
              "0       3.770140      0.030090  ...          0.899290         0.000195\n",
              "1       3.281975      0.030199  ...          0.899360         0.000196\n",
              "2       2.707061      0.018269  ...          0.899403         0.000195\n",
              "3       2.089601      0.013852  ...          0.899475         0.000195\n",
              "4       1.455163      0.010399  ...          0.899515         0.000194\n",
              "5       0.787396      0.003479  ...          0.899519         0.000194\n",
              "6       0.786593      0.010964  ...          0.899519         0.000194\n",
              "\n",
              "[7 rows x 21 columns]"
            ]
          },
          "metadata": {},
          "execution_count": 84
        }
      ]
    },
    {
      "cell_type": "markdown",
      "metadata": {
        "id": "fbex0GFmcTwa"
      },
      "source": [
        "The results of cross validation at each split can be observed at each step. We can see the score it achieved at each cross validation step correspondingg to the number of featurs it selected. The scores obtained on test dataset has been ranked so that we can choose the optimal number of features."
      ]
    },
    {
      "cell_type": "code",
      "metadata": {
        "id": "3zPw_Rm7YsmK",
        "colab": {
          "base_uri": "https://localhost:8080/",
          "height": 421
        },
        "outputId": "8cd58f80-25c9-4427-9c9a-1a08c780bc6f"
      },
      "source": [
        "# Plotting results obtained from cross validation\n",
        "plt.figure(figsize=(16,6))\n",
        "\n",
        "plt.plot(cv_results[\"param_n_features_to_select\"], cv_results[\"mean_test_score\"])\n",
        "plt.plot(cv_results[\"param_n_features_to_select\"], cv_results[\"mean_train_score\"])\n",
        "plt.xlabel('Number of features')\n",
        "plt.ylabel('R-squared')\n",
        "plt.title(\"Optimal Number of Features\")\n",
        "plt.legend(['Test score', 'Train score'], loc='upper left')"
      ],
      "execution_count": null,
      "outputs": [
        {
          "output_type": "execute_result",
          "data": {
            "text/plain": [
              "<matplotlib.legend.Legend at 0x7fbaf153f290>"
            ]
          },
          "metadata": {},
          "execution_count": 86
        },
        {
          "output_type": "display_data",
          "data": {
            "image/png": "[encoded data removed]",
            "text/plain": [
              "<Figure size 1152x432 with 1 Axes>"
            ]
          },
          "metadata": {
            "needs_background": "light"
          }
        }
      ]
    },
    {
      "cell_type": "markdown",
      "metadata": {
        "id": "7ZXDO-KTdLLm"
      },
      "source": [
        "*Looking at the table and the above graph we select value for all features as it can be observed that not only the mean fit time is least for that but also the R-square value is highest.*"
      ]
    },
    {
      "cell_type": "code",
      "metadata": {
        "id": "elMP1M58YsmK",
        "colab": {
          "base_uri": "https://localhost:8080/"
        },
        "outputId": "6eff0b7f-cd8f-4469-f8a5-3dfe927ee60d"
      },
      "source": [
        "# Final model based on all features\n",
        "n_features_optimal = 24\n",
        "\n",
        "lm = LinearRegression()\n",
        "lm.fit(X_train, y_train)\n",
        "\n",
        "rfe = RFE(lm, n_features_to_select=n_features_optimal)             \n",
        "rfe = rfe.fit(X_train, y_train)\n",
        "\n",
        "# Predict sales of test data\n",
        "y_pred = lm.predict(X_test)\n",
        "r2 = r2_score(y_test, y_pred)\n",
        "\n",
        "\n",
        "## calculate R-square Score for Test dataset\n",
        "print(\"R2 Score for test dataset with optimal features: {:.4f}\".format(r2))"
      ],
      "execution_count": null,
      "outputs": [
        {
          "output_type": "stream",
          "name": "stdout",
          "text": [
            "R2 Score for test dataset with optimal features: 0.8936\n"
          ]
        }
      ]
    },
    {
      "cell_type": "markdown",
      "metadata": {
        "id": "khGjzQ-edW9Q"
      },
      "source": [
        "Now since we are using all the features the score obtained is the same as the score obtained from Regression model. But this step is important as it gives us information on the fit time and scores for different possible combinations."
      ]
    },
    {
      "cell_type": "markdown",
      "metadata": {
        "id": "jnzSQarnYsmK"
      },
      "source": [
        "Now we test our data using regularized regression models\n",
        "\n",
        "1.   Lasso Regression\n",
        "2.   Ridge Regression\n",
        "\n"
      ]
    },
    {
      "cell_type": "markdown",
      "metadata": {
        "id": "juinwW70k-na"
      },
      "source": [
        "1. Lasso Regression"
      ]
    },
    {
      "cell_type": "code",
      "metadata": {
        "id": "P_cyb9EzYsmK"
      },
      "source": [
        "## Import libraries\n",
        "from sklearn.linear_model import Ridge, RidgeCV\n",
        "from sklearn.linear_model import Lasso, LassoCV"
      ],
      "execution_count": null,
      "outputs": []
    },
    {
      "cell_type": "code",
      "metadata": {
        "id": "d05mv9O6YsmK",
        "colab": {
          "base_uri": "https://localhost:8080/"
        },
        "outputId": "92ecbf49-6cf9-46da-d34e-e2324e415635"
      },
      "source": [
        "lasso = Lasso()\n",
        "parameters = {'alpha': [1e-4,1e-3,1e-2,0.05,0.1,1,5,10,20,30,40,50,100,150]}\n",
        "lasso_regressor = GridSearchCV(lasso, parameters, scoring='r2', cv=3)\n",
        "lasso_regressor.fit(X_train, y_train)"
      ],
      "execution_count": null,
      "outputs": [
        {
          "output_type": "execute_result",
          "data": {
            "text/plain": [
              "GridSearchCV(cv=3, error_score=nan,\n",
              "             estimator=Lasso(alpha=1.0, copy_X=True, fit_intercept=True,\n",
              "                             max_iter=1000, normalize=False, positive=False,\n",
              "                             precompute=False, random_state=None,\n",
              "                             selection='cyclic', tol=0.0001, warm_start=False),\n",
              "             iid='deprecated', n_jobs=None,\n",
              "             param_grid={'alpha': [0.0001, 0.001, 0.01, 0.05, 0.1, 1, 5, 10, 20,\n",
              "                                   30, 40, 50, 100, 150]},\n",
              "             pre_dispatch='2*n_jobs', refit=True, return_train_score=False,\n",
              "             scoring='r2', verbose=0)"
            ]
          },
          "metadata": {},
          "execution_count": 89
        }
      ]
    },
    {
      "cell_type": "code",
      "metadata": {
        "id": "nkJpQOGRYsmK",
        "colab": {
          "base_uri": "https://localhost:8080/"
        },
        "outputId": "a2d00eb6-f385-4fe2-abe8-fdd952d1a479"
      },
      "source": [
        "print(\"The best fit alpha value is found out to be :\" ,lasso_regressor.best_params_)\n",
        "print(\"Using \",lasso_regressor.best_params_, \" the R-square value is: \", lasso_regressor.best_score_)"
      ],
      "execution_count": null,
      "outputs": [
        {
          "output_type": "stream",
          "name": "stdout",
          "text": [
            "The best fit alpha value is found out to be : {'alpha': 1}\n",
            "Using  {'alpha': 1}  the R-square value is:  0.8986273543421758\n"
          ]
        }
      ]
    },
    {
      "cell_type": "markdown",
      "metadata": {
        "id": "8bHTcpLFYsmL"
      },
      "source": [
        "Here, we are iterating over a set of alphas to find the optimal parameter that gives the best R-square value. With the help of Grid Serach we obtain alpha as 1. We fit our data using Lasso Regression with alpha=1."
      ]
    },
    {
      "cell_type": "code",
      "metadata": {
        "id": "GwEAoRBwYsmL",
        "colab": {
          "base_uri": "https://localhost:8080/"
        },
        "outputId": "30c731e8-73cf-425b-bcfd-b55bf5e7dc6b"
      },
      "source": [
        "lasso = Lasso(alpha = 1)\n",
        "lasso.fit(X_train,y_train)\n",
        "y_pred_lasso = lasso.predict(X_test)\n",
        "r2_lasso=r2_score(y_test, y_pred_lasso)\n",
        "print(\"R-square value for test data using Lasso regression is {:.3f}\".format(r2_lasso))"
      ],
      "execution_count": null,
      "outputs": [
        {
          "output_type": "stream",
          "name": "stdout",
          "text": [
            "R-square value for test data using Lasso regression is 0.893\n"
          ]
        }
      ]
    },
    {
      "cell_type": "markdown",
      "metadata": {
        "id": "8jBJ0q2TlFUO"
      },
      "source": [
        "We get an R-square value of 0.894 on our test dataset."
      ]
    },
    {
      "cell_type": "code",
      "metadata": {
        "id": "vt1eebPJYsmL",
        "colab": {
          "base_uri": "https://localhost:8080/"
        },
        "outputId": "8c1bc724-3c96-4205-b166-001311d2ca9d"
      },
      "source": [
        "r2_adj_lasso=1-(1-r2_lasso)*((X_test.shape[0]-1)/(X_test.shape[0]-X_test.shape[1]-1))\n",
        "print(\"Adjusted R-square value is : {:.3f}.\".format(r2_adj_lasso))"
      ],
      "execution_count": null,
      "outputs": [
        {
          "output_type": "stream",
          "name": "stdout",
          "text": [
            "Adjusted R-square value is : 0.893.\n"
          ]
        }
      ]
    },
    {
      "cell_type": "markdown",
      "metadata": {
        "id": "yVA_o8W4lgu-"
      },
      "source": [
        "we further calculate the Adjusted R-square"
      ]
    },
    {
      "cell_type": "code",
      "metadata": {
        "id": "DPKYmXOeYsmL"
      },
      "source": [
        "lassoreg_scores=list([r2_lasso,r2_adj_lasso])"
      ],
      "execution_count": null,
      "outputs": []
    },
    {
      "cell_type": "markdown",
      "metadata": {
        "id": "VkBn2DBgojTe"
      },
      "source": [
        "A list for the scores obtained has been created."
      ]
    },
    {
      "cell_type": "code",
      "metadata": {
        "id": "B0DPUKLsYsmL",
        "colab": {
          "base_uri": "https://localhost:8080/"
        },
        "outputId": "e33b254b-9594-42a4-b2df-201105108f69"
      },
      "source": [
        "lasso_coeff=list(lasso.coef_)\n",
        "print(lasso_coeff)"
      ],
      "execution_count": null,
      "outputs": [
        {
          "output_type": "stream",
          "name": "stdout",
          "text": [
            "[3343.1914139966275, 415.2005535618596, 595.7509883102822, 32.997788971195725, 41.937893331282304, 89.25143768600451, 114.74424510362981, 153.49615227922067, 47.09759983052013, 23.48490273281848, 88.5710728428996, -163.2770322109612, -212.09592245656435, -235.0592181240418, -184.50746461244364, -67.79512977406598, -88.96023380257772, -24.99222278079182, -43.48854210995669, 10.980244118860657, -645.7432141390686, -43.390443395422935, 418.67688790858676]\n"
          ]
        }
      ]
    },
    {
      "cell_type": "markdown",
      "metadata": {
        "id": "2enYQ2CHou7Y"
      },
      "source": [
        "2.  Ridge Regression"
      ]
    },
    {
      "cell_type": "code",
      "metadata": {
        "id": "2y4Cg6OJYsmL",
        "colab": {
          "base_uri": "https://localhost:8080/"
        },
        "outputId": "facfeb78-9a21-4551-f9c5-88ab5e594f8c"
      },
      "source": [
        "# Hyperprarameter tuning\n",
        "ridge = Ridge()\n",
        "parameters = {'alpha': [1e-5,1e-4,1e-3,1e-2,1,5,10,20,30,40,70,100]}\n",
        "ridge_regressor = GridSearchCV(ridge, parameters, scoring='r2', cv=3)\n",
        "ridge_regressor.fit(X_train,y_train)"
      ],
      "execution_count": null,
      "outputs": [
        {
          "output_type": "execute_result",
          "data": {
            "text/plain": [
              "GridSearchCV(cv=3, error_score=nan,\n",
              "             estimator=Ridge(alpha=1.0, copy_X=True, fit_intercept=True,\n",
              "                             max_iter=None, normalize=False, random_state=None,\n",
              "                             solver='auto', tol=0.001),\n",
              "             iid='deprecated', n_jobs=None,\n",
              "             param_grid={'alpha': [1e-05, 0.0001, 0.001, 0.01, 1, 5, 10, 20, 30,\n",
              "                                   40, 70, 100]},\n",
              "             pre_dispatch='2*n_jobs', refit=True, return_train_score=False,\n",
              "             scoring='r2', verbose=0)"
            ]
          },
          "metadata": {},
          "execution_count": 95
        }
      ]
    },
    {
      "cell_type": "markdown",
      "metadata": {
        "id": "flQOSDmcozdZ"
      },
      "source": [
        "We start with hyper parameter tuning for Ridge regressor. We check with diffrent values of alpha."
      ]
    },
    {
      "cell_type": "code",
      "metadata": {
        "id": "EyNUicClYsmL",
        "colab": {
          "base_uri": "https://localhost:8080/"
        },
        "outputId": "96dd6059-3518-4d25-fc2d-39bded7e75be"
      },
      "source": [
        "print(\"The best fit alpha value is found out to be :\" ,ridge_regressor.best_params_)\n",
        "print(\"Using \",ridge_regressor.best_params_, \" the R-square value is: \", ridge_regressor.best_score_)"
      ],
      "execution_count": null,
      "outputs": [
        {
          "output_type": "stream",
          "name": "stdout",
          "text": [
            "The best fit alpha value is found out to be : {'alpha': 100}\n",
            "Using  {'alpha': 100}  the R-square value is:  0.8985969395336153\n"
          ]
        }
      ]
    },
    {
      "cell_type": "markdown",
      "metadata": {
        "id": "F8wvX3kOpEpa"
      },
      "source": [
        "We find alpha=100 to be the optimal parameter."
      ]
    },
    {
      "cell_type": "code",
      "metadata": {
        "id": "un7T4Nt8YsmL",
        "colab": {
          "base_uri": "https://localhost:8080/"
        },
        "outputId": "dbdbf63a-2b05-473c-fb43-71938a2bc4a7"
      },
      "source": [
        "ridge = Ridge(alpha = 100)\n",
        "ridge.fit(X_train,y_train)\n",
        "y_pred_ridge = ridge.predict(X_test)\n",
        "print(\"R-square value for test data using ridge regression is {:.3f}\".format(r2_score(y_test, y_pred_ridge)))"
      ],
      "execution_count": null,
      "outputs": [
        {
          "output_type": "stream",
          "name": "stdout",
          "text": [
            "R-square value for test data using ridge regression is 0.894\n"
          ]
        }
      ]
    },
    {
      "cell_type": "markdown",
      "metadata": {
        "id": "nI0s2my6pLq-"
      },
      "source": [
        "Using the optimal alpha we fit our data and predict the test data. We are achieving a score of 0.894 with this."
      ]
    },
    {
      "cell_type": "code",
      "metadata": {
        "id": "prr1XiT5YsmM"
      },
      "source": [
        "ridge_coeff=list(ridge.coef_)"
      ],
      "execution_count": null,
      "outputs": []
    },
    {
      "cell_type": "code",
      "metadata": {
        "id": "HnsjNZnKYsmM",
        "colab": {
          "base_uri": "https://localhost:8080/"
        },
        "outputId": "6ebc1c89-0dce-4514-a3ca-e3a0b1303925"
      },
      "source": [
        "r2_ridge = r2_score(y_test, y_pred_ridge)\n",
        "r2_adj_ridge=1-(1-r2)*((X_test.shape[0]-1)/(X_test.shape[0]-X_test.shape[1]-1))\n",
        "print(\"R2 :\" ,r2)\n",
        "print(\"Adjusted R2 : \",r2_adj_ridge)"
      ],
      "execution_count": null,
      "outputs": [
        {
          "output_type": "stream",
          "name": "stdout",
          "text": [
            "R2 : 0.8935922825591887\n",
            "Adjusted R2 :  0.8935778956993484\n"
          ]
        }
      ]
    },
    {
      "cell_type": "markdown",
      "metadata": {
        "id": "UrtbfR6Vpu17"
      },
      "source": [
        "The R-square and Adjusted R-square is calculated for Ridge regressor. It can be observed that the values are very close to what we get from Lasso Regression."
      ]
    },
    {
      "cell_type": "code",
      "metadata": {
        "id": "OUqhWqREYsmN"
      },
      "source": [
        "## Store the scores in a list\n",
        "ridgereg_scores=list([r2_ridge,r2_adj_ridge])"
      ],
      "execution_count": null,
      "outputs": []
    },
    {
      "cell_type": "code",
      "metadata": {
        "id": "roPj9VzNYsmN"
      },
      "source": [
        "## Coefficients from different models\n",
        "df_coeff=pd.DataFrame({'Lin Reg Coeff':reg_coeff,'Lasso Reg Coeff':lasso_coeff,'Ridge Reg Coeff':ridge_coeff},index=store_data_train.drop(['Sales','Store'],axis=1).columns)\n"
      ],
      "execution_count": null,
      "outputs": []
    },
    {
      "cell_type": "markdown",
      "metadata": {
        "id": "rN2QwfaxqTRM"
      },
      "source": [
        "The coefficients or the weights that we obtain from diffrent models have been put together at one place to analyze the importace of features corresponding to the models."
      ]
    },
    {
      "cell_type": "code",
      "metadata": {
        "id": "L3XfRtbsYsmN",
        "colab": {
          "base_uri": "https://localhost:8080/",
          "height": 770
        },
        "outputId": "d34d24e6-c43c-4130-ef02-b5cf871dfa88"
      },
      "source": [
        "df_coeff"
      ],
      "execution_count": null,
      "outputs": [
        {
          "output_type": "execute_result",
          "data": {
            "text/html": [
              "<div>\n",
              "<style scoped>\n",
              "    .dataframe tbody tr th:only-of-type {\n",
              "        vertical-align: middle;\n",
              "    }\n",
              "\n",
              "    .dataframe tbody tr th {\n",
              "        vertical-align: top;\n",
              "    }\n",
              "\n",
              "    .dataframe thead th {\n",
              "        text-align: right;\n",
              "    }\n",
              "</style>\n",
              "<table border=\"1\" class=\"dataframe\">\n",
              "  <thead>\n",
              "    <tr style=\"text-align: right;\">\n",
              "      <th></th>\n",
              "      <th>Lin Reg Coeff</th>\n",
              "      <th>Lasso Reg Coeff</th>\n",
              "      <th>Ridge Reg Coeff</th>\n",
              "    </tr>\n",
              "  </thead>\n",
              "  <tbody>\n",
              "    <tr>\n",
              "      <th>Customers</th>\n",
              "      <td>3344.553668</td>\n",
              "      <td>3343.191414</td>\n",
              "      <td>3343.677277</td>\n",
              "    </tr>\n",
              "    <tr>\n",
              "      <th>Open</th>\n",
              "      <td>404.886037</td>\n",
              "      <td>415.200554</td>\n",
              "      <td>404.554088</td>\n",
              "    </tr>\n",
              "    <tr>\n",
              "      <th>Promo</th>\n",
              "      <td>595.810079</td>\n",
              "      <td>595.750988</td>\n",
              "      <td>595.851987</td>\n",
              "    </tr>\n",
              "    <tr>\n",
              "      <th>SchoolHoliday</th>\n",
              "      <td>33.679362</td>\n",
              "      <td>32.997789</td>\n",
              "      <td>33.676698</td>\n",
              "    </tr>\n",
              "    <tr>\n",
              "      <th>Year</th>\n",
              "      <td>43.169139</td>\n",
              "      <td>41.937893</td>\n",
              "      <td>43.166485</td>\n",
              "    </tr>\n",
              "    <tr>\n",
              "      <th>Month</th>\n",
              "      <td>90.222066</td>\n",
              "      <td>89.251438</td>\n",
              "      <td>90.247658</td>\n",
              "    </tr>\n",
              "    <tr>\n",
              "      <th>Assortment</th>\n",
              "      <td>115.521355</td>\n",
              "      <td>114.744245</td>\n",
              "      <td>115.578568</td>\n",
              "    </tr>\n",
              "    <tr>\n",
              "      <th>CompetitionDistance</th>\n",
              "      <td>154.553933</td>\n",
              "      <td>153.496152</td>\n",
              "      <td>154.472989</td>\n",
              "    </tr>\n",
              "    <tr>\n",
              "      <th>Promo2</th>\n",
              "      <td>48.282816</td>\n",
              "      <td>47.097600</td>\n",
              "      <td>48.174468</td>\n",
              "    </tr>\n",
              "    <tr>\n",
              "      <th>day_diff_comp</th>\n",
              "      <td>24.505527</td>\n",
              "      <td>23.484903</td>\n",
              "      <td>24.496087</td>\n",
              "    </tr>\n",
              "    <tr>\n",
              "      <th>day_diff_promo</th>\n",
              "      <td>88.692385</td>\n",
              "      <td>88.571073</td>\n",
              "      <td>88.690476</td>\n",
              "    </tr>\n",
              "    <tr>\n",
              "      <th>DayOfWeek_2</th>\n",
              "      <td>-169.571434</td>\n",
              "      <td>-163.277032</td>\n",
              "      <td>-169.505024</td>\n",
              "    </tr>\n",
              "    <tr>\n",
              "      <th>DayOfWeek_3</th>\n",
              "      <td>-218.370530</td>\n",
              "      <td>-212.095922</td>\n",
              "      <td>-218.318868</td>\n",
              "    </tr>\n",
              "    <tr>\n",
              "      <th>DayOfWeek_4</th>\n",
              "      <td>-241.268037</td>\n",
              "      <td>-235.059218</td>\n",
              "      <td>-241.204718</td>\n",
              "    </tr>\n",
              "    <tr>\n",
              "      <th>DayOfWeek_5</th>\n",
              "      <td>-190.705255</td>\n",
              "      <td>-184.507465</td>\n",
              "      <td>-190.627597</td>\n",
              "    </tr>\n",
              "    <tr>\n",
              "      <th>DayOfWeek_6</th>\n",
              "      <td>-73.835234</td>\n",
              "      <td>-67.795130</td>\n",
              "      <td>-73.833723</td>\n",
              "    </tr>\n",
              "    <tr>\n",
              "      <th>DayOfWeek_7</th>\n",
              "      <td>-103.655035</td>\n",
              "      <td>-88.960234</td>\n",
              "      <td>-104.360385</td>\n",
              "    </tr>\n",
              "    <tr>\n",
              "      <th>StateHoliday_a</th>\n",
              "      <td>-29.333735</td>\n",
              "      <td>-24.992223</td>\n",
              "      <td>-29.623942</td>\n",
              "    </tr>\n",
              "    <tr>\n",
              "      <th>StateHoliday_b</th>\n",
              "      <td>-46.784827</td>\n",
              "      <td>-43.488542</td>\n",
              "      <td>-46.937393</td>\n",
              "    </tr>\n",
              "    <tr>\n",
              "      <th>StateHoliday_c</th>\n",
              "      <td>10.225630</td>\n",
              "      <td>10.980244</td>\n",
              "      <td>10.064558</td>\n",
              "    </tr>\n",
              "    <tr>\n",
              "      <th>StoreType_b</th>\n",
              "      <td>-646.554148</td>\n",
              "      <td>-645.743214</td>\n",
              "      <td>-646.170765</td>\n",
              "    </tr>\n",
              "    <tr>\n",
              "      <th>StoreType_c</th>\n",
              "      <td>-44.339227</td>\n",
              "      <td>-43.390443</td>\n",
              "      <td>-44.341750</td>\n",
              "    </tr>\n",
              "    <tr>\n",
              "      <th>StoreType_d</th>\n",
              "      <td>419.224570</td>\n",
              "      <td>418.676888</td>\n",
              "      <td>419.045557</td>\n",
              "    </tr>\n",
              "  </tbody>\n",
              "</table>\n",
              "</div>"
            ],
            "text/plain": [
              "                     Lin Reg Coeff  Lasso Reg Coeff  Ridge Reg Coeff\n",
              "Customers              3344.553668      3343.191414      3343.677277\n",
              "Open                    404.886037       415.200554       404.554088\n",
              "Promo                   595.810079       595.750988       595.851987\n",
              "SchoolHoliday            33.679362        32.997789        33.676698\n",
              "Year                     43.169139        41.937893        43.166485\n",
              "Month                    90.222066        89.251438        90.247658\n",
              "Assortment              115.521355       114.744245       115.578568\n",
              "CompetitionDistance     154.553933       153.496152       154.472989\n",
              "Promo2                   48.282816        47.097600        48.174468\n",
              "day_diff_comp            24.505527        23.484903        24.496087\n",
              "day_diff_promo           88.692385        88.571073        88.690476\n",
              "DayOfWeek_2            -169.571434      -163.277032      -169.505024\n",
              "DayOfWeek_3            -218.370530      -212.095922      -218.318868\n",
              "DayOfWeek_4            -241.268037      -235.059218      -241.204718\n",
              "DayOfWeek_5            -190.705255      -184.507465      -190.627597\n",
              "DayOfWeek_6             -73.835234       -67.795130       -73.833723\n",
              "DayOfWeek_7            -103.655035       -88.960234      -104.360385\n",
              "StateHoliday_a          -29.333735       -24.992223       -29.623942\n",
              "StateHoliday_b          -46.784827       -43.488542       -46.937393\n",
              "StateHoliday_c           10.225630        10.980244        10.064558\n",
              "StoreType_b            -646.554148      -645.743214      -646.170765\n",
              "StoreType_c             -44.339227       -43.390443       -44.341750\n",
              "StoreType_d             419.224570       418.676888       419.045557"
            ]
          },
          "metadata": {},
          "execution_count": 102
        }
      ]
    },
    {
      "cell_type": "markdown",
      "metadata": {
        "id": "ohrDVpSuYsmN"
      },
      "source": [
        "**Comparison of coefficients obtained from different Linear Regression models**\n",
        "\n",
        "---\n",
        "\n"
      ]
    },
    {
      "cell_type": "code",
      "metadata": {
        "id": "qZ5MyuQ_YsmN",
        "colab": {
          "base_uri": "https://localhost:8080/",
          "height": 112
        },
        "outputId": "4ec951ff-5ce1-4bd2-b296-190bbfe711f4"
      },
      "source": [
        "pd.DataFrame({'Linear Regr':linreg_scores,'Lasso Regr':lassoreg_scores,'Ridge Regr':ridgereg_scores},index=['R2 Score','Adj R2 Score'])"
      ],
      "execution_count": null,
      "outputs": [
        {
          "output_type": "execute_result",
          "data": {
            "text/html": [
              "<div>\n",
              "<style scoped>\n",
              "    .dataframe tbody tr th:only-of-type {\n",
              "        vertical-align: middle;\n",
              "    }\n",
              "\n",
              "    .dataframe tbody tr th {\n",
              "        vertical-align: top;\n",
              "    }\n",
              "\n",
              "    .dataframe thead th {\n",
              "        text-align: right;\n",
              "    }\n",
              "</style>\n",
              "<table border=\"1\" class=\"dataframe\">\n",
              "  <thead>\n",
              "    <tr style=\"text-align: right;\">\n",
              "      <th></th>\n",
              "      <th>Linear Regr</th>\n",
              "      <th>Lasso Regr</th>\n",
              "      <th>Ridge Regr</th>\n",
              "    </tr>\n",
              "  </thead>\n",
              "  <tbody>\n",
              "    <tr>\n",
              "      <th>R2 Score</th>\n",
              "      <td>0.893592</td>\n",
              "      <td>0.893483</td>\n",
              "      <td>0.893587</td>\n",
              "    </tr>\n",
              "    <tr>\n",
              "      <th>Adj R2 Score</th>\n",
              "      <td>0.893578</td>\n",
              "      <td>0.893469</td>\n",
              "      <td>0.893578</td>\n",
              "    </tr>\n",
              "  </tbody>\n",
              "</table>\n",
              "</div>"
            ],
            "text/plain": [
              "              Linear Regr  Lasso Regr  Ridge Regr\n",
              "R2 Score         0.893592    0.893483    0.893587\n",
              "Adj R2 Score     0.893578    0.893469    0.893578"
            ]
          },
          "metadata": {},
          "execution_count": 103
        }
      ]
    },
    {
      "cell_type": "markdown",
      "metadata": {
        "id": "OxaHHrpVrKGo"
      },
      "source": [
        "This dataframe gives us a good comparison of the scores obtained from the diffrent variants of Linear regression models. As it can be seen the scores are almost equivalent. We can select any regression model out of these three to predict our data. Linear regression being a simpler model, we can easily interpret the coefficients and can observe the influence of coefficients on the target. For our model we can see that number of customers, Promo influence the Sales positively. The influence of the day of week can also be observed.\n",
        "\n",
        "\n",
        "\n"
      ]
    },
    {
      "cell_type": "code",
      "metadata": {
        "id": "U-6dt7lFYrpY"
      },
      "source": [
        ""
      ],
      "execution_count": null,
      "outputs": []
    },
    {
      "cell_type": "code",
      "metadata": {
        "id": "DFQjGz3DYrm3"
      },
      "source": [
        ""
      ],
      "execution_count": null,
      "outputs": []
    },
    {
      "cell_type": "code",
      "metadata": {
        "id": "rcR5ybo6YrkP"
      },
      "source": [
        ""
      ],
      "execution_count": null,
      "outputs": []
    },
    {
      "cell_type": "code",
      "metadata": {
        "id": "DZk1nmN_Yrhg"
      },
      "source": [
        ""
      ],
      "execution_count": null,
      "outputs": []
    },
    {
      "cell_type": "code",
      "metadata": {
        "id": "_RHiCxyKYrev"
      },
      "source": [
        ""
      ],
      "execution_count": null,
      "outputs": []
    },
    {
      "cell_type": "code",
      "metadata": {
        "id": "zNXXLbi4ZwMO",
        "colab": {
          "base_uri": "https://localhost:8080/",
          "height": 599
        },
        "outputId": "919aa83d-3550-43cf-b3d5-dd48aebe389c"
      },
      "source": [
        "plt.figure(figsize=(15,8))\n",
        "sns.heatmap(store_data_train.corr(),cmap=\"Blues\")"
      ],
      "execution_count": null,
      "outputs": [
        {
          "output_type": "execute_result",
          "data": {
            "text/plain": [
              "<matplotlib.axes._subplots.AxesSubplot at 0x7fbafc3a9d50>"
            ]
          },
          "metadata": {},
          "execution_count": 104
        },
        {
          "output_type": "display_data",
          "data": {
            "image/png": "[encoded data removed]",
            "text/plain": [
              "<Figure size 1080x576 with 2 Axes>"
            ]
          },
          "metadata": {
            "needs_background": "light"
          }
        }
      ]
    },
    {
      "cell_type": "code",
      "metadata": {
        "id": "Gr9TpdLJua90"
      },
      "source": [
        ""
      ],
      "execution_count": null,
      "outputs": []
    },
    {
      "cell_type": "code",
      "metadata": {
        "id": "yF3Y3fybjgH2"
      },
      "source": [
        ""
      ],
      "execution_count": null,
      "outputs": []
    },
    {
      "cell_type": "code",
      "metadata": {
        "id": "LYF5OS-5ie9K"
      },
      "source": [
        "import sklearn"
      ],
      "execution_count": null,
      "outputs": []
    },
    {
      "cell_type": "code",
      "metadata": {
        "id": "LDrrL_iZhrs4",
        "colab": {
          "base_uri": "https://localhost:8080/"
        },
        "outputId": "8860ee28-8529-4253-a517-379a14cc69d1"
      },
      "source": [
        "sorted(sklearn.metrics.SCORERS.keys())"
      ],
      "execution_count": null,
      "outputs": [
        {
          "output_type": "execute_result",
          "data": {
            "text/plain": [
              "['accuracy',\n",
              " 'adjusted_mutual_info_score',\n",
              " 'adjusted_rand_score',\n",
              " 'average_precision',\n",
              " 'balanced_accuracy',\n",
              " 'completeness_score',\n",
              " 'explained_variance',\n",
              " 'f1',\n",
              " 'f1_macro',\n",
              " 'f1_micro',\n",
              " 'f1_samples',\n",
              " 'f1_weighted',\n",
              " 'fowlkes_mallows_score',\n",
              " 'homogeneity_score',\n",
              " 'jaccard',\n",
              " 'jaccard_macro',\n",
              " 'jaccard_micro',\n",
              " 'jaccard_samples',\n",
              " 'jaccard_weighted',\n",
              " 'max_error',\n",
              " 'mutual_info_score',\n",
              " 'neg_brier_score',\n",
              " 'neg_log_loss',\n",
              " 'neg_mean_absolute_error',\n",
              " 'neg_mean_gamma_deviance',\n",
              " 'neg_mean_poisson_deviance',\n",
              " 'neg_mean_squared_error',\n",
              " 'neg_mean_squared_log_error',\n",
              " 'neg_median_absolute_error',\n",
              " 'neg_root_mean_squared_error',\n",
              " 'normalized_mutual_info_score',\n",
              " 'precision',\n",
              " 'precision_macro',\n",
              " 'precision_micro',\n",
              " 'precision_samples',\n",
              " 'precision_weighted',\n",
              " 'r2',\n",
              " 'recall',\n",
              " 'recall_macro',\n",
              " 'recall_micro',\n",
              " 'recall_samples',\n",
              " 'recall_weighted',\n",
              " 'roc_auc',\n",
              " 'roc_auc_ovo',\n",
              " 'roc_auc_ovo_weighted',\n",
              " 'roc_auc_ovr',\n",
              " 'roc_auc_ovr_weighted',\n",
              " 'v_measure_score']"
            ]
          },
          "metadata": {},
          "execution_count": 106
        }
      ]
    },
    {
      "cell_type": "code",
      "metadata": {
        "id": "YZOTG0NxhrqU"
      },
      "source": [
        ""
      ],
      "execution_count": null,
      "outputs": []
    },
    {
      "cell_type": "code",
      "metadata": {
        "id": "fSFF-BiAhrns"
      },
      "source": [
        ""
      ],
      "execution_count": null,
      "outputs": []
    },
    {
      "cell_type": "code",
      "metadata": {
        "id": "tKEXZ9ephrlj"
      },
      "source": [
        ""
      ],
      "execution_count": null,
      "outputs": []
    }
  ]
}