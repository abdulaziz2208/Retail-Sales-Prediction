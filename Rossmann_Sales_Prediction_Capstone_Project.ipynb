{
  "nbformat": 4,
  "nbformat_minor": 0,
  "metadata": {
    "kernelspec": {
      "display_name": "Python 3",
      "language": "python",
      "name": "python3"
    },
    "language_info": {
      "codemirror_mode": {
        "name": "ipython",
        "version": 3
      },
      "file_extension": ".py",
      "mimetype": "text/x-python",
      "name": "python",
      "nbconvert_exporter": "python",
      "pygments_lexer": "ipython3",
      "version": "3.6.6"
    },
    "colab": {
      "name": "Rossmann Sales Prediction - Capstone Project.ipynb",
      "provenance": [],
      "collapsed_sections": []
    }
  },
  "cells": [
    {
      "cell_type": "markdown",
      "metadata": {
        "id": "tOGC-qoyhJeX"
      },
      "source": [
        "# <b><u> Project Title : Sales Prediction : Predicting sales of a major store chain Rossmann</u></b>"
      ]
    },
    {
      "cell_type": "markdown",
      "metadata": {
        "id": "Y06xIdG26kRF"
      },
      "source": [
        "## <b> Problem Description </b>\n",
        "\n",
        "### Rossmann operates over 3,000 drug stores in 7 European countries. Currently, Rossmann store managers are tasked with predicting their daily sales for up to six weeks in advance. Store sales are influenced by many factors, including promotions, competition, school and state holidays, seasonality, and locality. With thousands of individual managers predicting sales based on their unique circumstances, the accuracy of results can be quite varied.\n",
        "\n",
        "### You are provided with historical sales data for 1,115 Rossmann stores. The task is to forecast the \"Sales\" column for the test set. Note that some stores in the dataset were temporarily closed for refurbishment."
      ]
    },
    {
      "cell_type": "markdown",
      "metadata": {
        "id": "WWeU1f9bwqQq"
      },
      "source": [
        "## <b> Data Description </b>\n",
        "\n",
        "### <b>Rossmann Stores Data.csv </b> - historical data including Sales\n",
        "### <b>store.csv </b> - supplemental information about the stores\n",
        "\n",
        "\n",
        "### <b><u>Data fields</u></b>\n",
        "### Most of the fields are self-explanatory. The following are descriptions for those that aren't.\n",
        "\n",
        "* #### Id - an Id that represents a (Store, Date) duple within the test set\n",
        "* #### Store - a unique Id for each store\n",
        "* #### Sales - the turnover for any given day (this is what you are predicting)\n",
        "* #### Customers - the number of customers on a given day\n",
        "* #### Open - an indicator for whether the store was open: 0 = closed, 1 = open\n",
        "* #### StateHoliday - indicates a state holiday. Normally all stores, with few exceptions, are closed on state holidays. Note that all schools are closed on public holidays and weekends. a = public holiday, b = Easter holiday, c = Christmas, 0 = None\n",
        "* #### SchoolHoliday - indicates if the (Store, Date) was affected by the closure of public schools\n",
        "* #### StoreType - differentiates between 4 different store models: a, b, c, d\n",
        "* #### Assortment - describes an assortment level: a = basic, b = extra, c = extended\n",
        "* #### CompetitionDistance - distance in meters to the nearest competitor store\n",
        "* #### CompetitionOpenSince[Month/Year] - gives the approximate year and month of the time the nearest competitor was opened\n",
        "* #### Promo - indicates whether a store is running a promo on that day\n",
        "* #### Promo2 - Promo2 is a continuing and consecutive promotion for some stores: 0 = store is not participating, 1 = store is participating\n",
        "* #### Promo2Since[Year/Week] - describes the year and calendar week when the store started participating in Promo2\n",
        "* #### PromoInterval - describes the consecutive intervals Promo2 is started, naming the months the promotion is started anew. E.g. \"Feb,May,Aug,Nov\" means each round starts in February, May, August, November of any given year for that store"
      ]
    },
    {
      "cell_type": "code",
      "metadata": {
        "id": "dByMsuzT8Tnw"
      },
      "source": [
        "## For store type create dummy variables, but for assortment level do numerical encoding (1,2,3)"
      ],
      "execution_count": 1,
      "outputs": []
    },
    {
      "cell_type": "code",
      "metadata": {
        "id": "6pqVQ3xCY9mD"
      },
      "source": [
        "# Importing the libraries\n",
        "import numpy as np\n",
        "import pandas as pd\n",
        "from numpy import math\n",
        "\n",
        "from sklearn.preprocessing import StandardScaler\n",
        "from sklearn.model_selection import train_test_split\n",
        "from sklearn.linear_model import LinearRegression\n",
        "from sklearn.metrics import r2_score\n",
        "from sklearn.metrics import mean_squared_error\n",
        "\n",
        "import matplotlib.pyplot as plt\n",
        "import seaborn as sns\n",
        "import calendar\n",
        "import datetime"
      ],
      "execution_count": 2,
      "outputs": []
    },
    {
      "cell_type": "code",
      "metadata": {
        "id": "lsGTUFzPBJ9M"
      },
      "source": [
        "import warnings\n",
        "warnings.filterwarnings('ignore')"
      ],
      "execution_count": 3,
      "outputs": []
    },
    {
      "cell_type": "code",
      "metadata": {
        "colab": {
          "base_uri": "https://localhost:8080/"
        },
        "id": "Ibdsklv3Y9Uh",
        "outputId": "c05ac5df-bafb-4d2f-9dcc-8c2e92566bb9"
      },
      "source": [
        "from google.colab import drive\n",
        "drive.mount('/content/drive')"
      ],
      "execution_count": 4,
      "outputs": [
        {
          "output_type": "stream",
          "name": "stdout",
          "text": [
            "Mounted at /content/drive\n"
          ]
        }
      ]
    },
    {
      "cell_type": "code",
      "metadata": {
        "id": "Tdpq8h9AY9RI"
      },
      "source": [
        "store_data = pd.read_csv('/content/drive/MyDrive/Almabetter learning/Retail Sales Prediction/Rossmann Stores Data.csv')\n",
        "stores = pd.read_csv('/content/drive/MyDrive/Almabetter learning/Retail Sales Prediction/store.csv')"
      ],
      "execution_count": 5,
      "outputs": []
    },
    {
      "cell_type": "code",
      "metadata": {
        "colab": {
          "base_uri": "https://localhost:8080/",
          "height": 206
        },
        "id": "mIQHKzRpexbH",
        "outputId": "44de5ac0-650d-4a85-f8af-ffa279e8e2db"
      },
      "source": [
        "store_data.head()"
      ],
      "execution_count": 6,
      "outputs": [
        {
          "output_type": "execute_result",
          "data": {
            "text/html": [
              "<div>\n",
              "<style scoped>\n",
              "    .dataframe tbody tr th:only-of-type {\n",
              "        vertical-align: middle;\n",
              "    }\n",
              "\n",
              "    .dataframe tbody tr th {\n",
              "        vertical-align: top;\n",
              "    }\n",
              "\n",
              "    .dataframe thead th {\n",
              "        text-align: right;\n",
              "    }\n",
              "</style>\n",
              "<table border=\"1\" class=\"dataframe\">\n",
              "  <thead>\n",
              "    <tr style=\"text-align: right;\">\n",
              "      <th></th>\n",
              "      <th>Store</th>\n",
              "      <th>DayOfWeek</th>\n",
              "      <th>Date</th>\n",
              "      <th>Sales</th>\n",
              "      <th>Customers</th>\n",
              "      <th>Open</th>\n",
              "      <th>Promo</th>\n",
              "      <th>StateHoliday</th>\n",
              "      <th>SchoolHoliday</th>\n",
              "    </tr>\n",
              "  </thead>\n",
              "  <tbody>\n",
              "    <tr>\n",
              "      <th>0</th>\n",
              "      <td>1</td>\n",
              "      <td>5</td>\n",
              "      <td>2015-07-31</td>\n",
              "      <td>5263</td>\n",
              "      <td>555</td>\n",
              "      <td>1</td>\n",
              "      <td>1</td>\n",
              "      <td>0</td>\n",
              "      <td>1</td>\n",
              "    </tr>\n",
              "    <tr>\n",
              "      <th>1</th>\n",
              "      <td>2</td>\n",
              "      <td>5</td>\n",
              "      <td>2015-07-31</td>\n",
              "      <td>6064</td>\n",
              "      <td>625</td>\n",
              "      <td>1</td>\n",
              "      <td>1</td>\n",
              "      <td>0</td>\n",
              "      <td>1</td>\n",
              "    </tr>\n",
              "    <tr>\n",
              "      <th>2</th>\n",
              "      <td>3</td>\n",
              "      <td>5</td>\n",
              "      <td>2015-07-31</td>\n",
              "      <td>8314</td>\n",
              "      <td>821</td>\n",
              "      <td>1</td>\n",
              "      <td>1</td>\n",
              "      <td>0</td>\n",
              "      <td>1</td>\n",
              "    </tr>\n",
              "    <tr>\n",
              "      <th>3</th>\n",
              "      <td>4</td>\n",
              "      <td>5</td>\n",
              "      <td>2015-07-31</td>\n",
              "      <td>13995</td>\n",
              "      <td>1498</td>\n",
              "      <td>1</td>\n",
              "      <td>1</td>\n",
              "      <td>0</td>\n",
              "      <td>1</td>\n",
              "    </tr>\n",
              "    <tr>\n",
              "      <th>4</th>\n",
              "      <td>5</td>\n",
              "      <td>5</td>\n",
              "      <td>2015-07-31</td>\n",
              "      <td>4822</td>\n",
              "      <td>559</td>\n",
              "      <td>1</td>\n",
              "      <td>1</td>\n",
              "      <td>0</td>\n",
              "      <td>1</td>\n",
              "    </tr>\n",
              "  </tbody>\n",
              "</table>\n",
              "</div>"
            ],
            "text/plain": [
              "   Store  DayOfWeek        Date  Sales  ...  Open  Promo  StateHoliday SchoolHoliday\n",
              "0      1          5  2015-07-31   5263  ...     1      1             0             1\n",
              "1      2          5  2015-07-31   6064  ...     1      1             0             1\n",
              "2      3          5  2015-07-31   8314  ...     1      1             0             1\n",
              "3      4          5  2015-07-31  13995  ...     1      1             0             1\n",
              "4      5          5  2015-07-31   4822  ...     1      1             0             1\n",
              "\n",
              "[5 rows x 9 columns]"
            ]
          },
          "metadata": {},
          "execution_count": 6
        }
      ]
    },
    {
      "cell_type": "code",
      "metadata": {
        "id": "mt1TujaKUCKA"
      },
      "source": [
        "#store_data['StateHoliday'].unique()\n",
        "#store_data['StateHoliday'] = store_data['StateHoliday'].map({0:'0', 'a':'a', 'b':'b', 'c':'c', '0':'0'})\n",
        "## Convert date column from object to date\n"
      ],
      "execution_count": 7,
      "outputs": []
    },
    {
      "cell_type": "code",
      "metadata": {
        "id": "VLp0PCTQPvxQ"
      },
      "source": [
        "## Convert the Date column to Datetime\n",
        "store_data['Date']= pd.to_datetime(store_data['Date'])\n",
        "\n",
        "## Extract Year and month from Date column\n",
        "store_data['Year'] = pd.DatetimeIndex(store_data['Date']).year\n",
        "store_data['Month'] = pd.DatetimeIndex(store_data['Date']).month"
      ],
      "execution_count": 8,
      "outputs": []
    },
    {
      "cell_type": "code",
      "metadata": {
        "colab": {
          "base_uri": "https://localhost:8080/",
          "height": 206
        },
        "id": "TZ3voz33moDX",
        "outputId": "d270192b-e636-41dd-a473-a8504b106ba4"
      },
      "source": [
        "## Displaying the data\n",
        "store_data.head()"
      ],
      "execution_count": 9,
      "outputs": [
        {
          "output_type": "execute_result",
          "data": {
            "text/html": [
              "<div>\n",
              "<style scoped>\n",
              "    .dataframe tbody tr th:only-of-type {\n",
              "        vertical-align: middle;\n",
              "    }\n",
              "\n",
              "    .dataframe tbody tr th {\n",
              "        vertical-align: top;\n",
              "    }\n",
              "\n",
              "    .dataframe thead th {\n",
              "        text-align: right;\n",
              "    }\n",
              "</style>\n",
              "<table border=\"1\" class=\"dataframe\">\n",
              "  <thead>\n",
              "    <tr style=\"text-align: right;\">\n",
              "      <th></th>\n",
              "      <th>Store</th>\n",
              "      <th>DayOfWeek</th>\n",
              "      <th>Date</th>\n",
              "      <th>Sales</th>\n",
              "      <th>Customers</th>\n",
              "      <th>Open</th>\n",
              "      <th>Promo</th>\n",
              "      <th>StateHoliday</th>\n",
              "      <th>SchoolHoliday</th>\n",
              "      <th>Year</th>\n",
              "      <th>Month</th>\n",
              "    </tr>\n",
              "  </thead>\n",
              "  <tbody>\n",
              "    <tr>\n",
              "      <th>0</th>\n",
              "      <td>1</td>\n",
              "      <td>5</td>\n",
              "      <td>2015-07-31</td>\n",
              "      <td>5263</td>\n",
              "      <td>555</td>\n",
              "      <td>1</td>\n",
              "      <td>1</td>\n",
              "      <td>0</td>\n",
              "      <td>1</td>\n",
              "      <td>2015</td>\n",
              "      <td>7</td>\n",
              "    </tr>\n",
              "    <tr>\n",
              "      <th>1</th>\n",
              "      <td>2</td>\n",
              "      <td>5</td>\n",
              "      <td>2015-07-31</td>\n",
              "      <td>6064</td>\n",
              "      <td>625</td>\n",
              "      <td>1</td>\n",
              "      <td>1</td>\n",
              "      <td>0</td>\n",
              "      <td>1</td>\n",
              "      <td>2015</td>\n",
              "      <td>7</td>\n",
              "    </tr>\n",
              "    <tr>\n",
              "      <th>2</th>\n",
              "      <td>3</td>\n",
              "      <td>5</td>\n",
              "      <td>2015-07-31</td>\n",
              "      <td>8314</td>\n",
              "      <td>821</td>\n",
              "      <td>1</td>\n",
              "      <td>1</td>\n",
              "      <td>0</td>\n",
              "      <td>1</td>\n",
              "      <td>2015</td>\n",
              "      <td>7</td>\n",
              "    </tr>\n",
              "    <tr>\n",
              "      <th>3</th>\n",
              "      <td>4</td>\n",
              "      <td>5</td>\n",
              "      <td>2015-07-31</td>\n",
              "      <td>13995</td>\n",
              "      <td>1498</td>\n",
              "      <td>1</td>\n",
              "      <td>1</td>\n",
              "      <td>0</td>\n",
              "      <td>1</td>\n",
              "      <td>2015</td>\n",
              "      <td>7</td>\n",
              "    </tr>\n",
              "    <tr>\n",
              "      <th>4</th>\n",
              "      <td>5</td>\n",
              "      <td>5</td>\n",
              "      <td>2015-07-31</td>\n",
              "      <td>4822</td>\n",
              "      <td>559</td>\n",
              "      <td>1</td>\n",
              "      <td>1</td>\n",
              "      <td>0</td>\n",
              "      <td>1</td>\n",
              "      <td>2015</td>\n",
              "      <td>7</td>\n",
              "    </tr>\n",
              "  </tbody>\n",
              "</table>\n",
              "</div>"
            ],
            "text/plain": [
              "   Store  DayOfWeek       Date  Sales  ...  StateHoliday  SchoolHoliday  Year Month\n",
              "0      1          5 2015-07-31   5263  ...             0              1  2015     7\n",
              "1      2          5 2015-07-31   6064  ...             0              1  2015     7\n",
              "2      3          5 2015-07-31   8314  ...             0              1  2015     7\n",
              "3      4          5 2015-07-31  13995  ...             0              1  2015     7\n",
              "4      5          5 2015-07-31   4822  ...             0              1  2015     7\n",
              "\n",
              "[5 rows x 11 columns]"
            ]
          },
          "metadata": {},
          "execution_count": 9
        }
      ]
    },
    {
      "cell_type": "code",
      "metadata": {
        "colab": {
          "base_uri": "https://localhost:8080/",
          "height": 279
        },
        "id": "M9KDlPVAAiGU",
        "outputId": "00016118-2715-4c72-f82e-438242469544"
      },
      "source": [
        "sns.distplot(store_data[store_data['Sales']!=0]['Sales']);"
      ],
      "execution_count": 10,
      "outputs": [
        {
          "output_type": "display_data",
          "data": {
            "image/png": "[encoded data removed]",
            "text/plain": [
              "<Figure size 432x288 with 1 Axes>"
            ]
          },
          "metadata": {
            "needs_background": "light"
          }
        }
      ]
    },
    {
      "cell_type": "code",
      "metadata": {
        "colab": {
          "base_uri": "https://localhost:8080/",
          "height": 279
        },
        "id": "l8YRH89eBS0X",
        "outputId": "2eb16b3e-f1ad-4c5a-d608-f502d65d7918"
      },
      "source": [
        "sns.boxplot(store_data[store_data['Sales']!=0]['Sales']);"
      ],
      "execution_count": 11,
      "outputs": [
        {
          "output_type": "display_data",
          "data": {
            "image/png": "[encoded data removed]",
            "text/plain": [
              "<Figure size 432x288 with 1 Axes>"
            ]
          },
          "metadata": {
            "needs_background": "light"
          }
        }
      ]
    },
    {
      "cell_type": "code",
      "metadata": {
        "id": "TkJnQ-mfDsl-"
      },
      "source": [
        "store_data_high_sales=store_data[store_data['Sales']>=20000][['Year','Month','Sales']]"
      ],
      "execution_count": 12,
      "outputs": []
    },
    {
      "cell_type": "code",
      "metadata": {
        "colab": {
          "base_uri": "https://localhost:8080/",
          "height": 488
        },
        "id": "bSwIMnvTBibD",
        "outputId": "29ba3901-776c-43b8-bfc2-2dfe21d1e0a9"
      },
      "source": [
        "## See count of high sales/day in certain months to estimate high sales period\n",
        "pd.pivot_table(data=store_data_high_sales[['Year','Month','Sales']],index='Month',columns='Year',aggfunc='count',fill_value=0)"
      ],
      "execution_count": 13,
      "outputs": [
        {
          "output_type": "execute_result",
          "data": {
            "text/html": [
              "<div>\n",
              "<style scoped>\n",
              "    .dataframe tbody tr th:only-of-type {\n",
              "        vertical-align: middle;\n",
              "    }\n",
              "\n",
              "    .dataframe tbody tr th {\n",
              "        vertical-align: top;\n",
              "    }\n",
              "\n",
              "    .dataframe thead tr th {\n",
              "        text-align: left;\n",
              "    }\n",
              "\n",
              "    .dataframe thead tr:last-of-type th {\n",
              "        text-align: right;\n",
              "    }\n",
              "</style>\n",
              "<table border=\"1\" class=\"dataframe\">\n",
              "  <thead>\n",
              "    <tr>\n",
              "      <th></th>\n",
              "      <th colspan=\"3\" halign=\"left\">Sales</th>\n",
              "    </tr>\n",
              "    <tr>\n",
              "      <th>Year</th>\n",
              "      <th>2013</th>\n",
              "      <th>2014</th>\n",
              "      <th>2015</th>\n",
              "    </tr>\n",
              "    <tr>\n",
              "      <th>Month</th>\n",
              "      <th></th>\n",
              "      <th></th>\n",
              "      <th></th>\n",
              "    </tr>\n",
              "  </thead>\n",
              "  <tbody>\n",
              "    <tr>\n",
              "      <th>1</th>\n",
              "      <td>79</td>\n",
              "      <td>78</td>\n",
              "      <td>75</td>\n",
              "    </tr>\n",
              "    <tr>\n",
              "      <th>2</th>\n",
              "      <td>86</td>\n",
              "      <td>96</td>\n",
              "      <td>75</td>\n",
              "    </tr>\n",
              "    <tr>\n",
              "      <th>3</th>\n",
              "      <td>169</td>\n",
              "      <td>104</td>\n",
              "      <td>124</td>\n",
              "    </tr>\n",
              "    <tr>\n",
              "      <th>4</th>\n",
              "      <td>108</td>\n",
              "      <td>148</td>\n",
              "      <td>151</td>\n",
              "    </tr>\n",
              "    <tr>\n",
              "      <th>5</th>\n",
              "      <td>130</td>\n",
              "      <td>123</td>\n",
              "      <td>132</td>\n",
              "    </tr>\n",
              "    <tr>\n",
              "      <th>6</th>\n",
              "      <td>88</td>\n",
              "      <td>173</td>\n",
              "      <td>186</td>\n",
              "    </tr>\n",
              "    <tr>\n",
              "      <th>7</th>\n",
              "      <td>137</td>\n",
              "      <td>83</td>\n",
              "      <td>123</td>\n",
              "    </tr>\n",
              "    <tr>\n",
              "      <th>8</th>\n",
              "      <td>97</td>\n",
              "      <td>76</td>\n",
              "      <td>0</td>\n",
              "    </tr>\n",
              "    <tr>\n",
              "      <th>9</th>\n",
              "      <td>74</td>\n",
              "      <td>89</td>\n",
              "      <td>0</td>\n",
              "    </tr>\n",
              "    <tr>\n",
              "      <th>10</th>\n",
              "      <td>93</td>\n",
              "      <td>73</td>\n",
              "      <td>0</td>\n",
              "    </tr>\n",
              "    <tr>\n",
              "      <th>11</th>\n",
              "      <td>111</td>\n",
              "      <td>120</td>\n",
              "      <td>0</td>\n",
              "    </tr>\n",
              "    <tr>\n",
              "      <th>12</th>\n",
              "      <td>532</td>\n",
              "      <td>367</td>\n",
              "      <td>0</td>\n",
              "    </tr>\n",
              "  </tbody>\n",
              "</table>\n",
              "</div>"
            ],
            "text/plain": [
              "      Sales          \n",
              "Year   2013 2014 2015\n",
              "Month                \n",
              "1        79   78   75\n",
              "2        86   96   75\n",
              "3       169  104  124\n",
              "4       108  148  151\n",
              "5       130  123  132\n",
              "6        88  173  186\n",
              "7       137   83  123\n",
              "8        97   76    0\n",
              "9        74   89    0\n",
              "10       93   73    0\n",
              "11      111  120    0\n",
              "12      532  367    0"
            ]
          },
          "metadata": {},
          "execution_count": 13
        }
      ]
    },
    {
      "cell_type": "code",
      "metadata": {
        "id": "sBT6OLtMIV0v"
      },
      "source": [
        "## Check total sales monthwise\n",
        "Sales_across_years_monthwise=pd.pivot_table(data=store_data[['Year','Month','Sales']],index='Month',columns='Year',aggfunc='sum',fill_value=0)\n"
      ],
      "execution_count": 14,
      "outputs": []
    },
    {
      "cell_type": "code",
      "metadata": {
        "id": "2i6Ry3PyIwQO"
      },
      "source": [
        "Sales_across_years_monthwise['diff21']=Sales_across_years_monthwise[('Sales', 2014)]-Sales_across_years_monthwise[('Sales', 2013)]\n",
        "Sales_across_years_monthwise['diff32']=Sales_across_years_monthwise[('Sales', 2015)]-Sales_across_years_monthwise[('Sales', 2014)]\n",
        "Sales_across_years_monthwise['diff31']=Sales_across_years_monthwise[('Sales', 2015)]-Sales_across_years_monthwise[('Sales', 2013)]"
      ],
      "execution_count": 15,
      "outputs": []
    },
    {
      "cell_type": "code",
      "metadata": {
        "colab": {
          "base_uri": "https://localhost:8080/",
          "height": 488
        },
        "id": "YqEIGJHXJhRR",
        "outputId": "0ae287a6-e81d-475b-a91a-00a8bfb7d11e"
      },
      "source": [
        "Sales_across_years_monthwise"
      ],
      "execution_count": 16,
      "outputs": [
        {
          "output_type": "execute_result",
          "data": {
            "text/html": [
              "<div>\n",
              "<style scoped>\n",
              "    .dataframe tbody tr th:only-of-type {\n",
              "        vertical-align: middle;\n",
              "    }\n",
              "\n",
              "    .dataframe tbody tr th {\n",
              "        vertical-align: top;\n",
              "    }\n",
              "\n",
              "    .dataframe thead tr th {\n",
              "        text-align: left;\n",
              "    }\n",
              "\n",
              "    .dataframe thead tr:last-of-type th {\n",
              "        text-align: right;\n",
              "    }\n",
              "</style>\n",
              "<table border=\"1\" class=\"dataframe\">\n",
              "  <thead>\n",
              "    <tr>\n",
              "      <th></th>\n",
              "      <th colspan=\"3\" halign=\"left\">Sales</th>\n",
              "      <th>diff21</th>\n",
              "      <th>diff32</th>\n",
              "      <th>diff31</th>\n",
              "    </tr>\n",
              "    <tr>\n",
              "      <th>Year</th>\n",
              "      <th>2013</th>\n",
              "      <th>2014</th>\n",
              "      <th>2015</th>\n",
              "      <th></th>\n",
              "      <th></th>\n",
              "      <th></th>\n",
              "    </tr>\n",
              "    <tr>\n",
              "      <th>Month</th>\n",
              "      <th></th>\n",
              "      <th></th>\n",
              "      <th></th>\n",
              "      <th></th>\n",
              "      <th></th>\n",
              "      <th></th>\n",
              "    </tr>\n",
              "  </thead>\n",
              "  <tbody>\n",
              "    <tr>\n",
              "      <th>1</th>\n",
              "      <td>180132207</td>\n",
              "      <td>187752787</td>\n",
              "      <td>198843730</td>\n",
              "      <td>7620580</td>\n",
              "      <td>11090943</td>\n",
              "      <td>18711523</td>\n",
              "    </tr>\n",
              "    <tr>\n",
              "      <th>2</th>\n",
              "      <td>171534275</td>\n",
              "      <td>178924677</td>\n",
              "      <td>178275458</td>\n",
              "      <td>7390402</td>\n",
              "      <td>-649219</td>\n",
              "      <td>6741183</td>\n",
              "    </tr>\n",
              "    <tr>\n",
              "      <th>3</th>\n",
              "      <td>201180369</td>\n",
              "      <td>193019854</td>\n",
              "      <td>205631683</td>\n",
              "      <td>-8160515</td>\n",
              "      <td>12611829</td>\n",
              "      <td>4451314</td>\n",
              "    </tr>\n",
              "    <tr>\n",
              "      <th>4</th>\n",
              "      <td>183431432</td>\n",
              "      <td>194544977</td>\n",
              "      <td>197918886</td>\n",
              "      <td>11113545</td>\n",
              "      <td>3373909</td>\n",
              "      <td>14487454</td>\n",
              "    </tr>\n",
              "    <tr>\n",
              "      <th>5</th>\n",
              "      <td>185411063</td>\n",
              "      <td>194693257</td>\n",
              "      <td>189143897</td>\n",
              "      <td>9282194</td>\n",
              "      <td>-5549360</td>\n",
              "      <td>3732834</td>\n",
              "    </tr>\n",
              "    <tr>\n",
              "      <th>6</th>\n",
              "      <td>180702351</td>\n",
              "      <td>190047051</td>\n",
              "      <td>207363373</td>\n",
              "      <td>9344700</td>\n",
              "      <td>17316322</td>\n",
              "      <td>26661022</td>\n",
              "    </tr>\n",
              "    <tr>\n",
              "      <th>7</th>\n",
              "      <td>208843882</td>\n",
              "      <td>173892707</td>\n",
              "      <td>212322616</td>\n",
              "      <td>-34951175</td>\n",
              "      <td>38429909</td>\n",
              "      <td>3478734</td>\n",
              "    </tr>\n",
              "    <tr>\n",
              "      <th>8</th>\n",
              "      <td>198042727</td>\n",
              "      <td>163748475</td>\n",
              "      <td>0</td>\n",
              "      <td>-34294252</td>\n",
              "      <td>-163748475</td>\n",
              "      <td>-198042727</td>\n",
              "    </tr>\n",
              "    <tr>\n",
              "      <th>9</th>\n",
              "      <td>178053963</td>\n",
              "      <td>164516168</td>\n",
              "      <td>0</td>\n",
              "      <td>-13537795</td>\n",
              "      <td>-164516168</td>\n",
              "      <td>-178053963</td>\n",
              "    </tr>\n",
              "    <tr>\n",
              "      <th>10</th>\n",
              "      <td>187662330</td>\n",
              "      <td>164216398</td>\n",
              "      <td>0</td>\n",
              "      <td>-23445932</td>\n",
              "      <td>-164216398</td>\n",
              "      <td>-187662330</td>\n",
              "    </tr>\n",
              "    <tr>\n",
              "      <th>11</th>\n",
              "      <td>196170924</td>\n",
              "      <td>173327953</td>\n",
              "      <td>0</td>\n",
              "      <td>-22842971</td>\n",
              "      <td>-173327953</td>\n",
              "      <td>-196170924</td>\n",
              "    </tr>\n",
              "    <tr>\n",
              "      <th>12</th>\n",
              "      <td>231710561</td>\n",
              "      <td>202120592</td>\n",
              "      <td>0</td>\n",
              "      <td>-29589969</td>\n",
              "      <td>-202120592</td>\n",
              "      <td>-231710561</td>\n",
              "    </tr>\n",
              "  </tbody>\n",
              "</table>\n",
              "</div>"
            ],
            "text/plain": [
              "           Sales                          diff21     diff32     diff31\n",
              "Year        2013       2014       2015                                \n",
              "Month                                                                 \n",
              "1      180132207  187752787  198843730   7620580   11090943   18711523\n",
              "2      171534275  178924677  178275458   7390402    -649219    6741183\n",
              "3      201180369  193019854  205631683  -8160515   12611829    4451314\n",
              "4      183431432  194544977  197918886  11113545    3373909   14487454\n",
              "5      185411063  194693257  189143897   9282194   -5549360    3732834\n",
              "6      180702351  190047051  207363373   9344700   17316322   26661022\n",
              "7      208843882  173892707  212322616 -34951175   38429909    3478734\n",
              "8      198042727  163748475          0 -34294252 -163748475 -198042727\n",
              "9      178053963  164516168          0 -13537795 -164516168 -178053963\n",
              "10     187662330  164216398          0 -23445932 -164216398 -187662330\n",
              "11     196170924  173327953          0 -22842971 -173327953 -196170924\n",
              "12     231710561  202120592          0 -29589969 -202120592 -231710561"
            ]
          },
          "metadata": {},
          "execution_count": 16
        }
      ]
    },
    {
      "cell_type": "code",
      "metadata": {
        "id": "QtqSYSCy7u29",
        "colab": {
          "base_uri": "https://localhost:8080/"
        },
        "outputId": "a8e1e735-a39d-423c-d93d-0581562c5ce8"
      },
      "source": [
        "#df_date_sorted_agg=\n",
        "df_date_sorted_agg=store_data.copy().sort_values(['Date']).groupby('Date')['Sales'].sum()\n",
        "df_date_sorted_agg"
      ],
      "execution_count": 17,
      "outputs": [
        {
          "output_type": "execute_result",
          "data": {
            "text/plain": [
              "Date\n",
              "2013-01-01       97235\n",
              "2013-01-02     6949829\n",
              "2013-01-03     6347820\n",
              "2013-01-04     6638954\n",
              "2013-01-05     5951593\n",
              "                ...   \n",
              "2015-07-27    10707292\n",
              "2015-07-28     9115073\n",
              "2015-07-29     8499962\n",
              "2015-07-30     8798854\n",
              "2015-07-31    10109742\n",
              "Name: Sales, Length: 942, dtype: int64"
            ]
          },
          "metadata": {},
          "execution_count": 17
        }
      ]
    },
    {
      "cell_type": "code",
      "metadata": {
        "id": "8EsrSkXF9e9_"
      },
      "source": [
        "# ## Trying to get a series for plotting agg sales day wise, check any pattern to add varibale like seasonality\n",
        "# df=df_date_sorted_agg.reset_index()\n",
        "# df['Sales']=(df['Sales']-df['Sales'].min())/(df['Sales'].max()-df['Sales'].min())\n",
        "# df.head()"
      ],
      "execution_count": 18,
      "outputs": []
    },
    {
      "cell_type": "code",
      "metadata": {
        "id": "2PzaaEVBASfF"
      },
      "source": [
        ""
      ],
      "execution_count": 18,
      "outputs": []
    },
    {
      "cell_type": "code",
      "metadata": {
        "id": "ZLL1XJjI6l5t"
      },
      "source": [
        "#Sales_year_month['Year'].unique()"
      ],
      "execution_count": 19,
      "outputs": []
    },
    {
      "cell_type": "code",
      "metadata": {
        "id": "XWgnNM-j66dE"
      },
      "source": [
        "#### Do we observe any pattern in sales across years, ## No"
      ],
      "execution_count": 20,
      "outputs": []
    },
    {
      "cell_type": "code",
      "metadata": {
        "id": "aayZNBjd3xEj"
      },
      "source": [
        "#sns.barplot(data=Sales_year_month[Sales_year_month['Year']==2013],x='Month',y='Sales_x')"
      ],
      "execution_count": 21,
      "outputs": []
    },
    {
      "cell_type": "code",
      "metadata": {
        "id": "nLJJkl3C7GUg"
      },
      "source": [
        "#sns.barplot(data=Sales_year_month[Sales_year_month['Year']==2014],x='Month',y='Sales_x')"
      ],
      "execution_count": 22,
      "outputs": []
    },
    {
      "cell_type": "code",
      "metadata": {
        "id": "_YK-Tdrg7IKa"
      },
      "source": [
        "#sns.barplot(data=Sales_year_month[Sales_year_month['Year']==2015],x='Month',y='Sales_x')"
      ],
      "execution_count": 23,
      "outputs": []
    },
    {
      "cell_type": "code",
      "metadata": {
        "id": "kwthVgLD-Ioj"
      },
      "source": [
        "#sns.barplot(data=df_test.groupby(['DayOfWeek'])['Sales_x'].sum().reset_index(),x='DayOfWeek',y='Sales_x')  ## Starts with Monday"
      ],
      "execution_count": 24,
      "outputs": []
    },
    {
      "cell_type": "code",
      "metadata": {
        "id": "Tn3CrWgn-Y7z"
      },
      "source": [
        ""
      ],
      "execution_count": 24,
      "outputs": []
    },
    {
      "cell_type": "code",
      "metadata": {
        "id": "XFBDR_M0-Y4Y"
      },
      "source": [
        ""
      ],
      "execution_count": 24,
      "outputs": []
    },
    {
      "cell_type": "code",
      "metadata": {
        "id": "emXaZIFa-Y13"
      },
      "source": [
        ""
      ],
      "execution_count": 24,
      "outputs": []
    },
    {
      "cell_type": "code",
      "metadata": {
        "id": "tIyGoVJdg7hO"
      },
      "source": [
        "## Just to check promo interval values and corresponding Promo2SinceWeek\n",
        "#stores[stores['PromoInterval']!=0].head()"
      ],
      "execution_count": 25,
      "outputs": []
    },
    {
      "cell_type": "code",
      "metadata": {
        "colab": {
          "base_uri": "https://localhost:8080/"
        },
        "id": "bf99NqkU1uB9",
        "outputId": "13a748da-1010-4ce7-da48-aa89d61d7b5b"
      },
      "source": [
        "stores.shape"
      ],
      "execution_count": 26,
      "outputs": [
        {
          "output_type": "execute_result",
          "data": {
            "text/plain": [
              "(1115, 10)"
            ]
          },
          "metadata": {},
          "execution_count": 26
        }
      ]
    },
    {
      "cell_type": "code",
      "metadata": {
        "colab": {
          "base_uri": "https://localhost:8080/"
        },
        "id": "rqHZrvtK1hzb",
        "outputId": "dfb23d0d-abc5-4b90-ba2f-23372b71daff"
      },
      "source": [
        "stores.isna().sum()"
      ],
      "execution_count": 27,
      "outputs": [
        {
          "output_type": "execute_result",
          "data": {
            "text/plain": [
              "Store                          0\n",
              "StoreType                      0\n",
              "Assortment                     0\n",
              "CompetitionDistance            3\n",
              "CompetitionOpenSinceMonth    354\n",
              "CompetitionOpenSinceYear     354\n",
              "Promo2                         0\n",
              "Promo2SinceWeek              544\n",
              "Promo2SinceYear              544\n",
              "PromoInterval                544\n",
              "dtype: int64"
            ]
          },
          "metadata": {},
          "execution_count": 27
        }
      ]
    },
    {
      "cell_type": "code",
      "metadata": {
        "colab": {
          "base_uri": "https://localhost:8080/"
        },
        "id": "EPmPdxKyLdmz",
        "outputId": "03478083-2d04-4c43-efe5-7c197b6678a4"
      },
      "source": [
        "stores[(stores['Promo2']==0) & (stores['Promo2SinceWeek'].isna())].shape"
      ],
      "execution_count": 28,
      "outputs": [
        {
          "output_type": "execute_result",
          "data": {
            "text/plain": [
              "(544, 10)"
            ]
          },
          "metadata": {},
          "execution_count": 28
        }
      ]
    },
    {
      "cell_type": "code",
      "metadata": {
        "colab": {
          "base_uri": "https://localhost:8080/"
        },
        "id": "sLzNBeCFMSe4",
        "outputId": "8bd27011-0693-48e4-aaf8-ca77ec298c61"
      },
      "source": [
        "stores[stores['CompetitionOpenSinceMonth'].isna()]['Store'].nunique()"
      ],
      "execution_count": 29,
      "outputs": [
        {
          "output_type": "execute_result",
          "data": {
            "text/plain": [
              "354"
            ]
          },
          "metadata": {},
          "execution_count": 29
        }
      ]
    },
    {
      "cell_type": "code",
      "metadata": {
        "id": "UuazJsYzEYLt"
      },
      "source": [
        "## Wherever Promo2 ie continuing and consecutive promotion is zero, implies store didn't participate,\n",
        "# hence Promo2SinceWeek and Promo2SinceYear should be zero, also there won't be PromoInterval\n",
        "stores.loc[(stores['Promo2']==0) & (stores['Promo2SinceWeek'].isna()),['Promo2SinceWeek']]=0\n",
        "stores.loc[(stores['Promo2']==0) & (stores['Promo2SinceYear'].isna()),['Promo2SinceYear','PromoInterval']]=0"
      ],
      "execution_count": 30,
      "outputs": []
    },
    {
      "cell_type": "code",
      "metadata": {
        "id": "YnyJx_pPAA5O"
      },
      "source": [
        "#Impute CompetitionDistance with max distance\n",
        "\n",
        "stores.loc[stores['CompetitionDistance'].isna()]=stores['CompetitionDistance'].max()"
      ],
      "execution_count": 31,
      "outputs": []
    },
    {
      "cell_type": "code",
      "metadata": {
        "colab": {
          "base_uri": "https://localhost:8080/"
        },
        "id": "9wyUxGq36Nmu",
        "outputId": "6c6ccf78-f8c5-4e97-9ad8-a924b9193510"
      },
      "source": [
        "stores.isna().sum()"
      ],
      "execution_count": 32,
      "outputs": [
        {
          "output_type": "execute_result",
          "data": {
            "text/plain": [
              "Store                          0\n",
              "StoreType                      0\n",
              "Assortment                     0\n",
              "CompetitionDistance            0\n",
              "CompetitionOpenSinceMonth    351\n",
              "CompetitionOpenSinceYear     351\n",
              "Promo2                         0\n",
              "Promo2SinceWeek                0\n",
              "Promo2SinceYear                0\n",
              "PromoInterval                  0\n",
              "dtype: int64"
            ]
          },
          "metadata": {},
          "execution_count": 32
        }
      ]
    },
    {
      "cell_type": "code",
      "metadata": {
        "id": "jtBqXR3O6ybV"
      },
      "source": [
        "#stores[stores['Promo2SinceYear']!=0]['Promo2SinceYear'].describe()"
      ],
      "execution_count": 33,
      "outputs": []
    },
    {
      "cell_type": "code",
      "metadata": {
        "colab": {
          "base_uri": "https://localhost:8080/"
        },
        "id": "0ZqwukEo7ecO",
        "outputId": "e6e93898-4e56-465c-b624-35b75d5722e0"
      },
      "source": [
        "## Check the CompetitionOpenSinceYear year range\n",
        "stores['CompetitionOpenSinceYear'].describe()"
      ],
      "execution_count": 34,
      "outputs": [
        {
          "output_type": "execute_result",
          "data": {
            "text/plain": [
              "count      764.000000\n",
              "mean      2298.660995\n",
              "std       4621.710349\n",
              "min       1900.000000\n",
              "25%       2006.000000\n",
              "50%       2010.000000\n",
              "75%       2013.000000\n",
              "max      75860.000000\n",
              "Name: CompetitionOpenSinceYear, dtype: float64"
            ]
          },
          "metadata": {},
          "execution_count": 34
        }
      ]
    },
    {
      "cell_type": "code",
      "metadata": {
        "id": "fLOgOrIm30fi"
      },
      "source": [
        "#stores[~stores['CompetitionOpenSinceYear'].isin([1900,1961])]['CompetitionOpenSinceYear'].min()"
      ],
      "execution_count": 35,
      "outputs": []
    },
    {
      "cell_type": "code",
      "metadata": {
        "colab": {
          "base_uri": "https://localhost:8080/"
        },
        "id": "y8n-QPqj2wba",
        "outputId": "80772154-4009-4e6b-967e-34ff9abe41a9"
      },
      "source": [
        "## This is the day since when we have the sales data\n",
        "store_data['Date'].min()"
      ],
      "execution_count": 36,
      "outputs": [
        {
          "output_type": "execute_result",
          "data": {
            "text/plain": [
              "Timestamp('2013-01-01 00:00:00')"
            ]
          },
          "metadata": {},
          "execution_count": 36
        }
      ]
    },
    {
      "cell_type": "code",
      "metadata": {
        "id": "rJjHmouO3pxk",
        "colab": {
          "base_uri": "https://localhost:8080/"
        },
        "outputId": "66fabdf4-1218-4997-e07f-425fa3c1b79e"
      },
      "source": [
        "stores[stores['Promo2SinceYear']!=0]['Promo2SinceYear'].min()"
      ],
      "execution_count": 37,
      "outputs": [
        {
          "output_type": "execute_result",
          "data": {
            "text/plain": [
              "2009.0"
            ]
          },
          "metadata": {},
          "execution_count": 37
        }
      ]
    },
    {
      "cell_type": "code",
      "metadata": {
        "id": "ynVyT73yLgkt"
      },
      "source": [
        "### Not req now, \n",
        "## Equivalent code has been written in below cell\n",
        "### Ref https://www.kaggle.com/shivam017arora/rossmann-sales-prediction-top-1-solution\n",
        "\n",
        "# competition_open = []\n",
        "# for index, value in stores[['CompetitionOpenSinceMonth', 'CompetitionOpenSinceYear']].iterrows():\n",
        "#     try:\n",
        "#         year, month = int(value['CompetitionOpenSinceYear']), int(value['CompetitionOpenSinceMonth'])\n",
        "#         date = pd.to_datetime(\"{}-{}-01\".format(year, month), format='%Y-%m')\n",
        "#         competition_open.append(date)\n",
        "#     except:\n",
        "#         competition_open.append('1813-01-01') # Added a dummy date, 200 yrs less than min sales date\n",
        "# stores['CompetitionOpen'] = pd.Series(competition_open)\n",
        "# stores['CompetitionOpen'] = stores['CompetitionOpen'].dt.strftime('%Y-%m-%d')\n",
        "# stores['CompetitionOpen']= pd.to_datetime(stores['CompetitionOpen'])\n",
        "# #stores['CompetitionOpen']=stores['CompetitionOpen'].map(int)\n",
        "# #stores['CompetitionOpen']=stores['CompetitionOpen'].apply(lambda x:x if x!='2021-10-30' else 0)\n",
        "\n",
        "\n",
        "\n",
        "\n",
        "# promo = []\n",
        "# for index, value in stores[['Promo2SinceWeek', 'Promo2SinceYear']].iterrows():\n",
        "#     try:\n",
        "#         year, week = int(value['Promo2SinceYear']), int(value['Promo2SinceWeek'])\n",
        "#         date = pd.to_datetime(\"{}{}0\".format(year, week), format='%Y%W%w')\n",
        "#         promo.append(date)\n",
        "#     except:\n",
        "#         promo.append('1909-01-01')   ## dummy date\n",
        "# stores['promoYearWeek'] = pd.to_datetime(pd.Series(promo))\n",
        "# stores['promoYearWeek'] = stores['promoYearWeek'].dt.strftime('%Y%m%d')\n",
        "# stores['promoYearWeek']= pd.to_datetime(stores['promoYearWeek'])\n",
        "#stores.loc[stores['promoYearWeek'].isna(),'promoYearWeek'] =0# stores['promoYearWeek'].dt.strftime('%Y%m%d')\n",
        "#stores['promoYearWeek']=stores['promoYearWeek'].map(int)"
      ],
      "execution_count": 38,
      "outputs": []
    },
    {
      "cell_type": "code",
      "metadata": {
        "id": "Up5hxd21aahF"
      },
      "source": [
        "#### calculate difference in number of days for competion and promo\n",
        "## Function to change data format\n",
        "def competition_open_yr_mnth(cols):\n",
        "  try:\n",
        "    year, month = int(cols[0]), int(cols[1])\n",
        "    date = pd.to_datetime(\"{}-{}-01\".format(year, month), format='%Y-%m')\n",
        "    return date\n",
        "  except:\n",
        "    return '1813-01-01'  ## Dummy date to identify this data and do transformation afterwards\n",
        "\n",
        "stores['CompetitionOpen']=stores[['CompetitionOpenSinceYear','CompetitionOpenSinceMonth']].apply(competition_open_yr_mnth,axis=1)\n",
        "stores['CompetitionOpen']= stores['CompetitionOpen'].dt.strftime('%Y-%m-%d')\n",
        "stores['CompetitionOpen']= pd.to_datetime(stores['CompetitionOpen'])\n",
        "\n",
        "\n",
        "\n",
        "\n",
        "def promo_yr_wk(cols):\n",
        "  try:\n",
        "    year, week = int(cols[1]), int(cols[0])\n",
        "    date = pd.to_datetime(\"{}{}0\".format(year, week), format='%Y%W%w')\n",
        "    return date\n",
        "  except:\n",
        "    return '1909-01-01' ## dummy date\n",
        "\n",
        "\n",
        "stores['promoYearWeek'] =stores[['Promo2SinceWeek', 'Promo2SinceYear']].apply(promo_yr_wk,axis=1)\n",
        "stores['promoYearWeek'] = stores['promoYearWeek'].dt.strftime('%Y%m%d')\n",
        "stores['promoYearWeek']= pd.to_datetime(stores['promoYearWeek'])"
      ],
      "execution_count": 39,
      "outputs": []
    },
    {
      "cell_type": "code",
      "metadata": {
        "colab": {
          "base_uri": "https://localhost:8080/",
          "height": 226
        },
        "id": "_Y_I3sxHjPXS",
        "outputId": "f780e7e3-b22c-4600-ccb5-b6f6b59070f6"
      },
      "source": [
        "stores.head()"
      ],
      "execution_count": 40,
      "outputs": [
        {
          "output_type": "execute_result",
          "data": {
            "text/html": [
              "<div>\n",
              "<style scoped>\n",
              "    .dataframe tbody tr th:only-of-type {\n",
              "        vertical-align: middle;\n",
              "    }\n",
              "\n",
              "    .dataframe tbody tr th {\n",
              "        vertical-align: top;\n",
              "    }\n",
              "\n",
              "    .dataframe thead th {\n",
              "        text-align: right;\n",
              "    }\n",
              "</style>\n",
              "<table border=\"1\" class=\"dataframe\">\n",
              "  <thead>\n",
              "    <tr style=\"text-align: right;\">\n",
              "      <th></th>\n",
              "      <th>Store</th>\n",
              "      <th>StoreType</th>\n",
              "      <th>Assortment</th>\n",
              "      <th>CompetitionDistance</th>\n",
              "      <th>CompetitionOpenSinceMonth</th>\n",
              "      <th>CompetitionOpenSinceYear</th>\n",
              "      <th>Promo2</th>\n",
              "      <th>Promo2SinceWeek</th>\n",
              "      <th>Promo2SinceYear</th>\n",
              "      <th>PromoInterval</th>\n",
              "      <th>CompetitionOpen</th>\n",
              "      <th>promoYearWeek</th>\n",
              "    </tr>\n",
              "  </thead>\n",
              "  <tbody>\n",
              "    <tr>\n",
              "      <th>0</th>\n",
              "      <td>1</td>\n",
              "      <td>c</td>\n",
              "      <td>a</td>\n",
              "      <td>1270.0</td>\n",
              "      <td>9.0</td>\n",
              "      <td>2008.0</td>\n",
              "      <td>0</td>\n",
              "      <td>0.0</td>\n",
              "      <td>0.0</td>\n",
              "      <td>0</td>\n",
              "      <td>2008-09-01</td>\n",
              "      <td>1909-01-01</td>\n",
              "    </tr>\n",
              "    <tr>\n",
              "      <th>1</th>\n",
              "      <td>2</td>\n",
              "      <td>a</td>\n",
              "      <td>a</td>\n",
              "      <td>570.0</td>\n",
              "      <td>11.0</td>\n",
              "      <td>2007.0</td>\n",
              "      <td>1</td>\n",
              "      <td>13.0</td>\n",
              "      <td>2010.0</td>\n",
              "      <td>Jan,Apr,Jul,Oct</td>\n",
              "      <td>2007-11-01</td>\n",
              "      <td>2010-04-04</td>\n",
              "    </tr>\n",
              "    <tr>\n",
              "      <th>2</th>\n",
              "      <td>3</td>\n",
              "      <td>a</td>\n",
              "      <td>a</td>\n",
              "      <td>14130.0</td>\n",
              "      <td>12.0</td>\n",
              "      <td>2006.0</td>\n",
              "      <td>1</td>\n",
              "      <td>14.0</td>\n",
              "      <td>2011.0</td>\n",
              "      <td>Jan,Apr,Jul,Oct</td>\n",
              "      <td>2006-12-01</td>\n",
              "      <td>2011-04-10</td>\n",
              "    </tr>\n",
              "    <tr>\n",
              "      <th>3</th>\n",
              "      <td>4</td>\n",
              "      <td>c</td>\n",
              "      <td>c</td>\n",
              "      <td>620.0</td>\n",
              "      <td>9.0</td>\n",
              "      <td>2009.0</td>\n",
              "      <td>0</td>\n",
              "      <td>0.0</td>\n",
              "      <td>0.0</td>\n",
              "      <td>0</td>\n",
              "      <td>2009-09-01</td>\n",
              "      <td>1909-01-01</td>\n",
              "    </tr>\n",
              "    <tr>\n",
              "      <th>4</th>\n",
              "      <td>5</td>\n",
              "      <td>a</td>\n",
              "      <td>a</td>\n",
              "      <td>29910.0</td>\n",
              "      <td>4.0</td>\n",
              "      <td>2015.0</td>\n",
              "      <td>0</td>\n",
              "      <td>0.0</td>\n",
              "      <td>0.0</td>\n",
              "      <td>0</td>\n",
              "      <td>2015-04-01</td>\n",
              "      <td>1909-01-01</td>\n",
              "    </tr>\n",
              "  </tbody>\n",
              "</table>\n",
              "</div>"
            ],
            "text/plain": [
              "   Store StoreType Assortment  ...    PromoInterval  CompetitionOpen  promoYearWeek\n",
              "0      1         c          a  ...                0       2008-09-01     1909-01-01\n",
              "1      2         a          a  ...  Jan,Apr,Jul,Oct       2007-11-01     2010-04-04\n",
              "2      3         a          a  ...  Jan,Apr,Jul,Oct       2006-12-01     2011-04-10\n",
              "3      4         c          c  ...                0       2009-09-01     1909-01-01\n",
              "4      5         a          a  ...                0       2015-04-01     1909-01-01\n",
              "\n",
              "[5 rows x 12 columns]"
            ]
          },
          "metadata": {},
          "execution_count": 40
        }
      ]
    },
    {
      "cell_type": "code",
      "metadata": {
        "id": "Hxh77HDms34e"
      },
      "source": [
        "# ## Not req\n",
        "\n",
        "# ## Merge part\n",
        "# date_test=pd.merge(store_data,stores,on='Store')\n",
        "# date_test['day_diff_comp']=(date_test['Date']-date_test['CompetitionOpen']).dt.days\n",
        "# date_test['day_diff_promo']=(date_test['Date']-date_test['promoYearWeek']).dt.days\n",
        "# date_test.loc[date_test['day_diff_comp']>=73000,'day_diff_comp']=0\n",
        "# date_test.loc[date_test['day_diff_promo']>=36500,'day_diff_promo']=0"
      ],
      "execution_count": 41,
      "outputs": []
    },
    {
      "cell_type": "code",
      "metadata": {
        "id": "HJSYwHRU9v82"
      },
      "source": [
        "# ## Not req\n",
        "\n",
        "# date_test[date_test['promoYearWeek']=='1909-01-01'].shape"
      ],
      "execution_count": 42,
      "outputs": []
    },
    {
      "cell_type": "code",
      "metadata": {
        "id": "12edpayWvEeh"
      },
      "source": [
        "# ## Not req\n",
        "\n",
        "# date_test[date_test['CompetitionOpen']=='1813-01-01'].shape   #(323348, 22)\n",
        "# #date_test['day_diff']\n",
        "# date_test[date_test['day_diff']>=73000].shape"
      ],
      "execution_count": 43,
      "outputs": []
    },
    {
      "cell_type": "code",
      "metadata": {
        "id": "r2j6t8vXu9yc"
      },
      "source": [
        "# ### Not req\n",
        "\n",
        "# date_test[(date_test['Promo2SinceWeek']==0) & (date_test['Promo2SinceYear']==0)].shape"
      ],
      "execution_count": 44,
      "outputs": []
    },
    {
      "cell_type": "code",
      "metadata": {
        "id": "9Dj2WtMlcMi9",
        "colab": {
          "base_uri": "https://localhost:8080/"
        },
        "outputId": "ee7e9e26-14f5-4c31-a42b-4ceb4761fc3f"
      },
      "source": [
        "stores.info()"
      ],
      "execution_count": 45,
      "outputs": [
        {
          "output_type": "stream",
          "name": "stdout",
          "text": [
            "<class 'pandas.core.frame.DataFrame'>\n",
            "RangeIndex: 1115 entries, 0 to 1114\n",
            "Data columns (total 12 columns):\n",
            " #   Column                     Non-Null Count  Dtype         \n",
            "---  ------                     --------------  -----         \n",
            " 0   Store                      1115 non-null   int64         \n",
            " 1   StoreType                  1115 non-null   object        \n",
            " 2   Assortment                 1115 non-null   object        \n",
            " 3   CompetitionDistance        1115 non-null   float64       \n",
            " 4   CompetitionOpenSinceMonth  764 non-null    float64       \n",
            " 5   CompetitionOpenSinceYear   764 non-null    float64       \n",
            " 6   Promo2                     1115 non-null   int64         \n",
            " 7   Promo2SinceWeek            1115 non-null   float64       \n",
            " 8   Promo2SinceYear            1115 non-null   float64       \n",
            " 9   PromoInterval              1115 non-null   object        \n",
            " 10  CompetitionOpen            1115 non-null   datetime64[ns]\n",
            " 11  promoYearWeek              1115 non-null   datetime64[ns]\n",
            "dtypes: datetime64[ns](2), float64(5), int64(2), object(3)\n",
            "memory usage: 104.7+ KB\n"
          ]
        }
      ]
    },
    {
      "cell_type": "code",
      "metadata": {
        "id": "8c46KtSCWhuW"
      },
      "source": [
        "#stores['CompetitionOpen'].astype(int).describe()"
      ],
      "execution_count": 46,
      "outputs": []
    },
    {
      "cell_type": "code",
      "metadata": {
        "colab": {
          "base_uri": "https://localhost:8080/",
          "height": 226
        },
        "id": "PST_x7vjLgTK",
        "outputId": "bf756c26-c283-47bd-a49a-4d3764f116ff"
      },
      "source": [
        "stores.head()"
      ],
      "execution_count": 47,
      "outputs": [
        {
          "output_type": "execute_result",
          "data": {
            "text/html": [
              "<div>\n",
              "<style scoped>\n",
              "    .dataframe tbody tr th:only-of-type {\n",
              "        vertical-align: middle;\n",
              "    }\n",
              "\n",
              "    .dataframe tbody tr th {\n",
              "        vertical-align: top;\n",
              "    }\n",
              "\n",
              "    .dataframe thead th {\n",
              "        text-align: right;\n",
              "    }\n",
              "</style>\n",
              "<table border=\"1\" class=\"dataframe\">\n",
              "  <thead>\n",
              "    <tr style=\"text-align: right;\">\n",
              "      <th></th>\n",
              "      <th>Store</th>\n",
              "      <th>StoreType</th>\n",
              "      <th>Assortment</th>\n",
              "      <th>CompetitionDistance</th>\n",
              "      <th>CompetitionOpenSinceMonth</th>\n",
              "      <th>CompetitionOpenSinceYear</th>\n",
              "      <th>Promo2</th>\n",
              "      <th>Promo2SinceWeek</th>\n",
              "      <th>Promo2SinceYear</th>\n",
              "      <th>PromoInterval</th>\n",
              "      <th>CompetitionOpen</th>\n",
              "      <th>promoYearWeek</th>\n",
              "    </tr>\n",
              "  </thead>\n",
              "  <tbody>\n",
              "    <tr>\n",
              "      <th>0</th>\n",
              "      <td>1</td>\n",
              "      <td>c</td>\n",
              "      <td>a</td>\n",
              "      <td>1270.0</td>\n",
              "      <td>9.0</td>\n",
              "      <td>2008.0</td>\n",
              "      <td>0</td>\n",
              "      <td>0.0</td>\n",
              "      <td>0.0</td>\n",
              "      <td>0</td>\n",
              "      <td>2008-09-01</td>\n",
              "      <td>1909-01-01</td>\n",
              "    </tr>\n",
              "    <tr>\n",
              "      <th>1</th>\n",
              "      <td>2</td>\n",
              "      <td>a</td>\n",
              "      <td>a</td>\n",
              "      <td>570.0</td>\n",
              "      <td>11.0</td>\n",
              "      <td>2007.0</td>\n",
              "      <td>1</td>\n",
              "      <td>13.0</td>\n",
              "      <td>2010.0</td>\n",
              "      <td>Jan,Apr,Jul,Oct</td>\n",
              "      <td>2007-11-01</td>\n",
              "      <td>2010-04-04</td>\n",
              "    </tr>\n",
              "    <tr>\n",
              "      <th>2</th>\n",
              "      <td>3</td>\n",
              "      <td>a</td>\n",
              "      <td>a</td>\n",
              "      <td>14130.0</td>\n",
              "      <td>12.0</td>\n",
              "      <td>2006.0</td>\n",
              "      <td>1</td>\n",
              "      <td>14.0</td>\n",
              "      <td>2011.0</td>\n",
              "      <td>Jan,Apr,Jul,Oct</td>\n",
              "      <td>2006-12-01</td>\n",
              "      <td>2011-04-10</td>\n",
              "    </tr>\n",
              "    <tr>\n",
              "      <th>3</th>\n",
              "      <td>4</td>\n",
              "      <td>c</td>\n",
              "      <td>c</td>\n",
              "      <td>620.0</td>\n",
              "      <td>9.0</td>\n",
              "      <td>2009.0</td>\n",
              "      <td>0</td>\n",
              "      <td>0.0</td>\n",
              "      <td>0.0</td>\n",
              "      <td>0</td>\n",
              "      <td>2009-09-01</td>\n",
              "      <td>1909-01-01</td>\n",
              "    </tr>\n",
              "    <tr>\n",
              "      <th>4</th>\n",
              "      <td>5</td>\n",
              "      <td>a</td>\n",
              "      <td>a</td>\n",
              "      <td>29910.0</td>\n",
              "      <td>4.0</td>\n",
              "      <td>2015.0</td>\n",
              "      <td>0</td>\n",
              "      <td>0.0</td>\n",
              "      <td>0.0</td>\n",
              "      <td>0</td>\n",
              "      <td>2015-04-01</td>\n",
              "      <td>1909-01-01</td>\n",
              "    </tr>\n",
              "  </tbody>\n",
              "</table>\n",
              "</div>"
            ],
            "text/plain": [
              "   Store StoreType Assortment  ...    PromoInterval  CompetitionOpen  promoYearWeek\n",
              "0      1         c          a  ...                0       2008-09-01     1909-01-01\n",
              "1      2         a          a  ...  Jan,Apr,Jul,Oct       2007-11-01     2010-04-04\n",
              "2      3         a          a  ...  Jan,Apr,Jul,Oct       2006-12-01     2011-04-10\n",
              "3      4         c          c  ...                0       2009-09-01     1909-01-01\n",
              "4      5         a          a  ...                0       2015-04-01     1909-01-01\n",
              "\n",
              "[5 rows x 12 columns]"
            ]
          },
          "metadata": {},
          "execution_count": 47
        }
      ]
    },
    {
      "cell_type": "code",
      "metadata": {
        "id": "gwAfBVW5IHmD"
      },
      "source": [
        "## Check the CompetitionOpenSinceMonth values\n",
        "#stores['CompetitionOpenSinceMonth'].describe() ## 1 to 12\n",
        "#stores[stores['CompetitionOpenSinceMonth']<=3]"
      ],
      "execution_count": 48,
      "outputs": []
    },
    {
      "cell_type": "code",
      "metadata": {
        "id": "OtrewREeH5s2"
      },
      "source": [
        "#stores[stores['CompetitionOpenSinceYear']==1900]"
      ],
      "execution_count": 49,
      "outputs": []
    },
    {
      "cell_type": "code",
      "metadata": {
        "id": "FcmGPx-z6q3O"
      },
      "source": [
        "## For interval, will think afterwards\n",
        "#join_with = stores['PromoInterval'].str.split(',').apply(pd.Series)\n",
        "#join_with.columns = join_with.columns.map(lambda x: str(x) + '_PromoInterval')"
      ],
      "execution_count": 50,
      "outputs": []
    },
    {
      "cell_type": "code",
      "metadata": {
        "id": "OFdfOpMm8Ev-"
      },
      "source": [
        ""
      ],
      "execution_count": 50,
      "outputs": []
    },
    {
      "cell_type": "code",
      "metadata": {
        "colab": {
          "base_uri": "https://localhost:8080/"
        },
        "id": "7BvdzCTgpsDp",
        "outputId": "0f76892d-a36b-464f-c15c-7aeb4df47eea"
      },
      "source": [
        "store_data.info()"
      ],
      "execution_count": 51,
      "outputs": [
        {
          "output_type": "stream",
          "name": "stdout",
          "text": [
            "<class 'pandas.core.frame.DataFrame'>\n",
            "RangeIndex: 1017209 entries, 0 to 1017208\n",
            "Data columns (total 11 columns):\n",
            " #   Column         Non-Null Count    Dtype         \n",
            "---  ------         --------------    -----         \n",
            " 0   Store          1017209 non-null  int64         \n",
            " 1   DayOfWeek      1017209 non-null  int64         \n",
            " 2   Date           1017209 non-null  datetime64[ns]\n",
            " 3   Sales          1017209 non-null  int64         \n",
            " 4   Customers      1017209 non-null  int64         \n",
            " 5   Open           1017209 non-null  int64         \n",
            " 6   Promo          1017209 non-null  int64         \n",
            " 7   StateHoliday   1017209 non-null  object        \n",
            " 8   SchoolHoliday  1017209 non-null  int64         \n",
            " 9   Year           1017209 non-null  int64         \n",
            " 10  Month          1017209 non-null  int64         \n",
            "dtypes: datetime64[ns](1), int64(9), object(1)\n",
            "memory usage: 85.4+ MB\n"
          ]
        }
      ]
    },
    {
      "cell_type": "code",
      "metadata": {
        "id": "_y0s7hFI3Z68"
      },
      "source": [
        "store_data_merged=pd.merge(store_data,stores,on='Store')"
      ],
      "execution_count": 52,
      "outputs": []
    },
    {
      "cell_type": "code",
      "metadata": {
        "id": "kqbhjKGg_U2l"
      },
      "source": [
        "## Calculate the number of days since when the promo started\n",
        "store_data_merged['day_diff_comp']=(store_data_merged['Date']-store_data_merged['CompetitionOpen']).dt.days\n",
        "store_data_merged['day_diff_promo']=(store_data_merged['Date']-store_data_merged['promoYearWeek']).dt.days\n",
        "\n",
        "## Identifying the data based on teh dummy dates and changing them to zero\n",
        "store_data_merged.loc[store_data_merged['day_diff_comp']>=73000,'day_diff_comp']=0\n",
        "store_data_merged.loc[store_data_merged['day_diff_promo']>=36500,'day_diff_promo']=0"
      ],
      "execution_count": 53,
      "outputs": []
    },
    {
      "cell_type": "code",
      "metadata": {
        "id": "Pr_XrKm3NcaD"
      },
      "source": [
        "## Sort data in ascending order of date\n",
        "store_data_merged=store_data_merged.sort_values(['Date']).reset_index()"
      ],
      "execution_count": 54,
      "outputs": []
    },
    {
      "cell_type": "code",
      "metadata": {
        "colab": {
          "base_uri": "https://localhost:8080/",
          "height": 313
        },
        "id": "1RFr28N8NcWp",
        "outputId": "5cb142e6-1724-4ed4-e5a4-c802e6c08418"
      },
      "source": [
        "store_data_merged.head()"
      ],
      "execution_count": 55,
      "outputs": [
        {
          "output_type": "execute_result",
          "data": {
            "text/html": [
              "<div>\n",
              "<style scoped>\n",
              "    .dataframe tbody tr th:only-of-type {\n",
              "        vertical-align: middle;\n",
              "    }\n",
              "\n",
              "    .dataframe tbody tr th {\n",
              "        vertical-align: top;\n",
              "    }\n",
              "\n",
              "    .dataframe thead th {\n",
              "        text-align: right;\n",
              "    }\n",
              "</style>\n",
              "<table border=\"1\" class=\"dataframe\">\n",
              "  <thead>\n",
              "    <tr style=\"text-align: right;\">\n",
              "      <th></th>\n",
              "      <th>index</th>\n",
              "      <th>Store</th>\n",
              "      <th>DayOfWeek</th>\n",
              "      <th>Date</th>\n",
              "      <th>Sales</th>\n",
              "      <th>Customers</th>\n",
              "      <th>Open</th>\n",
              "      <th>Promo</th>\n",
              "      <th>StateHoliday</th>\n",
              "      <th>SchoolHoliday</th>\n",
              "      <th>Year</th>\n",
              "      <th>Month</th>\n",
              "      <th>StoreType</th>\n",
              "      <th>Assortment</th>\n",
              "      <th>CompetitionDistance</th>\n",
              "      <th>CompetitionOpenSinceMonth</th>\n",
              "      <th>CompetitionOpenSinceYear</th>\n",
              "      <th>Promo2</th>\n",
              "      <th>Promo2SinceWeek</th>\n",
              "      <th>Promo2SinceYear</th>\n",
              "      <th>PromoInterval</th>\n",
              "      <th>CompetitionOpen</th>\n",
              "      <th>promoYearWeek</th>\n",
              "      <th>day_diff_comp</th>\n",
              "      <th>day_diff_promo</th>\n",
              "    </tr>\n",
              "  </thead>\n",
              "  <tbody>\n",
              "    <tr>\n",
              "      <th>0</th>\n",
              "      <td>1014566</td>\n",
              "      <td>1115</td>\n",
              "      <td>2</td>\n",
              "      <td>2013-01-01</td>\n",
              "      <td>0</td>\n",
              "      <td>0</td>\n",
              "      <td>0</td>\n",
              "      <td>0</td>\n",
              "      <td>a</td>\n",
              "      <td>1</td>\n",
              "      <td>2013</td>\n",
              "      <td>1</td>\n",
              "      <td>d</td>\n",
              "      <td>c</td>\n",
              "      <td>5350.0</td>\n",
              "      <td>NaN</td>\n",
              "      <td>NaN</td>\n",
              "      <td>1</td>\n",
              "      <td>22.0</td>\n",
              "      <td>2012.0</td>\n",
              "      <td>Mar,Jun,Sept,Dec</td>\n",
              "      <td>1813-01-01</td>\n",
              "      <td>2012-06-03</td>\n",
              "      <td>0</td>\n",
              "      <td>212</td>\n",
              "    </tr>\n",
              "    <tr>\n",
              "      <th>1</th>\n",
              "      <td>458921</td>\n",
              "      <td>504</td>\n",
              "      <td>2</td>\n",
              "      <td>2013-01-01</td>\n",
              "      <td>0</td>\n",
              "      <td>0</td>\n",
              "      <td>0</td>\n",
              "      <td>0</td>\n",
              "      <td>a</td>\n",
              "      <td>1</td>\n",
              "      <td>2013</td>\n",
              "      <td>1</td>\n",
              "      <td>c</td>\n",
              "      <td>c</td>\n",
              "      <td>820.0</td>\n",
              "      <td>NaN</td>\n",
              "      <td>NaN</td>\n",
              "      <td>0</td>\n",
              "      <td>0.0</td>\n",
              "      <td>0.0</td>\n",
              "      <td>0</td>\n",
              "      <td>1813-01-01</td>\n",
              "      <td>1909-01-01</td>\n",
              "      <td>0</td>\n",
              "      <td>0</td>\n",
              "    </tr>\n",
              "    <tr>\n",
              "      <th>2</th>\n",
              "      <td>924068</td>\n",
              "      <td>1016</td>\n",
              "      <td>2</td>\n",
              "      <td>2013-01-01</td>\n",
              "      <td>0</td>\n",
              "      <td>0</td>\n",
              "      <td>0</td>\n",
              "      <td>0</td>\n",
              "      <td>a</td>\n",
              "      <td>1</td>\n",
              "      <td>2013</td>\n",
              "      <td>1</td>\n",
              "      <td>c</td>\n",
              "      <td>c</td>\n",
              "      <td>550.0</td>\n",
              "      <td>NaN</td>\n",
              "      <td>NaN</td>\n",
              "      <td>1</td>\n",
              "      <td>35.0</td>\n",
              "      <td>2010.0</td>\n",
              "      <td>Mar,Jun,Sept,Dec</td>\n",
              "      <td>1813-01-01</td>\n",
              "      <td>2010-09-05</td>\n",
              "      <td>0</td>\n",
              "      <td>849</td>\n",
              "    </tr>\n",
              "    <tr>\n",
              "      <th>3</th>\n",
              "      <td>220625</td>\n",
              "      <td>243</td>\n",
              "      <td>2</td>\n",
              "      <td>2013-01-01</td>\n",
              "      <td>0</td>\n",
              "      <td>0</td>\n",
              "      <td>0</td>\n",
              "      <td>0</td>\n",
              "      <td>a</td>\n",
              "      <td>1</td>\n",
              "      <td>2013</td>\n",
              "      <td>1</td>\n",
              "      <td>a</td>\n",
              "      <td>a</td>\n",
              "      <td>310.0</td>\n",
              "      <td>NaN</td>\n",
              "      <td>NaN</td>\n",
              "      <td>1</td>\n",
              "      <td>5.0</td>\n",
              "      <td>2013.0</td>\n",
              "      <td>Feb,May,Aug,Nov</td>\n",
              "      <td>1813-01-01</td>\n",
              "      <td>2013-02-10</td>\n",
              "      <td>0</td>\n",
              "      <td>-40</td>\n",
              "    </tr>\n",
              "    <tr>\n",
              "      <th>4</th>\n",
              "      <td>2825</td>\n",
              "      <td>3</td>\n",
              "      <td>2</td>\n",
              "      <td>2013-01-01</td>\n",
              "      <td>0</td>\n",
              "      <td>0</td>\n",
              "      <td>0</td>\n",
              "      <td>0</td>\n",
              "      <td>a</td>\n",
              "      <td>1</td>\n",
              "      <td>2013</td>\n",
              "      <td>1</td>\n",
              "      <td>a</td>\n",
              "      <td>a</td>\n",
              "      <td>14130.0</td>\n",
              "      <td>12.0</td>\n",
              "      <td>2006.0</td>\n",
              "      <td>1</td>\n",
              "      <td>14.0</td>\n",
              "      <td>2011.0</td>\n",
              "      <td>Jan,Apr,Jul,Oct</td>\n",
              "      <td>2006-12-01</td>\n",
              "      <td>2011-04-10</td>\n",
              "      <td>2223</td>\n",
              "      <td>632</td>\n",
              "    </tr>\n",
              "  </tbody>\n",
              "</table>\n",
              "</div>"
            ],
            "text/plain": [
              "     index  Store  DayOfWeek  ... promoYearWeek  day_diff_comp  day_diff_promo\n",
              "0  1014566   1115          2  ...    2012-06-03              0             212\n",
              "1   458921    504          2  ...    1909-01-01              0               0\n",
              "2   924068   1016          2  ...    2010-09-05              0             849\n",
              "3   220625    243          2  ...    2013-02-10              0             -40\n",
              "4     2825      3          2  ...    2011-04-10           2223             632\n",
              "\n",
              "[5 rows x 25 columns]"
            ]
          },
          "metadata": {},
          "execution_count": 55
        }
      ]
    },
    {
      "cell_type": "code",
      "metadata": {
        "colab": {
          "base_uri": "https://localhost:8080/",
          "height": 167
        },
        "id": "hURjt2fVOi4Y",
        "outputId": "958023c6-16df-4835-8e88-54068563c88d"
      },
      "source": [
        "## Get index of data for last year from March to test\n",
        "store_data_merged[(store_data_merged['Year']==2015) & (store_data_merged['Month']>=3)].head(2) ## 844431"
      ],
      "execution_count": 56,
      "outputs": [
        {
          "output_type": "execute_result",
          "data": {
            "text/html": [
              "<div>\n",
              "<style scoped>\n",
              "    .dataframe tbody tr th:only-of-type {\n",
              "        vertical-align: middle;\n",
              "    }\n",
              "\n",
              "    .dataframe tbody tr th {\n",
              "        vertical-align: top;\n",
              "    }\n",
              "\n",
              "    .dataframe thead th {\n",
              "        text-align: right;\n",
              "    }\n",
              "</style>\n",
              "<table border=\"1\" class=\"dataframe\">\n",
              "  <thead>\n",
              "    <tr style=\"text-align: right;\">\n",
              "      <th></th>\n",
              "      <th>index</th>\n",
              "      <th>Store</th>\n",
              "      <th>DayOfWeek</th>\n",
              "      <th>Date</th>\n",
              "      <th>Sales</th>\n",
              "      <th>Customers</th>\n",
              "      <th>Open</th>\n",
              "      <th>Promo</th>\n",
              "      <th>StateHoliday</th>\n",
              "      <th>SchoolHoliday</th>\n",
              "      <th>Year</th>\n",
              "      <th>Month</th>\n",
              "      <th>StoreType</th>\n",
              "      <th>Assortment</th>\n",
              "      <th>CompetitionDistance</th>\n",
              "      <th>CompetitionOpenSinceMonth</th>\n",
              "      <th>CompetitionOpenSinceYear</th>\n",
              "      <th>Promo2</th>\n",
              "      <th>Promo2SinceWeek</th>\n",
              "      <th>Promo2SinceYear</th>\n",
              "      <th>PromoInterval</th>\n",
              "      <th>CompetitionOpen</th>\n",
              "      <th>promoYearWeek</th>\n",
              "      <th>day_diff_comp</th>\n",
              "      <th>day_diff_promo</th>\n",
              "    </tr>\n",
              "  </thead>\n",
              "  <tbody>\n",
              "    <tr>\n",
              "      <th>844431</th>\n",
              "      <td>1094</td>\n",
              "      <td>2</td>\n",
              "      <td>7</td>\n",
              "      <td>2015-03-01</td>\n",
              "      <td>0</td>\n",
              "      <td>0</td>\n",
              "      <td>0</td>\n",
              "      <td>0</td>\n",
              "      <td>0</td>\n",
              "      <td>0</td>\n",
              "      <td>2015</td>\n",
              "      <td>3</td>\n",
              "      <td>a</td>\n",
              "      <td>a</td>\n",
              "      <td>570.0</td>\n",
              "      <td>11.0</td>\n",
              "      <td>2007.0</td>\n",
              "      <td>1</td>\n",
              "      <td>13.0</td>\n",
              "      <td>2010.0</td>\n",
              "      <td>Jan,Apr,Jul,Oct</td>\n",
              "      <td>2007-11-01</td>\n",
              "      <td>2010-04-04</td>\n",
              "      <td>2677</td>\n",
              "      <td>1792</td>\n",
              "    </tr>\n",
              "    <tr>\n",
              "      <th>844432</th>\n",
              "      <td>507160</td>\n",
              "      <td>558</td>\n",
              "      <td>7</td>\n",
              "      <td>2015-03-01</td>\n",
              "      <td>0</td>\n",
              "      <td>0</td>\n",
              "      <td>0</td>\n",
              "      <td>0</td>\n",
              "      <td>0</td>\n",
              "      <td>0</td>\n",
              "      <td>2015</td>\n",
              "      <td>3</td>\n",
              "      <td>a</td>\n",
              "      <td>a</td>\n",
              "      <td>3000.0</td>\n",
              "      <td>2.0</td>\n",
              "      <td>2010.0</td>\n",
              "      <td>0</td>\n",
              "      <td>0.0</td>\n",
              "      <td>0.0</td>\n",
              "      <td>0</td>\n",
              "      <td>2010-02-01</td>\n",
              "      <td>1909-01-01</td>\n",
              "      <td>1854</td>\n",
              "      <td>0</td>\n",
              "    </tr>\n",
              "  </tbody>\n",
              "</table>\n",
              "</div>"
            ],
            "text/plain": [
              "         index  Store  DayOfWeek  ... promoYearWeek  day_diff_comp  day_diff_promo\n",
              "844431    1094      2          7  ...    2010-04-04           2677            1792\n",
              "844432  507160    558          7  ...    1909-01-01           1854               0\n",
              "\n",
              "[2 rows x 25 columns]"
            ]
          },
          "metadata": {},
          "execution_count": 56
        }
      ]
    },
    {
      "cell_type": "code",
      "metadata": {
        "colab": {
          "base_uri": "https://localhost:8080/"
        },
        "id": "Bo8gs2tjPFlX",
        "outputId": "a09fdce6-6a8c-471e-bd7c-39b368b42d86"
      },
      "source": [
        "170136/len(store_data_merged) ## 16 % of data to test"
      ],
      "execution_count": 57,
      "outputs": [
        {
          "output_type": "execute_result",
          "data": {
            "text/plain": [
              "0.16769321296671388"
            ]
          },
          "metadata": {},
          "execution_count": 57
        }
      ]
    },
    {
      "cell_type": "code",
      "metadata": {
        "colab": {
          "base_uri": "https://localhost:8080/"
        },
        "id": "a_NVlAFaQHmA",
        "outputId": "c59ce75c-7675-4ac0-9cfc-3f5c011ee8dc"
      },
      "source": [
        "store_data_merged.columns"
      ],
      "execution_count": 58,
      "outputs": [
        {
          "output_type": "execute_result",
          "data": {
            "text/plain": [
              "Index(['index', 'Store', 'DayOfWeek', 'Date', 'Sales', 'Customers', 'Open',\n",
              "       'Promo', 'StateHoliday', 'SchoolHoliday', 'Year', 'Month', 'StoreType',\n",
              "       'Assortment', 'CompetitionDistance', 'CompetitionOpenSinceMonth',\n",
              "       'CompetitionOpenSinceYear', 'Promo2', 'Promo2SinceWeek',\n",
              "       'Promo2SinceYear', 'PromoInterval', 'CompetitionOpen', 'promoYearWeek',\n",
              "       'day_diff_comp', 'day_diff_promo'],\n",
              "      dtype='object')"
            ]
          },
          "metadata": {},
          "execution_count": 58
        }
      ]
    },
    {
      "cell_type": "code",
      "metadata": {
        "id": "5hDdDMnX_aZV"
      },
      "source": [
        "store_data_merged.drop(columns=['index','Date','CompetitionOpenSinceYear','CompetitionOpenSinceMonth','Promo2SinceWeek','Promo2SinceYear','PromoInterval','CompetitionOpen','promoYearWeek'],inplace=True)"
      ],
      "execution_count": 59,
      "outputs": []
    },
    {
      "cell_type": "code",
      "metadata": {
        "colab": {
          "base_uri": "https://localhost:8080/",
          "height": 226
        },
        "id": "6YRZJ8gz_aWE",
        "outputId": "1c7d64bd-b5bf-4473-de59-9601f318feeb"
      },
      "source": [
        "#store_data.drop(columns='Date',inplace=True)\n",
        "store_data_merged.head()"
      ],
      "execution_count": 60,
      "outputs": [
        {
          "output_type": "execute_result",
          "data": {
            "text/html": [
              "<div>\n",
              "<style scoped>\n",
              "    .dataframe tbody tr th:only-of-type {\n",
              "        vertical-align: middle;\n",
              "    }\n",
              "\n",
              "    .dataframe tbody tr th {\n",
              "        vertical-align: top;\n",
              "    }\n",
              "\n",
              "    .dataframe thead th {\n",
              "        text-align: right;\n",
              "    }\n",
              "</style>\n",
              "<table border=\"1\" class=\"dataframe\">\n",
              "  <thead>\n",
              "    <tr style=\"text-align: right;\">\n",
              "      <th></th>\n",
              "      <th>Store</th>\n",
              "      <th>DayOfWeek</th>\n",
              "      <th>Sales</th>\n",
              "      <th>Customers</th>\n",
              "      <th>Open</th>\n",
              "      <th>Promo</th>\n",
              "      <th>StateHoliday</th>\n",
              "      <th>SchoolHoliday</th>\n",
              "      <th>Year</th>\n",
              "      <th>Month</th>\n",
              "      <th>StoreType</th>\n",
              "      <th>Assortment</th>\n",
              "      <th>CompetitionDistance</th>\n",
              "      <th>Promo2</th>\n",
              "      <th>day_diff_comp</th>\n",
              "      <th>day_diff_promo</th>\n",
              "    </tr>\n",
              "  </thead>\n",
              "  <tbody>\n",
              "    <tr>\n",
              "      <th>0</th>\n",
              "      <td>1115</td>\n",
              "      <td>2</td>\n",
              "      <td>0</td>\n",
              "      <td>0</td>\n",
              "      <td>0</td>\n",
              "      <td>0</td>\n",
              "      <td>a</td>\n",
              "      <td>1</td>\n",
              "      <td>2013</td>\n",
              "      <td>1</td>\n",
              "      <td>d</td>\n",
              "      <td>c</td>\n",
              "      <td>5350.0</td>\n",
              "      <td>1</td>\n",
              "      <td>0</td>\n",
              "      <td>212</td>\n",
              "    </tr>\n",
              "    <tr>\n",
              "      <th>1</th>\n",
              "      <td>504</td>\n",
              "      <td>2</td>\n",
              "      <td>0</td>\n",
              "      <td>0</td>\n",
              "      <td>0</td>\n",
              "      <td>0</td>\n",
              "      <td>a</td>\n",
              "      <td>1</td>\n",
              "      <td>2013</td>\n",
              "      <td>1</td>\n",
              "      <td>c</td>\n",
              "      <td>c</td>\n",
              "      <td>820.0</td>\n",
              "      <td>0</td>\n",
              "      <td>0</td>\n",
              "      <td>0</td>\n",
              "    </tr>\n",
              "    <tr>\n",
              "      <th>2</th>\n",
              "      <td>1016</td>\n",
              "      <td>2</td>\n",
              "      <td>0</td>\n",
              "      <td>0</td>\n",
              "      <td>0</td>\n",
              "      <td>0</td>\n",
              "      <td>a</td>\n",
              "      <td>1</td>\n",
              "      <td>2013</td>\n",
              "      <td>1</td>\n",
              "      <td>c</td>\n",
              "      <td>c</td>\n",
              "      <td>550.0</td>\n",
              "      <td>1</td>\n",
              "      <td>0</td>\n",
              "      <td>849</td>\n",
              "    </tr>\n",
              "    <tr>\n",
              "      <th>3</th>\n",
              "      <td>243</td>\n",
              "      <td>2</td>\n",
              "      <td>0</td>\n",
              "      <td>0</td>\n",
              "      <td>0</td>\n",
              "      <td>0</td>\n",
              "      <td>a</td>\n",
              "      <td>1</td>\n",
              "      <td>2013</td>\n",
              "      <td>1</td>\n",
              "      <td>a</td>\n",
              "      <td>a</td>\n",
              "      <td>310.0</td>\n",
              "      <td>1</td>\n",
              "      <td>0</td>\n",
              "      <td>-40</td>\n",
              "    </tr>\n",
              "    <tr>\n",
              "      <th>4</th>\n",
              "      <td>3</td>\n",
              "      <td>2</td>\n",
              "      <td>0</td>\n",
              "      <td>0</td>\n",
              "      <td>0</td>\n",
              "      <td>0</td>\n",
              "      <td>a</td>\n",
              "      <td>1</td>\n",
              "      <td>2013</td>\n",
              "      <td>1</td>\n",
              "      <td>a</td>\n",
              "      <td>a</td>\n",
              "      <td>14130.0</td>\n",
              "      <td>1</td>\n",
              "      <td>2223</td>\n",
              "      <td>632</td>\n",
              "    </tr>\n",
              "  </tbody>\n",
              "</table>\n",
              "</div>"
            ],
            "text/plain": [
              "   Store  DayOfWeek  Sales  ...  Promo2  day_diff_comp  day_diff_promo\n",
              "0   1115          2      0  ...       1              0             212\n",
              "1    504          2      0  ...       0              0               0\n",
              "2   1016          2      0  ...       1              0             849\n",
              "3    243          2      0  ...       1              0             -40\n",
              "4      3          2      0  ...       1           2223             632\n",
              "\n",
              "[5 rows x 16 columns]"
            ]
          },
          "metadata": {},
          "execution_count": 60
        }
      ]
    },
    {
      "cell_type": "code",
      "metadata": {
        "id": "2EutY3SO_aTN",
        "colab": {
          "base_uri": "https://localhost:8080/"
        },
        "outputId": "dbe60fe7-18fc-4a90-ad6d-ef73151f3935"
      },
      "source": [
        "store_data_merged.info()"
      ],
      "execution_count": 61,
      "outputs": [
        {
          "output_type": "stream",
          "name": "stdout",
          "text": [
            "<class 'pandas.core.frame.DataFrame'>\n",
            "RangeIndex: 1014567 entries, 0 to 1014566\n",
            "Data columns (total 16 columns):\n",
            " #   Column               Non-Null Count    Dtype  \n",
            "---  ------               --------------    -----  \n",
            " 0   Store                1014567 non-null  int64  \n",
            " 1   DayOfWeek            1014567 non-null  int64  \n",
            " 2   Sales                1014567 non-null  int64  \n",
            " 3   Customers            1014567 non-null  int64  \n",
            " 4   Open                 1014567 non-null  int64  \n",
            " 5   Promo                1014567 non-null  int64  \n",
            " 6   StateHoliday         1014567 non-null  object \n",
            " 7   SchoolHoliday        1014567 non-null  int64  \n",
            " 8   Year                 1014567 non-null  int64  \n",
            " 9   Month                1014567 non-null  int64  \n",
            " 10  StoreType            1014567 non-null  object \n",
            " 11  Assortment           1014567 non-null  object \n",
            " 12  CompetitionDistance  1014567 non-null  float64\n",
            " 13  Promo2               1014567 non-null  int64  \n",
            " 14  day_diff_comp        1014567 non-null  int64  \n",
            " 15  day_diff_promo       1014567 non-null  int64  \n",
            "dtypes: float64(1), int64(12), object(3)\n",
            "memory usage: 123.8+ MB\n"
          ]
        }
      ]
    },
    {
      "cell_type": "code",
      "metadata": {
        "id": "DjZr7By-CddJ"
      },
      "source": [
        "## Convert datatype of CompetitionDistance from \n",
        "store_data_merged['CompetitionDistance']=store_data_merged['CompetitionDistance'].astype(int)"
      ],
      "execution_count": 62,
      "outputs": []
    },
    {
      "cell_type": "code",
      "metadata": {
        "id": "dXN7o86qp5Yx"
      },
      "source": [
        "## Encoding Assortment with numerical values\n",
        "store_data_merged['Assortment']=store_data_merged['Assortment'].apply(lambda x: 1 if x=='a' else (2 if x=='b' else 3))"
      ],
      "execution_count": 63,
      "outputs": []
    },
    {
      "cell_type": "code",
      "metadata": {
        "id": "27ks5IG-p5VV"
      },
      "source": [
        "## Create Dummy variables for object type data\n",
        "store_data_final=pd.get_dummies(store_data_merged,drop_first=True)"
      ],
      "execution_count": 64,
      "outputs": []
    },
    {
      "cell_type": "code",
      "metadata": {
        "colab": {
          "base_uri": "https://localhost:8080/"
        },
        "id": "-_BLHL5Xp5S2",
        "outputId": "60a30619-2ff2-4edc-fff5-a20e6671421c"
      },
      "source": [
        "## Check presence of null in data\n",
        "store_data_final.isna().sum().sum()\n"
      ],
      "execution_count": 65,
      "outputs": [
        {
          "output_type": "execute_result",
          "data": {
            "text/plain": [
              "0"
            ]
          },
          "metadata": {},
          "execution_count": 65
        }
      ]
    },
    {
      "cell_type": "code",
      "metadata": {
        "id": "Y5YSrPvsrf6j"
      },
      "source": [
        "############ Final Data store_data_final"
      ],
      "execution_count": 66,
      "outputs": []
    },
    {
      "cell_type": "code",
      "metadata": {
        "id": "RUUFBWAjlMtC"
      },
      "source": [
        "## Import libraries for Lin Reg\n",
        "#from sklearn.model_selection import train_test_split\n",
        "from sklearn.linear_model import LinearRegression\n",
        "from sklearn.metrics import r2_score\n",
        "from sklearn.metrics import mean_squared_error\n",
        "from sklearn.preprocessing import StandardScaler"
      ],
      "execution_count": 67,
      "outputs": []
    },
    {
      "cell_type": "code",
      "metadata": {
        "id": "xYwTyxoZZwUN"
      },
      "source": [
        "################################"
      ],
      "execution_count": 68,
      "outputs": []
    },
    {
      "cell_type": "code",
      "metadata": {
        "id": "THBAyGWxYrxN"
      },
      "source": [
        "## Converting Day of Week to object type\n",
        "store_data_merged['DayOfWeek']=store_data_merged['DayOfWeek'].astype(object)"
      ],
      "execution_count": 69,
      "outputs": []
    },
    {
      "cell_type": "markdown",
      "metadata": {
        "id": "8eHq6tluPUha"
      },
      "source": [
        "Since the Day of Week is in number, a regression model will fit coefficients based on number. So instead of that it can be converted to object type so as to get categories out of it. Our model can then predict based on the categories."
      ]
    },
    {
      "cell_type": "code",
      "metadata": {
        "id": "jcECUtMAYrsA"
      },
      "source": [
        "store_data_final=pd.get_dummies(store_data_merged,drop_first=True)"
      ],
      "execution_count": 70,
      "outputs": []
    },
    {
      "cell_type": "markdown",
      "metadata": {
        "id": "DhzDvF09QrZv"
      },
      "source": [
        "Here we get the final dataset with all the feature transformations. This data can be put into the machine learning models."
      ]
    },
    {
      "cell_type": "code",
      "metadata": {
        "id": "yg6ax_rXuDeS"
      },
      "source": [
        "## Divide data into train and test\n",
        "## Index based split to test sales for last few months instead of selecting randomly from dataset\n",
        "store_data_train=store_data_final.iloc[0:844431]\n",
        "store_data_test=store_data_final.iloc[844431:]"
      ],
      "execution_count": 71,
      "outputs": []
    },
    {
      "cell_type": "markdown",
      "metadata": {
        "id": "aD4NYIVURUTb"
      },
      "source": [
        "The data had been sorted according to the sales date in ascending order. So the last record represents the latest sales data. Hence, the data has been split into train and test dataset in a way so that we can use the data from last few months to test the accuracy of our model."
      ]
    },
    {
      "cell_type": "code",
      "metadata": {
        "id": "OXChBKaOYsmH"
      },
      "source": [
        "## Separating the target variable from both train and test dataset and converting the dataframe into numpy array.\n",
        "X_train=store_data_train.drop(['Sales','Store'],axis=1).to_numpy()\n",
        "y_train=store_data_train['Sales'].to_numpy()\n",
        "\n",
        "X_test=store_data_test.drop(['Sales','Store'],axis=1).to_numpy()\n",
        "y_test=store_data_test['Sales'].to_numpy()"
      ],
      "execution_count": 72,
      "outputs": []
    },
    {
      "cell_type": "markdown",
      "metadata": {
        "id": "pZsKsjwMR3li"
      },
      "source": [
        "In this step the target variable is separated from the independent features. Then it is further converted from DataFrame to numpy array as the regression algorithms accept arrays."
      ]
    },
    {
      "cell_type": "code",
      "metadata": {
        "id": "ZHSItRT_YsmI"
      },
      "source": [
        "## Standardisation of data so that it can be used for regression model\n",
        "scaler = StandardScaler()\n",
        "X_train = scaler.fit_transform(X_train)\n",
        "## Using the paarmeters from Standard scaler to transform test dataset\n",
        "X_test = scaler.transform(X_test)"
      ],
      "execution_count": 73,
      "outputs": []
    },
    {
      "cell_type": "markdown",
      "metadata": {
        "id": "Kb1dsnX5Snlb"
      },
      "source": [
        "The training data is Standardised by invoking the StandardScaler libraray from sklearn and then the fit's parameters is used to transform the test dataset."
      ]
    },
    {
      "cell_type": "code",
      "metadata": {
        "colab": {
          "base_uri": "https://localhost:8080/"
        },
        "id": "cHH64U3IYsmI",
        "outputId": "7e1a91ee-d586-43ba-e708-d54645a03082"
      },
      "source": [
        "## Test using a simple regression model\n",
        "regressor = LinearRegression()\n",
        "regressor.fit(X_train, y_train)\n",
        "\n",
        "## fit_intercept=False increases the mse value, so fitting the intercept"
      ],
      "execution_count": 74,
      "outputs": [
        {
          "output_type": "execute_result",
          "data": {
            "text/plain": [
              "LinearRegression(copy_X=True, fit_intercept=True, n_jobs=None, normalize=False)"
            ]
          },
          "metadata": {},
          "execution_count": 74
        }
      ]
    },
    {
      "cell_type": "markdown",
      "metadata": {
        "id": "t3IqGvWUZjJR"
      },
      "source": [
        "This is the first elementary model that is being implemented on our dataset."
      ]
    },
    {
      "cell_type": "code",
      "metadata": {
        "colab": {
          "base_uri": "https://localhost:8080/"
        },
        "id": "xsVZNcXRYsmI",
        "outputId": "c7581c9e-8f7d-4503-d3b4-426c750ea6f6"
      },
      "source": [
        "print(regressor.intercept_)\n",
        "reg_coeff=list(regressor.coef_)\n",
        "print(reg_coeff)"
      ],
      "execution_count": 75,
      "outputs": [
        {
          "output_type": "stream",
          "name": "stdout",
          "text": [
            "5744.562405927787\n",
            "[3343.297450954396, 405.2066037627117, 595.4503957798231, 37.95759343415692, 56.48294383837949, 87.86783103879742, 115.88000811610472, 154.46480618437707, 47.450531891870476, 24.445704928649043, 88.80396764023938, -169.9996210977667, -219.12766963623707, -241.68526882287063, -191.44600298299616, -74.28451811119527, -103.91160473718796, 54.09396206398207, -13.719321075599858, -38.932216949475844, 18.153901335936254, -646.1215969379066, -44.27699529042478, 418.74727977293537]\n"
          ]
        }
      ]
    },
    {
      "cell_type": "code",
      "metadata": {
        "id": "GAiif2WJYsmI"
      },
      "source": [
        "# Predict the Train data using model parameters\n",
        "y_pred_train = regressor.predict(X_train)\n",
        "# Predict the Test data\n",
        "y_pred = regressor.predict(X_test)"
      ],
      "execution_count": 76,
      "outputs": []
    },
    {
      "cell_type": "markdown",
      "metadata": {
        "id": "APw1yxEvZ8Ip"
      },
      "source": [
        "After fitting the model we predict the target that is Sales for both train and test dataset."
      ]
    },
    {
      "cell_type": "code",
      "metadata": {
        "colab": {
          "base_uri": "https://localhost:8080/"
        },
        "id": "PvuNjvQvYsmJ",
        "outputId": "26284d36-f17e-4688-c21c-e145142d8687"
      },
      "source": [
        "# Train data performance\n",
        "print(\"Mean Square error for training dataset: {:.2f}\".format(math.sqrt(mean_squared_error(y_train, y_pred_train))))\n",
        "# Test data performance\n",
        "print(\"Mean Square error for test dataset: {:.2f}\".format(math.sqrt(mean_squared_error(y_test, y_pred))))"
      ],
      "execution_count": 77,
      "outputs": [
        {
          "output_type": "stream",
          "name": "stdout",
          "text": [
            "Mean Square error for training dataset: 1213.92\n",
            "Mean Square error for test dataset: 1279.95\n"
          ]
        }
      ]
    },
    {
      "cell_type": "markdown",
      "metadata": {
        "id": "7yV7pni8aK0R"
      },
      "source": [
        "Mean Square error for test dataset should be more than the tarin datset. "
      ]
    },
    {
      "cell_type": "code",
      "metadata": {
        "colab": {
          "base_uri": "https://localhost:8080/"
        },
        "id": "hqli5MMyYsmJ",
        "outputId": "f0f93106-0d36-43bf-d4d0-761a0e1db17f"
      },
      "source": [
        "## calculate R-square Score for train dataset\n",
        "print(\"R2 Score for train dataset: {:.4f}\".format(r2_score(y_train, y_pred_train)))"
      ],
      "execution_count": 78,
      "outputs": [
        {
          "output_type": "stream",
          "name": "stdout",
          "text": [
            "R2 Score for train dataset: 0.8997\n"
          ]
        }
      ]
    },
    {
      "cell_type": "markdown",
      "metadata": {
        "id": "BKi22ciCabEy"
      },
      "source": [
        "We also calculate the R-square value for train datset and find it to be close to 90%."
      ]
    },
    {
      "cell_type": "code",
      "metadata": {
        "colab": {
          "base_uri": "https://localhost:8080/"
        },
        "id": "UxU79A6-YsmJ",
        "outputId": "813b2dca-cd23-4e6f-f4c4-fa43dbccb445"
      },
      "source": [
        "## calculate R-square Score for test dataset\n",
        "r2=r2_score(y_test, y_pred)\n",
        "print(\"R2 Score for test dataset: {:.4f}\".format(r2))\n",
        "## Adjusted R square\n",
        "r2_adj=1-(1-r2)*((X_test.shape[0]-1)/(X_test.shape[0]-X_test.shape[1]-1))\n",
        "print(\"Adjusted R-square value for test dataset : {:.4f}\".format(r2_adj))"
      ],
      "execution_count": 79,
      "outputs": [
        {
          "output_type": "stream",
          "name": "stdout",
          "text": [
            "R2 Score for test dataset: 0.8943\n",
            "Adjusted R-square value for test dataset : 0.8943\n"
          ]
        }
      ]
    },
    {
      "cell_type": "markdown",
      "metadata": {
        "id": "Is_yw_3iamN7"
      },
      "source": [
        "Using the predictions on test dataset we calculate the R-square and Adjusted R2-square value."
      ]
    },
    {
      "cell_type": "code",
      "metadata": {
        "id": "iBNAECyHYsmJ"
      },
      "source": [
        "# Storing the scors in a list so that it can be compared with scores from other models at the end.\n",
        "linreg_scores=list([r2,r2_adj])"
      ],
      "execution_count": 80,
      "outputs": []
    },
    {
      "cell_type": "code",
      "metadata": {
        "id": "tlG0Y25WYsmJ"
      },
      "source": [
        "# Looking at the Test and predicted data side by side\n",
        "#pd.DataFrame({'Test': y_test, 'Pred': y_pred})\n"
      ],
      "execution_count": 81,
      "outputs": []
    },
    {
      "cell_type": "code",
      "metadata": {
        "id": "tHPQ_L74YsmJ"
      },
      "source": [
        "from sklearn.feature_selection import RFE\n",
        "from sklearn.model_selection import cross_val_score\n",
        "from sklearn.model_selection import KFold\n",
        "\n",
        "from sklearn.model_selection import GridSearchCV"
      ],
      "execution_count": 82,
      "outputs": []
    },
    {
      "cell_type": "code",
      "metadata": {
        "colab": {
          "base_uri": "https://localhost:8080/"
        },
        "id": "CSd84ze1YsmJ",
        "outputId": "a86a19f0-309b-4b86-93c4-dec9f7745975"
      },
      "source": [
        "# Fit a LinearRegression model using cross validation\n",
        "lm = LinearRegression()\n",
        "# create a KFold object with 5 splits \n",
        "folds = KFold(n_splits = 5, shuffle = True, random_state = 100)\n",
        "scores = cross_val_score(lm, X_train, y_train, scoring='r2', cv=folds)\n",
        "for i,j in enumerate(scores):\n",
        "  print(\"R-square value after {} iteration: {:.4f}\".format(i+1,j))\n"
      ],
      "execution_count": 83,
      "outputs": [
        {
          "output_type": "stream",
          "name": "stdout",
          "text": [
            "R-square value after 1 iteration: 0.8984\n",
            "R-square value after 2 iteration: 0.9003\n",
            "R-square value after 3 iteration: 0.9012\n",
            "R-square value after 4 iteration: 0.8995\n",
            "R-square value after 5 iteration: 0.8989\n"
          ]
        }
      ]
    },
    {
      "cell_type": "markdown",
      "metadata": {
        "id": "ZJpCC92CbUNQ"
      },
      "source": [
        "To better fit our train dataset we use cross validation with five splits and analyze the R-square across each iteration. "
      ]
    },
    {
      "cell_type": "code",
      "metadata": {
        "colab": {
          "base_uri": "https://localhost:8080/"
        },
        "id": "HShsFi5dYsmJ",
        "outputId": "f641a87e-9f2c-45e2-ed9d-27c1d46dc3fd"
      },
      "source": [
        "## We put the KFold with RFE, with number of features as hyper parameter to find optimal no of features and corresponding R-square \n",
        "# Define a cross-validation parameters\n",
        "folds = KFold(n_splits = 5, shuffle = True, random_state = 150)\n",
        "\n",
        "# Specify range of number of parameters to tune\n",
        "hyper_params = [{'n_features_to_select': list(range(18, 25))}]\n",
        "\n",
        "\n",
        "# Perform grid search using Linear regressor\n",
        "regressor = LinearRegression()\n",
        "regressor.fit(X_train, y_train)\n",
        "rfe = RFE(regressor)             \n",
        "\n",
        "model = GridSearchCV(estimator = rfe, \n",
        "                        param_grid = hyper_params, \n",
        "                        scoring= 'r2', \n",
        "                        cv = folds, \n",
        "                        verbose = 1,\n",
        "                        return_train_score=True)      \n",
        "\n",
        "# fit the model\n",
        "model.fit(X_train, y_train) "
      ],
      "execution_count": 115,
      "outputs": [
        {
          "output_type": "stream",
          "name": "stdout",
          "text": [
            "Fitting 5 folds for each of 7 candidates, totalling 35 fits\n"
          ]
        },
        {
          "output_type": "stream",
          "name": "stderr",
          "text": [
            "[Parallel(n_jobs=1)]: Using backend SequentialBackend with 1 concurrent workers.\n",
            "[Parallel(n_jobs=1)]: Done  35 out of  35 | elapsed:  1.8min finished\n"
          ]
        },
        {
          "output_type": "execute_result",
          "data": {
            "text/plain": [
              "GridSearchCV(cv=KFold(n_splits=5, random_state=150, shuffle=True),\n",
              "             error_score=nan,\n",
              "             estimator=RFE(estimator=LinearRegression(copy_X=True,\n",
              "                                                      fit_intercept=True,\n",
              "                                                      n_jobs=None,\n",
              "                                                      normalize=False),\n",
              "                           n_features_to_select=None, step=1, verbose=0),\n",
              "             iid='deprecated', n_jobs=None,\n",
              "             param_grid=[{'n_features_to_select': [18, 19, 20, 21, 22, 23,\n",
              "                                                   24]}],\n",
              "             pre_dispatch='2*n_jobs', refit=True, return_train_score=True,\n",
              "             scoring='r2', verbose=1)"
            ]
          },
          "metadata": {},
          "execution_count": 115
        }
      ]
    },
    {
      "cell_type": "markdown",
      "metadata": {
        "id": "K-SUlBHHbuii"
      },
      "source": [
        "Since this data has lot of features we try to use Recursive feature elimination technique along with Grid search to find optimal number of features that gives us the best R-square value. Here we again split the data into five splits and R-square as teh scoring method."
      ]
    },
    {
      "cell_type": "code",
      "metadata": {
        "colab": {
          "base_uri": "https://localhost:8080/",
          "height": 361
        },
        "id": "aB1o9iTOYsmK",
        "outputId": "f5dadd89-2840-4678-cf99-496be5e5e78b"
      },
      "source": [
        "# Crossvalidation results\n",
        "cv_results = pd.DataFrame(model.cv_results_)\n",
        "cv_results"
      ],
      "execution_count": 85,
      "outputs": [
        {
          "output_type": "execute_result",
          "data": {
            "text/html": [
              "<div>\n",
              "<style scoped>\n",
              "    .dataframe tbody tr th:only-of-type {\n",
              "        vertical-align: middle;\n",
              "    }\n",
              "\n",
              "    .dataframe tbody tr th {\n",
              "        vertical-align: top;\n",
              "    }\n",
              "\n",
              "    .dataframe thead th {\n",
              "        text-align: right;\n",
              "    }\n",
              "</style>\n",
              "<table border=\"1\" class=\"dataframe\">\n",
              "  <thead>\n",
              "    <tr style=\"text-align: right;\">\n",
              "      <th></th>\n",
              "      <th>mean_fit_time</th>\n",
              "      <th>std_fit_time</th>\n",
              "      <th>mean_score_time</th>\n",
              "      <th>std_score_time</th>\n",
              "      <th>param_n_features_to_select</th>\n",
              "      <th>params</th>\n",
              "      <th>split0_test_score</th>\n",
              "      <th>split1_test_score</th>\n",
              "      <th>split2_test_score</th>\n",
              "      <th>split3_test_score</th>\n",
              "      <th>split4_test_score</th>\n",
              "      <th>mean_test_score</th>\n",
              "      <th>std_test_score</th>\n",
              "      <th>rank_test_score</th>\n",
              "      <th>split0_train_score</th>\n",
              "      <th>split1_train_score</th>\n",
              "      <th>split2_train_score</th>\n",
              "      <th>split3_train_score</th>\n",
              "      <th>split4_train_score</th>\n",
              "      <th>mean_train_score</th>\n",
              "      <th>std_train_score</th>\n",
              "    </tr>\n",
              "  </thead>\n",
              "  <tbody>\n",
              "    <tr>\n",
              "      <th>0</th>\n",
              "      <td>4.761859</td>\n",
              "      <td>0.026574</td>\n",
              "      <td>0.044052</td>\n",
              "      <td>0.003589</td>\n",
              "      <td>18</td>\n",
              "      <td>{'n_features_to_select': 18}</td>\n",
              "      <td>0.899985</td>\n",
              "      <td>0.899360</td>\n",
              "      <td>0.897929</td>\n",
              "      <td>0.899161</td>\n",
              "      <td>0.900144</td>\n",
              "      <td>0.899316</td>\n",
              "      <td>0.000785</td>\n",
              "      <td>6</td>\n",
              "      <td>0.899156</td>\n",
              "      <td>0.899313</td>\n",
              "      <td>0.899671</td>\n",
              "      <td>0.899363</td>\n",
              "      <td>0.899117</td>\n",
              "      <td>0.899324</td>\n",
              "      <td>0.000196</td>\n",
              "    </tr>\n",
              "    <tr>\n",
              "      <th>1</th>\n",
              "      <td>4.205649</td>\n",
              "      <td>0.032069</td>\n",
              "      <td>0.042966</td>\n",
              "      <td>0.002759</td>\n",
              "      <td>19</td>\n",
              "      <td>{'n_features_to_select': 19}</td>\n",
              "      <td>0.900108</td>\n",
              "      <td>0.899490</td>\n",
              "      <td>0.898030</td>\n",
              "      <td>0.899276</td>\n",
              "      <td>0.900265</td>\n",
              "      <td>0.899434</td>\n",
              "      <td>0.000793</td>\n",
              "      <td>5</td>\n",
              "      <td>0.899273</td>\n",
              "      <td>0.899429</td>\n",
              "      <td>0.899793</td>\n",
              "      <td>0.899482</td>\n",
              "      <td>0.899235</td>\n",
              "      <td>0.899442</td>\n",
              "      <td>0.000198</td>\n",
              "    </tr>\n",
              "    <tr>\n",
              "      <th>2</th>\n",
              "      <td>3.635046</td>\n",
              "      <td>0.018255</td>\n",
              "      <td>0.044103</td>\n",
              "      <td>0.006059</td>\n",
              "      <td>20</td>\n",
              "      <td>{'n_features_to_select': 20}</td>\n",
              "      <td>0.900189</td>\n",
              "      <td>0.899581</td>\n",
              "      <td>0.898116</td>\n",
              "      <td>0.899345</td>\n",
              "      <td>0.900345</td>\n",
              "      <td>0.899515</td>\n",
              "      <td>0.000792</td>\n",
              "      <td>4</td>\n",
              "      <td>0.899355</td>\n",
              "      <td>0.899508</td>\n",
              "      <td>0.899874</td>\n",
              "      <td>0.899567</td>\n",
              "      <td>0.899316</td>\n",
              "      <td>0.899524</td>\n",
              "      <td>0.000198</td>\n",
              "    </tr>\n",
              "    <tr>\n",
              "      <th>3</th>\n",
              "      <td>2.996706</td>\n",
              "      <td>0.033586</td>\n",
              "      <td>0.044831</td>\n",
              "      <td>0.004862</td>\n",
              "      <td>21</td>\n",
              "      <td>{'n_features_to_select': 21}</td>\n",
              "      <td>0.900272</td>\n",
              "      <td>0.899667</td>\n",
              "      <td>0.898186</td>\n",
              "      <td>0.899426</td>\n",
              "      <td>0.900421</td>\n",
              "      <td>0.899594</td>\n",
              "      <td>0.000795</td>\n",
              "      <td>3</td>\n",
              "      <td>0.899433</td>\n",
              "      <td>0.899585</td>\n",
              "      <td>0.899955</td>\n",
              "      <td>0.899646</td>\n",
              "      <td>0.899397</td>\n",
              "      <td>0.899603</td>\n",
              "      <td>0.000199</td>\n",
              "    </tr>\n",
              "    <tr>\n",
              "      <th>4</th>\n",
              "      <td>2.308022</td>\n",
              "      <td>0.017016</td>\n",
              "      <td>0.049473</td>\n",
              "      <td>0.002560</td>\n",
              "      <td>22</td>\n",
              "      <td>{'n_features_to_select': 22}</td>\n",
              "      <td>0.900296</td>\n",
              "      <td>0.899714</td>\n",
              "      <td>0.898232</td>\n",
              "      <td>0.899460</td>\n",
              "      <td>0.900445</td>\n",
              "      <td>0.899630</td>\n",
              "      <td>0.000787</td>\n",
              "      <td>2</td>\n",
              "      <td>0.899465</td>\n",
              "      <td>0.899623</td>\n",
              "      <td>0.899994</td>\n",
              "      <td>0.899687</td>\n",
              "      <td>0.899440</td>\n",
              "      <td>0.899642</td>\n",
              "      <td>0.000199</td>\n",
              "    </tr>\n",
              "    <tr>\n",
              "      <th>5</th>\n",
              "      <td>1.610200</td>\n",
              "      <td>0.014530</td>\n",
              "      <td>0.052937</td>\n",
              "      <td>0.003629</td>\n",
              "      <td>23</td>\n",
              "      <td>{'n_features_to_select': 23}</td>\n",
              "      <td>0.900342</td>\n",
              "      <td>0.899745</td>\n",
              "      <td>0.898268</td>\n",
              "      <td>0.899488</td>\n",
              "      <td>0.900478</td>\n",
              "      <td>0.899664</td>\n",
              "      <td>0.000789</td>\n",
              "      <td>1</td>\n",
              "      <td>0.899503</td>\n",
              "      <td>0.899654</td>\n",
              "      <td>0.900023</td>\n",
              "      <td>0.899718</td>\n",
              "      <td>0.899470</td>\n",
              "      <td>0.899674</td>\n",
              "      <td>0.000197</td>\n",
              "    </tr>\n",
              "  </tbody>\n",
              "</table>\n",
              "</div>"
            ],
            "text/plain": [
              "   mean_fit_time  std_fit_time  ...  mean_train_score  std_train_score\n",
              "0       4.761859      0.026574  ...          0.899324         0.000196\n",
              "1       4.205649      0.032069  ...          0.899442         0.000198\n",
              "2       3.635046      0.018255  ...          0.899524         0.000198\n",
              "3       2.996706      0.033586  ...          0.899603         0.000199\n",
              "4       2.308022      0.017016  ...          0.899642         0.000199\n",
              "5       1.610200      0.014530  ...          0.899674         0.000197\n",
              "\n",
              "[6 rows x 21 columns]"
            ]
          },
          "metadata": {},
          "execution_count": 85
        }
      ]
    },
    {
      "cell_type": "markdown",
      "metadata": {
        "id": "fbex0GFmcTwa"
      },
      "source": [
        "The results of cross validation at each split can be observed at each step. We can see the score it achieved at each cross validation step correspondingg to the number of featurs it selected. The scores obtained on test dataset has been ranked so that we can choose the optimal number of features."
      ]
    },
    {
      "cell_type": "code",
      "metadata": {
        "colab": {
          "base_uri": "https://localhost:8080/",
          "height": 361
        },
        "id": "-8nXclu2mtU7",
        "outputId": "e7e3bc50-e192-4fc0-b444-d76afeca4608"
      },
      "source": [
        "def adj_r2(r2):\n",
        "  return 1-(1-r2)*((X_test.shape[0]-1)/(X_test.shape[0]-X_test.shape[1]-1))\n",
        "\n",
        "cv_results['adj_r2_score']=cv_results['mean_test_score'].apply(adj_r2)\n",
        "cv_results"
      ],
      "execution_count": 110,
      "outputs": [
        {
          "output_type": "execute_result",
          "data": {
            "text/html": [
              "<div>\n",
              "<style scoped>\n",
              "    .dataframe tbody tr th:only-of-type {\n",
              "        vertical-align: middle;\n",
              "    }\n",
              "\n",
              "    .dataframe tbody tr th {\n",
              "        vertical-align: top;\n",
              "    }\n",
              "\n",
              "    .dataframe thead th {\n",
              "        text-align: right;\n",
              "    }\n",
              "</style>\n",
              "<table border=\"1\" class=\"dataframe\">\n",
              "  <thead>\n",
              "    <tr style=\"text-align: right;\">\n",
              "      <th></th>\n",
              "      <th>mean_fit_time</th>\n",
              "      <th>std_fit_time</th>\n",
              "      <th>mean_score_time</th>\n",
              "      <th>std_score_time</th>\n",
              "      <th>param_n_features_to_select</th>\n",
              "      <th>params</th>\n",
              "      <th>split0_test_score</th>\n",
              "      <th>split1_test_score</th>\n",
              "      <th>split2_test_score</th>\n",
              "      <th>split3_test_score</th>\n",
              "      <th>split4_test_score</th>\n",
              "      <th>mean_test_score</th>\n",
              "      <th>std_test_score</th>\n",
              "      <th>rank_test_score</th>\n",
              "      <th>split0_train_score</th>\n",
              "      <th>split1_train_score</th>\n",
              "      <th>split2_train_score</th>\n",
              "      <th>split3_train_score</th>\n",
              "      <th>split4_train_score</th>\n",
              "      <th>mean_train_score</th>\n",
              "      <th>std_train_score</th>\n",
              "      <th>adj_r2_score</th>\n",
              "    </tr>\n",
              "  </thead>\n",
              "  <tbody>\n",
              "    <tr>\n",
              "      <th>0</th>\n",
              "      <td>4.761859</td>\n",
              "      <td>0.026574</td>\n",
              "      <td>0.044052</td>\n",
              "      <td>0.003589</td>\n",
              "      <td>18</td>\n",
              "      <td>{'n_features_to_select': 18}</td>\n",
              "      <td>0.899985</td>\n",
              "      <td>0.899360</td>\n",
              "      <td>0.897929</td>\n",
              "      <td>0.899161</td>\n",
              "      <td>0.900144</td>\n",
              "      <td>0.899316</td>\n",
              "      <td>0.000785</td>\n",
              "      <td>6</td>\n",
              "      <td>0.899156</td>\n",
              "      <td>0.899313</td>\n",
              "      <td>0.899671</td>\n",
              "      <td>0.899363</td>\n",
              "      <td>0.899117</td>\n",
              "      <td>0.899324</td>\n",
              "      <td>0.000196</td>\n",
              "      <td>0.808742</td>\n",
              "    </tr>\n",
              "    <tr>\n",
              "      <th>1</th>\n",
              "      <td>4.205649</td>\n",
              "      <td>0.032069</td>\n",
              "      <td>0.042966</td>\n",
              "      <td>0.002759</td>\n",
              "      <td>19</td>\n",
              "      <td>{'n_features_to_select': 19}</td>\n",
              "      <td>0.900108</td>\n",
              "      <td>0.899490</td>\n",
              "      <td>0.898030</td>\n",
              "      <td>0.899276</td>\n",
              "      <td>0.900265</td>\n",
              "      <td>0.899434</td>\n",
              "      <td>0.000793</td>\n",
              "      <td>5</td>\n",
              "      <td>0.899273</td>\n",
              "      <td>0.899429</td>\n",
              "      <td>0.899793</td>\n",
              "      <td>0.899482</td>\n",
              "      <td>0.899235</td>\n",
              "      <td>0.899442</td>\n",
              "      <td>0.000198</td>\n",
              "      <td>0.808954</td>\n",
              "    </tr>\n",
              "    <tr>\n",
              "      <th>2</th>\n",
              "      <td>3.635046</td>\n",
              "      <td>0.018255</td>\n",
              "      <td>0.044103</td>\n",
              "      <td>0.006059</td>\n",
              "      <td>20</td>\n",
              "      <td>{'n_features_to_select': 20}</td>\n",
              "      <td>0.900189</td>\n",
              "      <td>0.899581</td>\n",
              "      <td>0.898116</td>\n",
              "      <td>0.899345</td>\n",
              "      <td>0.900345</td>\n",
              "      <td>0.899515</td>\n",
              "      <td>0.000792</td>\n",
              "      <td>4</td>\n",
              "      <td>0.899355</td>\n",
              "      <td>0.899508</td>\n",
              "      <td>0.899874</td>\n",
              "      <td>0.899567</td>\n",
              "      <td>0.899316</td>\n",
              "      <td>0.899524</td>\n",
              "      <td>0.000198</td>\n",
              "      <td>0.809100</td>\n",
              "    </tr>\n",
              "    <tr>\n",
              "      <th>3</th>\n",
              "      <td>2.996706</td>\n",
              "      <td>0.033586</td>\n",
              "      <td>0.044831</td>\n",
              "      <td>0.004862</td>\n",
              "      <td>21</td>\n",
              "      <td>{'n_features_to_select': 21}</td>\n",
              "      <td>0.900272</td>\n",
              "      <td>0.899667</td>\n",
              "      <td>0.898186</td>\n",
              "      <td>0.899426</td>\n",
              "      <td>0.900421</td>\n",
              "      <td>0.899594</td>\n",
              "      <td>0.000795</td>\n",
              "      <td>3</td>\n",
              "      <td>0.899433</td>\n",
              "      <td>0.899585</td>\n",
              "      <td>0.899955</td>\n",
              "      <td>0.899646</td>\n",
              "      <td>0.899397</td>\n",
              "      <td>0.899603</td>\n",
              "      <td>0.000199</td>\n",
              "      <td>0.809243</td>\n",
              "    </tr>\n",
              "    <tr>\n",
              "      <th>4</th>\n",
              "      <td>2.308022</td>\n",
              "      <td>0.017016</td>\n",
              "      <td>0.049473</td>\n",
              "      <td>0.002560</td>\n",
              "      <td>22</td>\n",
              "      <td>{'n_features_to_select': 22}</td>\n",
              "      <td>0.900296</td>\n",
              "      <td>0.899714</td>\n",
              "      <td>0.898232</td>\n",
              "      <td>0.899460</td>\n",
              "      <td>0.900445</td>\n",
              "      <td>0.899630</td>\n",
              "      <td>0.000787</td>\n",
              "      <td>2</td>\n",
              "      <td>0.899465</td>\n",
              "      <td>0.899623</td>\n",
              "      <td>0.899994</td>\n",
              "      <td>0.899687</td>\n",
              "      <td>0.899440</td>\n",
              "      <td>0.899642</td>\n",
              "      <td>0.000199</td>\n",
              "      <td>0.809306</td>\n",
              "    </tr>\n",
              "    <tr>\n",
              "      <th>5</th>\n",
              "      <td>1.610200</td>\n",
              "      <td>0.014530</td>\n",
              "      <td>0.052937</td>\n",
              "      <td>0.003629</td>\n",
              "      <td>23</td>\n",
              "      <td>{'n_features_to_select': 23}</td>\n",
              "      <td>0.900342</td>\n",
              "      <td>0.899745</td>\n",
              "      <td>0.898268</td>\n",
              "      <td>0.899488</td>\n",
              "      <td>0.900478</td>\n",
              "      <td>0.899664</td>\n",
              "      <td>0.000789</td>\n",
              "      <td>1</td>\n",
              "      <td>0.899503</td>\n",
              "      <td>0.899654</td>\n",
              "      <td>0.900023</td>\n",
              "      <td>0.899718</td>\n",
              "      <td>0.899470</td>\n",
              "      <td>0.899674</td>\n",
              "      <td>0.000197</td>\n",
              "      <td>0.809369</td>\n",
              "    </tr>\n",
              "  </tbody>\n",
              "</table>\n",
              "</div>"
            ],
            "text/plain": [
              "   mean_fit_time  std_fit_time  ...  std_train_score  adj_r2_score\n",
              "0       4.761859      0.026574  ...         0.000196      0.808742\n",
              "1       4.205649      0.032069  ...         0.000198      0.808954\n",
              "2       3.635046      0.018255  ...         0.000198      0.809100\n",
              "3       2.996706      0.033586  ...         0.000199      0.809243\n",
              "4       2.308022      0.017016  ...         0.000199      0.809306\n",
              "5       1.610200      0.014530  ...         0.000197      0.809369\n",
              "\n",
              "[6 rows x 22 columns]"
            ]
          },
          "metadata": {},
          "execution_count": 110
        }
      ]
    },
    {
      "cell_type": "markdown",
      "metadata": {
        "id": "sYHh2xJWnRBX"
      },
      "source": [
        ""
      ]
    },
    {
      "cell_type": "code",
      "metadata": {
        "colab": {
          "base_uri": "https://localhost:8080/",
          "height": 421
        },
        "id": "3zPw_Rm7YsmK",
        "outputId": "9ea5589f-929d-46bc-9a34-a5c3717cdd49"
      },
      "source": [
        "# Plotting results obtained from cross validation\n",
        "plt.figure(figsize=(16,6))\n",
        "\n",
        "plt.plot(cv_results[\"param_n_features_to_select\"], cv_results[\"mean_test_score\"])\n",
        "plt.plot(cv_results[\"param_n_features_to_select\"], cv_results[\"mean_train_score\"])\n",
        "plt.xlabel('Number of features')\n",
        "plt.ylabel('R-squared')\n",
        "plt.title(\"Optimal Number of Features\")\n",
        "plt.legend(['Test score', 'Train score'], loc='upper left')"
      ],
      "execution_count": 114,
      "outputs": [
        {
          "output_type": "execute_result",
          "data": {
            "text/plain": [
              "<matplotlib.legend.Legend at 0x7f5c88a87b90>"
            ]
          },
          "metadata": {},
          "execution_count": 114
        },
        {
          "output_type": "display_data",
          "data": {
            "image/png": "[encoded data removed]",
            "text/plain": [
              "<Figure size 1152x432 with 1 Axes>"
            ]
          },
          "metadata": {
            "needs_background": "light"
          }
        }
      ]
    },
    {
      "cell_type": "markdown",
      "metadata": {
        "id": "7ZXDO-KTdLLm"
      },
      "source": [
        "*Looking at the table and the above graph we select value for all features as it can be observed that not only the mean fit time is least for that but also the R-square value is highest.*"
      ]
    },
    {
      "cell_type": "code",
      "metadata": {
        "colab": {
          "base_uri": "https://localhost:8080/"
        },
        "id": "elMP1M58YsmK",
        "outputId": "dca58284-aaa5-48dc-9eed-e7295879c061"
      },
      "source": [
        "# Final model based on all features\n",
        "n_features_optimal = 25\n",
        "\n",
        "lm = LinearRegression()\n",
        "lm.fit(X_train, y_train)\n",
        "\n",
        "rfe = RFE(lm, n_features_to_select=n_features_optimal)             \n",
        "rfe = rfe.fit(X_train, y_train)\n",
        "\n",
        "# Predict sales of test data\n",
        "y_pred = lm.predict(X_test)\n",
        "r2 = r2_score(y_test, y_pred)\n",
        "\n",
        "\n",
        "## calculate R-square Score for Test dataset\n",
        "print(\"R2 Score for test dataset with optimal features: {:.4f}\".format(r2))"
      ],
      "execution_count": 87,
      "outputs": [
        {
          "output_type": "stream",
          "name": "stdout",
          "text": [
            "R2 Score for test dataset with optimal features: 0.8943\n"
          ]
        }
      ]
    },
    {
      "cell_type": "markdown",
      "metadata": {
        "id": "khGjzQ-edW9Q"
      },
      "source": [
        "Now since we are using all the features the score obtained is the same as the score obtained from Regression model. But this step is important as it gives us information on the fit time and scores for different possible combinations."
      ]
    },
    {
      "cell_type": "markdown",
      "metadata": {
        "id": "jnzSQarnYsmK"
      },
      "source": [
        "Now we test our data using regularized regression models\n",
        "\n",
        "1.   Lasso Regression\n",
        "2.   Ridge Regression\n",
        "\n"
      ]
    },
    {
      "cell_type": "markdown",
      "metadata": {
        "id": "juinwW70k-na"
      },
      "source": [
        "1. Lasso Regression"
      ]
    },
    {
      "cell_type": "code",
      "metadata": {
        "id": "P_cyb9EzYsmK"
      },
      "source": [
        "## Import libraries\n",
        "from sklearn.linear_model import Ridge, RidgeCV\n",
        "from sklearn.linear_model import Lasso, LassoCV"
      ],
      "execution_count": 89,
      "outputs": []
    },
    {
      "cell_type": "code",
      "metadata": {
        "colab": {
          "base_uri": "https://localhost:8080/"
        },
        "id": "d05mv9O6YsmK",
        "outputId": "5bfce66e-f4e6-47e3-98e9-95141ef17143"
      },
      "source": [
        "lasso = Lasso()\n",
        "parameters = {'alpha': [1e-4,1e-3,1e-2,0.05,0.1,1,5,10,20,30,40,50,100,150]}\n",
        "lasso_regressor = GridSearchCV(lasso, parameters, scoring='r2', cv=3)\n",
        "lasso_regressor.fit(X_train, y_train)"
      ],
      "execution_count": 90,
      "outputs": [
        {
          "output_type": "execute_result",
          "data": {
            "text/plain": [
              "GridSearchCV(cv=3, error_score=nan,\n",
              "             estimator=Lasso(alpha=1.0, copy_X=True, fit_intercept=True,\n",
              "                             max_iter=1000, normalize=False, positive=False,\n",
              "                             precompute=False, random_state=None,\n",
              "                             selection='cyclic', tol=0.0001, warm_start=False),\n",
              "             iid='deprecated', n_jobs=None,\n",
              "             param_grid={'alpha': [0.0001, 0.001, 0.01, 0.05, 0.1, 1, 5, 10, 20,\n",
              "                                   30, 40, 50, 100, 150]},\n",
              "             pre_dispatch='2*n_jobs', refit=True, return_train_score=False,\n",
              "             scoring='r2', verbose=0)"
            ]
          },
          "metadata": {},
          "execution_count": 90
        }
      ]
    },
    {
      "cell_type": "code",
      "metadata": {
        "colab": {
          "base_uri": "https://localhost:8080/"
        },
        "id": "nkJpQOGRYsmK",
        "outputId": "e9b1176d-aa87-4165-9d27-6ace23af7661"
      },
      "source": [
        "print(\"The best fit alpha value is found out to be :\" ,lasso_regressor.best_params_)\n",
        "print(\"Using \",lasso_regressor.best_params_, \" the R-square value is: \", lasso_regressor.best_score_)"
      ],
      "execution_count": 91,
      "outputs": [
        {
          "output_type": "stream",
          "name": "stdout",
          "text": [
            "The best fit alpha value is found out to be : {'alpha': 1}\n",
            "Using  {'alpha': 1}  the R-square value is:  0.8983461718229698\n"
          ]
        }
      ]
    },
    {
      "cell_type": "markdown",
      "metadata": {
        "id": "8bHTcpLFYsmL"
      },
      "source": [
        "Here, we are iterating over a set of alphas to find the optimal parameter that gives the best R-square value. With the help of Grid Serach we obtain alpha as 1. We fit our data using Lasso Regression with alpha=1."
      ]
    },
    {
      "cell_type": "code",
      "metadata": {
        "colab": {
          "base_uri": "https://localhost:8080/"
        },
        "id": "GwEAoRBwYsmL",
        "outputId": "b0cb3308-7d41-4ebb-a091-dd0bc82322fd"
      },
      "source": [
        "lasso = Lasso(alpha = 1)\n",
        "lasso.fit(X_train,y_train)\n",
        "y_pred_lasso = lasso.predict(X_test)\n",
        "r2_lasso=r2_score(y_test, y_pred_lasso)\n",
        "print(\"R-square value for test data using Lasso regression is {:.3f}\".format(r2_lasso))"
      ],
      "execution_count": 92,
      "outputs": [
        {
          "output_type": "stream",
          "name": "stdout",
          "text": [
            "R-square value for test data using Lasso regression is 0.894\n"
          ]
        }
      ]
    },
    {
      "cell_type": "markdown",
      "metadata": {
        "id": "8jBJ0q2TlFUO"
      },
      "source": [
        "We get an R-square value of 0.894 on our test dataset."
      ]
    },
    {
      "cell_type": "code",
      "metadata": {
        "id": "vt1eebPJYsmL",
        "colab": {
          "base_uri": "https://localhost:8080/"
        },
        "outputId": "a116e4e9-edb5-4380-ffc1-4fbc4e1b62af"
      },
      "source": [
        "r2_adj_lasso=1-(1-r2_lasso)*((X_test.shape[0]-1)/(X_test.shape[0]-X_test.shape[1]-1))\n",
        "print(\"Adjusted R-square value is : {:.3f}.\".format(r2_adj_lasso))"
      ],
      "execution_count": 118,
      "outputs": [
        {
          "output_type": "stream",
          "name": "stdout",
          "text": [
            "Adjusted R-square value is : 0.894.\n"
          ]
        }
      ]
    },
    {
      "cell_type": "markdown",
      "metadata": {
        "id": "yVA_o8W4lgu-"
      },
      "source": [
        "we further calculate the Adjusted R-square###################"
      ]
    },
    {
      "cell_type": "code",
      "metadata": {
        "id": "DPKYmXOeYsmL"
      },
      "source": [
        "lassoreg_scores=list([r2_lasso,r2_adj_lasso])"
      ],
      "execution_count": 94,
      "outputs": []
    },
    {
      "cell_type": "markdown",
      "metadata": {
        "id": "VkBn2DBgojTe"
      },
      "source": [
        "A list for the scores obtained has been created."
      ]
    },
    {
      "cell_type": "code",
      "metadata": {
        "colab": {
          "base_uri": "https://localhost:8080/"
        },
        "id": "B0DPUKLsYsmL",
        "outputId": "b8b8fb54-f22b-4312-9e5b-2c3181236ebb"
      },
      "source": [
        "lasso_coeff=list(lasso.coef_)\n",
        "print(lasso_coeff)"
      ],
      "execution_count": 95,
      "outputs": [
        {
          "output_type": "stream",
          "name": "stdout",
          "text": [
            "[3341.968311949277, 415.43548182838623, 595.396950607361, 37.17920558183487, 54.95257676028202, 86.95011295112393, 115.09467592673735, 153.41027009753182, 46.28472668545873, 23.426388761867383, 88.680074954736, -163.6984002917434, -212.8386884896, -235.46960549957163, -185.23425638587213, -68.23771407904134, -89.2826874640922, 52.876800931637774, -9.755378414502662, -35.82698895976792, 18.71638704061493, -645.3181065618024, -43.329811872550025, 418.21091678847085]\n"
          ]
        }
      ]
    },
    {
      "cell_type": "markdown",
      "metadata": {
        "id": "2enYQ2CHou7Y"
      },
      "source": [
        "2.  Ridge Regression"
      ]
    },
    {
      "cell_type": "code",
      "metadata": {
        "colab": {
          "base_uri": "https://localhost:8080/"
        },
        "id": "2y4Cg6OJYsmL",
        "outputId": "30cf8262-5490-463b-ee07-92f54349a315"
      },
      "source": [
        "# Hyperprarameter tuning\n",
        "ridge = Ridge()\n",
        "parameters = {'alpha': [1e-5,1e-4,1e-3,1e-2,1,5,10,20,30,40,70,100]}\n",
        "ridge_regressor = GridSearchCV(ridge, parameters, scoring='r2', cv=3)\n",
        "ridge_regressor.fit(X_train,y_train)"
      ],
      "execution_count": 96,
      "outputs": [
        {
          "output_type": "execute_result",
          "data": {
            "text/plain": [
              "GridSearchCV(cv=3, error_score=nan,\n",
              "             estimator=Ridge(alpha=1.0, copy_X=True, fit_intercept=True,\n",
              "                             max_iter=None, normalize=False, random_state=None,\n",
              "                             solver='auto', tol=0.001),\n",
              "             iid='deprecated', n_jobs=None,\n",
              "             param_grid={'alpha': [1e-05, 0.0001, 0.001, 0.01, 1, 5, 10, 20, 30,\n",
              "                                   40, 70, 100]},\n",
              "             pre_dispatch='2*n_jobs', refit=True, return_train_score=False,\n",
              "             scoring='r2', verbose=0)"
            ]
          },
          "metadata": {},
          "execution_count": 96
        }
      ]
    },
    {
      "cell_type": "markdown",
      "metadata": {
        "id": "flQOSDmcozdZ"
      },
      "source": [
        "We start with hyper parameter tuning for Ridge regressor. We check with diffrent values of alpha."
      ]
    },
    {
      "cell_type": "code",
      "metadata": {
        "colab": {
          "base_uri": "https://localhost:8080/"
        },
        "id": "EyNUicClYsmL",
        "outputId": "f6b482ec-bf91-4dbe-e0b6-97171ed52063"
      },
      "source": [
        "print(\"The best fit alpha value is found out to be :\" ,ridge_regressor.best_params_)\n",
        "print(\"Using \",ridge_regressor.best_params_, \" the R-square value is: \", ridge_regressor.best_score_)"
      ],
      "execution_count": 97,
      "outputs": [
        {
          "output_type": "stream",
          "name": "stdout",
          "text": [
            "The best fit alpha value is found out to be : {'alpha': 100}\n",
            "Using  {'alpha': 100}  the R-square value is:  0.8983333281641926\n"
          ]
        }
      ]
    },
    {
      "cell_type": "markdown",
      "metadata": {
        "id": "F8wvX3kOpEpa"
      },
      "source": [
        "We find alpha=100 to be the optimal parameter."
      ]
    },
    {
      "cell_type": "code",
      "metadata": {
        "colab": {
          "base_uri": "https://localhost:8080/"
        },
        "id": "un7T4Nt8YsmL",
        "outputId": "66e6dc74-d06d-4357-9198-5d156c355868"
      },
      "source": [
        "ridge = Ridge(alpha = 100)\n",
        "ridge.fit(X_train,y_train)\n",
        "y_pred_ridge = ridge.predict(X_test)\n",
        "print(\"R-square value for test data using ridge regression is {:.3f}\".format(r2_score(y_test, y_pred_ridge)))"
      ],
      "execution_count": 98,
      "outputs": [
        {
          "output_type": "stream",
          "name": "stdout",
          "text": [
            "R-square value for test data using ridge regression is 0.894\n"
          ]
        }
      ]
    },
    {
      "cell_type": "markdown",
      "metadata": {
        "id": "nI0s2my6pLq-"
      },
      "source": [
        "Using the optimal alpha we fit our data and predict the test data. We are achieving a score of 0.894 with this."
      ]
    },
    {
      "cell_type": "code",
      "metadata": {
        "id": "prr1XiT5YsmM"
      },
      "source": [
        "ridge_coeff=list(ridge.coef_)"
      ],
      "execution_count": 99,
      "outputs": []
    },
    {
      "cell_type": "code",
      "metadata": {
        "colab": {
          "base_uri": "https://localhost:8080/"
        },
        "id": "HnsjNZnKYsmM",
        "outputId": "ffde7f04-88c5-432b-c801-185d9215e87c"
      },
      "source": [
        "r2_ridge = r2_score(y_test, y_pred_ridge)\n",
        "r2_adj_ridge=1-(1-r2)*((X_test.shape[0]-1)/(X_test.shape[0]-X_test.shape[1]-1))\n",
        "print(\"R2 :\" ,r2)\n",
        "print(\"Adjusted R2 : \",r2_adj_ridge)"
      ],
      "execution_count": 117,
      "outputs": [
        {
          "output_type": "stream",
          "name": "stdout",
          "text": [
            "R2 : 0.8943345633861834\n",
            "Adjusted R2 :  0.8943196556466562\n"
          ]
        }
      ]
    },
    {
      "cell_type": "markdown",
      "metadata": {
        "id": "UrtbfR6Vpu17"
      },
      "source": [
        "The R-square and Adjusted R-square is calculated for Ridge regressor. It can be observed that the values are very close to what we get from Lasso Regression."
      ]
    },
    {
      "cell_type": "code",
      "metadata": {
        "id": "OUqhWqREYsmN"
      },
      "source": [
        "## Store the scores in a list\n",
        "ridgereg_scores=list([r2_ridge,r2_adj_ridge])"
      ],
      "execution_count": 101,
      "outputs": []
    },
    {
      "cell_type": "code",
      "metadata": {
        "id": "roPj9VzNYsmN"
      },
      "source": [
        "#$ Coefficients from different models\n",
        "df_coeff=pd.DataFrame({'Lin Reg Coeff':reg_coeff,'Lasso Reg Coeff':lasso_coeff,'Ridge Reg Coeff':ridge_coeff},index=store_data_train.drop(['Sales','Store'],axis=1).columns)\n"
      ],
      "execution_count": 102,
      "outputs": []
    },
    {
      "cell_type": "markdown",
      "metadata": {
        "id": "rN2QwfaxqTRM"
      },
      "source": [
        "The coefficients or the weights that we obtain from diffrent models have been put together at one place to analyze the importace of features corresponding to the models."
      ]
    },
    {
      "cell_type": "code",
      "metadata": {
        "colab": {
          "base_uri": "https://localhost:8080/",
          "height": 801
        },
        "id": "L3XfRtbsYsmN",
        "outputId": "7056bbde-09bd-4871-820a-0d51574ad291"
      },
      "source": [
        "df_coeff"
      ],
      "execution_count": 103,
      "outputs": [
        {
          "output_type": "execute_result",
          "data": {
            "text/html": [
              "<div>\n",
              "<style scoped>\n",
              "    .dataframe tbody tr th:only-of-type {\n",
              "        vertical-align: middle;\n",
              "    }\n",
              "\n",
              "    .dataframe tbody tr th {\n",
              "        vertical-align: top;\n",
              "    }\n",
              "\n",
              "    .dataframe thead th {\n",
              "        text-align: right;\n",
              "    }\n",
              "</style>\n",
              "<table border=\"1\" class=\"dataframe\">\n",
              "  <thead>\n",
              "    <tr style=\"text-align: right;\">\n",
              "      <th></th>\n",
              "      <th>Lin Reg Coeff</th>\n",
              "      <th>Lasso Reg Coeff</th>\n",
              "      <th>Ridge Reg Coeff</th>\n",
              "    </tr>\n",
              "  </thead>\n",
              "  <tbody>\n",
              "    <tr>\n",
              "      <th>Customers</th>\n",
              "      <td>3343.297451</td>\n",
              "      <td>3341.968312</td>\n",
              "      <td>3342.421594</td>\n",
              "    </tr>\n",
              "    <tr>\n",
              "      <th>Open</th>\n",
              "      <td>405.206604</td>\n",
              "      <td>415.435482</td>\n",
              "      <td>404.851784</td>\n",
              "    </tr>\n",
              "    <tr>\n",
              "      <th>Promo</th>\n",
              "      <td>595.450396</td>\n",
              "      <td>595.396951</td>\n",
              "      <td>595.492138</td>\n",
              "    </tr>\n",
              "    <tr>\n",
              "      <th>SchoolHoliday</th>\n",
              "      <td>37.957593</td>\n",
              "      <td>37.179206</td>\n",
              "      <td>37.954846</td>\n",
              "    </tr>\n",
              "    <tr>\n",
              "      <th>Year</th>\n",
              "      <td>56.482944</td>\n",
              "      <td>54.952577</td>\n",
              "      <td>56.479233</td>\n",
              "    </tr>\n",
              "    <tr>\n",
              "      <th>Month</th>\n",
              "      <td>87.867831</td>\n",
              "      <td>86.950113</td>\n",
              "      <td>87.893193</td>\n",
              "    </tr>\n",
              "    <tr>\n",
              "      <th>Assortment</th>\n",
              "      <td>115.880008</td>\n",
              "      <td>115.094676</td>\n",
              "      <td>115.937216</td>\n",
              "    </tr>\n",
              "    <tr>\n",
              "      <th>CompetitionDistance</th>\n",
              "      <td>154.464806</td>\n",
              "      <td>153.410270</td>\n",
              "      <td>154.384150</td>\n",
              "    </tr>\n",
              "    <tr>\n",
              "      <th>Promo2</th>\n",
              "      <td>47.450532</td>\n",
              "      <td>46.284727</td>\n",
              "      <td>47.342093</td>\n",
              "    </tr>\n",
              "    <tr>\n",
              "      <th>day_diff_comp</th>\n",
              "      <td>24.445705</td>\n",
              "      <td>23.426389</td>\n",
              "      <td>24.436373</td>\n",
              "    </tr>\n",
              "    <tr>\n",
              "      <th>day_diff_promo</th>\n",
              "      <td>88.803968</td>\n",
              "      <td>88.680075</td>\n",
              "      <td>88.802423</td>\n",
              "    </tr>\n",
              "    <tr>\n",
              "      <th>DayOfWeek_2</th>\n",
              "      <td>-169.999621</td>\n",
              "      <td>-163.698400</td>\n",
              "      <td>-169.932955</td>\n",
              "    </tr>\n",
              "    <tr>\n",
              "      <th>DayOfWeek_3</th>\n",
              "      <td>-219.127670</td>\n",
              "      <td>-212.838688</td>\n",
              "      <td>-219.075637</td>\n",
              "    </tr>\n",
              "    <tr>\n",
              "      <th>DayOfWeek_4</th>\n",
              "      <td>-241.685269</td>\n",
              "      <td>-235.469605</td>\n",
              "      <td>-241.621360</td>\n",
              "    </tr>\n",
              "    <tr>\n",
              "      <th>DayOfWeek_5</th>\n",
              "      <td>-191.446003</td>\n",
              "      <td>-185.234256</td>\n",
              "      <td>-191.367931</td>\n",
              "    </tr>\n",
              "    <tr>\n",
              "      <th>DayOfWeek_6</th>\n",
              "      <td>-74.284518</td>\n",
              "      <td>-68.237714</td>\n",
              "      <td>-74.282836</td>\n",
              "    </tr>\n",
              "    <tr>\n",
              "      <th>DayOfWeek_7</th>\n",
              "      <td>-103.911605</td>\n",
              "      <td>-89.282687</td>\n",
              "      <td>-104.637246</td>\n",
              "    </tr>\n",
              "    <tr>\n",
              "      <th>StateHoliday_0</th>\n",
              "      <td>54.093962</td>\n",
              "      <td>52.876801</td>\n",
              "      <td>54.096654</td>\n",
              "    </tr>\n",
              "    <tr>\n",
              "      <th>StateHoliday_a</th>\n",
              "      <td>-13.719321</td>\n",
              "      <td>-9.755378</td>\n",
              "      <td>-14.018442</td>\n",
              "    </tr>\n",
              "    <tr>\n",
              "      <th>StateHoliday_b</th>\n",
              "      <td>-38.932217</td>\n",
              "      <td>-35.826989</td>\n",
              "      <td>-39.089559</td>\n",
              "    </tr>\n",
              "    <tr>\n",
              "      <th>StateHoliday_c</th>\n",
              "      <td>18.153901</td>\n",
              "      <td>18.716387</td>\n",
              "      <td>17.988143</td>\n",
              "    </tr>\n",
              "    <tr>\n",
              "      <th>StoreType_b</th>\n",
              "      <td>-646.121597</td>\n",
              "      <td>-645.318107</td>\n",
              "      <td>-645.737283</td>\n",
              "    </tr>\n",
              "    <tr>\n",
              "      <th>StoreType_c</th>\n",
              "      <td>-44.276995</td>\n",
              "      <td>-43.329812</td>\n",
              "      <td>-44.279582</td>\n",
              "    </tr>\n",
              "    <tr>\n",
              "      <th>StoreType_d</th>\n",
              "      <td>418.747280</td>\n",
              "      <td>418.210917</td>\n",
              "      <td>418.568329</td>\n",
              "    </tr>\n",
              "  </tbody>\n",
              "</table>\n",
              "</div>"
            ],
            "text/plain": [
              "                     Lin Reg Coeff  Lasso Reg Coeff  Ridge Reg Coeff\n",
              "Customers              3343.297451      3341.968312      3342.421594\n",
              "Open                    405.206604       415.435482       404.851784\n",
              "Promo                   595.450396       595.396951       595.492138\n",
              "SchoolHoliday            37.957593        37.179206        37.954846\n",
              "Year                     56.482944        54.952577        56.479233\n",
              "Month                    87.867831        86.950113        87.893193\n",
              "Assortment              115.880008       115.094676       115.937216\n",
              "CompetitionDistance     154.464806       153.410270       154.384150\n",
              "Promo2                   47.450532        46.284727        47.342093\n",
              "day_diff_comp            24.445705        23.426389        24.436373\n",
              "day_diff_promo           88.803968        88.680075        88.802423\n",
              "DayOfWeek_2            -169.999621      -163.698400      -169.932955\n",
              "DayOfWeek_3            -219.127670      -212.838688      -219.075637\n",
              "DayOfWeek_4            -241.685269      -235.469605      -241.621360\n",
              "DayOfWeek_5            -191.446003      -185.234256      -191.367931\n",
              "DayOfWeek_6             -74.284518       -68.237714       -74.282836\n",
              "DayOfWeek_7            -103.911605       -89.282687      -104.637246\n",
              "StateHoliday_0           54.093962        52.876801        54.096654\n",
              "StateHoliday_a          -13.719321        -9.755378       -14.018442\n",
              "StateHoliday_b          -38.932217       -35.826989       -39.089559\n",
              "StateHoliday_c           18.153901        18.716387        17.988143\n",
              "StoreType_b            -646.121597      -645.318107      -645.737283\n",
              "StoreType_c             -44.276995       -43.329812       -44.279582\n",
              "StoreType_d             418.747280       418.210917       418.568329"
            ]
          },
          "metadata": {},
          "execution_count": 103
        }
      ]
    },
    {
      "cell_type": "markdown",
      "metadata": {
        "id": "ohrDVpSuYsmN"
      },
      "source": [
        "Final comparison of coefficients obtained from different models"
      ]
    },
    {
      "cell_type": "code",
      "metadata": {
        "colab": {
          "base_uri": "https://localhost:8080/",
          "height": 112
        },
        "id": "qZ5MyuQ_YsmN",
        "outputId": "7263c5c6-9f1c-4f90-f740-ecf378753310"
      },
      "source": [
        "pd.DataFrame({'Linear Regr':linreg_scores,'Lasso Regr':lassoreg_scores,'Ridge Regr':ridgereg_scores},index=['R2 Score','Adj R2 Score'])"
      ],
      "execution_count": 104,
      "outputs": [
        {
          "output_type": "execute_result",
          "data": {
            "text/html": [
              "<div>\n",
              "<style scoped>\n",
              "    .dataframe tbody tr th:only-of-type {\n",
              "        vertical-align: middle;\n",
              "    }\n",
              "\n",
              "    .dataframe tbody tr th {\n",
              "        vertical-align: top;\n",
              "    }\n",
              "\n",
              "    .dataframe thead th {\n",
              "        text-align: right;\n",
              "    }\n",
              "</style>\n",
              "<table border=\"1\" class=\"dataframe\">\n",
              "  <thead>\n",
              "    <tr style=\"text-align: right;\">\n",
              "      <th></th>\n",
              "      <th>Linear Regr</th>\n",
              "      <th>Lasso Regr</th>\n",
              "      <th>Ridge Regr</th>\n",
              "    </tr>\n",
              "  </thead>\n",
              "  <tbody>\n",
              "    <tr>\n",
              "      <th>R2 Score</th>\n",
              "      <td>0.894335</td>\n",
              "      <td>0.894230</td>\n",
              "      <td>0.89433</td>\n",
              "    </tr>\n",
              "    <tr>\n",
              "      <th>Adj R2 Score</th>\n",
              "      <td>0.894320</td>\n",
              "      <td>0.894215</td>\n",
              "      <td>0.89432</td>\n",
              "    </tr>\n",
              "  </tbody>\n",
              "</table>\n",
              "</div>"
            ],
            "text/plain": [
              "              Linear Regr  Lasso Regr  Ridge Regr\n",
              "R2 Score         0.894335    0.894230     0.89433\n",
              "Adj R2 Score     0.894320    0.894215     0.89432"
            ]
          },
          "metadata": {},
          "execution_count": 104
        }
      ]
    },
    {
      "cell_type": "markdown",
      "metadata": {
        "id": "OxaHHrpVrKGo"
      },
      "source": [
        "This dataframe gives us a good comparison of the scores obtained from the diffrent variants of Linear regression models."
      ]
    },
    {
      "cell_type": "code",
      "metadata": {
        "id": "U-6dt7lFYrpY"
      },
      "source": [
        ""
      ],
      "execution_count": 104,
      "outputs": []
    },
    {
      "cell_type": "code",
      "metadata": {
        "id": "DFQjGz3DYrm3"
      },
      "source": [
        ""
      ],
      "execution_count": 104,
      "outputs": []
    },
    {
      "cell_type": "code",
      "metadata": {
        "id": "rcR5ybo6YrkP"
      },
      "source": [
        ""
      ],
      "execution_count": 104,
      "outputs": []
    },
    {
      "cell_type": "code",
      "metadata": {
        "id": "DZk1nmN_Yrhg"
      },
      "source": [
        ""
      ],
      "execution_count": 104,
      "outputs": []
    },
    {
      "cell_type": "code",
      "metadata": {
        "id": "_RHiCxyKYrev"
      },
      "source": [
        ""
      ],
      "execution_count": 104,
      "outputs": []
    },
    {
      "cell_type": "code",
      "metadata": {
        "colab": {
          "base_uri": "https://localhost:8080/",
          "height": 599
        },
        "id": "zNXXLbi4ZwMO",
        "outputId": "73fadc10-c6da-4fb8-b163-781e8376673a"
      },
      "source": [
        "plt.figure(figsize=(15,8))\n",
        "sns.heatmap(store_data_train.corr(),cmap=\"Blues\")"
      ],
      "execution_count": 105,
      "outputs": [
        {
          "output_type": "execute_result",
          "data": {
            "text/plain": [
              "<matplotlib.axes._subplots.AxesSubplot at 0x7f5c99b2f390>"
            ]
          },
          "metadata": {},
          "execution_count": 105
        },
        {
          "output_type": "display_data",
          "data": {
            "image/png": "[encoded data removed]",
            "text/plain": [
              "<Figure size 1080x576 with 2 Axes>"
            ]
          },
          "metadata": {
            "needs_background": "light"
          }
        }
      ]
    },
    {
      "cell_type": "code",
      "metadata": {
        "id": "Gr9TpdLJua90"
      },
      "source": [
        ""
      ],
      "execution_count": 105,
      "outputs": []
    },
    {
      "cell_type": "code",
      "metadata": {
        "id": "yF3Y3fybjgH2"
      },
      "source": [
        ""
      ],
      "execution_count": 105,
      "outputs": []
    },
    {
      "cell_type": "code",
      "metadata": {
        "id": "LYF5OS-5ie9K"
      },
      "source": [
        "import sklearn"
      ],
      "execution_count": 106,
      "outputs": []
    },
    {
      "cell_type": "code",
      "metadata": {
        "colab": {
          "base_uri": "https://localhost:8080/"
        },
        "id": "LDrrL_iZhrs4",
        "outputId": "79525c9f-5fb2-44ba-c47f-14b0c344eebb"
      },
      "source": [
        "sorted(sklearn.metrics.SCORERS.keys())"
      ],
      "execution_count": 107,
      "outputs": [
        {
          "output_type": "execute_result",
          "data": {
            "text/plain": [
              "['accuracy',\n",
              " 'adjusted_mutual_info_score',\n",
              " 'adjusted_rand_score',\n",
              " 'average_precision',\n",
              " 'balanced_accuracy',\n",
              " 'completeness_score',\n",
              " 'explained_variance',\n",
              " 'f1',\n",
              " 'f1_macro',\n",
              " 'f1_micro',\n",
              " 'f1_samples',\n",
              " 'f1_weighted',\n",
              " 'fowlkes_mallows_score',\n",
              " 'homogeneity_score',\n",
              " 'jaccard',\n",
              " 'jaccard_macro',\n",
              " 'jaccard_micro',\n",
              " 'jaccard_samples',\n",
              " 'jaccard_weighted',\n",
              " 'max_error',\n",
              " 'mutual_info_score',\n",
              " 'neg_brier_score',\n",
              " 'neg_log_loss',\n",
              " 'neg_mean_absolute_error',\n",
              " 'neg_mean_gamma_deviance',\n",
              " 'neg_mean_poisson_deviance',\n",
              " 'neg_mean_squared_error',\n",
              " 'neg_mean_squared_log_error',\n",
              " 'neg_median_absolute_error',\n",
              " 'neg_root_mean_squared_error',\n",
              " 'normalized_mutual_info_score',\n",
              " 'precision',\n",
              " 'precision_macro',\n",
              " 'precision_micro',\n",
              " 'precision_samples',\n",
              " 'precision_weighted',\n",
              " 'r2',\n",
              " 'recall',\n",
              " 'recall_macro',\n",
              " 'recall_micro',\n",
              " 'recall_samples',\n",
              " 'recall_weighted',\n",
              " 'roc_auc',\n",
              " 'roc_auc_ovo',\n",
              " 'roc_auc_ovo_weighted',\n",
              " 'roc_auc_ovr',\n",
              " 'roc_auc_ovr_weighted',\n",
              " 'v_measure_score']"
            ]
          },
          "metadata": {},
          "execution_count": 107
        }
      ]
    },
    {
      "cell_type": "code",
      "metadata": {
        "id": "YZOTG0NxhrqU"
      },
      "source": [
        ""
      ],
      "execution_count": 107,
      "outputs": []
    },
    {
      "cell_type": "code",
      "metadata": {
        "id": "fSFF-BiAhrns"
      },
      "source": [
        ""
      ],
      "execution_count": 107,
      "outputs": []
    },
    {
      "cell_type": "code",
      "metadata": {
        "id": "tKEXZ9ephrlj"
      },
      "source": [
        ""
      ],
      "execution_count": 107,
      "outputs": []
    }
  ]
}